{
 "cells": [
  {
   "cell_type": "code",
   "execution_count": 1,
   "metadata": {},
   "outputs": [
    {
     "data": {
      "text/html": [
       "<pre style=\"white-space:pre;overflow-x:auto;line-height:normal;font-family:Menlo,'DejaVu Sans Mono',consolas,'Courier New',monospace\"><span style=\"color: #7fbfbf; text-decoration-color: #7fbfbf\">[02/17/25 19:03:39] </span><span style=\"color: #000080; text-decoration-color: #000080\">INFO    </span> Using                                                                  <a href=\"file:///home/guilherme/Projects/credit-risk-analysis/venv/lib/python3.10/site-packages/kedro/framework/project/__init__.py\" target=\"_blank\"><span style=\"color: #7f7f7f; text-decoration-color: #7f7f7f\">__init__.py</span></a><span style=\"color: #7f7f7f; text-decoration-color: #7f7f7f\">:</span><a href=\"file:///home/guilherme/Projects/credit-risk-analysis/venv/lib/python3.10/site-packages/kedro/framework/project/__init__.py#270\" target=\"_blank\"><span style=\"color: #7f7f7f; text-decoration-color: #7f7f7f\">270</span></a>\n",
       "<span style=\"color: #7fbfbf; text-decoration-color: #7fbfbf\">                    </span>         <span style=\"color: #008000; text-decoration-color: #008000\">'/home/guilherme/Projects/credit-risk-analysis/venv/lib/python3.10/sit</span> <span style=\"color: #7f7f7f; text-decoration-color: #7f7f7f\">               </span>\n",
       "<span style=\"color: #7fbfbf; text-decoration-color: #7fbfbf\">                    </span>         <span style=\"color: #008000; text-decoration-color: #008000\">e-packages/kedro/framework/project/rich_logging.yml'</span> as logging        <span style=\"color: #7f7f7f; text-decoration-color: #7f7f7f\">               </span>\n",
       "<span style=\"color: #7fbfbf; text-decoration-color: #7fbfbf\">                    </span>         configuration.                                                         <span style=\"color: #7f7f7f; text-decoration-color: #7f7f7f\">               </span>\n",
       "</pre>\n"
      ],
      "text/plain": [
       "\u001b[2;36m[02/17/25 19:03:39]\u001b[0m\u001b[2;36m \u001b[0m\u001b[34mINFO    \u001b[0m Using                                                                  \u001b]8;id=169110;file:///home/guilherme/Projects/credit-risk-analysis/venv/lib/python3.10/site-packages/kedro/framework/project/__init__.py\u001b\\\u001b[2m__init__.py\u001b[0m\u001b]8;;\u001b\\\u001b[2m:\u001b[0m\u001b]8;id=168133;file:///home/guilherme/Projects/credit-risk-analysis/venv/lib/python3.10/site-packages/kedro/framework/project/__init__.py#270\u001b\\\u001b[2m270\u001b[0m\u001b]8;;\u001b\\\n",
       "\u001b[2;36m                    \u001b[0m         \u001b[32m'/home/guilherme/Projects/credit-risk-analysis/venv/lib/python3.10/sit\u001b[0m \u001b[2m               \u001b[0m\n",
       "\u001b[2;36m                    \u001b[0m         \u001b[32me-packages/kedro/framework/project/rich_logging.yml'\u001b[0m as logging        \u001b[2m               \u001b[0m\n",
       "\u001b[2;36m                    \u001b[0m         configuration.                                                         \u001b[2m               \u001b[0m\n"
      ]
     },
     "metadata": {},
     "output_type": "display_data"
    },
    {
     "data": {
      "text/html": [
       "<pre style=\"white-space:pre;overflow-x:auto;line-height:normal;font-family:Menlo,'DejaVu Sans Mono',consolas,'Courier New',monospace\"><span style=\"color: #7fbfbf; text-decoration-color: #7fbfbf\">                    </span><span style=\"color: #000080; text-decoration-color: #000080\">INFO    </span> Registered line magic <span style=\"color: #008000; text-decoration-color: #008000\">'%reload_kedro'</span>                                   <a href=\"file:///home/guilherme/Projects/credit-risk-analysis/venv/lib/python3.10/site-packages/kedro/ipython/__init__.py\" target=\"_blank\"><span style=\"color: #7f7f7f; text-decoration-color: #7f7f7f\">__init__.py</span></a><span style=\"color: #7f7f7f; text-decoration-color: #7f7f7f\">:</span><a href=\"file:///home/guilherme/Projects/credit-risk-analysis/venv/lib/python3.10/site-packages/kedro/ipython/__init__.py#63\" target=\"_blank\"><span style=\"color: #7f7f7f; text-decoration-color: #7f7f7f\">63</span></a>\n",
       "</pre>\n"
      ],
      "text/plain": [
       "\u001b[2;36m                   \u001b[0m\u001b[2;36m \u001b[0m\u001b[34mINFO    \u001b[0m Registered line magic \u001b[32m'%reload_kedro'\u001b[0m                                   \u001b]8;id=365001;file:///home/guilherme/Projects/credit-risk-analysis/venv/lib/python3.10/site-packages/kedro/ipython/__init__.py\u001b\\\u001b[2m__init__.py\u001b[0m\u001b]8;;\u001b\\\u001b[2m:\u001b[0m\u001b]8;id=11943;file:///home/guilherme/Projects/credit-risk-analysis/venv/lib/python3.10/site-packages/kedro/ipython/__init__.py#63\u001b\\\u001b[2m63\u001b[0m\u001b]8;;\u001b\\\n"
      ]
     },
     "metadata": {},
     "output_type": "display_data"
    },
    {
     "data": {
      "text/html": [
       "<pre style=\"white-space:pre;overflow-x:auto;line-height:normal;font-family:Menlo,'DejaVu Sans Mono',consolas,'Courier New',monospace\"><span style=\"color: #7fbfbf; text-decoration-color: #7fbfbf\">                    </span><span style=\"color: #000080; text-decoration-color: #000080\">INFO    </span> Registered line magic <span style=\"color: #008000; text-decoration-color: #008000\">'%load_node'</span>                                      <a href=\"file:///home/guilherme/Projects/credit-risk-analysis/venv/lib/python3.10/site-packages/kedro/ipython/__init__.py\" target=\"_blank\"><span style=\"color: #7f7f7f; text-decoration-color: #7f7f7f\">__init__.py</span></a><span style=\"color: #7f7f7f; text-decoration-color: #7f7f7f\">:</span><a href=\"file:///home/guilherme/Projects/credit-risk-analysis/venv/lib/python3.10/site-packages/kedro/ipython/__init__.py#65\" target=\"_blank\"><span style=\"color: #7f7f7f; text-decoration-color: #7f7f7f\">65</span></a>\n",
       "</pre>\n"
      ],
      "text/plain": [
       "\u001b[2;36m                   \u001b[0m\u001b[2;36m \u001b[0m\u001b[34mINFO    \u001b[0m Registered line magic \u001b[32m'%load_node'\u001b[0m                                      \u001b]8;id=793767;file:///home/guilherme/Projects/credit-risk-analysis/venv/lib/python3.10/site-packages/kedro/ipython/__init__.py\u001b\\\u001b[2m__init__.py\u001b[0m\u001b]8;;\u001b\\\u001b[2m:\u001b[0m\u001b]8;id=788046;file:///home/guilherme/Projects/credit-risk-analysis/venv/lib/python3.10/site-packages/kedro/ipython/__init__.py#65\u001b\\\u001b[2m65\u001b[0m\u001b]8;;\u001b\\\n"
      ]
     },
     "metadata": {},
     "output_type": "display_data"
    },
    {
     "data": {
      "text/html": [
       "<pre style=\"white-space:pre;overflow-x:auto;line-height:normal;font-family:Menlo,'DejaVu Sans Mono',consolas,'Courier New',monospace\"><span style=\"color: #7fbfbf; text-decoration-color: #7fbfbf\">                    </span><span style=\"color: #000080; text-decoration-color: #000080\">INFO    </span> Resolved project path as:                                              <a href=\"file:///home/guilherme/Projects/credit-risk-analysis/venv/lib/python3.10/site-packages/kedro/ipython/__init__.py\" target=\"_blank\"><span style=\"color: #7f7f7f; text-decoration-color: #7f7f7f\">__init__.py</span></a><span style=\"color: #7f7f7f; text-decoration-color: #7f7f7f\">:</span><a href=\"file:///home/guilherme/Projects/credit-risk-analysis/venv/lib/python3.10/site-packages/kedro/ipython/__init__.py#180\" target=\"_blank\"><span style=\"color: #7f7f7f; text-decoration-color: #7f7f7f\">180</span></a>\n",
       "<span style=\"color: #7fbfbf; text-decoration-color: #7fbfbf\">                    </span>         <span style=\"color: #800080; text-decoration-color: #800080\">/home/guilherme/Projects/</span><span style=\"color: #ff00ff; text-decoration-color: #ff00ff\">credit-risk-analysis.</span>                         <span style=\"color: #7f7f7f; text-decoration-color: #7f7f7f\">               </span>\n",
       "<span style=\"color: #7fbfbf; text-decoration-color: #7fbfbf\">                    </span>         To set a different path, run <span style=\"color: #008000; text-decoration-color: #008000\">'%reload_kedro &lt;project_root&gt;'</span>            <span style=\"color: #7f7f7f; text-decoration-color: #7f7f7f\">               </span>\n",
       "</pre>\n"
      ],
      "text/plain": [
       "\u001b[2;36m                   \u001b[0m\u001b[2;36m \u001b[0m\u001b[34mINFO    \u001b[0m Resolved project path as:                                              \u001b]8;id=200313;file:///home/guilherme/Projects/credit-risk-analysis/venv/lib/python3.10/site-packages/kedro/ipython/__init__.py\u001b\\\u001b[2m__init__.py\u001b[0m\u001b]8;;\u001b\\\u001b[2m:\u001b[0m\u001b]8;id=742261;file:///home/guilherme/Projects/credit-risk-analysis/venv/lib/python3.10/site-packages/kedro/ipython/__init__.py#180\u001b\\\u001b[2m180\u001b[0m\u001b]8;;\u001b\\\n",
       "\u001b[2;36m                    \u001b[0m         \u001b[35m/home/guilherme/Projects/\u001b[0m\u001b[95mcredit-risk-analysis.\u001b[0m                         \u001b[2m               \u001b[0m\n",
       "\u001b[2;36m                    \u001b[0m         To set a different path, run \u001b[32m'%reload_kedro \u001b[0m\u001b[32m<\u001b[0m\u001b[32mproject_root\u001b[0m\u001b[32m>\u001b[0m\u001b[32m'\u001b[0m            \u001b[2m               \u001b[0m\n"
      ]
     },
     "metadata": {},
     "output_type": "display_data"
    },
    {
     "data": {
      "text/html": [
       "<pre style=\"white-space:pre;overflow-x:auto;line-height:normal;font-family:Menlo,'DejaVu Sans Mono',consolas,'Courier New',monospace\"><span style=\"color: #7fbfbf; text-decoration-color: #7fbfbf\">[02/17/25 19:03:40] </span><span style=\"color: #000080; text-decoration-color: #000080\">INFO    </span> Kedro is sending anonymous usage data with the sole purpose of improving <a href=\"file:///home/guilherme/Projects/credit-risk-analysis/venv/lib/python3.10/site-packages/kedro_telemetry/plugin.py\" target=\"_blank\"><span style=\"color: #7f7f7f; text-decoration-color: #7f7f7f\">plugin.py</span></a><span style=\"color: #7f7f7f; text-decoration-color: #7f7f7f\">:</span><a href=\"file:///home/guilherme/Projects/credit-risk-analysis/venv/lib/python3.10/site-packages/kedro_telemetry/plugin.py#233\" target=\"_blank\"><span style=\"color: #7f7f7f; text-decoration-color: #7f7f7f\">233</span></a>\n",
       "<span style=\"color: #7fbfbf; text-decoration-color: #7fbfbf\">                    </span>         the product. No personal data or IP addresses are stored on our side. If <span style=\"color: #7f7f7f; text-decoration-color: #7f7f7f\">             </span>\n",
       "<span style=\"color: #7fbfbf; text-decoration-color: #7fbfbf\">                    </span>         you want to opt out, set the `KEDRO_DISABLE_TELEMETRY` or `DO_NOT_TRACK` <span style=\"color: #7f7f7f; text-decoration-color: #7f7f7f\">             </span>\n",
       "<span style=\"color: #7fbfbf; text-decoration-color: #7fbfbf\">                    </span>         environment variables, or create a `.telemetry` file in the current      <span style=\"color: #7f7f7f; text-decoration-color: #7f7f7f\">             </span>\n",
       "<span style=\"color: #7fbfbf; text-decoration-color: #7fbfbf\">                    </span>         working directory with the contents `consent: false`. Read more at       <span style=\"color: #7f7f7f; text-decoration-color: #7f7f7f\">             </span>\n",
       "<span style=\"color: #7fbfbf; text-decoration-color: #7fbfbf\">                    </span>         <span style=\"color: #0000ff; text-decoration-color: #0000ff; text-decoration: underline\">https://docs.kedro.org/en/stable/configuration/telemetry.html</span>            <span style=\"color: #7f7f7f; text-decoration-color: #7f7f7f\">             </span>\n",
       "</pre>\n"
      ],
      "text/plain": [
       "\u001b[2;36m[02/17/25 19:03:40]\u001b[0m\u001b[2;36m \u001b[0m\u001b[34mINFO    \u001b[0m Kedro is sending anonymous usage data with the sole purpose of improving \u001b]8;id=649755;file:///home/guilherme/Projects/credit-risk-analysis/venv/lib/python3.10/site-packages/kedro_telemetry/plugin.py\u001b\\\u001b[2mplugin.py\u001b[0m\u001b]8;;\u001b\\\u001b[2m:\u001b[0m\u001b]8;id=737707;file:///home/guilherme/Projects/credit-risk-analysis/venv/lib/python3.10/site-packages/kedro_telemetry/plugin.py#233\u001b\\\u001b[2m233\u001b[0m\u001b]8;;\u001b\\\n",
       "\u001b[2;36m                    \u001b[0m         the product. No personal data or IP addresses are stored on our side. If \u001b[2m             \u001b[0m\n",
       "\u001b[2;36m                    \u001b[0m         you want to opt out, set the `KEDRO_DISABLE_TELEMETRY` or `DO_NOT_TRACK` \u001b[2m             \u001b[0m\n",
       "\u001b[2;36m                    \u001b[0m         environment variables, or create a `.telemetry` file in the current      \u001b[2m             \u001b[0m\n",
       "\u001b[2;36m                    \u001b[0m         working directory with the contents `consent: false`. Read more at       \u001b[2m             \u001b[0m\n",
       "\u001b[2;36m                    \u001b[0m         \u001b[4;94mhttps://docs.kedro.org/en/stable/configuration/telemetry.html\u001b[0m            \u001b[2m             \u001b[0m\n"
      ]
     },
     "metadata": {},
     "output_type": "display_data"
    },
    {
     "data": {
      "text/html": [
       "<pre style=\"white-space:pre;overflow-x:auto;line-height:normal;font-family:Menlo,'DejaVu Sans Mono',consolas,'Courier New',monospace\"><span style=\"color: #7fbfbf; text-decoration-color: #7fbfbf\">[02/17/25 19:03:41] </span><span style=\"color: #000080; text-decoration-color: #000080\">INFO    </span> Kedro project Credit Risk Analysis                                     <a href=\"file:///home/guilherme/Projects/credit-risk-analysis/venv/lib/python3.10/site-packages/kedro/ipython/__init__.py\" target=\"_blank\"><span style=\"color: #7f7f7f; text-decoration-color: #7f7f7f\">__init__.py</span></a><span style=\"color: #7f7f7f; text-decoration-color: #7f7f7f\">:</span><a href=\"file:///home/guilherme/Projects/credit-risk-analysis/venv/lib/python3.10/site-packages/kedro/ipython/__init__.py#146\" target=\"_blank\"><span style=\"color: #7f7f7f; text-decoration-color: #7f7f7f\">146</span></a>\n",
       "</pre>\n"
      ],
      "text/plain": [
       "\u001b[2;36m[02/17/25 19:03:41]\u001b[0m\u001b[2;36m \u001b[0m\u001b[34mINFO    \u001b[0m Kedro project Credit Risk Analysis                                     \u001b]8;id=507778;file:///home/guilherme/Projects/credit-risk-analysis/venv/lib/python3.10/site-packages/kedro/ipython/__init__.py\u001b\\\u001b[2m__init__.py\u001b[0m\u001b]8;;\u001b\\\u001b[2m:\u001b[0m\u001b]8;id=618779;file:///home/guilherme/Projects/credit-risk-analysis/venv/lib/python3.10/site-packages/kedro/ipython/__init__.py#146\u001b\\\u001b[2m146\u001b[0m\u001b]8;;\u001b\\\n"
      ]
     },
     "metadata": {},
     "output_type": "display_data"
    },
    {
     "data": {
      "text/html": [
       "<pre style=\"white-space:pre;overflow-x:auto;line-height:normal;font-family:Menlo,'DejaVu Sans Mono',consolas,'Courier New',monospace\"><span style=\"color: #7fbfbf; text-decoration-color: #7fbfbf\">                    </span><span style=\"color: #000080; text-decoration-color: #000080\">INFO    </span> Defined global variable <span style=\"color: #008000; text-decoration-color: #008000\">'context'</span>, <span style=\"color: #008000; text-decoration-color: #008000\">'session'</span>, <span style=\"color: #008000; text-decoration-color: #008000\">'catalog'</span> and            <a href=\"file:///home/guilherme/Projects/credit-risk-analysis/venv/lib/python3.10/site-packages/kedro/ipython/__init__.py\" target=\"_blank\"><span style=\"color: #7f7f7f; text-decoration-color: #7f7f7f\">__init__.py</span></a><span style=\"color: #7f7f7f; text-decoration-color: #7f7f7f\">:</span><a href=\"file:///home/guilherme/Projects/credit-risk-analysis/venv/lib/python3.10/site-packages/kedro/ipython/__init__.py#147\" target=\"_blank\"><span style=\"color: #7f7f7f; text-decoration-color: #7f7f7f\">147</span></a>\n",
       "<span style=\"color: #7fbfbf; text-decoration-color: #7fbfbf\">                    </span>         <span style=\"color: #008000; text-decoration-color: #008000\">'pipelines'</span>                                                            <span style=\"color: #7f7f7f; text-decoration-color: #7f7f7f\">               </span>\n",
       "</pre>\n"
      ],
      "text/plain": [
       "\u001b[2;36m                   \u001b[0m\u001b[2;36m \u001b[0m\u001b[34mINFO    \u001b[0m Defined global variable \u001b[32m'context'\u001b[0m, \u001b[32m'session'\u001b[0m, \u001b[32m'catalog'\u001b[0m and            \u001b]8;id=941752;file:///home/guilherme/Projects/credit-risk-analysis/venv/lib/python3.10/site-packages/kedro/ipython/__init__.py\u001b\\\u001b[2m__init__.py\u001b[0m\u001b]8;;\u001b\\\u001b[2m:\u001b[0m\u001b]8;id=907648;file:///home/guilherme/Projects/credit-risk-analysis/venv/lib/python3.10/site-packages/kedro/ipython/__init__.py#147\u001b\\\u001b[2m147\u001b[0m\u001b]8;;\u001b\\\n",
       "\u001b[2;36m                    \u001b[0m         \u001b[32m'pipelines'\u001b[0m                                                            \u001b[2m               \u001b[0m\n"
      ]
     },
     "metadata": {},
     "output_type": "display_data"
    },
    {
     "data": {
      "text/html": [
       "<pre style=\"white-space:pre;overflow-x:auto;line-height:normal;font-family:Menlo,'DejaVu Sans Mono',consolas,'Courier New',monospace\"><span style=\"color: #7fbfbf; text-decoration-color: #7fbfbf\">                    </span><span style=\"color: #000080; text-decoration-color: #000080\">INFO    </span> Registered line magic <span style=\"color: #008000; text-decoration-color: #008000\">'run_viz'</span>                                        <a href=\"file:///home/guilherme/Projects/credit-risk-analysis/venv/lib/python3.10/site-packages/kedro/ipython/__init__.py\" target=\"_blank\"><span style=\"color: #7f7f7f; text-decoration-color: #7f7f7f\">__init__.py</span></a><span style=\"color: #7f7f7f; text-decoration-color: #7f7f7f\">:</span><a href=\"file:///home/guilherme/Projects/credit-risk-analysis/venv/lib/python3.10/site-packages/kedro/ipython/__init__.py#153\" target=\"_blank\"><span style=\"color: #7f7f7f; text-decoration-color: #7f7f7f\">153</span></a>\n",
       "</pre>\n"
      ],
      "text/plain": [
       "\u001b[2;36m                   \u001b[0m\u001b[2;36m \u001b[0m\u001b[34mINFO    \u001b[0m Registered line magic \u001b[32m'run_viz'\u001b[0m                                        \u001b]8;id=572228;file:///home/guilherme/Projects/credit-risk-analysis/venv/lib/python3.10/site-packages/kedro/ipython/__init__.py\u001b\\\u001b[2m__init__.py\u001b[0m\u001b]8;;\u001b\\\u001b[2m:\u001b[0m\u001b]8;id=243728;file:///home/guilherme/Projects/credit-risk-analysis/venv/lib/python3.10/site-packages/kedro/ipython/__init__.py#153\u001b\\\u001b[2m153\u001b[0m\u001b]8;;\u001b\\\n"
      ]
     },
     "metadata": {},
     "output_type": "display_data"
    }
   ],
   "source": [
    "%reload_ext kedro.ipython"
   ]
  },
  {
   "cell_type": "markdown",
   "metadata": {},
   "source": [
    "# Importando bibliotecas"
   ]
  },
  {
   "cell_type": "code",
   "execution_count": 2,
   "metadata": {},
   "outputs": [],
   "source": [
    "import pandas as pd\n",
    "import numpy as np\n",
    "\n",
    "pd.set_option('display.max_columns', None)"
   ]
  },
  {
   "cell_type": "markdown",
   "metadata": {},
   "source": [
    "# Funções úteis"
   ]
  },
  {
   "cell_type": "code",
   "execution_count": 3,
   "metadata": {},
   "outputs": [],
   "source": [
    "def verify(df):\n",
    "    print(df.shape)\n",
    "    display(df.head())\n",
    "    display(df.tail())\n",
    "\n",
    "def display_info_dataframe(df):\n",
    "    df_info = pd.concat([df.dtypes, df.isna().sum(), df.nunique()], axis=1)\n",
    "    df_info.columns = ['dtype', 'qtd_nulos', 'qtd_unicos']\n",
    "    display(df_info)"
   ]
  },
  {
   "cell_type": "markdown",
   "metadata": {},
   "source": [
    "# Lendo as bases"
   ]
  },
  {
   "cell_type": "code",
   "execution_count": 4,
   "metadata": {},
   "outputs": [
    {
     "data": {
      "text/html": [
       "<pre style=\"white-space:pre;overflow-x:auto;line-height:normal;font-family:Menlo,'DejaVu Sans Mono',consolas,'Courier New',monospace\"><span style=\"color: #7fbfbf; text-decoration-color: #7fbfbf\">                    </span><span style=\"color: #000080; text-decoration-color: #000080\">INFO    </span> Loading data from <span style=\"color: #ff8700; text-decoration-color: #ff8700\">pj_data</span> <span style=\"font-weight: bold\">(</span>CSVDataset<span style=\"font-weight: bold\">)</span><span style=\"color: #808000; text-decoration-color: #808000\">...</span>                          <a href=\"file:///home/guilherme/Projects/credit-risk-analysis/venv/lib/python3.10/site-packages/kedro/io/data_catalog.py\" target=\"_blank\"><span style=\"color: #7f7f7f; text-decoration-color: #7f7f7f\">data_catalog.py</span></a><span style=\"color: #7f7f7f; text-decoration-color: #7f7f7f\">:</span><a href=\"file:///home/guilherme/Projects/credit-risk-analysis/venv/lib/python3.10/site-packages/kedro/io/data_catalog.py#390\" target=\"_blank\"><span style=\"color: #7f7f7f; text-decoration-color: #7f7f7f\">390</span></a>\n",
       "</pre>\n"
      ],
      "text/plain": [
       "\u001b[2;36m                   \u001b[0m\u001b[2;36m \u001b[0m\u001b[34mINFO    \u001b[0m Loading data from \u001b[38;5;208mpj_data\u001b[0m \u001b[1m(\u001b[0mCSVDataset\u001b[1m)\u001b[0m\u001b[33m...\u001b[0m                          \u001b]8;id=619483;file:///home/guilherme/Projects/credit-risk-analysis/venv/lib/python3.10/site-packages/kedro/io/data_catalog.py\u001b\\\u001b[2mdata_catalog.py\u001b[0m\u001b]8;;\u001b\\\u001b[2m:\u001b[0m\u001b]8;id=688899;file:///home/guilherme/Projects/credit-risk-analysis/venv/lib/python3.10/site-packages/kedro/io/data_catalog.py#390\u001b\\\u001b[2m390\u001b[0m\u001b]8;;\u001b\\\n"
      ]
     },
     "metadata": {},
     "output_type": "display_data"
    },
    {
     "data": {
      "text/html": [
       "<pre style=\"white-space:pre;overflow-x:auto;line-height:normal;font-family:Menlo,'DejaVu Sans Mono',consolas,'Courier New',monospace\"><span style=\"color: #7fbfbf; text-decoration-color: #7fbfbf\">                    </span><span style=\"color: #808000; text-decoration-color: #808000\">WARNING </span> <span style=\"color: #800080; text-decoration-color: #800080\">/home/guilherme/Projects/credit-risk-analysis/venv/lib/python3.10/site</span> <a href=\"file:///usr/lib/python3.10/warnings.py\" target=\"_blank\"><span style=\"color: #7f7f7f; text-decoration-color: #7f7f7f\">warnings.py</span></a><span style=\"color: #7f7f7f; text-decoration-color: #7f7f7f\">:</span><a href=\"file:///usr/lib/python3.10/warnings.py#109\" target=\"_blank\"><span style=\"color: #7f7f7f; text-decoration-color: #7f7f7f\">109</span></a>\n",
       "<span style=\"color: #7fbfbf; text-decoration-color: #7fbfbf\">                    </span>         <span style=\"color: #800080; text-decoration-color: #800080\">-packages/kedro_datasets/pandas/</span><span style=\"color: #ff00ff; text-decoration-color: #ff00ff\">csv_dataset.py</span>:<span style=\"color: #008080; text-decoration-color: #008080; font-weight: bold\">172</span>: DtypeWarning:      <span style=\"color: #7f7f7f; text-decoration-color: #7f7f7f\">               </span>\n",
       "<span style=\"color: #7fbfbf; text-decoration-color: #7fbfbf\">                    </span>         Columns <span style=\"font-weight: bold\">(</span><span style=\"color: #008080; text-decoration-color: #008080; font-weight: bold\">13</span><span style=\"font-weight: bold\">)</span> have mixed types. Specify dtype option on import or set   <span style=\"color: #7f7f7f; text-decoration-color: #7f7f7f\">               </span>\n",
       "<span style=\"color: #7fbfbf; text-decoration-color: #7fbfbf\">                    </span>         <span style=\"color: #808000; text-decoration-color: #808000\">low_memory</span>=<span style=\"color: #ff0000; text-decoration-color: #ff0000; font-style: italic\">False</span>.                                                      <span style=\"color: #7f7f7f; text-decoration-color: #7f7f7f\">               </span>\n",
       "<span style=\"color: #7fbfbf; text-decoration-color: #7fbfbf\">                    </span>           return <span style=\"color: #800080; text-decoration-color: #800080; font-weight: bold\">pd.read_csv</span><span style=\"font-weight: bold\">(</span>load_path, **self._load_args<span style=\"font-weight: bold\">)</span>                     <span style=\"color: #7f7f7f; text-decoration-color: #7f7f7f\">               </span>\n",
       "<span style=\"color: #7fbfbf; text-decoration-color: #7fbfbf\">                    </span>                                                                                <span style=\"color: #7f7f7f; text-decoration-color: #7f7f7f\">               </span>\n",
       "</pre>\n"
      ],
      "text/plain": [
       "\u001b[2;36m                   \u001b[0m\u001b[2;36m \u001b[0m\u001b[33mWARNING \u001b[0m \u001b[35m/home/guilherme/Projects/credit-risk-analysis/venv/lib/python3.10/site\u001b[0m \u001b]8;id=653092;file:///usr/lib/python3.10/warnings.py\u001b\\\u001b[2mwarnings.py\u001b[0m\u001b]8;;\u001b\\\u001b[2m:\u001b[0m\u001b]8;id=109060;file:///usr/lib/python3.10/warnings.py#109\u001b\\\u001b[2m109\u001b[0m\u001b]8;;\u001b\\\n",
       "\u001b[2;36m                    \u001b[0m         \u001b[35m-packages/kedro_datasets/pandas/\u001b[0m\u001b[95mcsv_dataset.py\u001b[0m:\u001b[1;36m172\u001b[0m: DtypeWarning:      \u001b[2m               \u001b[0m\n",
       "\u001b[2;36m                    \u001b[0m         Columns \u001b[1m(\u001b[0m\u001b[1;36m13\u001b[0m\u001b[1m)\u001b[0m have mixed types. Specify dtype option on import or set   \u001b[2m               \u001b[0m\n",
       "\u001b[2;36m                    \u001b[0m         \u001b[33mlow_memory\u001b[0m=\u001b[3;91mFalse\u001b[0m.                                                      \u001b[2m               \u001b[0m\n",
       "\u001b[2;36m                    \u001b[0m           return \u001b[1;35mpd.read_csv\u001b[0m\u001b[1m(\u001b[0mload_path, **self._load_args\u001b[1m)\u001b[0m                     \u001b[2m               \u001b[0m\n",
       "\u001b[2;36m                    \u001b[0m                                                                                \u001b[2m               \u001b[0m\n"
      ]
     },
     "metadata": {},
     "output_type": "display_data"
    }
   ],
   "source": [
    "df_completo = catalog.load(\"pj_data\")"
   ]
  },
  {
   "cell_type": "code",
   "execution_count": 5,
   "metadata": {},
   "outputs": [
    {
     "name": "stdout",
     "output_type": "stream",
     "text": [
      "(77195, 16)\n"
     ]
    },
    {
     "data": {
      "text/html": [
       "<pre style=\"white-space:pre;overflow-x:auto;line-height:normal;font-family:Menlo,'DejaVu Sans Mono',consolas,'Courier New',monospace\"></pre>\n"
      ],
      "text/plain": []
     },
     "metadata": {},
     "output_type": "display_data"
    },
    {
     "data": {
      "text/html": [
       "<div>\n",
       "<style scoped>\n",
       "    .dataframe tbody tr th:only-of-type {\n",
       "        vertical-align: middle;\n",
       "    }\n",
       "\n",
       "    .dataframe tbody tr th {\n",
       "        vertical-align: top;\n",
       "    }\n",
       "\n",
       "    .dataframe thead th {\n",
       "        text-align: right;\n",
       "    }\n",
       "</style>\n",
       "<table border=\"1\" class=\"dataframe\">\n",
       "  <thead>\n",
       "    <tr style=\"text-align: right;\">\n",
       "      <th></th>\n",
       "      <th>ID_CLIENTE</th>\n",
       "      <th>SAFRA_REF</th>\n",
       "      <th>DATA_EMISSAO_DOCUMENTO</th>\n",
       "      <th>DATA_PAGAMENTO</th>\n",
       "      <th>DATA_VENCIMENTO</th>\n",
       "      <th>VALOR_A_PAGAR</th>\n",
       "      <th>TAXA</th>\n",
       "      <th>DATA_CADASTRO</th>\n",
       "      <th>DDD</th>\n",
       "      <th>FLAG_PF</th>\n",
       "      <th>SEGMENTO_INDUSTRIAL</th>\n",
       "      <th>DOMINIO_EMAIL</th>\n",
       "      <th>PORTE</th>\n",
       "      <th>CEP_2_DIG</th>\n",
       "      <th>RENDA_MES_ANTERIOR</th>\n",
       "      <th>NO_FUNCIONARIOS</th>\n",
       "    </tr>\n",
       "  </thead>\n",
       "  <tbody>\n",
       "    <tr>\n",
       "      <th>0</th>\n",
       "      <td>1661240395903230676</td>\n",
       "      <td>2018-08</td>\n",
       "      <td>2018-08-17</td>\n",
       "      <td>2018-09-06</td>\n",
       "      <td>2018-09-06</td>\n",
       "      <td>35516.41</td>\n",
       "      <td>6.99</td>\n",
       "      <td>2013-08-22</td>\n",
       "      <td>99</td>\n",
       "      <td>NaN</td>\n",
       "      <td>Serviços</td>\n",
       "      <td>YAHOO</td>\n",
       "      <td>PEQUENO</td>\n",
       "      <td>65</td>\n",
       "      <td>NaN</td>\n",
       "      <td>NaN</td>\n",
       "    </tr>\n",
       "    <tr>\n",
       "      <th>1</th>\n",
       "      <td>1661240395903230676</td>\n",
       "      <td>2018-08</td>\n",
       "      <td>2018-08-19</td>\n",
       "      <td>2018-09-11</td>\n",
       "      <td>2018-09-10</td>\n",
       "      <td>17758.21</td>\n",
       "      <td>6.99</td>\n",
       "      <td>2013-08-22</td>\n",
       "      <td>99</td>\n",
       "      <td>NaN</td>\n",
       "      <td>Serviços</td>\n",
       "      <td>YAHOO</td>\n",
       "      <td>PEQUENO</td>\n",
       "      <td>65</td>\n",
       "      <td>NaN</td>\n",
       "      <td>NaN</td>\n",
       "    </tr>\n",
       "    <tr>\n",
       "      <th>2</th>\n",
       "      <td>1661240395903230676</td>\n",
       "      <td>2018-08</td>\n",
       "      <td>2018-08-26</td>\n",
       "      <td>2018-09-18</td>\n",
       "      <td>2018-09-17</td>\n",
       "      <td>17431.96</td>\n",
       "      <td>6.99</td>\n",
       "      <td>2013-08-22</td>\n",
       "      <td>99</td>\n",
       "      <td>NaN</td>\n",
       "      <td>Serviços</td>\n",
       "      <td>YAHOO</td>\n",
       "      <td>PEQUENO</td>\n",
       "      <td>65</td>\n",
       "      <td>NaN</td>\n",
       "      <td>NaN</td>\n",
       "    </tr>\n",
       "    <tr>\n",
       "      <th>3</th>\n",
       "      <td>1661240395903230676</td>\n",
       "      <td>2018-08</td>\n",
       "      <td>2018-08-30</td>\n",
       "      <td>2018-10-11</td>\n",
       "      <td>2018-10-05</td>\n",
       "      <td>1341.00</td>\n",
       "      <td>6.99</td>\n",
       "      <td>2013-08-22</td>\n",
       "      <td>99</td>\n",
       "      <td>NaN</td>\n",
       "      <td>Serviços</td>\n",
       "      <td>YAHOO</td>\n",
       "      <td>PEQUENO</td>\n",
       "      <td>65</td>\n",
       "      <td>NaN</td>\n",
       "      <td>NaN</td>\n",
       "    </tr>\n",
       "    <tr>\n",
       "      <th>4</th>\n",
       "      <td>1661240395903230676</td>\n",
       "      <td>2018-08</td>\n",
       "      <td>2018-08-31</td>\n",
       "      <td>2018-09-20</td>\n",
       "      <td>2018-09-20</td>\n",
       "      <td>21309.85</td>\n",
       "      <td>6.99</td>\n",
       "      <td>2013-08-22</td>\n",
       "      <td>99</td>\n",
       "      <td>NaN</td>\n",
       "      <td>Serviços</td>\n",
       "      <td>YAHOO</td>\n",
       "      <td>PEQUENO</td>\n",
       "      <td>65</td>\n",
       "      <td>NaN</td>\n",
       "      <td>NaN</td>\n",
       "    </tr>\n",
       "  </tbody>\n",
       "</table>\n",
       "</div>"
      ],
      "text/plain": [
       "\n",
       "            ID_CLIENTE SAFRA_REF DATA_EMISSAO_DOCUMENTO DATA_PAGAMENTO  \\\n",
       "\u001b[1;36m0\u001b[0m  \u001b[1;36m1661240395903230676\u001b[0m   \u001b[1;36m2018\u001b[0m-\u001b[1;36m08\u001b[0m             \u001b[1;36m2018\u001b[0m-\u001b[1;36m08\u001b[0m-\u001b[1;36m17\u001b[0m     \u001b[1;36m2018\u001b[0m-\u001b[1;36m09\u001b[0m-\u001b[1;36m06\u001b[0m   \n",
       "\u001b[1;36m1\u001b[0m  \u001b[1;36m1661240395903230676\u001b[0m   \u001b[1;36m2018\u001b[0m-\u001b[1;36m08\u001b[0m             \u001b[1;36m2018\u001b[0m-\u001b[1;36m08\u001b[0m-\u001b[1;36m19\u001b[0m     \u001b[1;36m2018\u001b[0m-\u001b[1;36m09\u001b[0m-\u001b[1;36m11\u001b[0m   \n",
       "\u001b[1;36m2\u001b[0m  \u001b[1;36m1661240395903230676\u001b[0m   \u001b[1;36m2018\u001b[0m-\u001b[1;36m08\u001b[0m             \u001b[1;36m2018\u001b[0m-\u001b[1;36m08\u001b[0m-\u001b[1;36m26\u001b[0m     \u001b[1;36m2018\u001b[0m-\u001b[1;36m09\u001b[0m-\u001b[1;36m18\u001b[0m   \n",
       "\u001b[1;36m3\u001b[0m  \u001b[1;36m1661240395903230676\u001b[0m   \u001b[1;36m2018\u001b[0m-\u001b[1;36m08\u001b[0m             \u001b[1;36m2018\u001b[0m-\u001b[1;36m08\u001b[0m-\u001b[1;36m30\u001b[0m     \u001b[1;36m2018\u001b[0m-\u001b[1;36m10\u001b[0m-\u001b[1;36m11\u001b[0m   \n",
       "\u001b[1;36m4\u001b[0m  \u001b[1;36m1661240395903230676\u001b[0m   \u001b[1;36m2018\u001b[0m-\u001b[1;36m08\u001b[0m             \u001b[1;36m2018\u001b[0m-\u001b[1;36m08\u001b[0m-\u001b[1;36m31\u001b[0m     \u001b[1;36m2018\u001b[0m-\u001b[1;36m09\u001b[0m-\u001b[1;36m20\u001b[0m   \n",
       "\n",
       "  DATA_VENCIMENTO  VALOR_A_PAGAR  TAXA DATA_CADASTRO DDD  FLAG_PF  \\\n",
       "\u001b[1;36m0\u001b[0m      \u001b[1;36m2018\u001b[0m-\u001b[1;36m09\u001b[0m-\u001b[1;36m06\u001b[0m       \u001b[1;36m35516.41\u001b[0m  \u001b[1;36m6.99\u001b[0m    \u001b[1;36m2013\u001b[0m-\u001b[1;36m08\u001b[0m-\u001b[1;36m22\u001b[0m  \u001b[1;36m99\u001b[0m      NaN   \n",
       "\u001b[1;36m1\u001b[0m      \u001b[1;36m2018\u001b[0m-\u001b[1;36m09\u001b[0m-\u001b[1;36m10\u001b[0m       \u001b[1;36m17758.21\u001b[0m  \u001b[1;36m6.99\u001b[0m    \u001b[1;36m2013\u001b[0m-\u001b[1;36m08\u001b[0m-\u001b[1;36m22\u001b[0m  \u001b[1;36m99\u001b[0m      NaN   \n",
       "\u001b[1;36m2\u001b[0m      \u001b[1;36m2018\u001b[0m-\u001b[1;36m09\u001b[0m-\u001b[1;36m17\u001b[0m       \u001b[1;36m17431.96\u001b[0m  \u001b[1;36m6.99\u001b[0m    \u001b[1;36m2013\u001b[0m-\u001b[1;36m08\u001b[0m-\u001b[1;36m22\u001b[0m  \u001b[1;36m99\u001b[0m      NaN   \n",
       "\u001b[1;36m3\u001b[0m      \u001b[1;36m2018\u001b[0m-\u001b[1;36m10\u001b[0m-\u001b[1;36m05\u001b[0m        \u001b[1;36m1341.00\u001b[0m  \u001b[1;36m6.99\u001b[0m    \u001b[1;36m2013\u001b[0m-\u001b[1;36m08\u001b[0m-\u001b[1;36m22\u001b[0m  \u001b[1;36m99\u001b[0m      NaN   \n",
       "\u001b[1;36m4\u001b[0m      \u001b[1;36m2018\u001b[0m-\u001b[1;36m09\u001b[0m-\u001b[1;36m20\u001b[0m       \u001b[1;36m21309.85\u001b[0m  \u001b[1;36m6.99\u001b[0m    \u001b[1;36m2013\u001b[0m-\u001b[1;36m08\u001b[0m-\u001b[1;36m22\u001b[0m  \u001b[1;36m99\u001b[0m      NaN   \n",
       "\n",
       "  SEGMENTO_INDUSTRIAL DOMINIO_EMAIL    PORTE CEP_2_DIG  RENDA_MES_ANTERIOR  \\\n",
       "\u001b[1;36m0\u001b[0m            Serviços         YAHOO  PEQUENO        \u001b[1;36m65\u001b[0m                 NaN   \n",
       "\u001b[1;36m1\u001b[0m            Serviços         YAHOO  PEQUENO        \u001b[1;36m65\u001b[0m                 NaN   \n",
       "\u001b[1;36m2\u001b[0m            Serviços         YAHOO  PEQUENO        \u001b[1;36m65\u001b[0m                 NaN   \n",
       "\u001b[1;36m3\u001b[0m            Serviços         YAHOO  PEQUENO        \u001b[1;36m65\u001b[0m                 NaN   \n",
       "\u001b[1;36m4\u001b[0m            Serviços         YAHOO  PEQUENO        \u001b[1;36m65\u001b[0m                 NaN   \n",
       "\n",
       "   NO_FUNCIONARIOS  \n",
       "\u001b[1;36m0\u001b[0m              NaN  \n",
       "\u001b[1;36m1\u001b[0m              NaN  \n",
       "\u001b[1;36m2\u001b[0m              NaN  \n",
       "\u001b[1;36m3\u001b[0m              NaN  \n",
       "\u001b[1;36m4\u001b[0m              NaN  "
      ]
     },
     "metadata": {},
     "output_type": "display_data"
    },
    {
     "data": {
      "text/html": [
       "<pre style=\"white-space:pre;overflow-x:auto;line-height:normal;font-family:Menlo,'DejaVu Sans Mono',consolas,'Courier New',monospace\"></pre>\n"
      ],
      "text/plain": []
     },
     "metadata": {},
     "output_type": "display_data"
    },
    {
     "data": {
      "text/html": [
       "<div>\n",
       "<style scoped>\n",
       "    .dataframe tbody tr th:only-of-type {\n",
       "        vertical-align: middle;\n",
       "    }\n",
       "\n",
       "    .dataframe tbody tr th {\n",
       "        vertical-align: top;\n",
       "    }\n",
       "\n",
       "    .dataframe thead th {\n",
       "        text-align: right;\n",
       "    }\n",
       "</style>\n",
       "<table border=\"1\" class=\"dataframe\">\n",
       "  <thead>\n",
       "    <tr style=\"text-align: right;\">\n",
       "      <th></th>\n",
       "      <th>ID_CLIENTE</th>\n",
       "      <th>SAFRA_REF</th>\n",
       "      <th>DATA_EMISSAO_DOCUMENTO</th>\n",
       "      <th>DATA_PAGAMENTO</th>\n",
       "      <th>DATA_VENCIMENTO</th>\n",
       "      <th>VALOR_A_PAGAR</th>\n",
       "      <th>TAXA</th>\n",
       "      <th>DATA_CADASTRO</th>\n",
       "      <th>DDD</th>\n",
       "      <th>FLAG_PF</th>\n",
       "      <th>SEGMENTO_INDUSTRIAL</th>\n",
       "      <th>DOMINIO_EMAIL</th>\n",
       "      <th>PORTE</th>\n",
       "      <th>CEP_2_DIG</th>\n",
       "      <th>RENDA_MES_ANTERIOR</th>\n",
       "      <th>NO_FUNCIONARIOS</th>\n",
       "    </tr>\n",
       "  </thead>\n",
       "  <tbody>\n",
       "    <tr>\n",
       "      <th>77190</th>\n",
       "      <td>2951563549197799278</td>\n",
       "      <td>2021-06</td>\n",
       "      <td>2021-06-30</td>\n",
       "      <td>2021-07-16</td>\n",
       "      <td>2021-07-16</td>\n",
       "      <td>89980.00</td>\n",
       "      <td>5.99</td>\n",
       "      <td>2000-08-15</td>\n",
       "      <td>11</td>\n",
       "      <td>NaN</td>\n",
       "      <td>Comércio</td>\n",
       "      <td>AOL</td>\n",
       "      <td>PEQUENO</td>\n",
       "      <td>13</td>\n",
       "      <td>280343.0</td>\n",
       "      <td>161.0</td>\n",
       "    </tr>\n",
       "    <tr>\n",
       "      <th>77191</th>\n",
       "      <td>5220206408301580591</td>\n",
       "      <td>2021-06</td>\n",
       "      <td>2021-06-30</td>\n",
       "      <td>2021-08-16</td>\n",
       "      <td>2021-08-16</td>\n",
       "      <td>42239.00</td>\n",
       "      <td>5.99</td>\n",
       "      <td>2021-04-08</td>\n",
       "      <td>19</td>\n",
       "      <td>NaN</td>\n",
       "      <td>Indústria</td>\n",
       "      <td>GMAIL</td>\n",
       "      <td>GRANDE</td>\n",
       "      <td>25</td>\n",
       "      <td>235315.0</td>\n",
       "      <td>87.0</td>\n",
       "    </tr>\n",
       "    <tr>\n",
       "      <th>77192</th>\n",
       "      <td>5860276371789140450</td>\n",
       "      <td>2021-06</td>\n",
       "      <td>2021-06-30</td>\n",
       "      <td>2021-07-16</td>\n",
       "      <td>2021-07-16</td>\n",
       "      <td>20921.50</td>\n",
       "      <td>5.99</td>\n",
       "      <td>2011-02-15</td>\n",
       "      <td>91</td>\n",
       "      <td>NaN</td>\n",
       "      <td>Serviços</td>\n",
       "      <td>HOTMAIL</td>\n",
       "      <td>GRANDE</td>\n",
       "      <td>67</td>\n",
       "      <td>100006.0</td>\n",
       "      <td>126.0</td>\n",
       "    </tr>\n",
       "    <tr>\n",
       "      <th>77193</th>\n",
       "      <td>2814790209436551216</td>\n",
       "      <td>2021-06</td>\n",
       "      <td>2021-06-30</td>\n",
       "      <td>2021-07-16</td>\n",
       "      <td>2021-07-16</td>\n",
       "      <td>90231.05</td>\n",
       "      <td>6.99</td>\n",
       "      <td>2021-05-13</td>\n",
       "      <td>(1</td>\n",
       "      <td>NaN</td>\n",
       "      <td>Serviços</td>\n",
       "      <td>YAHOO</td>\n",
       "      <td>MEDIO</td>\n",
       "      <td>14</td>\n",
       "      <td>NaN</td>\n",
       "      <td>NaN</td>\n",
       "    </tr>\n",
       "    <tr>\n",
       "      <th>77194</th>\n",
       "      <td>8343941262792249232</td>\n",
       "      <td>2021-06</td>\n",
       "      <td>2021-06-30</td>\n",
       "      <td>2021-08-16</td>\n",
       "      <td>2021-08-16</td>\n",
       "      <td>20736.51</td>\n",
       "      <td>4.99</td>\n",
       "      <td>2019-05-28</td>\n",
       "      <td>11</td>\n",
       "      <td>NaN</td>\n",
       "      <td>Indústria</td>\n",
       "      <td>HOTMAIL</td>\n",
       "      <td>GRANDE</td>\n",
       "      <td>31</td>\n",
       "      <td>97599.0</td>\n",
       "      <td>116.0</td>\n",
       "    </tr>\n",
       "  </tbody>\n",
       "</table>\n",
       "</div>"
      ],
      "text/plain": [
       "\n",
       "                ID_CLIENTE SAFRA_REF DATA_EMISSAO_DOCUMENTO DATA_PAGAMENTO  \\\n",
       "\u001b[1;36m77190\u001b[0m  \u001b[1;36m2951563549197799278\u001b[0m   \u001b[1;36m2021\u001b[0m-\u001b[1;36m06\u001b[0m             \u001b[1;36m2021\u001b[0m-\u001b[1;36m06\u001b[0m-\u001b[1;36m30\u001b[0m     \u001b[1;36m2021\u001b[0m-\u001b[1;36m07\u001b[0m-\u001b[1;36m16\u001b[0m   \n",
       "\u001b[1;36m77191\u001b[0m  \u001b[1;36m5220206408301580591\u001b[0m   \u001b[1;36m2021\u001b[0m-\u001b[1;36m06\u001b[0m             \u001b[1;36m2021\u001b[0m-\u001b[1;36m06\u001b[0m-\u001b[1;36m30\u001b[0m     \u001b[1;36m2021\u001b[0m-\u001b[1;36m08\u001b[0m-\u001b[1;36m16\u001b[0m   \n",
       "\u001b[1;36m77192\u001b[0m  \u001b[1;36m5860276371789140450\u001b[0m   \u001b[1;36m2021\u001b[0m-\u001b[1;36m06\u001b[0m             \u001b[1;36m2021\u001b[0m-\u001b[1;36m06\u001b[0m-\u001b[1;36m30\u001b[0m     \u001b[1;36m2021\u001b[0m-\u001b[1;36m07\u001b[0m-\u001b[1;36m16\u001b[0m   \n",
       "\u001b[1;36m77193\u001b[0m  \u001b[1;36m2814790209436551216\u001b[0m   \u001b[1;36m2021\u001b[0m-\u001b[1;36m06\u001b[0m             \u001b[1;36m2021\u001b[0m-\u001b[1;36m06\u001b[0m-\u001b[1;36m30\u001b[0m     \u001b[1;36m2021\u001b[0m-\u001b[1;36m07\u001b[0m-\u001b[1;36m16\u001b[0m   \n",
       "\u001b[1;36m77194\u001b[0m  \u001b[1;36m8343941262792249232\u001b[0m   \u001b[1;36m2021\u001b[0m-\u001b[1;36m06\u001b[0m             \u001b[1;36m2021\u001b[0m-\u001b[1;36m06\u001b[0m-\u001b[1;36m30\u001b[0m     \u001b[1;36m2021\u001b[0m-\u001b[1;36m08\u001b[0m-\u001b[1;36m16\u001b[0m   \n",
       "\n",
       "      DATA_VENCIMENTO  VALOR_A_PAGAR  TAXA DATA_CADASTRO DDD  FLAG_PF  \\\n",
       "\u001b[1;36m77190\u001b[0m      \u001b[1;36m2021\u001b[0m-\u001b[1;36m07\u001b[0m-\u001b[1;36m16\u001b[0m       \u001b[1;36m89980.00\u001b[0m  \u001b[1;36m5.99\u001b[0m    \u001b[1;36m2000\u001b[0m-\u001b[1;36m08\u001b[0m-\u001b[1;36m15\u001b[0m  \u001b[1;36m11\u001b[0m      NaN   \n",
       "\u001b[1;36m77191\u001b[0m      \u001b[1;36m2021\u001b[0m-\u001b[1;36m08\u001b[0m-\u001b[1;36m16\u001b[0m       \u001b[1;36m42239.00\u001b[0m  \u001b[1;36m5.99\u001b[0m    \u001b[1;36m2021\u001b[0m-\u001b[1;36m04\u001b[0m-\u001b[1;36m08\u001b[0m  \u001b[1;36m19\u001b[0m      NaN   \n",
       "\u001b[1;36m77192\u001b[0m      \u001b[1;36m2021\u001b[0m-\u001b[1;36m07\u001b[0m-\u001b[1;36m16\u001b[0m       \u001b[1;36m20921.50\u001b[0m  \u001b[1;36m5.99\u001b[0m    \u001b[1;36m2011\u001b[0m-\u001b[1;36m02\u001b[0m-\u001b[1;36m15\u001b[0m  \u001b[1;36m91\u001b[0m      NaN   \n",
       "\u001b[1;36m77193\u001b[0m      \u001b[1;36m2021\u001b[0m-\u001b[1;36m07\u001b[0m-\u001b[1;36m16\u001b[0m       \u001b[1;36m90231.05\u001b[0m  \u001b[1;36m6.99\u001b[0m    \u001b[1;36m2021\u001b[0m-\u001b[1;36m05\u001b[0m-\u001b[1;36m13\u001b[0m  \u001b[1m(\u001b[0m\u001b[1;36m1\u001b[0m      NaN   \n",
       "\u001b[1;36m77194\u001b[0m      \u001b[1;36m2021\u001b[0m-\u001b[1;36m08\u001b[0m-\u001b[1;36m16\u001b[0m       \u001b[1;36m20736.51\u001b[0m  \u001b[1;36m4.99\u001b[0m    \u001b[1;36m2019\u001b[0m-\u001b[1;36m05\u001b[0m-\u001b[1;36m28\u001b[0m  \u001b[1;36m11\u001b[0m      NaN   \n",
       "\n",
       "      SEGMENTO_INDUSTRIAL DOMINIO_EMAIL    PORTE CEP_2_DIG  \\\n",
       "\u001b[1;36m77190\u001b[0m            Comércio           AOL  PEQUENO        \u001b[1;36m13\u001b[0m   \n",
       "\u001b[1;36m77191\u001b[0m           Indústria         GMAIL   GRANDE        \u001b[1;36m25\u001b[0m   \n",
       "\u001b[1;36m77192\u001b[0m            Serviços       HOTMAIL   GRANDE        \u001b[1;36m67\u001b[0m   \n",
       "\u001b[1;36m77193\u001b[0m            Serviços         YAHOO    MEDIO        \u001b[1;36m14\u001b[0m   \n",
       "\u001b[1;36m77194\u001b[0m           Indústria       HOTMAIL   GRANDE        \u001b[1;36m31\u001b[0m   \n",
       "\n",
       "       RENDA_MES_ANTERIOR  NO_FUNCIONARIOS  \n",
       "\u001b[1;36m77190\u001b[0m            \u001b[1;36m280343.0\u001b[0m            \u001b[1;36m161.0\u001b[0m  \n",
       "\u001b[1;36m77191\u001b[0m            \u001b[1;36m235315.0\u001b[0m             \u001b[1;36m87.0\u001b[0m  \n",
       "\u001b[1;36m77192\u001b[0m            \u001b[1;36m100006.0\u001b[0m            \u001b[1;36m126.0\u001b[0m  \n",
       "\u001b[1;36m77193\u001b[0m                 NaN              NaN  \n",
       "\u001b[1;36m77194\u001b[0m             \u001b[1;36m97599.0\u001b[0m            \u001b[1;36m116.0\u001b[0m  "
      ]
     },
     "metadata": {},
     "output_type": "display_data"
    }
   ],
   "source": [
    "verify(df_completo)"
   ]
  },
  {
   "cell_type": "markdown",
   "metadata": {},
   "source": [
    "# Construção de novas variáveis"
   ]
  },
  {
   "cell_type": "code",
   "execution_count": 6,
   "metadata": {},
   "outputs": [
    {
     "data": {
      "text/html": [
       "<pre style=\"white-space:pre;overflow-x:auto;line-height:normal;font-family:Menlo,'DejaVu Sans Mono',consolas,'Courier New',monospace\"><span style=\"color: #7fbfbf; text-decoration-color: #7fbfbf\">                    </span><span style=\"color: #808000; text-decoration-color: #808000\">WARNING </span> <span style=\"color: #800080; text-decoration-color: #800080\">/tmp/ipykernel_36664/</span><span style=\"color: #ff00ff; text-decoration-color: #ff00ff\">1139088209.py</span>:<span style=\"color: #008080; text-decoration-color: #008080; font-weight: bold\">1</span>: FutureWarning:                   <a href=\"file:///usr/lib/python3.10/warnings.py\" target=\"_blank\"><span style=\"color: #7f7f7f; text-decoration-color: #7f7f7f\">warnings.py</span></a><span style=\"color: #7f7f7f; text-decoration-color: #7f7f7f\">:</span><a href=\"file:///usr/lib/python3.10/warnings.py#109\" target=\"_blank\"><span style=\"color: #7f7f7f; text-decoration-color: #7f7f7f\">109</span></a>\n",
       "<span style=\"color: #7fbfbf; text-decoration-color: #7fbfbf\">                    </span>         Series.__getitem__ treating keys as positions is deprecated. In a      <span style=\"color: #7f7f7f; text-decoration-color: #7f7f7f\">               </span>\n",
       "<span style=\"color: #7fbfbf; text-decoration-color: #7fbfbf\">                    </span>         future version, integer keys will always be treated as labels          <span style=\"color: #7f7f7f; text-decoration-color: #7f7f7f\">               </span>\n",
       "<span style=\"color: #7fbfbf; text-decoration-color: #7fbfbf\">                    </span>         <span style=\"font-weight: bold\">(</span>consistent with DataFrame behavior<span style=\"font-weight: bold\">)</span>. To access a value by position,   <span style=\"color: #7f7f7f; text-decoration-color: #7f7f7f\">               </span>\n",
       "<span style=\"color: #7fbfbf; text-decoration-color: #7fbfbf\">                    </span>         use `ser.iloc<span style=\"font-weight: bold\">[</span>pos<span style=\"font-weight: bold\">]</span>`                                                    <span style=\"color: #7f7f7f; text-decoration-color: #7f7f7f\">               </span>\n",
       "<span style=\"color: #7fbfbf; text-decoration-color: #7fbfbf\">                    </span>           df_completo<span style=\"font-weight: bold\">[</span><span style=\"color: #008000; text-decoration-color: #008000\">'RZ_RENDA_FUNC'</span><span style=\"font-weight: bold\">]</span> =                                       <span style=\"color: #7f7f7f; text-decoration-color: #7f7f7f\">               </span>\n",
       "<span style=\"color: #7fbfbf; text-decoration-color: #7fbfbf\">                    </span>         df_completo<span style=\"font-weight: bold\">[[</span><span style=\"color: #008000; text-decoration-color: #008000\">'RENDA_MES_ANTERIOR'</span>,<span style=\"color: #008000; text-decoration-color: #008000\">'NO_FUNCIONARIOS'</span><span style=\"font-weight: bold\">]]</span><span style=\"color: #800080; text-decoration-color: #800080; font-weight: bold\">.apply</span><span style=\"font-weight: bold\">(</span>lambda x:  <span style=\"color: #7f7f7f; text-decoration-color: #7f7f7f\">               </span>\n",
       "<span style=\"color: #7fbfbf; text-decoration-color: #7fbfbf\">                    </span>         x<span style=\"font-weight: bold\">[</span><span style=\"color: #008080; text-decoration-color: #008080; font-weight: bold\">0</span><span style=\"font-weight: bold\">]</span><span style=\"color: #800080; text-decoration-color: #800080\">/</span><span style=\"color: #ff00ff; text-decoration-color: #ff00ff\">x</span><span style=\"font-weight: bold\">[</span><span style=\"color: #008080; text-decoration-color: #008080; font-weight: bold\">1</span><span style=\"font-weight: bold\">]</span> if x<span style=\"font-weight: bold\">[</span><span style=\"color: #008080; text-decoration-color: #008080; font-weight: bold\">1</span><span style=\"font-weight: bold\">]</span>&gt; <span style=\"color: #008080; text-decoration-color: #008080; font-weight: bold\">0</span> else np.nan, <span style=\"color: #808000; text-decoration-color: #808000\">axis</span>=<span style=\"color: #008080; text-decoration-color: #008080; font-weight: bold\">1</span><span style=\"font-weight: bold\">)</span>                              <span style=\"color: #7f7f7f; text-decoration-color: #7f7f7f\">               </span>\n",
       "<span style=\"color: #7fbfbf; text-decoration-color: #7fbfbf\">                    </span>                                                                                <span style=\"color: #7f7f7f; text-decoration-color: #7f7f7f\">               </span>\n",
       "</pre>\n"
      ],
      "text/plain": [
       "\u001b[2;36m                   \u001b[0m\u001b[2;36m \u001b[0m\u001b[33mWARNING \u001b[0m \u001b[35m/tmp/ipykernel_36664/\u001b[0m\u001b[95m1139088209.py\u001b[0m:\u001b[1;36m1\u001b[0m: FutureWarning:                   \u001b]8;id=886468;file:///usr/lib/python3.10/warnings.py\u001b\\\u001b[2mwarnings.py\u001b[0m\u001b]8;;\u001b\\\u001b[2m:\u001b[0m\u001b]8;id=394386;file:///usr/lib/python3.10/warnings.py#109\u001b\\\u001b[2m109\u001b[0m\u001b]8;;\u001b\\\n",
       "\u001b[2;36m                    \u001b[0m         Series.__getitem__ treating keys as positions is deprecated. In a      \u001b[2m               \u001b[0m\n",
       "\u001b[2;36m                    \u001b[0m         future version, integer keys will always be treated as labels          \u001b[2m               \u001b[0m\n",
       "\u001b[2;36m                    \u001b[0m         \u001b[1m(\u001b[0mconsistent with DataFrame behavior\u001b[1m)\u001b[0m. To access a value by position,   \u001b[2m               \u001b[0m\n",
       "\u001b[2;36m                    \u001b[0m         use `ser.iloc\u001b[1m[\u001b[0mpos\u001b[1m]\u001b[0m`                                                    \u001b[2m               \u001b[0m\n",
       "\u001b[2;36m                    \u001b[0m           df_completo\u001b[1m[\u001b[0m\u001b[32m'RZ_RENDA_FUNC'\u001b[0m\u001b[1m]\u001b[0m =                                       \u001b[2m               \u001b[0m\n",
       "\u001b[2;36m                    \u001b[0m         df_completo\u001b[1m[\u001b[0m\u001b[1m[\u001b[0m\u001b[32m'RENDA_MES_ANTERIOR'\u001b[0m,\u001b[32m'NO_FUNCIONARIOS'\u001b[0m\u001b[1m]\u001b[0m\u001b[1m]\u001b[0m\u001b[1;35m.apply\u001b[0m\u001b[1m(\u001b[0mlambda x:  \u001b[2m               \u001b[0m\n",
       "\u001b[2;36m                    \u001b[0m         x\u001b[1m[\u001b[0m\u001b[1;36m0\u001b[0m\u001b[1m]\u001b[0m\u001b[35m/\u001b[0m\u001b[95mx\u001b[0m\u001b[1m[\u001b[0m\u001b[1;36m1\u001b[0m\u001b[1m]\u001b[0m if x\u001b[1m[\u001b[0m\u001b[1;36m1\u001b[0m\u001b[1m]\u001b[0m> \u001b[1;36m0\u001b[0m else np.nan, \u001b[33maxis\u001b[0m=\u001b[1;36m1\u001b[0m\u001b[1m)\u001b[0m                              \u001b[2m               \u001b[0m\n",
       "\u001b[2;36m                    \u001b[0m                                                                                \u001b[2m               \u001b[0m\n"
      ]
     },
     "metadata": {},
     "output_type": "display_data"
    }
   ],
   "source": [
    "df_completo['RZ_RENDA_FUNC'] = df_completo[['RENDA_MES_ANTERIOR','NO_FUNCIONARIOS']].apply(lambda x: x[0]/x[1] if x[1]> 0 else np.nan, axis=1)"
   ]
  },
  {
   "cell_type": "code",
   "execution_count": 7,
   "metadata": {},
   "outputs": [
    {
     "data": {
      "text/html": [
       "<pre style=\"white-space:pre;overflow-x:auto;line-height:normal;font-family:Menlo,'DejaVu Sans Mono',consolas,'Courier New',monospace\"><span style=\"color: #7fbfbf; text-decoration-color: #7fbfbf\">[02/17/25 19:03:42] </span><span style=\"color: #808000; text-decoration-color: #808000\">WARNING </span> <span style=\"color: #800080; text-decoration-color: #800080\">/tmp/ipykernel_36664/</span><span style=\"color: #ff00ff; text-decoration-color: #ff00ff\">62042398.py</span>:<span style=\"color: #008080; text-decoration-color: #008080; font-weight: bold\">1</span>: FutureWarning: Series.__getitem__  <a href=\"file:///usr/lib/python3.10/warnings.py\" target=\"_blank\"><span style=\"color: #7f7f7f; text-decoration-color: #7f7f7f\">warnings.py</span></a><span style=\"color: #7f7f7f; text-decoration-color: #7f7f7f\">:</span><a href=\"file:///usr/lib/python3.10/warnings.py#109\" target=\"_blank\"><span style=\"color: #7f7f7f; text-decoration-color: #7f7f7f\">109</span></a>\n",
       "<span style=\"color: #7fbfbf; text-decoration-color: #7fbfbf\">                    </span>         treating keys as positions is deprecated. In a future version, integer <span style=\"color: #7f7f7f; text-decoration-color: #7f7f7f\">               </span>\n",
       "<span style=\"color: #7fbfbf; text-decoration-color: #7fbfbf\">                    </span>         keys will always be treated as labels <span style=\"font-weight: bold\">(</span>consistent with DataFrame       <span style=\"color: #7f7f7f; text-decoration-color: #7f7f7f\">               </span>\n",
       "<span style=\"color: #7fbfbf; text-decoration-color: #7fbfbf\">                    </span>         behavior<span style=\"font-weight: bold\">)</span>. To access a value by position, use `ser.iloc<span style=\"font-weight: bold\">[</span>pos<span style=\"font-weight: bold\">]</span>`          <span style=\"color: #7f7f7f; text-decoration-color: #7f7f7f\">               </span>\n",
       "<span style=\"color: #7fbfbf; text-decoration-color: #7fbfbf\">                    </span>           df_completo<span style=\"font-weight: bold\">[</span><span style=\"color: #008000; text-decoration-color: #008000\">'VL_TAXA'</span><span style=\"font-weight: bold\">]</span> =                                             <span style=\"color: #7f7f7f; text-decoration-color: #7f7f7f\">               </span>\n",
       "<span style=\"color: #7fbfbf; text-decoration-color: #7fbfbf\">                    </span>         df_completo<span style=\"font-weight: bold\">[[</span><span style=\"color: #008000; text-decoration-color: #008000\">'TAXA'</span>,<span style=\"color: #008000; text-decoration-color: #008000\">'VALOR_A_PAGAR'</span><span style=\"font-weight: bold\">]]</span><span style=\"color: #800080; text-decoration-color: #800080; font-weight: bold\">.apply</span><span style=\"font-weight: bold\">(</span>lambda x: <span style=\"font-weight: bold\">(</span>x<span style=\"font-weight: bold\">[</span><span style=\"color: #008080; text-decoration-color: #008080; font-weight: bold\">0</span><span style=\"font-weight: bold\">]</span><span style=\"color: #800080; text-decoration-color: #800080\">/</span><span style=\"color: #ff00ff; text-decoration-color: #ff00ff\">100</span><span style=\"font-weight: bold\">)</span>*x<span style=\"font-weight: bold\">[</span><span style=\"color: #008080; text-decoration-color: #008080; font-weight: bold\">1</span><span style=\"font-weight: bold\">]</span>  <span style=\"color: #7f7f7f; text-decoration-color: #7f7f7f\">               </span>\n",
       "<span style=\"color: #7fbfbf; text-decoration-color: #7fbfbf\">                    </span>         if x<span style=\"font-weight: bold\">[</span><span style=\"color: #008080; text-decoration-color: #008080; font-weight: bold\">1</span><span style=\"font-weight: bold\">]</span>&gt; <span style=\"color: #008080; text-decoration-color: #008080; font-weight: bold\">0</span> else np.nan, <span style=\"color: #808000; text-decoration-color: #808000\">axis</span>=<span style=\"color: #008080; text-decoration-color: #008080; font-weight: bold\">1</span><span style=\"font-weight: bold\">)</span>                                        <span style=\"color: #7f7f7f; text-decoration-color: #7f7f7f\">               </span>\n",
       "<span style=\"color: #7fbfbf; text-decoration-color: #7fbfbf\">                    </span>                                                                                <span style=\"color: #7f7f7f; text-decoration-color: #7f7f7f\">               </span>\n",
       "</pre>\n"
      ],
      "text/plain": [
       "\u001b[2;36m[02/17/25 19:03:42]\u001b[0m\u001b[2;36m \u001b[0m\u001b[33mWARNING \u001b[0m \u001b[35m/tmp/ipykernel_36664/\u001b[0m\u001b[95m62042398.py\u001b[0m:\u001b[1;36m1\u001b[0m: FutureWarning: Series.__getitem__  \u001b]8;id=42329;file:///usr/lib/python3.10/warnings.py\u001b\\\u001b[2mwarnings.py\u001b[0m\u001b]8;;\u001b\\\u001b[2m:\u001b[0m\u001b]8;id=739238;file:///usr/lib/python3.10/warnings.py#109\u001b\\\u001b[2m109\u001b[0m\u001b]8;;\u001b\\\n",
       "\u001b[2;36m                    \u001b[0m         treating keys as positions is deprecated. In a future version, integer \u001b[2m               \u001b[0m\n",
       "\u001b[2;36m                    \u001b[0m         keys will always be treated as labels \u001b[1m(\u001b[0mconsistent with DataFrame       \u001b[2m               \u001b[0m\n",
       "\u001b[2;36m                    \u001b[0m         behavior\u001b[1m)\u001b[0m. To access a value by position, use `ser.iloc\u001b[1m[\u001b[0mpos\u001b[1m]\u001b[0m`          \u001b[2m               \u001b[0m\n",
       "\u001b[2;36m                    \u001b[0m           df_completo\u001b[1m[\u001b[0m\u001b[32m'VL_TAXA'\u001b[0m\u001b[1m]\u001b[0m =                                             \u001b[2m               \u001b[0m\n",
       "\u001b[2;36m                    \u001b[0m         df_completo\u001b[1m[\u001b[0m\u001b[1m[\u001b[0m\u001b[32m'TAXA'\u001b[0m,\u001b[32m'VALOR_A_PAGAR'\u001b[0m\u001b[1m]\u001b[0m\u001b[1m]\u001b[0m\u001b[1;35m.apply\u001b[0m\u001b[1m(\u001b[0mlambda x: \u001b[1m(\u001b[0mx\u001b[1m[\u001b[0m\u001b[1;36m0\u001b[0m\u001b[1m]\u001b[0m\u001b[35m/\u001b[0m\u001b[95m100\u001b[0m\u001b[1m)\u001b[0m*x\u001b[1m[\u001b[0m\u001b[1;36m1\u001b[0m\u001b[1m]\u001b[0m  \u001b[2m               \u001b[0m\n",
       "\u001b[2;36m                    \u001b[0m         if x\u001b[1m[\u001b[0m\u001b[1;36m1\u001b[0m\u001b[1m]\u001b[0m> \u001b[1;36m0\u001b[0m else np.nan, \u001b[33maxis\u001b[0m=\u001b[1;36m1\u001b[0m\u001b[1m)\u001b[0m                                        \u001b[2m               \u001b[0m\n",
       "\u001b[2;36m                    \u001b[0m                                                                                \u001b[2m               \u001b[0m\n"
      ]
     },
     "metadata": {},
     "output_type": "display_data"
    }
   ],
   "source": [
    "df_completo['VL_TAXA'] = df_completo[['TAXA','VALOR_A_PAGAR']].apply(lambda x: (x[0]/100)*x[1] if x[1]> 0 else np.nan, axis=1)"
   ]
  },
  {
   "cell_type": "markdown",
   "metadata": {},
   "source": [
    "# Construção do Target"
   ]
  },
  {
   "cell_type": "code",
   "execution_count": 8,
   "metadata": {},
   "outputs": [],
   "source": [
    "df_completo[['DATA_PAGAMENTO','DATA_VENCIMENTO']] = df_completo[['DATA_PAGAMENTO','DATA_VENCIMENTO']].apply(pd.to_datetime)"
   ]
  },
  {
   "cell_type": "code",
   "execution_count": 9,
   "metadata": {},
   "outputs": [],
   "source": [
    "df_completo['ATRASO'] = (df_completo['DATA_PAGAMENTO'] - df_completo['DATA_VENCIMENTO']).dt.days"
   ]
  },
  {
   "cell_type": "code",
   "execution_count": 10,
   "metadata": {},
   "outputs": [],
   "source": [
    "df_completo['FLAG_MAU'] = (df_completo['ATRASO']>=5).astype(int)"
   ]
  },
  {
   "cell_type": "code",
   "execution_count": 11,
   "metadata": {},
   "outputs": [
    {
     "data": {
      "text/html": [
       "<pre style=\"white-space:pre;overflow-x:auto;line-height:normal;font-family:Menlo,'DejaVu Sans Mono',consolas,'Courier New',monospace\"></pre>\n"
      ],
      "text/plain": []
     },
     "metadata": {},
     "output_type": "display_data"
    },
    {
     "data": {
      "text/plain": [
       "\n",
       "FLAG_MAU\n",
       "\u001b[1;36m0\u001b[0m    \u001b[1;36m71803\u001b[0m\n",
       "\u001b[1;36m1\u001b[0m     \u001b[1;36m5392\u001b[0m\n",
       "Name: count, dtype: int64"
      ]
     },
     "execution_count": 11,
     "metadata": {},
     "output_type": "execute_result"
    }
   ],
   "source": [
    "df_completo['FLAG_MAU'].value_counts(dropna=False)"
   ]
  },
  {
   "cell_type": "code",
   "execution_count": 12,
   "metadata": {},
   "outputs": [
    {
     "data": {
      "text/html": [
       "<pre style=\"white-space:pre;overflow-x:auto;line-height:normal;font-family:Menlo,'DejaVu Sans Mono',consolas,'Courier New',monospace\"></pre>\n"
      ],
      "text/plain": []
     },
     "metadata": {},
     "output_type": "display_data"
    },
    {
     "data": {
      "text/plain": [
       "\n",
       "FLAG_MAU\n",
       "\u001b[1;36m0\u001b[0m    \u001b[1;36m0.930151\u001b[0m\n",
       "\u001b[1;36m1\u001b[0m    \u001b[1;36m0.069849\u001b[0m\n",
       "Name: proportion, dtype: float64"
      ]
     },
     "execution_count": 12,
     "metadata": {},
     "output_type": "execute_result"
    }
   ],
   "source": [
    "df_completo['FLAG_MAU'].value_counts(dropna=False, normalize=True)"
   ]
  },
  {
   "cell_type": "code",
   "execution_count": null,
   "metadata": {},
   "outputs": [],
   "source": []
  },
  {
   "cell_type": "code",
   "execution_count": 13,
   "metadata": {},
   "outputs": [
    {
     "data": {
      "text/html": [
       "<pre style=\"white-space:pre;overflow-x:auto;line-height:normal;font-family:Menlo,'DejaVu Sans Mono',consolas,'Courier New',monospace\"><span style=\"color: #7fbfbf; text-decoration-color: #7fbfbf\">[02/17/25 19:03:43] </span><span style=\"color: #000080; text-decoration-color: #000080\">INFO    </span> Loading data from <span style=\"color: #ff8700; text-decoration-color: #ff8700\">pagamentos_teste</span> <span style=\"font-weight: bold\">(</span>CSVDataset<span style=\"font-weight: bold\">)</span><span style=\"color: #808000; text-decoration-color: #808000\">...</span>                 <a href=\"file:///home/guilherme/Projects/credit-risk-analysis/venv/lib/python3.10/site-packages/kedro/io/data_catalog.py\" target=\"_blank\"><span style=\"color: #7f7f7f; text-decoration-color: #7f7f7f\">data_catalog.py</span></a><span style=\"color: #7f7f7f; text-decoration-color: #7f7f7f\">:</span><a href=\"file:///home/guilherme/Projects/credit-risk-analysis/venv/lib/python3.10/site-packages/kedro/io/data_catalog.py#390\" target=\"_blank\"><span style=\"color: #7f7f7f; text-decoration-color: #7f7f7f\">390</span></a>\n",
       "</pre>\n"
      ],
      "text/plain": [
       "\u001b[2;36m[02/17/25 19:03:43]\u001b[0m\u001b[2;36m \u001b[0m\u001b[34mINFO    \u001b[0m Loading data from \u001b[38;5;208mpagamentos_teste\u001b[0m \u001b[1m(\u001b[0mCSVDataset\u001b[1m)\u001b[0m\u001b[33m...\u001b[0m                 \u001b]8;id=645622;file:///home/guilherme/Projects/credit-risk-analysis/venv/lib/python3.10/site-packages/kedro/io/data_catalog.py\u001b\\\u001b[2mdata_catalog.py\u001b[0m\u001b]8;;\u001b\\\u001b[2m:\u001b[0m\u001b]8;id=789080;file:///home/guilherme/Projects/credit-risk-analysis/venv/lib/python3.10/site-packages/kedro/io/data_catalog.py#390\u001b\\\u001b[2m390\u001b[0m\u001b]8;;\u001b\\\n"
      ]
     },
     "metadata": {},
     "output_type": "display_data"
    },
    {
     "data": {
      "text/html": [
       "<pre style=\"white-space:pre;overflow-x:auto;line-height:normal;font-family:Menlo,'DejaVu Sans Mono',consolas,'Courier New',monospace\"></pre>\n"
      ],
      "text/plain": []
     },
     "metadata": {},
     "output_type": "display_data"
    },
    {
     "data": {
      "text/html": [
       "<div>\n",
       "<style scoped>\n",
       "    .dataframe tbody tr th:only-of-type {\n",
       "        vertical-align: middle;\n",
       "    }\n",
       "\n",
       "    .dataframe tbody tr th {\n",
       "        vertical-align: top;\n",
       "    }\n",
       "\n",
       "    .dataframe thead th {\n",
       "        text-align: right;\n",
       "    }\n",
       "</style>\n",
       "<table border=\"1\" class=\"dataframe\">\n",
       "  <thead>\n",
       "    <tr style=\"text-align: right;\">\n",
       "      <th></th>\n",
       "      <th>ID_CLIENTE</th>\n",
       "      <th>SAFRA_REF</th>\n",
       "      <th>DATA_EMISSAO_DOCUMENTO</th>\n",
       "      <th>DATA_VENCIMENTO</th>\n",
       "      <th>VALOR_A_PAGAR</th>\n",
       "      <th>TAXA</th>\n",
       "    </tr>\n",
       "  </thead>\n",
       "  <tbody>\n",
       "    <tr>\n",
       "      <th>0</th>\n",
       "      <td>5058298901476893676</td>\n",
       "      <td>2021-07</td>\n",
       "      <td>2021-07-14</td>\n",
       "      <td>2021-08-04</td>\n",
       "      <td>11204.75</td>\n",
       "      <td>4.99</td>\n",
       "    </tr>\n",
       "    <tr>\n",
       "      <th>1</th>\n",
       "      <td>274692171162531764</td>\n",
       "      <td>2021-07</td>\n",
       "      <td>2021-07-08</td>\n",
       "      <td>2021-08-23</td>\n",
       "      <td>60718.50</td>\n",
       "      <td>5.99</td>\n",
       "    </tr>\n",
       "    <tr>\n",
       "      <th>2</th>\n",
       "      <td>274692171162531764</td>\n",
       "      <td>2021-07</td>\n",
       "      <td>2021-07-11</td>\n",
       "      <td>2021-08-25</td>\n",
       "      <td>60718.50</td>\n",
       "      <td>5.99</td>\n",
       "    </tr>\n",
       "    <tr>\n",
       "      <th>3</th>\n",
       "      <td>274692171162531764</td>\n",
       "      <td>2021-07</td>\n",
       "      <td>2021-07-16</td>\n",
       "      <td>2021-08-30</td>\n",
       "      <td>62250.00</td>\n",
       "      <td>5.99</td>\n",
       "    </tr>\n",
       "    <tr>\n",
       "      <th>4</th>\n",
       "      <td>465309249432033993</td>\n",
       "      <td>2021-07</td>\n",
       "      <td>2021-07-05</td>\n",
       "      <td>2021-07-30</td>\n",
       "      <td>26593.95</td>\n",
       "      <td>6.99</td>\n",
       "    </tr>\n",
       "    <tr>\n",
       "      <th>...</th>\n",
       "      <td>...</td>\n",
       "      <td>...</td>\n",
       "      <td>...</td>\n",
       "      <td>...</td>\n",
       "      <td>...</td>\n",
       "      <td>...</td>\n",
       "    </tr>\n",
       "    <tr>\n",
       "      <th>12270</th>\n",
       "      <td>705648002974742140</td>\n",
       "      <td>2021-11</td>\n",
       "      <td>2021-11-25</td>\n",
       "      <td>2021-12-13</td>\n",
       "      <td>47010.00</td>\n",
       "      <td>6.99</td>\n",
       "    </tr>\n",
       "    <tr>\n",
       "      <th>12271</th>\n",
       "      <td>4993499380140734678</td>\n",
       "      <td>2021-11</td>\n",
       "      <td>2021-11-25</td>\n",
       "      <td>2021-12-13</td>\n",
       "      <td>122875.35</td>\n",
       "      <td>8.99</td>\n",
       "    </tr>\n",
       "    <tr>\n",
       "      <th>12272</th>\n",
       "      <td>4614484019183480654</td>\n",
       "      <td>2021-11</td>\n",
       "      <td>2021-11-26</td>\n",
       "      <td>2028-09-30</td>\n",
       "      <td>302200.00</td>\n",
       "      <td>5.99</td>\n",
       "    </tr>\n",
       "    <tr>\n",
       "      <th>12273</th>\n",
       "      <td>1299146298565441811</td>\n",
       "      <td>2021-11</td>\n",
       "      <td>2021-11-26</td>\n",
       "      <td>2021-12-13</td>\n",
       "      <td>143791.85</td>\n",
       "      <td>5.99</td>\n",
       "    </tr>\n",
       "    <tr>\n",
       "      <th>12274</th>\n",
       "      <td>4061297388883391410</td>\n",
       "      <td>2021-11</td>\n",
       "      <td>2021-11-28</td>\n",
       "      <td>2021-12-23</td>\n",
       "      <td>23724.10</td>\n",
       "      <td>4.99</td>\n",
       "    </tr>\n",
       "  </tbody>\n",
       "</table>\n",
       "<p>12275 rows × 6 columns</p>\n",
       "</div>"
      ],
      "text/plain": [
       "\n",
       "                ID_CLIENTE SAFRA_REF DATA_EMISSAO_DOCUMENTO DATA_VENCIMENTO  \\\n",
       "\u001b[1;36m0\u001b[0m      \u001b[1;36m5058298901476893676\u001b[0m   \u001b[1;36m2021\u001b[0m-\u001b[1;36m07\u001b[0m             \u001b[1;36m2021\u001b[0m-\u001b[1;36m07\u001b[0m-\u001b[1;36m14\u001b[0m      \u001b[1;36m2021\u001b[0m-\u001b[1;36m08\u001b[0m-\u001b[1;36m04\u001b[0m   \n",
       "\u001b[1;36m1\u001b[0m       \u001b[1;36m274692171162531764\u001b[0m   \u001b[1;36m2021\u001b[0m-\u001b[1;36m07\u001b[0m             \u001b[1;36m2021\u001b[0m-\u001b[1;36m07\u001b[0m-\u001b[1;36m08\u001b[0m      \u001b[1;36m2021\u001b[0m-\u001b[1;36m08\u001b[0m-\u001b[1;36m23\u001b[0m   \n",
       "\u001b[1;36m2\u001b[0m       \u001b[1;36m274692171162531764\u001b[0m   \u001b[1;36m2021\u001b[0m-\u001b[1;36m07\u001b[0m             \u001b[1;36m2021\u001b[0m-\u001b[1;36m07\u001b[0m-\u001b[1;36m11\u001b[0m      \u001b[1;36m2021\u001b[0m-\u001b[1;36m08\u001b[0m-\u001b[1;36m25\u001b[0m   \n",
       "\u001b[1;36m3\u001b[0m       \u001b[1;36m274692171162531764\u001b[0m   \u001b[1;36m2021\u001b[0m-\u001b[1;36m07\u001b[0m             \u001b[1;36m2021\u001b[0m-\u001b[1;36m07\u001b[0m-\u001b[1;36m16\u001b[0m      \u001b[1;36m2021\u001b[0m-\u001b[1;36m08\u001b[0m-\u001b[1;36m30\u001b[0m   \n",
       "\u001b[1;36m4\u001b[0m       \u001b[1;36m465309249432033993\u001b[0m   \u001b[1;36m2021\u001b[0m-\u001b[1;36m07\u001b[0m             \u001b[1;36m2021\u001b[0m-\u001b[1;36m07\u001b[0m-\u001b[1;36m05\u001b[0m      \u001b[1;36m2021\u001b[0m-\u001b[1;36m07\u001b[0m-\u001b[1;36m30\u001b[0m   \n",
       "\u001b[33m...\u001b[0m                    \u001b[33m...\u001b[0m       \u001b[33m...\u001b[0m                    \u001b[33m...\u001b[0m             \u001b[33m...\u001b[0m   \n",
       "\u001b[1;36m12270\u001b[0m   \u001b[1;36m705648002974742140\u001b[0m   \u001b[1;36m2021\u001b[0m-\u001b[1;36m11\u001b[0m             \u001b[1;36m2021\u001b[0m-\u001b[1;36m11\u001b[0m-\u001b[1;36m25\u001b[0m      \u001b[1;36m2021\u001b[0m-\u001b[1;36m12\u001b[0m-\u001b[1;36m13\u001b[0m   \n",
       "\u001b[1;36m12271\u001b[0m  \u001b[1;36m4993499380140734678\u001b[0m   \u001b[1;36m2021\u001b[0m-\u001b[1;36m11\u001b[0m             \u001b[1;36m2021\u001b[0m-\u001b[1;36m11\u001b[0m-\u001b[1;36m25\u001b[0m      \u001b[1;36m2021\u001b[0m-\u001b[1;36m12\u001b[0m-\u001b[1;36m13\u001b[0m   \n",
       "\u001b[1;36m12272\u001b[0m  \u001b[1;36m4614484019183480654\u001b[0m   \u001b[1;36m2021\u001b[0m-\u001b[1;36m11\u001b[0m             \u001b[1;36m2021\u001b[0m-\u001b[1;36m11\u001b[0m-\u001b[1;36m26\u001b[0m      \u001b[1;36m2028\u001b[0m-\u001b[1;36m09\u001b[0m-\u001b[1;36m30\u001b[0m   \n",
       "\u001b[1;36m12273\u001b[0m  \u001b[1;36m1299146298565441811\u001b[0m   \u001b[1;36m2021\u001b[0m-\u001b[1;36m11\u001b[0m             \u001b[1;36m2021\u001b[0m-\u001b[1;36m11\u001b[0m-\u001b[1;36m26\u001b[0m      \u001b[1;36m2021\u001b[0m-\u001b[1;36m12\u001b[0m-\u001b[1;36m13\u001b[0m   \n",
       "\u001b[1;36m12274\u001b[0m  \u001b[1;36m4061297388883391410\u001b[0m   \u001b[1;36m2021\u001b[0m-\u001b[1;36m11\u001b[0m             \u001b[1;36m2021\u001b[0m-\u001b[1;36m11\u001b[0m-\u001b[1;36m28\u001b[0m      \u001b[1;36m2021\u001b[0m-\u001b[1;36m12\u001b[0m-\u001b[1;36m23\u001b[0m   \n",
       "\n",
       "       VALOR_A_PAGAR  TAXA  \n",
       "\u001b[1;36m0\u001b[0m           \u001b[1;36m11204.75\u001b[0m  \u001b[1;36m4.99\u001b[0m  \n",
       "\u001b[1;36m1\u001b[0m           \u001b[1;36m60718.50\u001b[0m  \u001b[1;36m5.99\u001b[0m  \n",
       "\u001b[1;36m2\u001b[0m           \u001b[1;36m60718.50\u001b[0m  \u001b[1;36m5.99\u001b[0m  \n",
       "\u001b[1;36m3\u001b[0m           \u001b[1;36m62250.00\u001b[0m  \u001b[1;36m5.99\u001b[0m  \n",
       "\u001b[1;36m4\u001b[0m           \u001b[1;36m26593.95\u001b[0m  \u001b[1;36m6.99\u001b[0m  \n",
       "\u001b[33m...\u001b[0m              \u001b[33m...\u001b[0m   \u001b[33m...\u001b[0m  \n",
       "\u001b[1;36m12270\u001b[0m       \u001b[1;36m47010.00\u001b[0m  \u001b[1;36m6.99\u001b[0m  \n",
       "\u001b[1;36m12271\u001b[0m      \u001b[1;36m122875.35\u001b[0m  \u001b[1;36m8.99\u001b[0m  \n",
       "\u001b[1;36m12272\u001b[0m      \u001b[1;36m302200.00\u001b[0m  \u001b[1;36m5.99\u001b[0m  \n",
       "\u001b[1;36m12273\u001b[0m      \u001b[1;36m143791.85\u001b[0m  \u001b[1;36m5.99\u001b[0m  \n",
       "\u001b[1;36m12274\u001b[0m       \u001b[1;36m23724.10\u001b[0m  \u001b[1;36m4.99\u001b[0m  \n",
       "\n",
       "\u001b[1m[\u001b[0m\u001b[1;36m12275\u001b[0m rows x \u001b[1;36m6\u001b[0m columns\u001b[1m]\u001b[0m"
      ]
     },
     "execution_count": 13,
     "metadata": {},
     "output_type": "execute_result"
    }
   ],
   "source": [
    "catalog.load(\"pagamentos_teste\")"
   ]
  },
  {
   "cell_type": "code",
   "execution_count": null,
   "metadata": {},
   "outputs": [],
   "source": []
  }
 ],
 "metadata": {
  "kernelspec": {
   "display_name": "credit-risk-kernel",
   "language": "python",
   "name": "credit-risk-kernel"
  },
  "language_info": {
   "codemirror_mode": {
    "name": "ipython",
    "version": 3
   },
   "file_extension": ".py",
   "mimetype": "text/x-python",
   "name": "python",
   "nbconvert_exporter": "python",
   "pygments_lexer": "ipython3",
   "version": "3.10.12"
  }
 },
 "nbformat": 4,
 "nbformat_minor": 2
}
