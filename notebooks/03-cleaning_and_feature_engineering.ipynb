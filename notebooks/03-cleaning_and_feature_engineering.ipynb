{
 "cells": [
  {
   "cell_type": "code",
   "execution_count": 1,
   "metadata": {},
   "outputs": [
    {
     "data": {
      "text/html": [
       "<pre style=\"white-space:pre;overflow-x:auto;line-height:normal;font-family:Menlo,'DejaVu Sans Mono',consolas,'Courier New',monospace\"><span style=\"color: #7fbfbf; text-decoration-color: #7fbfbf\">[02/17/25 19:57:44] </span><span style=\"color: #000080; text-decoration-color: #000080\">INFO    </span> Using                                                                  <a href=\"file:///home/guilherme/Projects/credit-risk-analysis/venv/lib/python3.10/site-packages/kedro/framework/project/__init__.py\" target=\"_blank\"><span style=\"color: #7f7f7f; text-decoration-color: #7f7f7f\">__init__.py</span></a><span style=\"color: #7f7f7f; text-decoration-color: #7f7f7f\">:</span><a href=\"file:///home/guilherme/Projects/credit-risk-analysis/venv/lib/python3.10/site-packages/kedro/framework/project/__init__.py#270\" target=\"_blank\"><span style=\"color: #7f7f7f; text-decoration-color: #7f7f7f\">270</span></a>\n",
       "<span style=\"color: #7fbfbf; text-decoration-color: #7fbfbf\">                    </span>         <span style=\"color: #008000; text-decoration-color: #008000\">'/home/guilherme/Projects/credit-risk-analysis/venv/lib/python3.10/sit</span> <span style=\"color: #7f7f7f; text-decoration-color: #7f7f7f\">               </span>\n",
       "<span style=\"color: #7fbfbf; text-decoration-color: #7fbfbf\">                    </span>         <span style=\"color: #008000; text-decoration-color: #008000\">e-packages/kedro/framework/project/rich_logging.yml'</span> as logging        <span style=\"color: #7f7f7f; text-decoration-color: #7f7f7f\">               </span>\n",
       "<span style=\"color: #7fbfbf; text-decoration-color: #7fbfbf\">                    </span>         configuration.                                                         <span style=\"color: #7f7f7f; text-decoration-color: #7f7f7f\">               </span>\n",
       "</pre>\n"
      ],
      "text/plain": [
       "\u001b[2;36m[02/17/25 19:57:44]\u001b[0m\u001b[2;36m \u001b[0m\u001b[34mINFO    \u001b[0m Using                                                                  \u001b]8;id=568518;file:///home/guilherme/Projects/credit-risk-analysis/venv/lib/python3.10/site-packages/kedro/framework/project/__init__.py\u001b\\\u001b[2m__init__.py\u001b[0m\u001b]8;;\u001b\\\u001b[2m:\u001b[0m\u001b]8;id=621873;file:///home/guilherme/Projects/credit-risk-analysis/venv/lib/python3.10/site-packages/kedro/framework/project/__init__.py#270\u001b\\\u001b[2m270\u001b[0m\u001b]8;;\u001b\\\n",
       "\u001b[2;36m                    \u001b[0m         \u001b[32m'/home/guilherme/Projects/credit-risk-analysis/venv/lib/python3.10/sit\u001b[0m \u001b[2m               \u001b[0m\n",
       "\u001b[2;36m                    \u001b[0m         \u001b[32me-packages/kedro/framework/project/rich_logging.yml'\u001b[0m as logging        \u001b[2m               \u001b[0m\n",
       "\u001b[2;36m                    \u001b[0m         configuration.                                                         \u001b[2m               \u001b[0m\n"
      ]
     },
     "metadata": {},
     "output_type": "display_data"
    },
    {
     "data": {
      "text/html": [
       "<pre style=\"white-space:pre;overflow-x:auto;line-height:normal;font-family:Menlo,'DejaVu Sans Mono',consolas,'Courier New',monospace\"><span style=\"color: #7fbfbf; text-decoration-color: #7fbfbf\">                    </span><span style=\"color: #000080; text-decoration-color: #000080\">INFO    </span> Registered line magic <span style=\"color: #008000; text-decoration-color: #008000\">'%reload_kedro'</span>                                   <a href=\"file:///home/guilherme/Projects/credit-risk-analysis/venv/lib/python3.10/site-packages/kedro/ipython/__init__.py\" target=\"_blank\"><span style=\"color: #7f7f7f; text-decoration-color: #7f7f7f\">__init__.py</span></a><span style=\"color: #7f7f7f; text-decoration-color: #7f7f7f\">:</span><a href=\"file:///home/guilherme/Projects/credit-risk-analysis/venv/lib/python3.10/site-packages/kedro/ipython/__init__.py#63\" target=\"_blank\"><span style=\"color: #7f7f7f; text-decoration-color: #7f7f7f\">63</span></a>\n",
       "</pre>\n"
      ],
      "text/plain": [
       "\u001b[2;36m                   \u001b[0m\u001b[2;36m \u001b[0m\u001b[34mINFO    \u001b[0m Registered line magic \u001b[32m'%reload_kedro'\u001b[0m                                   \u001b]8;id=226615;file:///home/guilherme/Projects/credit-risk-analysis/venv/lib/python3.10/site-packages/kedro/ipython/__init__.py\u001b\\\u001b[2m__init__.py\u001b[0m\u001b]8;;\u001b\\\u001b[2m:\u001b[0m\u001b]8;id=149061;file:///home/guilherme/Projects/credit-risk-analysis/venv/lib/python3.10/site-packages/kedro/ipython/__init__.py#63\u001b\\\u001b[2m63\u001b[0m\u001b]8;;\u001b\\\n"
      ]
     },
     "metadata": {},
     "output_type": "display_data"
    },
    {
     "data": {
      "text/html": [
       "<pre style=\"white-space:pre;overflow-x:auto;line-height:normal;font-family:Menlo,'DejaVu Sans Mono',consolas,'Courier New',monospace\"><span style=\"color: #7fbfbf; text-decoration-color: #7fbfbf\">                    </span><span style=\"color: #000080; text-decoration-color: #000080\">INFO    </span> Registered line magic <span style=\"color: #008000; text-decoration-color: #008000\">'%load_node'</span>                                      <a href=\"file:///home/guilherme/Projects/credit-risk-analysis/venv/lib/python3.10/site-packages/kedro/ipython/__init__.py\" target=\"_blank\"><span style=\"color: #7f7f7f; text-decoration-color: #7f7f7f\">__init__.py</span></a><span style=\"color: #7f7f7f; text-decoration-color: #7f7f7f\">:</span><a href=\"file:///home/guilherme/Projects/credit-risk-analysis/venv/lib/python3.10/site-packages/kedro/ipython/__init__.py#65\" target=\"_blank\"><span style=\"color: #7f7f7f; text-decoration-color: #7f7f7f\">65</span></a>\n",
       "</pre>\n"
      ],
      "text/plain": [
       "\u001b[2;36m                   \u001b[0m\u001b[2;36m \u001b[0m\u001b[34mINFO    \u001b[0m Registered line magic \u001b[32m'%load_node'\u001b[0m                                      \u001b]8;id=165963;file:///home/guilherme/Projects/credit-risk-analysis/venv/lib/python3.10/site-packages/kedro/ipython/__init__.py\u001b\\\u001b[2m__init__.py\u001b[0m\u001b]8;;\u001b\\\u001b[2m:\u001b[0m\u001b]8;id=144048;file:///home/guilherme/Projects/credit-risk-analysis/venv/lib/python3.10/site-packages/kedro/ipython/__init__.py#65\u001b\\\u001b[2m65\u001b[0m\u001b]8;;\u001b\\\n"
      ]
     },
     "metadata": {},
     "output_type": "display_data"
    },
    {
     "data": {
      "text/html": [
       "<pre style=\"white-space:pre;overflow-x:auto;line-height:normal;font-family:Menlo,'DejaVu Sans Mono',consolas,'Courier New',monospace\"><span style=\"color: #7fbfbf; text-decoration-color: #7fbfbf\">                    </span><span style=\"color: #000080; text-decoration-color: #000080\">INFO    </span> Resolved project path as:                                              <a href=\"file:///home/guilherme/Projects/credit-risk-analysis/venv/lib/python3.10/site-packages/kedro/ipython/__init__.py\" target=\"_blank\"><span style=\"color: #7f7f7f; text-decoration-color: #7f7f7f\">__init__.py</span></a><span style=\"color: #7f7f7f; text-decoration-color: #7f7f7f\">:</span><a href=\"file:///home/guilherme/Projects/credit-risk-analysis/venv/lib/python3.10/site-packages/kedro/ipython/__init__.py#180\" target=\"_blank\"><span style=\"color: #7f7f7f; text-decoration-color: #7f7f7f\">180</span></a>\n",
       "<span style=\"color: #7fbfbf; text-decoration-color: #7fbfbf\">                    </span>         <span style=\"color: #800080; text-decoration-color: #800080\">/home/guilherme/Projects/</span><span style=\"color: #ff00ff; text-decoration-color: #ff00ff\">credit-risk-analysis.</span>                         <span style=\"color: #7f7f7f; text-decoration-color: #7f7f7f\">               </span>\n",
       "<span style=\"color: #7fbfbf; text-decoration-color: #7fbfbf\">                    </span>         To set a different path, run <span style=\"color: #008000; text-decoration-color: #008000\">'%reload_kedro &lt;project_root&gt;'</span>            <span style=\"color: #7f7f7f; text-decoration-color: #7f7f7f\">               </span>\n",
       "</pre>\n"
      ],
      "text/plain": [
       "\u001b[2;36m                   \u001b[0m\u001b[2;36m \u001b[0m\u001b[34mINFO    \u001b[0m Resolved project path as:                                              \u001b]8;id=35755;file:///home/guilherme/Projects/credit-risk-analysis/venv/lib/python3.10/site-packages/kedro/ipython/__init__.py\u001b\\\u001b[2m__init__.py\u001b[0m\u001b]8;;\u001b\\\u001b[2m:\u001b[0m\u001b]8;id=692815;file:///home/guilherme/Projects/credit-risk-analysis/venv/lib/python3.10/site-packages/kedro/ipython/__init__.py#180\u001b\\\u001b[2m180\u001b[0m\u001b]8;;\u001b\\\n",
       "\u001b[2;36m                    \u001b[0m         \u001b[35m/home/guilherme/Projects/\u001b[0m\u001b[95mcredit-risk-analysis.\u001b[0m                         \u001b[2m               \u001b[0m\n",
       "\u001b[2;36m                    \u001b[0m         To set a different path, run \u001b[32m'%reload_kedro \u001b[0m\u001b[32m<\u001b[0m\u001b[32mproject_root\u001b[0m\u001b[32m>\u001b[0m\u001b[32m'\u001b[0m            \u001b[2m               \u001b[0m\n"
      ]
     },
     "metadata": {},
     "output_type": "display_data"
    },
    {
     "data": {
      "text/html": [
       "<pre style=\"white-space:pre;overflow-x:auto;line-height:normal;font-family:Menlo,'DejaVu Sans Mono',consolas,'Courier New',monospace\"><span style=\"color: #7fbfbf; text-decoration-color: #7fbfbf\">[02/17/25 19:57:45] </span><span style=\"color: #000080; text-decoration-color: #000080\">INFO    </span> Kedro is sending anonymous usage data with the sole purpose of improving <a href=\"file:///home/guilherme/Projects/credit-risk-analysis/venv/lib/python3.10/site-packages/kedro_telemetry/plugin.py\" target=\"_blank\"><span style=\"color: #7f7f7f; text-decoration-color: #7f7f7f\">plugin.py</span></a><span style=\"color: #7f7f7f; text-decoration-color: #7f7f7f\">:</span><a href=\"file:///home/guilherme/Projects/credit-risk-analysis/venv/lib/python3.10/site-packages/kedro_telemetry/plugin.py#233\" target=\"_blank\"><span style=\"color: #7f7f7f; text-decoration-color: #7f7f7f\">233</span></a>\n",
       "<span style=\"color: #7fbfbf; text-decoration-color: #7fbfbf\">                    </span>         the product. No personal data or IP addresses are stored on our side. If <span style=\"color: #7f7f7f; text-decoration-color: #7f7f7f\">             </span>\n",
       "<span style=\"color: #7fbfbf; text-decoration-color: #7fbfbf\">                    </span>         you want to opt out, set the `KEDRO_DISABLE_TELEMETRY` or `DO_NOT_TRACK` <span style=\"color: #7f7f7f; text-decoration-color: #7f7f7f\">             </span>\n",
       "<span style=\"color: #7fbfbf; text-decoration-color: #7fbfbf\">                    </span>         environment variables, or create a `.telemetry` file in the current      <span style=\"color: #7f7f7f; text-decoration-color: #7f7f7f\">             </span>\n",
       "<span style=\"color: #7fbfbf; text-decoration-color: #7fbfbf\">                    </span>         working directory with the contents `consent: false`. Read more at       <span style=\"color: #7f7f7f; text-decoration-color: #7f7f7f\">             </span>\n",
       "<span style=\"color: #7fbfbf; text-decoration-color: #7fbfbf\">                    </span>         <span style=\"color: #0000ff; text-decoration-color: #0000ff; text-decoration: underline\">https://docs.kedro.org/en/stable/configuration/telemetry.html</span>            <span style=\"color: #7f7f7f; text-decoration-color: #7f7f7f\">             </span>\n",
       "</pre>\n"
      ],
      "text/plain": [
       "\u001b[2;36m[02/17/25 19:57:45]\u001b[0m\u001b[2;36m \u001b[0m\u001b[34mINFO    \u001b[0m Kedro is sending anonymous usage data with the sole purpose of improving \u001b]8;id=948538;file:///home/guilherme/Projects/credit-risk-analysis/venv/lib/python3.10/site-packages/kedro_telemetry/plugin.py\u001b\\\u001b[2mplugin.py\u001b[0m\u001b]8;;\u001b\\\u001b[2m:\u001b[0m\u001b]8;id=17615;file:///home/guilherme/Projects/credit-risk-analysis/venv/lib/python3.10/site-packages/kedro_telemetry/plugin.py#233\u001b\\\u001b[2m233\u001b[0m\u001b]8;;\u001b\\\n",
       "\u001b[2;36m                    \u001b[0m         the product. No personal data or IP addresses are stored on our side. If \u001b[2m             \u001b[0m\n",
       "\u001b[2;36m                    \u001b[0m         you want to opt out, set the `KEDRO_DISABLE_TELEMETRY` or `DO_NOT_TRACK` \u001b[2m             \u001b[0m\n",
       "\u001b[2;36m                    \u001b[0m         environment variables, or create a `.telemetry` file in the current      \u001b[2m             \u001b[0m\n",
       "\u001b[2;36m                    \u001b[0m         working directory with the contents `consent: false`. Read more at       \u001b[2m             \u001b[0m\n",
       "\u001b[2;36m                    \u001b[0m         \u001b[4;94mhttps://docs.kedro.org/en/stable/configuration/telemetry.html\u001b[0m            \u001b[2m             \u001b[0m\n"
      ]
     },
     "metadata": {},
     "output_type": "display_data"
    },
    {
     "data": {
      "text/html": [
       "<pre style=\"white-space:pre;overflow-x:auto;line-height:normal;font-family:Menlo,'DejaVu Sans Mono',consolas,'Courier New',monospace\"><span style=\"color: #7fbfbf; text-decoration-color: #7fbfbf\">                    </span><span style=\"color: #000080; text-decoration-color: #000080\">INFO    </span> Kedro project Credit Risk Analysis                                     <a href=\"file:///home/guilherme/Projects/credit-risk-analysis/venv/lib/python3.10/site-packages/kedro/ipython/__init__.py\" target=\"_blank\"><span style=\"color: #7f7f7f; text-decoration-color: #7f7f7f\">__init__.py</span></a><span style=\"color: #7f7f7f; text-decoration-color: #7f7f7f\">:</span><a href=\"file:///home/guilherme/Projects/credit-risk-analysis/venv/lib/python3.10/site-packages/kedro/ipython/__init__.py#146\" target=\"_blank\"><span style=\"color: #7f7f7f; text-decoration-color: #7f7f7f\">146</span></a>\n",
       "</pre>\n"
      ],
      "text/plain": [
       "\u001b[2;36m                   \u001b[0m\u001b[2;36m \u001b[0m\u001b[34mINFO    \u001b[0m Kedro project Credit Risk Analysis                                     \u001b]8;id=266298;file:///home/guilherme/Projects/credit-risk-analysis/venv/lib/python3.10/site-packages/kedro/ipython/__init__.py\u001b\\\u001b[2m__init__.py\u001b[0m\u001b]8;;\u001b\\\u001b[2m:\u001b[0m\u001b]8;id=854303;file:///home/guilherme/Projects/credit-risk-analysis/venv/lib/python3.10/site-packages/kedro/ipython/__init__.py#146\u001b\\\u001b[2m146\u001b[0m\u001b]8;;\u001b\\\n"
      ]
     },
     "metadata": {},
     "output_type": "display_data"
    },
    {
     "data": {
      "text/html": [
       "<pre style=\"white-space:pre;overflow-x:auto;line-height:normal;font-family:Menlo,'DejaVu Sans Mono',consolas,'Courier New',monospace\"><span style=\"color: #7fbfbf; text-decoration-color: #7fbfbf\">[02/17/25 19:57:46] </span><span style=\"color: #000080; text-decoration-color: #000080\">INFO    </span> Defined global variable <span style=\"color: #008000; text-decoration-color: #008000\">'context'</span>, <span style=\"color: #008000; text-decoration-color: #008000\">'session'</span>, <span style=\"color: #008000; text-decoration-color: #008000\">'catalog'</span> and            <a href=\"file:///home/guilherme/Projects/credit-risk-analysis/venv/lib/python3.10/site-packages/kedro/ipython/__init__.py\" target=\"_blank\"><span style=\"color: #7f7f7f; text-decoration-color: #7f7f7f\">__init__.py</span></a><span style=\"color: #7f7f7f; text-decoration-color: #7f7f7f\">:</span><a href=\"file:///home/guilherme/Projects/credit-risk-analysis/venv/lib/python3.10/site-packages/kedro/ipython/__init__.py#147\" target=\"_blank\"><span style=\"color: #7f7f7f; text-decoration-color: #7f7f7f\">147</span></a>\n",
       "<span style=\"color: #7fbfbf; text-decoration-color: #7fbfbf\">                    </span>         <span style=\"color: #008000; text-decoration-color: #008000\">'pipelines'</span>                                                            <span style=\"color: #7f7f7f; text-decoration-color: #7f7f7f\">               </span>\n",
       "</pre>\n"
      ],
      "text/plain": [
       "\u001b[2;36m[02/17/25 19:57:46]\u001b[0m\u001b[2;36m \u001b[0m\u001b[34mINFO    \u001b[0m Defined global variable \u001b[32m'context'\u001b[0m, \u001b[32m'session'\u001b[0m, \u001b[32m'catalog'\u001b[0m and            \u001b]8;id=525654;file:///home/guilherme/Projects/credit-risk-analysis/venv/lib/python3.10/site-packages/kedro/ipython/__init__.py\u001b\\\u001b[2m__init__.py\u001b[0m\u001b]8;;\u001b\\\u001b[2m:\u001b[0m\u001b]8;id=562564;file:///home/guilherme/Projects/credit-risk-analysis/venv/lib/python3.10/site-packages/kedro/ipython/__init__.py#147\u001b\\\u001b[2m147\u001b[0m\u001b]8;;\u001b\\\n",
       "\u001b[2;36m                    \u001b[0m         \u001b[32m'pipelines'\u001b[0m                                                            \u001b[2m               \u001b[0m\n"
      ]
     },
     "metadata": {},
     "output_type": "display_data"
    },
    {
     "data": {
      "text/html": [
       "<pre style=\"white-space:pre;overflow-x:auto;line-height:normal;font-family:Menlo,'DejaVu Sans Mono',consolas,'Courier New',monospace\"><span style=\"color: #7fbfbf; text-decoration-color: #7fbfbf\">                    </span><span style=\"color: #000080; text-decoration-color: #000080\">INFO    </span> Registered line magic <span style=\"color: #008000; text-decoration-color: #008000\">'run_viz'</span>                                        <a href=\"file:///home/guilherme/Projects/credit-risk-analysis/venv/lib/python3.10/site-packages/kedro/ipython/__init__.py\" target=\"_blank\"><span style=\"color: #7f7f7f; text-decoration-color: #7f7f7f\">__init__.py</span></a><span style=\"color: #7f7f7f; text-decoration-color: #7f7f7f\">:</span><a href=\"file:///home/guilherme/Projects/credit-risk-analysis/venv/lib/python3.10/site-packages/kedro/ipython/__init__.py#153\" target=\"_blank\"><span style=\"color: #7f7f7f; text-decoration-color: #7f7f7f\">153</span></a>\n",
       "</pre>\n"
      ],
      "text/plain": [
       "\u001b[2;36m                   \u001b[0m\u001b[2;36m \u001b[0m\u001b[34mINFO    \u001b[0m Registered line magic \u001b[32m'run_viz'\u001b[0m                                        \u001b]8;id=343012;file:///home/guilherme/Projects/credit-risk-analysis/venv/lib/python3.10/site-packages/kedro/ipython/__init__.py\u001b\\\u001b[2m__init__.py\u001b[0m\u001b]8;;\u001b\\\u001b[2m:\u001b[0m\u001b]8;id=109959;file:///home/guilherme/Projects/credit-risk-analysis/venv/lib/python3.10/site-packages/kedro/ipython/__init__.py#153\u001b\\\u001b[2m153\u001b[0m\u001b]8;;\u001b\\\n"
      ]
     },
     "metadata": {},
     "output_type": "display_data"
    }
   ],
   "source": [
    "%reload_ext kedro.ipython"
   ]
  },
  {
   "cell_type": "markdown",
   "metadata": {},
   "source": [
    "# Importando bibliotecas"
   ]
  },
  {
   "cell_type": "code",
   "execution_count": 2,
   "metadata": {},
   "outputs": [],
   "source": [
    "import pandas as pd\n",
    "import numpy as np\n",
    "import re\n",
    "\n",
    "pd.set_option('display.max_columns', None)"
   ]
  },
  {
   "cell_type": "markdown",
   "metadata": {},
   "source": [
    "# Funções úteis"
   ]
  },
  {
   "cell_type": "code",
   "execution_count": 3,
   "metadata": {},
   "outputs": [],
   "source": [
    "def verify(df):\n",
    "    print(df.shape)\n",
    "    display(df.head())\n",
    "    display(df.tail())\n",
    "\n",
    "def display_info_dataframe(df):\n",
    "    df_info = pd.concat([df.dtypes, df.isna().sum(), df.nunique()], axis=1)\n",
    "    df_info.columns = ['dtype', 'qtd_nulos', 'qtd_unicos']\n",
    "    display(df_info)\n",
    "\n",
    "def check_2DIG(x:str):\n",
    "  if x and re.match(r\"^[0-9]{2}$\", x):\n",
    "    return x\n",
    "  else:\n",
    "    return None"
   ]
  },
  {
   "cell_type": "markdown",
   "metadata": {},
   "source": [
    "# Lendo as bases"
   ]
  },
  {
   "cell_type": "code",
   "execution_count": 4,
   "metadata": {},
   "outputs": [
    {
     "data": {
      "text/html": [
       "<pre style=\"white-space:pre;overflow-x:auto;line-height:normal;font-family:Menlo,'DejaVu Sans Mono',consolas,'Courier New',monospace\"><span style=\"color: #7fbfbf; text-decoration-color: #7fbfbf\">                    </span><span style=\"color: #000080; text-decoration-color: #000080\">INFO    </span> Loading data from <span style=\"color: #ff8700; text-decoration-color: #ff8700\">pj_data</span> <span style=\"font-weight: bold\">(</span>CSVDataset<span style=\"font-weight: bold\">)</span><span style=\"color: #808000; text-decoration-color: #808000\">...</span>                          <a href=\"file:///home/guilherme/Projects/credit-risk-analysis/venv/lib/python3.10/site-packages/kedro/io/data_catalog.py\" target=\"_blank\"><span style=\"color: #7f7f7f; text-decoration-color: #7f7f7f\">data_catalog.py</span></a><span style=\"color: #7f7f7f; text-decoration-color: #7f7f7f\">:</span><a href=\"file:///home/guilherme/Projects/credit-risk-analysis/venv/lib/python3.10/site-packages/kedro/io/data_catalog.py#390\" target=\"_blank\"><span style=\"color: #7f7f7f; text-decoration-color: #7f7f7f\">390</span></a>\n",
       "</pre>\n"
      ],
      "text/plain": [
       "\u001b[2;36m                   \u001b[0m\u001b[2;36m \u001b[0m\u001b[34mINFO    \u001b[0m Loading data from \u001b[38;5;208mpj_data\u001b[0m \u001b[1m(\u001b[0mCSVDataset\u001b[1m)\u001b[0m\u001b[33m...\u001b[0m                          \u001b]8;id=200089;file:///home/guilherme/Projects/credit-risk-analysis/venv/lib/python3.10/site-packages/kedro/io/data_catalog.py\u001b\\\u001b[2mdata_catalog.py\u001b[0m\u001b]8;;\u001b\\\u001b[2m:\u001b[0m\u001b]8;id=512641;file:///home/guilherme/Projects/credit-risk-analysis/venv/lib/python3.10/site-packages/kedro/io/data_catalog.py#390\u001b\\\u001b[2m390\u001b[0m\u001b]8;;\u001b\\\n"
      ]
     },
     "metadata": {},
     "output_type": "display_data"
    },
    {
     "data": {
      "text/html": [
       "<pre style=\"white-space:pre;overflow-x:auto;line-height:normal;font-family:Menlo,'DejaVu Sans Mono',consolas,'Courier New',monospace\"><span style=\"color: #7fbfbf; text-decoration-color: #7fbfbf\">                    </span><span style=\"color: #808000; text-decoration-color: #808000\">WARNING </span> <span style=\"color: #800080; text-decoration-color: #800080\">/home/guilherme/Projects/credit-risk-analysis/venv/lib/python3.10/site</span> <a href=\"file:///usr/lib/python3.10/warnings.py\" target=\"_blank\"><span style=\"color: #7f7f7f; text-decoration-color: #7f7f7f\">warnings.py</span></a><span style=\"color: #7f7f7f; text-decoration-color: #7f7f7f\">:</span><a href=\"file:///usr/lib/python3.10/warnings.py#109\" target=\"_blank\"><span style=\"color: #7f7f7f; text-decoration-color: #7f7f7f\">109</span></a>\n",
       "<span style=\"color: #7fbfbf; text-decoration-color: #7fbfbf\">                    </span>         <span style=\"color: #800080; text-decoration-color: #800080\">-packages/kedro_datasets/pandas/</span><span style=\"color: #ff00ff; text-decoration-color: #ff00ff\">csv_dataset.py</span>:<span style=\"color: #008080; text-decoration-color: #008080; font-weight: bold\">172</span>: DtypeWarning:      <span style=\"color: #7f7f7f; text-decoration-color: #7f7f7f\">               </span>\n",
       "<span style=\"color: #7fbfbf; text-decoration-color: #7fbfbf\">                    </span>         Columns <span style=\"font-weight: bold\">(</span><span style=\"color: #008080; text-decoration-color: #008080; font-weight: bold\">13</span><span style=\"font-weight: bold\">)</span> have mixed types. Specify dtype option on import or set   <span style=\"color: #7f7f7f; text-decoration-color: #7f7f7f\">               </span>\n",
       "<span style=\"color: #7fbfbf; text-decoration-color: #7fbfbf\">                    </span>         <span style=\"color: #808000; text-decoration-color: #808000\">low_memory</span>=<span style=\"color: #ff0000; text-decoration-color: #ff0000; font-style: italic\">False</span>.                                                      <span style=\"color: #7f7f7f; text-decoration-color: #7f7f7f\">               </span>\n",
       "<span style=\"color: #7fbfbf; text-decoration-color: #7fbfbf\">                    </span>           return <span style=\"color: #800080; text-decoration-color: #800080; font-weight: bold\">pd.read_csv</span><span style=\"font-weight: bold\">(</span>load_path, **self._load_args<span style=\"font-weight: bold\">)</span>                     <span style=\"color: #7f7f7f; text-decoration-color: #7f7f7f\">               </span>\n",
       "<span style=\"color: #7fbfbf; text-decoration-color: #7fbfbf\">                    </span>                                                                                <span style=\"color: #7f7f7f; text-decoration-color: #7f7f7f\">               </span>\n",
       "</pre>\n"
      ],
      "text/plain": [
       "\u001b[2;36m                   \u001b[0m\u001b[2;36m \u001b[0m\u001b[33mWARNING \u001b[0m \u001b[35m/home/guilherme/Projects/credit-risk-analysis/venv/lib/python3.10/site\u001b[0m \u001b]8;id=701754;file:///usr/lib/python3.10/warnings.py\u001b\\\u001b[2mwarnings.py\u001b[0m\u001b]8;;\u001b\\\u001b[2m:\u001b[0m\u001b]8;id=128666;file:///usr/lib/python3.10/warnings.py#109\u001b\\\u001b[2m109\u001b[0m\u001b]8;;\u001b\\\n",
       "\u001b[2;36m                    \u001b[0m         \u001b[35m-packages/kedro_datasets/pandas/\u001b[0m\u001b[95mcsv_dataset.py\u001b[0m:\u001b[1;36m172\u001b[0m: DtypeWarning:      \u001b[2m               \u001b[0m\n",
       "\u001b[2;36m                    \u001b[0m         Columns \u001b[1m(\u001b[0m\u001b[1;36m13\u001b[0m\u001b[1m)\u001b[0m have mixed types. Specify dtype option on import or set   \u001b[2m               \u001b[0m\n",
       "\u001b[2;36m                    \u001b[0m         \u001b[33mlow_memory\u001b[0m=\u001b[3;91mFalse\u001b[0m.                                                      \u001b[2m               \u001b[0m\n",
       "\u001b[2;36m                    \u001b[0m           return \u001b[1;35mpd.read_csv\u001b[0m\u001b[1m(\u001b[0mload_path, **self._load_args\u001b[1m)\u001b[0m                     \u001b[2m               \u001b[0m\n",
       "\u001b[2;36m                    \u001b[0m                                                                                \u001b[2m               \u001b[0m\n"
      ]
     },
     "metadata": {},
     "output_type": "display_data"
    }
   ],
   "source": [
    "df_completo = catalog.load(\"pj_data\")"
   ]
  },
  {
   "cell_type": "code",
   "execution_count": 5,
   "metadata": {},
   "outputs": [
    {
     "name": "stdout",
     "output_type": "stream",
     "text": [
      "(77195, 16)\n"
     ]
    },
    {
     "data": {
      "text/html": [
       "<pre style=\"white-space:pre;overflow-x:auto;line-height:normal;font-family:Menlo,'DejaVu Sans Mono',consolas,'Courier New',monospace\"></pre>\n"
      ],
      "text/plain": []
     },
     "metadata": {},
     "output_type": "display_data"
    },
    {
     "data": {
      "text/html": [
       "<div>\n",
       "<style scoped>\n",
       "    .dataframe tbody tr th:only-of-type {\n",
       "        vertical-align: middle;\n",
       "    }\n",
       "\n",
       "    .dataframe tbody tr th {\n",
       "        vertical-align: top;\n",
       "    }\n",
       "\n",
       "    .dataframe thead th {\n",
       "        text-align: right;\n",
       "    }\n",
       "</style>\n",
       "<table border=\"1\" class=\"dataframe\">\n",
       "  <thead>\n",
       "    <tr style=\"text-align: right;\">\n",
       "      <th></th>\n",
       "      <th>ID_CLIENTE</th>\n",
       "      <th>SAFRA_REF</th>\n",
       "      <th>DATA_EMISSAO_DOCUMENTO</th>\n",
       "      <th>DATA_PAGAMENTO</th>\n",
       "      <th>DATA_VENCIMENTO</th>\n",
       "      <th>VALOR_A_PAGAR</th>\n",
       "      <th>TAXA</th>\n",
       "      <th>DATA_CADASTRO</th>\n",
       "      <th>DDD</th>\n",
       "      <th>FLAG_PF</th>\n",
       "      <th>SEGMENTO_INDUSTRIAL</th>\n",
       "      <th>DOMINIO_EMAIL</th>\n",
       "      <th>PORTE</th>\n",
       "      <th>CEP_2_DIG</th>\n",
       "      <th>RENDA_MES_ANTERIOR</th>\n",
       "      <th>NO_FUNCIONARIOS</th>\n",
       "    </tr>\n",
       "  </thead>\n",
       "  <tbody>\n",
       "    <tr>\n",
       "      <th>0</th>\n",
       "      <td>1661240395903230676</td>\n",
       "      <td>2018-08</td>\n",
       "      <td>2018-08-17</td>\n",
       "      <td>2018-09-06</td>\n",
       "      <td>2018-09-06</td>\n",
       "      <td>35516.41</td>\n",
       "      <td>6.99</td>\n",
       "      <td>2013-08-22</td>\n",
       "      <td>99</td>\n",
       "      <td>NaN</td>\n",
       "      <td>Serviços</td>\n",
       "      <td>YAHOO</td>\n",
       "      <td>PEQUENO</td>\n",
       "      <td>65</td>\n",
       "      <td>NaN</td>\n",
       "      <td>NaN</td>\n",
       "    </tr>\n",
       "    <tr>\n",
       "      <th>1</th>\n",
       "      <td>1661240395903230676</td>\n",
       "      <td>2018-08</td>\n",
       "      <td>2018-08-19</td>\n",
       "      <td>2018-09-11</td>\n",
       "      <td>2018-09-10</td>\n",
       "      <td>17758.21</td>\n",
       "      <td>6.99</td>\n",
       "      <td>2013-08-22</td>\n",
       "      <td>99</td>\n",
       "      <td>NaN</td>\n",
       "      <td>Serviços</td>\n",
       "      <td>YAHOO</td>\n",
       "      <td>PEQUENO</td>\n",
       "      <td>65</td>\n",
       "      <td>NaN</td>\n",
       "      <td>NaN</td>\n",
       "    </tr>\n",
       "    <tr>\n",
       "      <th>2</th>\n",
       "      <td>1661240395903230676</td>\n",
       "      <td>2018-08</td>\n",
       "      <td>2018-08-26</td>\n",
       "      <td>2018-09-18</td>\n",
       "      <td>2018-09-17</td>\n",
       "      <td>17431.96</td>\n",
       "      <td>6.99</td>\n",
       "      <td>2013-08-22</td>\n",
       "      <td>99</td>\n",
       "      <td>NaN</td>\n",
       "      <td>Serviços</td>\n",
       "      <td>YAHOO</td>\n",
       "      <td>PEQUENO</td>\n",
       "      <td>65</td>\n",
       "      <td>NaN</td>\n",
       "      <td>NaN</td>\n",
       "    </tr>\n",
       "    <tr>\n",
       "      <th>3</th>\n",
       "      <td>1661240395903230676</td>\n",
       "      <td>2018-08</td>\n",
       "      <td>2018-08-30</td>\n",
       "      <td>2018-10-11</td>\n",
       "      <td>2018-10-05</td>\n",
       "      <td>1341.00</td>\n",
       "      <td>6.99</td>\n",
       "      <td>2013-08-22</td>\n",
       "      <td>99</td>\n",
       "      <td>NaN</td>\n",
       "      <td>Serviços</td>\n",
       "      <td>YAHOO</td>\n",
       "      <td>PEQUENO</td>\n",
       "      <td>65</td>\n",
       "      <td>NaN</td>\n",
       "      <td>NaN</td>\n",
       "    </tr>\n",
       "    <tr>\n",
       "      <th>4</th>\n",
       "      <td>1661240395903230676</td>\n",
       "      <td>2018-08</td>\n",
       "      <td>2018-08-31</td>\n",
       "      <td>2018-09-20</td>\n",
       "      <td>2018-09-20</td>\n",
       "      <td>21309.85</td>\n",
       "      <td>6.99</td>\n",
       "      <td>2013-08-22</td>\n",
       "      <td>99</td>\n",
       "      <td>NaN</td>\n",
       "      <td>Serviços</td>\n",
       "      <td>YAHOO</td>\n",
       "      <td>PEQUENO</td>\n",
       "      <td>65</td>\n",
       "      <td>NaN</td>\n",
       "      <td>NaN</td>\n",
       "    </tr>\n",
       "  </tbody>\n",
       "</table>\n",
       "</div>"
      ],
      "text/plain": [
       "\n",
       "            ID_CLIENTE SAFRA_REF DATA_EMISSAO_DOCUMENTO DATA_PAGAMENTO  \\\n",
       "\u001b[1;36m0\u001b[0m  \u001b[1;36m1661240395903230676\u001b[0m   \u001b[1;36m2018\u001b[0m-\u001b[1;36m08\u001b[0m             \u001b[1;36m2018\u001b[0m-\u001b[1;36m08\u001b[0m-\u001b[1;36m17\u001b[0m     \u001b[1;36m2018\u001b[0m-\u001b[1;36m09\u001b[0m-\u001b[1;36m06\u001b[0m   \n",
       "\u001b[1;36m1\u001b[0m  \u001b[1;36m1661240395903230676\u001b[0m   \u001b[1;36m2018\u001b[0m-\u001b[1;36m08\u001b[0m             \u001b[1;36m2018\u001b[0m-\u001b[1;36m08\u001b[0m-\u001b[1;36m19\u001b[0m     \u001b[1;36m2018\u001b[0m-\u001b[1;36m09\u001b[0m-\u001b[1;36m11\u001b[0m   \n",
       "\u001b[1;36m2\u001b[0m  \u001b[1;36m1661240395903230676\u001b[0m   \u001b[1;36m2018\u001b[0m-\u001b[1;36m08\u001b[0m             \u001b[1;36m2018\u001b[0m-\u001b[1;36m08\u001b[0m-\u001b[1;36m26\u001b[0m     \u001b[1;36m2018\u001b[0m-\u001b[1;36m09\u001b[0m-\u001b[1;36m18\u001b[0m   \n",
       "\u001b[1;36m3\u001b[0m  \u001b[1;36m1661240395903230676\u001b[0m   \u001b[1;36m2018\u001b[0m-\u001b[1;36m08\u001b[0m             \u001b[1;36m2018\u001b[0m-\u001b[1;36m08\u001b[0m-\u001b[1;36m30\u001b[0m     \u001b[1;36m2018\u001b[0m-\u001b[1;36m10\u001b[0m-\u001b[1;36m11\u001b[0m   \n",
       "\u001b[1;36m4\u001b[0m  \u001b[1;36m1661240395903230676\u001b[0m   \u001b[1;36m2018\u001b[0m-\u001b[1;36m08\u001b[0m             \u001b[1;36m2018\u001b[0m-\u001b[1;36m08\u001b[0m-\u001b[1;36m31\u001b[0m     \u001b[1;36m2018\u001b[0m-\u001b[1;36m09\u001b[0m-\u001b[1;36m20\u001b[0m   \n",
       "\n",
       "  DATA_VENCIMENTO  VALOR_A_PAGAR  TAXA DATA_CADASTRO DDD  FLAG_PF  \\\n",
       "\u001b[1;36m0\u001b[0m      \u001b[1;36m2018\u001b[0m-\u001b[1;36m09\u001b[0m-\u001b[1;36m06\u001b[0m       \u001b[1;36m35516.41\u001b[0m  \u001b[1;36m6.99\u001b[0m    \u001b[1;36m2013\u001b[0m-\u001b[1;36m08\u001b[0m-\u001b[1;36m22\u001b[0m  \u001b[1;36m99\u001b[0m      NaN   \n",
       "\u001b[1;36m1\u001b[0m      \u001b[1;36m2018\u001b[0m-\u001b[1;36m09\u001b[0m-\u001b[1;36m10\u001b[0m       \u001b[1;36m17758.21\u001b[0m  \u001b[1;36m6.99\u001b[0m    \u001b[1;36m2013\u001b[0m-\u001b[1;36m08\u001b[0m-\u001b[1;36m22\u001b[0m  \u001b[1;36m99\u001b[0m      NaN   \n",
       "\u001b[1;36m2\u001b[0m      \u001b[1;36m2018\u001b[0m-\u001b[1;36m09\u001b[0m-\u001b[1;36m17\u001b[0m       \u001b[1;36m17431.96\u001b[0m  \u001b[1;36m6.99\u001b[0m    \u001b[1;36m2013\u001b[0m-\u001b[1;36m08\u001b[0m-\u001b[1;36m22\u001b[0m  \u001b[1;36m99\u001b[0m      NaN   \n",
       "\u001b[1;36m3\u001b[0m      \u001b[1;36m2018\u001b[0m-\u001b[1;36m10\u001b[0m-\u001b[1;36m05\u001b[0m        \u001b[1;36m1341.00\u001b[0m  \u001b[1;36m6.99\u001b[0m    \u001b[1;36m2013\u001b[0m-\u001b[1;36m08\u001b[0m-\u001b[1;36m22\u001b[0m  \u001b[1;36m99\u001b[0m      NaN   \n",
       "\u001b[1;36m4\u001b[0m      \u001b[1;36m2018\u001b[0m-\u001b[1;36m09\u001b[0m-\u001b[1;36m20\u001b[0m       \u001b[1;36m21309.85\u001b[0m  \u001b[1;36m6.99\u001b[0m    \u001b[1;36m2013\u001b[0m-\u001b[1;36m08\u001b[0m-\u001b[1;36m22\u001b[0m  \u001b[1;36m99\u001b[0m      NaN   \n",
       "\n",
       "  SEGMENTO_INDUSTRIAL DOMINIO_EMAIL    PORTE CEP_2_DIG  RENDA_MES_ANTERIOR  \\\n",
       "\u001b[1;36m0\u001b[0m            Serviços         YAHOO  PEQUENO        \u001b[1;36m65\u001b[0m                 NaN   \n",
       "\u001b[1;36m1\u001b[0m            Serviços         YAHOO  PEQUENO        \u001b[1;36m65\u001b[0m                 NaN   \n",
       "\u001b[1;36m2\u001b[0m            Serviços         YAHOO  PEQUENO        \u001b[1;36m65\u001b[0m                 NaN   \n",
       "\u001b[1;36m3\u001b[0m            Serviços         YAHOO  PEQUENO        \u001b[1;36m65\u001b[0m                 NaN   \n",
       "\u001b[1;36m4\u001b[0m            Serviços         YAHOO  PEQUENO        \u001b[1;36m65\u001b[0m                 NaN   \n",
       "\n",
       "   NO_FUNCIONARIOS  \n",
       "\u001b[1;36m0\u001b[0m              NaN  \n",
       "\u001b[1;36m1\u001b[0m              NaN  \n",
       "\u001b[1;36m2\u001b[0m              NaN  \n",
       "\u001b[1;36m3\u001b[0m              NaN  \n",
       "\u001b[1;36m4\u001b[0m              NaN  "
      ]
     },
     "metadata": {},
     "output_type": "display_data"
    },
    {
     "data": {
      "text/html": [
       "<pre style=\"white-space:pre;overflow-x:auto;line-height:normal;font-family:Menlo,'DejaVu Sans Mono',consolas,'Courier New',monospace\"></pre>\n"
      ],
      "text/plain": []
     },
     "metadata": {},
     "output_type": "display_data"
    },
    {
     "data": {
      "text/html": [
       "<div>\n",
       "<style scoped>\n",
       "    .dataframe tbody tr th:only-of-type {\n",
       "        vertical-align: middle;\n",
       "    }\n",
       "\n",
       "    .dataframe tbody tr th {\n",
       "        vertical-align: top;\n",
       "    }\n",
       "\n",
       "    .dataframe thead th {\n",
       "        text-align: right;\n",
       "    }\n",
       "</style>\n",
       "<table border=\"1\" class=\"dataframe\">\n",
       "  <thead>\n",
       "    <tr style=\"text-align: right;\">\n",
       "      <th></th>\n",
       "      <th>ID_CLIENTE</th>\n",
       "      <th>SAFRA_REF</th>\n",
       "      <th>DATA_EMISSAO_DOCUMENTO</th>\n",
       "      <th>DATA_PAGAMENTO</th>\n",
       "      <th>DATA_VENCIMENTO</th>\n",
       "      <th>VALOR_A_PAGAR</th>\n",
       "      <th>TAXA</th>\n",
       "      <th>DATA_CADASTRO</th>\n",
       "      <th>DDD</th>\n",
       "      <th>FLAG_PF</th>\n",
       "      <th>SEGMENTO_INDUSTRIAL</th>\n",
       "      <th>DOMINIO_EMAIL</th>\n",
       "      <th>PORTE</th>\n",
       "      <th>CEP_2_DIG</th>\n",
       "      <th>RENDA_MES_ANTERIOR</th>\n",
       "      <th>NO_FUNCIONARIOS</th>\n",
       "    </tr>\n",
       "  </thead>\n",
       "  <tbody>\n",
       "    <tr>\n",
       "      <th>77190</th>\n",
       "      <td>2951563549197799278</td>\n",
       "      <td>2021-06</td>\n",
       "      <td>2021-06-30</td>\n",
       "      <td>2021-07-16</td>\n",
       "      <td>2021-07-16</td>\n",
       "      <td>89980.00</td>\n",
       "      <td>5.99</td>\n",
       "      <td>2000-08-15</td>\n",
       "      <td>11</td>\n",
       "      <td>NaN</td>\n",
       "      <td>Comércio</td>\n",
       "      <td>AOL</td>\n",
       "      <td>PEQUENO</td>\n",
       "      <td>13</td>\n",
       "      <td>280343.0</td>\n",
       "      <td>161.0</td>\n",
       "    </tr>\n",
       "    <tr>\n",
       "      <th>77191</th>\n",
       "      <td>5220206408301580591</td>\n",
       "      <td>2021-06</td>\n",
       "      <td>2021-06-30</td>\n",
       "      <td>2021-08-16</td>\n",
       "      <td>2021-08-16</td>\n",
       "      <td>42239.00</td>\n",
       "      <td>5.99</td>\n",
       "      <td>2021-04-08</td>\n",
       "      <td>19</td>\n",
       "      <td>NaN</td>\n",
       "      <td>Indústria</td>\n",
       "      <td>GMAIL</td>\n",
       "      <td>GRANDE</td>\n",
       "      <td>25</td>\n",
       "      <td>235315.0</td>\n",
       "      <td>87.0</td>\n",
       "    </tr>\n",
       "    <tr>\n",
       "      <th>77192</th>\n",
       "      <td>5860276371789140450</td>\n",
       "      <td>2021-06</td>\n",
       "      <td>2021-06-30</td>\n",
       "      <td>2021-07-16</td>\n",
       "      <td>2021-07-16</td>\n",
       "      <td>20921.50</td>\n",
       "      <td>5.99</td>\n",
       "      <td>2011-02-15</td>\n",
       "      <td>91</td>\n",
       "      <td>NaN</td>\n",
       "      <td>Serviços</td>\n",
       "      <td>HOTMAIL</td>\n",
       "      <td>GRANDE</td>\n",
       "      <td>67</td>\n",
       "      <td>100006.0</td>\n",
       "      <td>126.0</td>\n",
       "    </tr>\n",
       "    <tr>\n",
       "      <th>77193</th>\n",
       "      <td>2814790209436551216</td>\n",
       "      <td>2021-06</td>\n",
       "      <td>2021-06-30</td>\n",
       "      <td>2021-07-16</td>\n",
       "      <td>2021-07-16</td>\n",
       "      <td>90231.05</td>\n",
       "      <td>6.99</td>\n",
       "      <td>2021-05-13</td>\n",
       "      <td>(1</td>\n",
       "      <td>NaN</td>\n",
       "      <td>Serviços</td>\n",
       "      <td>YAHOO</td>\n",
       "      <td>MEDIO</td>\n",
       "      <td>14</td>\n",
       "      <td>NaN</td>\n",
       "      <td>NaN</td>\n",
       "    </tr>\n",
       "    <tr>\n",
       "      <th>77194</th>\n",
       "      <td>8343941262792249232</td>\n",
       "      <td>2021-06</td>\n",
       "      <td>2021-06-30</td>\n",
       "      <td>2021-08-16</td>\n",
       "      <td>2021-08-16</td>\n",
       "      <td>20736.51</td>\n",
       "      <td>4.99</td>\n",
       "      <td>2019-05-28</td>\n",
       "      <td>11</td>\n",
       "      <td>NaN</td>\n",
       "      <td>Indústria</td>\n",
       "      <td>HOTMAIL</td>\n",
       "      <td>GRANDE</td>\n",
       "      <td>31</td>\n",
       "      <td>97599.0</td>\n",
       "      <td>116.0</td>\n",
       "    </tr>\n",
       "  </tbody>\n",
       "</table>\n",
       "</div>"
      ],
      "text/plain": [
       "\n",
       "                ID_CLIENTE SAFRA_REF DATA_EMISSAO_DOCUMENTO DATA_PAGAMENTO  \\\n",
       "\u001b[1;36m77190\u001b[0m  \u001b[1;36m2951563549197799278\u001b[0m   \u001b[1;36m2021\u001b[0m-\u001b[1;36m06\u001b[0m             \u001b[1;36m2021\u001b[0m-\u001b[1;36m06\u001b[0m-\u001b[1;36m30\u001b[0m     \u001b[1;36m2021\u001b[0m-\u001b[1;36m07\u001b[0m-\u001b[1;36m16\u001b[0m   \n",
       "\u001b[1;36m77191\u001b[0m  \u001b[1;36m5220206408301580591\u001b[0m   \u001b[1;36m2021\u001b[0m-\u001b[1;36m06\u001b[0m             \u001b[1;36m2021\u001b[0m-\u001b[1;36m06\u001b[0m-\u001b[1;36m30\u001b[0m     \u001b[1;36m2021\u001b[0m-\u001b[1;36m08\u001b[0m-\u001b[1;36m16\u001b[0m   \n",
       "\u001b[1;36m77192\u001b[0m  \u001b[1;36m5860276371789140450\u001b[0m   \u001b[1;36m2021\u001b[0m-\u001b[1;36m06\u001b[0m             \u001b[1;36m2021\u001b[0m-\u001b[1;36m06\u001b[0m-\u001b[1;36m30\u001b[0m     \u001b[1;36m2021\u001b[0m-\u001b[1;36m07\u001b[0m-\u001b[1;36m16\u001b[0m   \n",
       "\u001b[1;36m77193\u001b[0m  \u001b[1;36m2814790209436551216\u001b[0m   \u001b[1;36m2021\u001b[0m-\u001b[1;36m06\u001b[0m             \u001b[1;36m2021\u001b[0m-\u001b[1;36m06\u001b[0m-\u001b[1;36m30\u001b[0m     \u001b[1;36m2021\u001b[0m-\u001b[1;36m07\u001b[0m-\u001b[1;36m16\u001b[0m   \n",
       "\u001b[1;36m77194\u001b[0m  \u001b[1;36m8343941262792249232\u001b[0m   \u001b[1;36m2021\u001b[0m-\u001b[1;36m06\u001b[0m             \u001b[1;36m2021\u001b[0m-\u001b[1;36m06\u001b[0m-\u001b[1;36m30\u001b[0m     \u001b[1;36m2021\u001b[0m-\u001b[1;36m08\u001b[0m-\u001b[1;36m16\u001b[0m   \n",
       "\n",
       "      DATA_VENCIMENTO  VALOR_A_PAGAR  TAXA DATA_CADASTRO DDD  FLAG_PF  \\\n",
       "\u001b[1;36m77190\u001b[0m      \u001b[1;36m2021\u001b[0m-\u001b[1;36m07\u001b[0m-\u001b[1;36m16\u001b[0m       \u001b[1;36m89980.00\u001b[0m  \u001b[1;36m5.99\u001b[0m    \u001b[1;36m2000\u001b[0m-\u001b[1;36m08\u001b[0m-\u001b[1;36m15\u001b[0m  \u001b[1;36m11\u001b[0m      NaN   \n",
       "\u001b[1;36m77191\u001b[0m      \u001b[1;36m2021\u001b[0m-\u001b[1;36m08\u001b[0m-\u001b[1;36m16\u001b[0m       \u001b[1;36m42239.00\u001b[0m  \u001b[1;36m5.99\u001b[0m    \u001b[1;36m2021\u001b[0m-\u001b[1;36m04\u001b[0m-\u001b[1;36m08\u001b[0m  \u001b[1;36m19\u001b[0m      NaN   \n",
       "\u001b[1;36m77192\u001b[0m      \u001b[1;36m2021\u001b[0m-\u001b[1;36m07\u001b[0m-\u001b[1;36m16\u001b[0m       \u001b[1;36m20921.50\u001b[0m  \u001b[1;36m5.99\u001b[0m    \u001b[1;36m2011\u001b[0m-\u001b[1;36m02\u001b[0m-\u001b[1;36m15\u001b[0m  \u001b[1;36m91\u001b[0m      NaN   \n",
       "\u001b[1;36m77193\u001b[0m      \u001b[1;36m2021\u001b[0m-\u001b[1;36m07\u001b[0m-\u001b[1;36m16\u001b[0m       \u001b[1;36m90231.05\u001b[0m  \u001b[1;36m6.99\u001b[0m    \u001b[1;36m2021\u001b[0m-\u001b[1;36m05\u001b[0m-\u001b[1;36m13\u001b[0m  \u001b[1m(\u001b[0m\u001b[1;36m1\u001b[0m      NaN   \n",
       "\u001b[1;36m77194\u001b[0m      \u001b[1;36m2021\u001b[0m-\u001b[1;36m08\u001b[0m-\u001b[1;36m16\u001b[0m       \u001b[1;36m20736.51\u001b[0m  \u001b[1;36m4.99\u001b[0m    \u001b[1;36m2019\u001b[0m-\u001b[1;36m05\u001b[0m-\u001b[1;36m28\u001b[0m  \u001b[1;36m11\u001b[0m      NaN   \n",
       "\n",
       "      SEGMENTO_INDUSTRIAL DOMINIO_EMAIL    PORTE CEP_2_DIG  \\\n",
       "\u001b[1;36m77190\u001b[0m            Comércio           AOL  PEQUENO        \u001b[1;36m13\u001b[0m   \n",
       "\u001b[1;36m77191\u001b[0m           Indústria         GMAIL   GRANDE        \u001b[1;36m25\u001b[0m   \n",
       "\u001b[1;36m77192\u001b[0m            Serviços       HOTMAIL   GRANDE        \u001b[1;36m67\u001b[0m   \n",
       "\u001b[1;36m77193\u001b[0m            Serviços         YAHOO    MEDIO        \u001b[1;36m14\u001b[0m   \n",
       "\u001b[1;36m77194\u001b[0m           Indústria       HOTMAIL   GRANDE        \u001b[1;36m31\u001b[0m   \n",
       "\n",
       "       RENDA_MES_ANTERIOR  NO_FUNCIONARIOS  \n",
       "\u001b[1;36m77190\u001b[0m            \u001b[1;36m280343.0\u001b[0m            \u001b[1;36m161.0\u001b[0m  \n",
       "\u001b[1;36m77191\u001b[0m            \u001b[1;36m235315.0\u001b[0m             \u001b[1;36m87.0\u001b[0m  \n",
       "\u001b[1;36m77192\u001b[0m            \u001b[1;36m100006.0\u001b[0m            \u001b[1;36m126.0\u001b[0m  \n",
       "\u001b[1;36m77193\u001b[0m                 NaN              NaN  \n",
       "\u001b[1;36m77194\u001b[0m             \u001b[1;36m97599.0\u001b[0m            \u001b[1;36m116.0\u001b[0m  "
      ]
     },
     "metadata": {},
     "output_type": "display_data"
    }
   ],
   "source": [
    "verify(df_completo)"
   ]
  },
  {
   "cell_type": "code",
   "execution_count": 6,
   "metadata": {},
   "outputs": [
    {
     "data": {
      "text/html": [
       "<pre style=\"white-space:pre;overflow-x:auto;line-height:normal;font-family:Menlo,'DejaVu Sans Mono',consolas,'Courier New',monospace\"></pre>\n"
      ],
      "text/plain": []
     },
     "metadata": {},
     "output_type": "display_data"
    },
    {
     "data": {
      "text/html": [
       "<div>\n",
       "<style scoped>\n",
       "    .dataframe tbody tr th:only-of-type {\n",
       "        vertical-align: middle;\n",
       "    }\n",
       "\n",
       "    .dataframe tbody tr th {\n",
       "        vertical-align: top;\n",
       "    }\n",
       "\n",
       "    .dataframe thead th {\n",
       "        text-align: right;\n",
       "    }\n",
       "</style>\n",
       "<table border=\"1\" class=\"dataframe\">\n",
       "  <thead>\n",
       "    <tr style=\"text-align: right;\">\n",
       "      <th></th>\n",
       "      <th>dtype</th>\n",
       "      <th>qtd_nulos</th>\n",
       "      <th>qtd_unicos</th>\n",
       "    </tr>\n",
       "  </thead>\n",
       "  <tbody>\n",
       "    <tr>\n",
       "      <th>ID_CLIENTE</th>\n",
       "      <td>int64</td>\n",
       "      <td>0</td>\n",
       "      <td>1188</td>\n",
       "    </tr>\n",
       "    <tr>\n",
       "      <th>SAFRA_REF</th>\n",
       "      <td>object</td>\n",
       "      <td>0</td>\n",
       "      <td>35</td>\n",
       "    </tr>\n",
       "    <tr>\n",
       "      <th>DATA_EMISSAO_DOCUMENTO</th>\n",
       "      <td>object</td>\n",
       "      <td>0</td>\n",
       "      <td>1040</td>\n",
       "    </tr>\n",
       "    <tr>\n",
       "      <th>DATA_PAGAMENTO</th>\n",
       "      <td>object</td>\n",
       "      <td>0</td>\n",
       "      <td>920</td>\n",
       "    </tr>\n",
       "    <tr>\n",
       "      <th>DATA_VENCIMENTO</th>\n",
       "      <td>object</td>\n",
       "      <td>0</td>\n",
       "      <td>955</td>\n",
       "    </tr>\n",
       "    <tr>\n",
       "      <th>VALOR_A_PAGAR</th>\n",
       "      <td>float64</td>\n",
       "      <td>0</td>\n",
       "      <td>68334</td>\n",
       "    </tr>\n",
       "    <tr>\n",
       "      <th>TAXA</th>\n",
       "      <td>float64</td>\n",
       "      <td>0</td>\n",
       "      <td>5</td>\n",
       "    </tr>\n",
       "    <tr>\n",
       "      <th>DATA_CADASTRO</th>\n",
       "      <td>object</td>\n",
       "      <td>0</td>\n",
       "      <td>695</td>\n",
       "    </tr>\n",
       "    <tr>\n",
       "      <th>DDD</th>\n",
       "      <td>object</td>\n",
       "      <td>7333</td>\n",
       "      <td>78</td>\n",
       "    </tr>\n",
       "    <tr>\n",
       "      <th>FLAG_PF</th>\n",
       "      <td>float64</td>\n",
       "      <td>77195</td>\n",
       "      <td>0</td>\n",
       "    </tr>\n",
       "    <tr>\n",
       "      <th>SEGMENTO_INDUSTRIAL</th>\n",
       "      <td>object</td>\n",
       "      <td>1198</td>\n",
       "      <td>3</td>\n",
       "    </tr>\n",
       "    <tr>\n",
       "      <th>DOMINIO_EMAIL</th>\n",
       "      <td>object</td>\n",
       "      <td>887</td>\n",
       "      <td>6</td>\n",
       "    </tr>\n",
       "    <tr>\n",
       "      <th>PORTE</th>\n",
       "      <td>object</td>\n",
       "      <td>2475</td>\n",
       "      <td>3</td>\n",
       "    </tr>\n",
       "    <tr>\n",
       "      <th>CEP_2_DIG</th>\n",
       "      <td>object</td>\n",
       "      <td>0</td>\n",
       "      <td>179</td>\n",
       "    </tr>\n",
       "    <tr>\n",
       "      <th>RENDA_MES_ANTERIOR</th>\n",
       "      <td>float64</td>\n",
       "      <td>3874</td>\n",
       "      <td>18128</td>\n",
       "    </tr>\n",
       "    <tr>\n",
       "      <th>NO_FUNCIONARIOS</th>\n",
       "      <td>float64</td>\n",
       "      <td>3874</td>\n",
       "      <td>127</td>\n",
       "    </tr>\n",
       "  </tbody>\n",
       "</table>\n",
       "</div>"
      ],
      "text/plain": [
       "\n",
       "                          dtype  qtd_nulos  qtd_unicos\n",
       "ID_CLIENTE                int64          \u001b[1;36m0\u001b[0m        \u001b[1;36m1188\u001b[0m\n",
       "SAFRA_REF                object          \u001b[1;36m0\u001b[0m          \u001b[1;36m35\u001b[0m\n",
       "DATA_EMISSAO_DOCUMENTO   object          \u001b[1;36m0\u001b[0m        \u001b[1;36m1040\u001b[0m\n",
       "DATA_PAGAMENTO           object          \u001b[1;36m0\u001b[0m         \u001b[1;36m920\u001b[0m\n",
       "DATA_VENCIMENTO          object          \u001b[1;36m0\u001b[0m         \u001b[1;36m955\u001b[0m\n",
       "VALOR_A_PAGAR           float64          \u001b[1;36m0\u001b[0m       \u001b[1;36m68334\u001b[0m\n",
       "TAXA                    float64          \u001b[1;36m0\u001b[0m           \u001b[1;36m5\u001b[0m\n",
       "DATA_CADASTRO            object          \u001b[1;36m0\u001b[0m         \u001b[1;36m695\u001b[0m\n",
       "DDD                      object       \u001b[1;36m7333\u001b[0m          \u001b[1;36m78\u001b[0m\n",
       "FLAG_PF                 float64      \u001b[1;36m77195\u001b[0m           \u001b[1;36m0\u001b[0m\n",
       "SEGMENTO_INDUSTRIAL      object       \u001b[1;36m1198\u001b[0m           \u001b[1;36m3\u001b[0m\n",
       "DOMINIO_EMAIL            object        \u001b[1;36m887\u001b[0m           \u001b[1;36m6\u001b[0m\n",
       "PORTE                    object       \u001b[1;36m2475\u001b[0m           \u001b[1;36m3\u001b[0m\n",
       "CEP_2_DIG                object          \u001b[1;36m0\u001b[0m         \u001b[1;36m179\u001b[0m\n",
       "RENDA_MES_ANTERIOR      float64       \u001b[1;36m3874\u001b[0m       \u001b[1;36m18128\u001b[0m\n",
       "NO_FUNCIONARIOS         float64       \u001b[1;36m3874\u001b[0m         \u001b[1;36m127\u001b[0m"
      ]
     },
     "metadata": {},
     "output_type": "display_data"
    }
   ],
   "source": [
    "display_info_dataframe(df_completo)"
   ]
  },
  {
   "cell_type": "markdown",
   "metadata": {},
   "source": [
    "# Preparação/Tratamento da base"
   ]
  },
  {
   "cell_type": "code",
   "execution_count": 7,
   "metadata": {},
   "outputs": [],
   "source": [
    "useful_tex = ['DDD', 'SEGMENTO_INDUSTRIAL', 'DOMINIO_EMAIL', 'PORTE', 'CEP_2_DIG']"
   ]
  },
  {
   "cell_type": "markdown",
   "metadata": {},
   "source": [
    "## DDD"
   ]
  },
  {
   "cell_type": "code",
   "execution_count": 8,
   "metadata": {},
   "outputs": [],
   "source": [
    "df_completo['DDD'] = df_completo['DDD'].astype(str)"
   ]
  },
  {
   "cell_type": "code",
   "execution_count": 9,
   "metadata": {},
   "outputs": [
    {
     "data": {
      "text/html": [
       "<pre style=\"white-space:pre;overflow-x:auto;line-height:normal;font-family:Menlo,'DejaVu Sans Mono',consolas,'Courier New',monospace\"></pre>\n"
      ],
      "text/plain": []
     },
     "metadata": {},
     "output_type": "display_data"
    },
    {
     "data": {
      "text/plain": [
       "\n",
       "\u001b[1;35marray\u001b[0m\u001b[1m(\u001b[0m\u001b[1m[\u001b[0m\u001b[32m'99'\u001b[0m, \u001b[32m'31'\u001b[0m, \u001b[32m'75'\u001b[0m, \u001b[32m'49'\u001b[0m, \u001b[32m'88'\u001b[0m, \u001b[32m'18'\u001b[0m, \u001b[32m'67'\u001b[0m, \u001b[32m'21'\u001b[0m, \u001b[32m'11'\u001b[0m, \u001b[32m'44'\u001b[0m, \u001b[32m'nan'\u001b[0m,\n",
       "       \u001b[32m'19'\u001b[0m, \u001b[32m'14'\u001b[0m, \u001b[32m'16'\u001b[0m, \u001b[32m'85'\u001b[0m, \u001b[32m'41'\u001b[0m, \u001b[32m'51'\u001b[0m, \u001b[32m'12'\u001b[0m, \u001b[32m'62'\u001b[0m, \u001b[32m'43'\u001b[0m, \u001b[32m'91'\u001b[0m, \u001b[32m'42'\u001b[0m,\n",
       "       \u001b[32m'61'\u001b[0m, \u001b[32m'33'\u001b[0m, \u001b[32m'48'\u001b[0m, \u001b[32m'71'\u001b[0m, \u001b[32m'65'\u001b[0m, \u001b[32m'38'\u001b[0m, \u001b[32m'24'\u001b[0m, \u001b[32m'\u001b[0m\u001b[32m(\u001b[0m\u001b[32m3'\u001b[0m, \u001b[32m'47'\u001b[0m, \u001b[32m'28'\u001b[0m, \u001b[32m'\u001b[0m\u001b[32m(\u001b[0m\u001b[32m2'\u001b[0m,\n",
       "       \u001b[32m'81'\u001b[0m, \u001b[32m'35'\u001b[0m, \u001b[32m'13'\u001b[0m, \u001b[32m'86'\u001b[0m, \u001b[32m'94'\u001b[0m, \u001b[32m'45'\u001b[0m, \u001b[32m'17'\u001b[0m, \u001b[32m'55'\u001b[0m, \u001b[32m'64'\u001b[0m, \u001b[32m'69'\u001b[0m, \u001b[32m'32'\u001b[0m,\n",
       "       \u001b[32m'\u001b[0m\u001b[32m(\u001b[0m\u001b[32m6'\u001b[0m, \u001b[32m'27'\u001b[0m, \u001b[32m'66'\u001b[0m, \u001b[32m'63'\u001b[0m, \u001b[32m'46'\u001b[0m, \u001b[32m'\u001b[0m\u001b[32m(\u001b[0m\u001b[32m1'\u001b[0m, \u001b[32m'54'\u001b[0m, \u001b[32m'77'\u001b[0m, \u001b[32m'34'\u001b[0m, \u001b[32m'74'\u001b[0m, \u001b[32m'37'\u001b[0m,\n",
       "       \u001b[32m'53'\u001b[0m, \u001b[32m'56'\u001b[0m, \u001b[32m'95'\u001b[0m, \u001b[32m'22'\u001b[0m, \u001b[32m'73'\u001b[0m, \u001b[32m'\u001b[0m\u001b[32m(\u001b[0m\u001b[32m9'\u001b[0m, \u001b[32m'\u001b[0m\u001b[32m(\u001b[0m\u001b[32m4'\u001b[0m, \u001b[32m'52'\u001b[0m, \u001b[32m'87'\u001b[0m, \u001b[32m'98'\u001b[0m, \u001b[32m'\u001b[0m\u001b[32m(\u001b[0m\u001b[32m8'\u001b[0m,\n",
       "       \u001b[32m'92'\u001b[0m, \u001b[32m'82'\u001b[0m, \u001b[32m'79'\u001b[0m, \u001b[32m'93'\u001b[0m, \u001b[32m'83'\u001b[0m, \u001b[32m'00'\u001b[0m, \u001b[32m'\u001b[0m\u001b[32m(\u001b[0m\u001b[32m5'\u001b[0m, \u001b[32m'15'\u001b[0m, \u001b[32m'02'\u001b[0m, \u001b[32m'84'\u001b[0m, \u001b[32m'\u001b[0m\u001b[32m(\u001b[0m\u001b[32m0'\u001b[0m,\n",
       "       \u001b[32m'04'\u001b[0m, \u001b[32m'07'\u001b[0m\u001b[1m]\u001b[0m, \u001b[33mdtype\u001b[0m=\u001b[35mobject\u001b[0m\u001b[1m)\u001b[0m"
      ]
     },
     "execution_count": 9,
     "metadata": {},
     "output_type": "execute_result"
    }
   ],
   "source": [
    "df_completo['DDD'].unique()"
   ]
  },
  {
   "cell_type": "code",
   "execution_count": 10,
   "metadata": {},
   "outputs": [],
   "source": [
    "df_completo['DDD'] = df_completo['DDD'].apply(check_2DIG)"
   ]
  },
  {
   "cell_type": "code",
   "execution_count": 11,
   "metadata": {},
   "outputs": [
    {
     "data": {
      "text/html": [
       "<pre style=\"white-space:pre;overflow-x:auto;line-height:normal;font-family:Menlo,'DejaVu Sans Mono',consolas,'Courier New',monospace\"></pre>\n"
      ],
      "text/plain": []
     },
     "metadata": {},
     "output_type": "display_data"
    },
    {
     "data": {
      "text/plain": [
       "\n",
       "\u001b[1;35marray\u001b[0m\u001b[1m(\u001b[0m\u001b[1m[\u001b[0m\u001b[32m'99'\u001b[0m, \u001b[32m'31'\u001b[0m, \u001b[32m'75'\u001b[0m, \u001b[32m'49'\u001b[0m, \u001b[32m'88'\u001b[0m, \u001b[32m'18'\u001b[0m, \u001b[32m'67'\u001b[0m, \u001b[32m'21'\u001b[0m, \u001b[32m'11'\u001b[0m, \u001b[32m'44'\u001b[0m, \u001b[3;35mNone\u001b[0m,\n",
       "       \u001b[32m'19'\u001b[0m, \u001b[32m'14'\u001b[0m, \u001b[32m'16'\u001b[0m, \u001b[32m'85'\u001b[0m, \u001b[32m'41'\u001b[0m, \u001b[32m'51'\u001b[0m, \u001b[32m'12'\u001b[0m, \u001b[32m'62'\u001b[0m, \u001b[32m'43'\u001b[0m, \u001b[32m'91'\u001b[0m, \u001b[32m'42'\u001b[0m,\n",
       "       \u001b[32m'61'\u001b[0m, \u001b[32m'33'\u001b[0m, \u001b[32m'48'\u001b[0m, \u001b[32m'71'\u001b[0m, \u001b[32m'65'\u001b[0m, \u001b[32m'38'\u001b[0m, \u001b[32m'24'\u001b[0m, \u001b[32m'47'\u001b[0m, \u001b[32m'28'\u001b[0m, \u001b[32m'81'\u001b[0m, \u001b[32m'35'\u001b[0m,\n",
       "       \u001b[32m'13'\u001b[0m, \u001b[32m'86'\u001b[0m, \u001b[32m'94'\u001b[0m, \u001b[32m'45'\u001b[0m, \u001b[32m'17'\u001b[0m, \u001b[32m'55'\u001b[0m, \u001b[32m'64'\u001b[0m, \u001b[32m'69'\u001b[0m, \u001b[32m'32'\u001b[0m, \u001b[32m'27'\u001b[0m, \u001b[32m'66'\u001b[0m,\n",
       "       \u001b[32m'63'\u001b[0m, \u001b[32m'46'\u001b[0m, \u001b[32m'54'\u001b[0m, \u001b[32m'77'\u001b[0m, \u001b[32m'34'\u001b[0m, \u001b[32m'74'\u001b[0m, \u001b[32m'37'\u001b[0m, \u001b[32m'53'\u001b[0m, \u001b[32m'56'\u001b[0m, \u001b[32m'95'\u001b[0m, \u001b[32m'22'\u001b[0m,\n",
       "       \u001b[32m'73'\u001b[0m, \u001b[32m'52'\u001b[0m, \u001b[32m'87'\u001b[0m, \u001b[32m'98'\u001b[0m, \u001b[32m'92'\u001b[0m, \u001b[32m'82'\u001b[0m, \u001b[32m'79'\u001b[0m, \u001b[32m'93'\u001b[0m, \u001b[32m'83'\u001b[0m, \u001b[32m'00'\u001b[0m, \u001b[32m'15'\u001b[0m,\n",
       "       \u001b[32m'02'\u001b[0m, \u001b[32m'84'\u001b[0m, \u001b[32m'04'\u001b[0m, \u001b[32m'07'\u001b[0m\u001b[1m]\u001b[0m, \u001b[33mdtype\u001b[0m=\u001b[35mobject\u001b[0m\u001b[1m)\u001b[0m"
      ]
     },
     "execution_count": 11,
     "metadata": {},
     "output_type": "execute_result"
    }
   ],
   "source": [
    "df_completo['DDD'].unique()"
   ]
  },
  {
   "cell_type": "markdown",
   "metadata": {},
   "source": [
    "## SEGMENTO_INDUSTRIAL"
   ]
  },
  {
   "cell_type": "code",
   "execution_count": 12,
   "metadata": {},
   "outputs": [
    {
     "data": {
      "text/html": [
       "<pre style=\"white-space:pre;overflow-x:auto;line-height:normal;font-family:Menlo,'DejaVu Sans Mono',consolas,'Courier New',monospace\"></pre>\n"
      ],
      "text/plain": []
     },
     "metadata": {},
     "output_type": "display_data"
    },
    {
     "data": {
      "text/plain": [
       "\u001b[1;35marray\u001b[0m\u001b[1m(\u001b[0m\u001b[1m[\u001b[0m\u001b[32m'Serviços'\u001b[0m, \u001b[32m'Comércio'\u001b[0m, \u001b[32m'Indústria'\u001b[0m, nan\u001b[1m]\u001b[0m, \u001b[33mdtype\u001b[0m=\u001b[35mobject\u001b[0m\u001b[1m)\u001b[0m"
      ]
     },
     "execution_count": 12,
     "metadata": {},
     "output_type": "execute_result"
    }
   ],
   "source": [
    "df_completo['SEGMENTO_INDUSTRIAL'].unique()"
   ]
  },
  {
   "cell_type": "code",
   "execution_count": 13,
   "metadata": {},
   "outputs": [],
   "source": [
    "df_completo['SEGMENTO_INDUSTRIAL'] = df_completo['SEGMENTO_INDUSTRIAL'].map({'Serviços':'SERVICOS','Comércio':'COMERCIO','Indústria':'INDUSTRIA'})"
   ]
  },
  {
   "cell_type": "code",
   "execution_count": 14,
   "metadata": {},
   "outputs": [
    {
     "data": {
      "text/html": [
       "<pre style=\"white-space:pre;overflow-x:auto;line-height:normal;font-family:Menlo,'DejaVu Sans Mono',consolas,'Courier New',monospace\"></pre>\n"
      ],
      "text/plain": []
     },
     "metadata": {},
     "output_type": "display_data"
    },
    {
     "data": {
      "text/plain": [
       "\u001b[1;35marray\u001b[0m\u001b[1m(\u001b[0m\u001b[1m[\u001b[0m\u001b[32m'SERVICOS'\u001b[0m, \u001b[32m'COMERCIO'\u001b[0m, \u001b[32m'INDUSTRIA'\u001b[0m, nan\u001b[1m]\u001b[0m, \u001b[33mdtype\u001b[0m=\u001b[35mobject\u001b[0m\u001b[1m)\u001b[0m"
      ]
     },
     "execution_count": 14,
     "metadata": {},
     "output_type": "execute_result"
    }
   ],
   "source": [
    "df_completo['SEGMENTO_INDUSTRIAL'].unique()"
   ]
  },
  {
   "cell_type": "markdown",
   "metadata": {},
   "source": [
    "## DOMINIO_EMAIL"
   ]
  },
  {
   "cell_type": "code",
   "execution_count": 15,
   "metadata": {},
   "outputs": [
    {
     "data": {
      "text/html": [
       "<pre style=\"white-space:pre;overflow-x:auto;line-height:normal;font-family:Menlo,'DejaVu Sans Mono',consolas,'Courier New',monospace\"></pre>\n"
      ],
      "text/plain": []
     },
     "metadata": {},
     "output_type": "display_data"
    },
    {
     "data": {
      "text/plain": [
       "\n",
       "\u001b[1;35marray\u001b[0m\u001b[1m(\u001b[0m\u001b[1m[\u001b[0m\u001b[32m'YAHOO'\u001b[0m, \u001b[32m'HOTMAIL'\u001b[0m, \u001b[32m'OUTLOOK'\u001b[0m, \u001b[32m'GMAIL'\u001b[0m, \u001b[32m'BOL'\u001b[0m, \u001b[32m'AOL'\u001b[0m, nan\u001b[1m]\u001b[0m,\n",
       "      \u001b[33mdtype\u001b[0m=\u001b[35mobject\u001b[0m\u001b[1m)\u001b[0m"
      ]
     },
     "execution_count": 15,
     "metadata": {},
     "output_type": "execute_result"
    }
   ],
   "source": [
    "df_completo['DOMINIO_EMAIL'].unique()"
   ]
  },
  {
   "cell_type": "code",
   "execution_count": 16,
   "metadata": {},
   "outputs": [],
   "source": [
    "df_completo['DOMINIO_EMAIL'] = df_completo['DOMINIO_EMAIL'].map({'YAHOO':'YAHOO','HOTMAIL':'HOTMAIL','OUTLOOK':'OUTLOOK','GMAIL':'GMAIL','BOL':'BOL','AOL':'AOL'})"
   ]
  },
  {
   "cell_type": "code",
   "execution_count": 17,
   "metadata": {},
   "outputs": [
    {
     "data": {
      "text/html": [
       "<pre style=\"white-space:pre;overflow-x:auto;line-height:normal;font-family:Menlo,'DejaVu Sans Mono',consolas,'Courier New',monospace\"></pre>\n"
      ],
      "text/plain": []
     },
     "metadata": {},
     "output_type": "display_data"
    },
    {
     "data": {
      "text/plain": [
       "\n",
       "\u001b[1;35marray\u001b[0m\u001b[1m(\u001b[0m\u001b[1m[\u001b[0m\u001b[32m'YAHOO'\u001b[0m, \u001b[32m'HOTMAIL'\u001b[0m, \u001b[32m'OUTLOOK'\u001b[0m, \u001b[32m'GMAIL'\u001b[0m, \u001b[32m'BOL'\u001b[0m, \u001b[32m'AOL'\u001b[0m, nan\u001b[1m]\u001b[0m,\n",
       "      \u001b[33mdtype\u001b[0m=\u001b[35mobject\u001b[0m\u001b[1m)\u001b[0m"
      ]
     },
     "execution_count": 17,
     "metadata": {},
     "output_type": "execute_result"
    }
   ],
   "source": [
    "df_completo['DOMINIO_EMAIL'].unique()"
   ]
  },
  {
   "cell_type": "markdown",
   "metadata": {},
   "source": [
    "## PORTE"
   ]
  },
  {
   "cell_type": "code",
   "execution_count": 18,
   "metadata": {},
   "outputs": [
    {
     "data": {
      "text/html": [
       "<pre style=\"white-space:pre;overflow-x:auto;line-height:normal;font-family:Menlo,'DejaVu Sans Mono',consolas,'Courier New',monospace\"></pre>\n"
      ],
      "text/plain": []
     },
     "metadata": {},
     "output_type": "display_data"
    },
    {
     "data": {
      "text/plain": [
       "\u001b[1;35marray\u001b[0m\u001b[1m(\u001b[0m\u001b[1m[\u001b[0m\u001b[32m'PEQUENO'\u001b[0m, \u001b[32m'MEDIO'\u001b[0m, \u001b[32m'GRANDE'\u001b[0m, nan\u001b[1m]\u001b[0m, \u001b[33mdtype\u001b[0m=\u001b[35mobject\u001b[0m\u001b[1m)\u001b[0m"
      ]
     },
     "execution_count": 18,
     "metadata": {},
     "output_type": "execute_result"
    }
   ],
   "source": [
    "df_completo['PORTE'].unique()"
   ]
  },
  {
   "cell_type": "code",
   "execution_count": 19,
   "metadata": {},
   "outputs": [],
   "source": [
    "df_completo['PORTE'] = df_completo['PORTE'].map({'PEQUENO':'PEQUENO','MEDIO':'MEDIO','GRANDE':'GRANDE'})"
   ]
  },
  {
   "cell_type": "code",
   "execution_count": 20,
   "metadata": {},
   "outputs": [
    {
     "data": {
      "text/html": [
       "<pre style=\"white-space:pre;overflow-x:auto;line-height:normal;font-family:Menlo,'DejaVu Sans Mono',consolas,'Courier New',monospace\"></pre>\n"
      ],
      "text/plain": []
     },
     "metadata": {},
     "output_type": "display_data"
    },
    {
     "data": {
      "text/plain": [
       "\u001b[1;35marray\u001b[0m\u001b[1m(\u001b[0m\u001b[1m[\u001b[0m\u001b[32m'PEQUENO'\u001b[0m, \u001b[32m'MEDIO'\u001b[0m, \u001b[32m'GRANDE'\u001b[0m, nan\u001b[1m]\u001b[0m, \u001b[33mdtype\u001b[0m=\u001b[35mobject\u001b[0m\u001b[1m)\u001b[0m"
      ]
     },
     "execution_count": 20,
     "metadata": {},
     "output_type": "execute_result"
    }
   ],
   "source": [
    "df_completo['PORTE'].unique()"
   ]
  },
  {
   "cell_type": "markdown",
   "metadata": {},
   "source": [
    "## CEP_2_DIG"
   ]
  },
  {
   "cell_type": "code",
   "execution_count": 21,
   "metadata": {},
   "outputs": [],
   "source": [
    "df_completo['CEP_2_DIG'] = df_completo['CEP_2_DIG'].astype(str)"
   ]
  },
  {
   "cell_type": "code",
   "execution_count": 22,
   "metadata": {},
   "outputs": [
    {
     "data": {
      "text/html": [
       "<pre style=\"white-space:pre;overflow-x:auto;line-height:normal;font-family:Menlo,'DejaVu Sans Mono',consolas,'Courier New',monospace\"></pre>\n"
      ],
      "text/plain": []
     },
     "metadata": {},
     "output_type": "display_data"
    },
    {
     "data": {
      "text/plain": [
       "\n",
       "\u001b[1;35marray\u001b[0m\u001b[1m(\u001b[0m\u001b[1m[\u001b[0m\u001b[32m'65'\u001b[0m, \u001b[32m'77'\u001b[0m, \u001b[32m'48'\u001b[0m, \u001b[32m'89'\u001b[0m, \u001b[32m'62'\u001b[0m, \u001b[32m'19'\u001b[0m, \u001b[32m'38'\u001b[0m, \u001b[32m'26'\u001b[0m, \u001b[32m'55'\u001b[0m, \u001b[32m'87'\u001b[0m, \u001b[32m'37'\u001b[0m,\n",
       "       \u001b[32m'22'\u001b[0m, \u001b[32m'13'\u001b[0m, \u001b[32m'18'\u001b[0m, \u001b[32m'21'\u001b[0m, \u001b[32m'98'\u001b[0m, \u001b[32m'14'\u001b[0m, \u001b[32m'60'\u001b[0m, \u001b[32m'82'\u001b[0m, \u001b[32m'92'\u001b[0m, \u001b[32m'79'\u001b[0m, \u001b[32m'12'\u001b[0m,\n",
       "       \u001b[32m'27'\u001b[0m, \u001b[32m'76'\u001b[0m, \u001b[32m'67'\u001b[0m, \u001b[32m'72'\u001b[0m, \u001b[32m'68'\u001b[0m, \u001b[32m'11'\u001b[0m, \u001b[32m'84'\u001b[0m, \u001b[32m'70'\u001b[0m, \u001b[32m'83'\u001b[0m, \u001b[32m'88'\u001b[0m, \u001b[32m'75'\u001b[0m,\n",
       "       \u001b[32m'36'\u001b[0m, \u001b[32m'45'\u001b[0m, \u001b[32m'44'\u001b[0m, \u001b[32m'16'\u001b[0m, \u001b[32m'42'\u001b[0m, \u001b[32m'78'\u001b[0m, \u001b[32m'31'\u001b[0m, \u001b[32m'41'\u001b[0m, \u001b[32m'35'\u001b[0m, \u001b[32m'51'\u001b[0m, \u001b[32m'30'\u001b[0m,\n",
       "       \u001b[32m'86'\u001b[0m, \u001b[32m'25'\u001b[0m, \u001b[32m'29'\u001b[0m, \u001b[32m'17'\u001b[0m, \u001b[32m'23'\u001b[0m, \u001b[32m'20'\u001b[0m, \u001b[32m'93'\u001b[0m, \u001b[32m'64'\u001b[0m, \u001b[32m'95'\u001b[0m, \u001b[32m'85'\u001b[0m, \u001b[32m'15'\u001b[0m,\n",
       "       \u001b[32m'99'\u001b[0m, \u001b[32m'80'\u001b[0m, \u001b[32m'24'\u001b[0m, \u001b[32m'61'\u001b[0m, \u001b[32m'90'\u001b[0m, \u001b[32m'50'\u001b[0m, \u001b[32m'96'\u001b[0m, \u001b[32m'97'\u001b[0m, \u001b[32m'57'\u001b[0m, \u001b[32m'46'\u001b[0m, \u001b[32m'47'\u001b[0m,\n",
       "       \u001b[32m'32'\u001b[0m, \u001b[32m'54'\u001b[0m, \u001b[32m'91'\u001b[0m, \u001b[32m'56'\u001b[0m, \u001b[32m'28'\u001b[0m, \u001b[32m'71'\u001b[0m, \u001b[32m'33'\u001b[0m, \u001b[32m'94'\u001b[0m, \u001b[32m'58'\u001b[0m, \u001b[32m'34'\u001b[0m, \u001b[32m'59'\u001b[0m,\n",
       "       \u001b[32m'69'\u001b[0m, \u001b[32m'74'\u001b[0m, \u001b[32m'40'\u001b[0m, \u001b[32m'49'\u001b[0m, \u001b[32m'43'\u001b[0m, \u001b[32m'66'\u001b[0m, \u001b[32m'39'\u001b[0m, \u001b[32m'73'\u001b[0m, \u001b[32m'81'\u001b[0m, \u001b[32m'53'\u001b[0m, \u001b[32m'52'\u001b[0m,\n",
       "       \u001b[32m'63'\u001b[0m, \u001b[32m'na'\u001b[0m\u001b[1m]\u001b[0m, \u001b[33mdtype\u001b[0m=\u001b[35mobject\u001b[0m\u001b[1m)\u001b[0m"
      ]
     },
     "execution_count": 22,
     "metadata": {},
     "output_type": "execute_result"
    }
   ],
   "source": [
    "df_completo['CEP_2_DIG'].unique()"
   ]
  },
  {
   "cell_type": "code",
   "execution_count": 23,
   "metadata": {},
   "outputs": [],
   "source": [
    "df_completo['CEP_2_DIG'] = df_completo['CEP_2_DIG'].apply(check_2DIG)"
   ]
  },
  {
   "cell_type": "code",
   "execution_count": 24,
   "metadata": {},
   "outputs": [
    {
     "data": {
      "text/html": [
       "<pre style=\"white-space:pre;overflow-x:auto;line-height:normal;font-family:Menlo,'DejaVu Sans Mono',consolas,'Courier New',monospace\"></pre>\n"
      ],
      "text/plain": []
     },
     "metadata": {},
     "output_type": "display_data"
    },
    {
     "data": {
      "text/plain": [
       "\n",
       "\u001b[1;35marray\u001b[0m\u001b[1m(\u001b[0m\u001b[1m[\u001b[0m\u001b[32m'65'\u001b[0m, \u001b[32m'77'\u001b[0m, \u001b[32m'48'\u001b[0m, \u001b[32m'89'\u001b[0m, \u001b[32m'62'\u001b[0m, \u001b[32m'19'\u001b[0m, \u001b[32m'38'\u001b[0m, \u001b[32m'26'\u001b[0m, \u001b[32m'55'\u001b[0m, \u001b[32m'87'\u001b[0m, \u001b[32m'37'\u001b[0m,\n",
       "       \u001b[32m'22'\u001b[0m, \u001b[32m'13'\u001b[0m, \u001b[32m'18'\u001b[0m, \u001b[32m'21'\u001b[0m, \u001b[32m'98'\u001b[0m, \u001b[32m'14'\u001b[0m, \u001b[32m'60'\u001b[0m, \u001b[32m'82'\u001b[0m, \u001b[32m'92'\u001b[0m, \u001b[32m'79'\u001b[0m, \u001b[32m'12'\u001b[0m,\n",
       "       \u001b[32m'27'\u001b[0m, \u001b[32m'76'\u001b[0m, \u001b[32m'67'\u001b[0m, \u001b[32m'72'\u001b[0m, \u001b[32m'68'\u001b[0m, \u001b[32m'11'\u001b[0m, \u001b[32m'84'\u001b[0m, \u001b[32m'70'\u001b[0m, \u001b[32m'83'\u001b[0m, \u001b[32m'88'\u001b[0m, \u001b[32m'75'\u001b[0m,\n",
       "       \u001b[32m'36'\u001b[0m, \u001b[32m'45'\u001b[0m, \u001b[32m'44'\u001b[0m, \u001b[32m'16'\u001b[0m, \u001b[32m'42'\u001b[0m, \u001b[32m'78'\u001b[0m, \u001b[32m'31'\u001b[0m, \u001b[32m'41'\u001b[0m, \u001b[32m'35'\u001b[0m, \u001b[32m'51'\u001b[0m, \u001b[32m'30'\u001b[0m,\n",
       "       \u001b[32m'86'\u001b[0m, \u001b[32m'25'\u001b[0m, \u001b[32m'29'\u001b[0m, \u001b[32m'17'\u001b[0m, \u001b[32m'23'\u001b[0m, \u001b[32m'20'\u001b[0m, \u001b[32m'93'\u001b[0m, \u001b[32m'64'\u001b[0m, \u001b[32m'95'\u001b[0m, \u001b[32m'85'\u001b[0m, \u001b[32m'15'\u001b[0m,\n",
       "       \u001b[32m'99'\u001b[0m, \u001b[32m'80'\u001b[0m, \u001b[32m'24'\u001b[0m, \u001b[32m'61'\u001b[0m, \u001b[32m'90'\u001b[0m, \u001b[32m'50'\u001b[0m, \u001b[32m'96'\u001b[0m, \u001b[32m'97'\u001b[0m, \u001b[32m'57'\u001b[0m, \u001b[32m'46'\u001b[0m, \u001b[32m'47'\u001b[0m,\n",
       "       \u001b[32m'32'\u001b[0m, \u001b[32m'54'\u001b[0m, \u001b[32m'91'\u001b[0m, \u001b[32m'56'\u001b[0m, \u001b[32m'28'\u001b[0m, \u001b[32m'71'\u001b[0m, \u001b[32m'33'\u001b[0m, \u001b[32m'94'\u001b[0m, \u001b[32m'58'\u001b[0m, \u001b[32m'34'\u001b[0m, \u001b[32m'59'\u001b[0m,\n",
       "       \u001b[32m'69'\u001b[0m, \u001b[32m'74'\u001b[0m, \u001b[32m'40'\u001b[0m, \u001b[32m'49'\u001b[0m, \u001b[32m'43'\u001b[0m, \u001b[32m'66'\u001b[0m, \u001b[32m'39'\u001b[0m, \u001b[32m'73'\u001b[0m, \u001b[32m'81'\u001b[0m, \u001b[32m'53'\u001b[0m, \u001b[32m'52'\u001b[0m,\n",
       "       \u001b[32m'63'\u001b[0m, \u001b[3;35mNone\u001b[0m\u001b[1m]\u001b[0m, \u001b[33mdtype\u001b[0m=\u001b[35mobject\u001b[0m\u001b[1m)\u001b[0m"
      ]
     },
     "execution_count": 24,
     "metadata": {},
     "output_type": "execute_result"
    }
   ],
   "source": [
    "df_completo['CEP_2_DIG'].unique()"
   ]
  },
  {
   "cell_type": "markdown",
   "metadata": {},
   "source": [
    "## Preenchimento"
   ]
  },
  {
   "cell_type": "code",
   "execution_count": 25,
   "metadata": {},
   "outputs": [
    {
     "data": {
      "text/html": [
       "<pre style=\"white-space:pre;overflow-x:auto;line-height:normal;font-family:Menlo,'DejaVu Sans Mono',consolas,'Courier New',monospace\"></pre>\n"
      ],
      "text/plain": []
     },
     "metadata": {},
     "output_type": "display_data"
    },
    {
     "data": {
      "text/html": [
       "<div>\n",
       "<style scoped>\n",
       "    .dataframe tbody tr th:only-of-type {\n",
       "        vertical-align: middle;\n",
       "    }\n",
       "\n",
       "    .dataframe tbody tr th {\n",
       "        vertical-align: top;\n",
       "    }\n",
       "\n",
       "    .dataframe thead th {\n",
       "        text-align: right;\n",
       "    }\n",
       "</style>\n",
       "<table border=\"1\" class=\"dataframe\">\n",
       "  <thead>\n",
       "    <tr style=\"text-align: right;\">\n",
       "      <th></th>\n",
       "      <th>dtype</th>\n",
       "      <th>qtd_nulos</th>\n",
       "      <th>qtd_unicos</th>\n",
       "    </tr>\n",
       "  </thead>\n",
       "  <tbody>\n",
       "    <tr>\n",
       "      <th>DDD</th>\n",
       "      <td>object</td>\n",
       "      <td>8905</td>\n",
       "      <td>69</td>\n",
       "    </tr>\n",
       "    <tr>\n",
       "      <th>SEGMENTO_INDUSTRIAL</th>\n",
       "      <td>object</td>\n",
       "      <td>1198</td>\n",
       "      <td>3</td>\n",
       "    </tr>\n",
       "    <tr>\n",
       "      <th>DOMINIO_EMAIL</th>\n",
       "      <td>object</td>\n",
       "      <td>887</td>\n",
       "      <td>6</td>\n",
       "    </tr>\n",
       "    <tr>\n",
       "      <th>PORTE</th>\n",
       "      <td>object</td>\n",
       "      <td>2475</td>\n",
       "      <td>3</td>\n",
       "    </tr>\n",
       "    <tr>\n",
       "      <th>CEP_2_DIG</th>\n",
       "      <td>object</td>\n",
       "      <td>8</td>\n",
       "      <td>89</td>\n",
       "    </tr>\n",
       "  </tbody>\n",
       "</table>\n",
       "</div>"
      ],
      "text/plain": [
       "\n",
       "                      dtype  qtd_nulos  qtd_unicos\n",
       "DDD                  object       \u001b[1;36m8905\u001b[0m          \u001b[1;36m69\u001b[0m\n",
       "SEGMENTO_INDUSTRIAL  object       \u001b[1;36m1198\u001b[0m           \u001b[1;36m3\u001b[0m\n",
       "DOMINIO_EMAIL        object        \u001b[1;36m887\u001b[0m           \u001b[1;36m6\u001b[0m\n",
       "PORTE                object       \u001b[1;36m2475\u001b[0m           \u001b[1;36m3\u001b[0m\n",
       "CEP_2_DIG            object          \u001b[1;36m8\u001b[0m          \u001b[1;36m89\u001b[0m"
      ]
     },
     "metadata": {},
     "output_type": "display_data"
    }
   ],
   "source": [
    "display_info_dataframe(df_completo[useful_tex])"
   ]
  },
  {
   "cell_type": "code",
   "execution_count": 26,
   "metadata": {},
   "outputs": [],
   "source": [
    "df_completo[useful_tex] = df_completo[useful_tex].fillna('NA')"
   ]
  },
  {
   "cell_type": "code",
   "execution_count": 27,
   "metadata": {},
   "outputs": [
    {
     "data": {
      "text/html": [
       "<pre style=\"white-space:pre;overflow-x:auto;line-height:normal;font-family:Menlo,'DejaVu Sans Mono',consolas,'Courier New',monospace\"></pre>\n"
      ],
      "text/plain": []
     },
     "metadata": {},
     "output_type": "display_data"
    },
    {
     "data": {
      "text/html": [
       "<div>\n",
       "<style scoped>\n",
       "    .dataframe tbody tr th:only-of-type {\n",
       "        vertical-align: middle;\n",
       "    }\n",
       "\n",
       "    .dataframe tbody tr th {\n",
       "        vertical-align: top;\n",
       "    }\n",
       "\n",
       "    .dataframe thead th {\n",
       "        text-align: right;\n",
       "    }\n",
       "</style>\n",
       "<table border=\"1\" class=\"dataframe\">\n",
       "  <thead>\n",
       "    <tr style=\"text-align: right;\">\n",
       "      <th></th>\n",
       "      <th>DDD</th>\n",
       "      <th>SEGMENTO_INDUSTRIAL</th>\n",
       "      <th>DOMINIO_EMAIL</th>\n",
       "      <th>PORTE</th>\n",
       "      <th>CEP_2_DIG</th>\n",
       "    </tr>\n",
       "  </thead>\n",
       "  <tbody>\n",
       "    <tr>\n",
       "      <th>0</th>\n",
       "      <td>99</td>\n",
       "      <td>SERVICOS</td>\n",
       "      <td>YAHOO</td>\n",
       "      <td>PEQUENO</td>\n",
       "      <td>65</td>\n",
       "    </tr>\n",
       "    <tr>\n",
       "      <th>1</th>\n",
       "      <td>99</td>\n",
       "      <td>SERVICOS</td>\n",
       "      <td>YAHOO</td>\n",
       "      <td>PEQUENO</td>\n",
       "      <td>65</td>\n",
       "    </tr>\n",
       "    <tr>\n",
       "      <th>2</th>\n",
       "      <td>99</td>\n",
       "      <td>SERVICOS</td>\n",
       "      <td>YAHOO</td>\n",
       "      <td>PEQUENO</td>\n",
       "      <td>65</td>\n",
       "    </tr>\n",
       "    <tr>\n",
       "      <th>3</th>\n",
       "      <td>99</td>\n",
       "      <td>SERVICOS</td>\n",
       "      <td>YAHOO</td>\n",
       "      <td>PEQUENO</td>\n",
       "      <td>65</td>\n",
       "    </tr>\n",
       "    <tr>\n",
       "      <th>4</th>\n",
       "      <td>99</td>\n",
       "      <td>SERVICOS</td>\n",
       "      <td>YAHOO</td>\n",
       "      <td>PEQUENO</td>\n",
       "      <td>65</td>\n",
       "    </tr>\n",
       "    <tr>\n",
       "      <th>...</th>\n",
       "      <td>...</td>\n",
       "      <td>...</td>\n",
       "      <td>...</td>\n",
       "      <td>...</td>\n",
       "      <td>...</td>\n",
       "    </tr>\n",
       "    <tr>\n",
       "      <th>77190</th>\n",
       "      <td>11</td>\n",
       "      <td>COMERCIO</td>\n",
       "      <td>AOL</td>\n",
       "      <td>PEQUENO</td>\n",
       "      <td>13</td>\n",
       "    </tr>\n",
       "    <tr>\n",
       "      <th>77191</th>\n",
       "      <td>19</td>\n",
       "      <td>INDUSTRIA</td>\n",
       "      <td>GMAIL</td>\n",
       "      <td>GRANDE</td>\n",
       "      <td>25</td>\n",
       "    </tr>\n",
       "    <tr>\n",
       "      <th>77192</th>\n",
       "      <td>91</td>\n",
       "      <td>SERVICOS</td>\n",
       "      <td>HOTMAIL</td>\n",
       "      <td>GRANDE</td>\n",
       "      <td>67</td>\n",
       "    </tr>\n",
       "    <tr>\n",
       "      <th>77193</th>\n",
       "      <td>NA</td>\n",
       "      <td>SERVICOS</td>\n",
       "      <td>YAHOO</td>\n",
       "      <td>MEDIO</td>\n",
       "      <td>14</td>\n",
       "    </tr>\n",
       "    <tr>\n",
       "      <th>77194</th>\n",
       "      <td>11</td>\n",
       "      <td>INDUSTRIA</td>\n",
       "      <td>HOTMAIL</td>\n",
       "      <td>GRANDE</td>\n",
       "      <td>31</td>\n",
       "    </tr>\n",
       "  </tbody>\n",
       "</table>\n",
       "<p>77195 rows × 5 columns</p>\n",
       "</div>"
      ],
      "text/plain": [
       "\n",
       "      DDD SEGMENTO_INDUSTRIAL DOMINIO_EMAIL    PORTE CEP_2_DIG\n",
       "\u001b[1;36m0\u001b[0m      \u001b[1;36m99\u001b[0m            SERVICOS         YAHOO  PEQUENO        \u001b[1;36m65\u001b[0m\n",
       "\u001b[1;36m1\u001b[0m      \u001b[1;36m99\u001b[0m            SERVICOS         YAHOO  PEQUENO        \u001b[1;36m65\u001b[0m\n",
       "\u001b[1;36m2\u001b[0m      \u001b[1;36m99\u001b[0m            SERVICOS         YAHOO  PEQUENO        \u001b[1;36m65\u001b[0m\n",
       "\u001b[1;36m3\u001b[0m      \u001b[1;36m99\u001b[0m            SERVICOS         YAHOO  PEQUENO        \u001b[1;36m65\u001b[0m\n",
       "\u001b[1;36m4\u001b[0m      \u001b[1;36m99\u001b[0m            SERVICOS         YAHOO  PEQUENO        \u001b[1;36m65\u001b[0m\n",
       "\u001b[33m...\u001b[0m    ..                 \u001b[33m...\u001b[0m           \u001b[33m...\u001b[0m      \u001b[33m...\u001b[0m       \u001b[33m...\u001b[0m\n",
       "\u001b[1;36m77190\u001b[0m  \u001b[1;36m11\u001b[0m            COMERCIO           AOL  PEQUENO        \u001b[1;36m13\u001b[0m\n",
       "\u001b[1;36m77191\u001b[0m  \u001b[1;36m19\u001b[0m           INDUSTRIA         GMAIL   GRANDE        \u001b[1;36m25\u001b[0m\n",
       "\u001b[1;36m77192\u001b[0m  \u001b[1;36m91\u001b[0m            SERVICOS       HOTMAIL   GRANDE        \u001b[1;36m67\u001b[0m\n",
       "\u001b[1;36m77193\u001b[0m  NA            SERVICOS         YAHOO    MEDIO        \u001b[1;36m14\u001b[0m\n",
       "\u001b[1;36m77194\u001b[0m  \u001b[1;36m11\u001b[0m           INDUSTRIA       HOTMAIL   GRANDE        \u001b[1;36m31\u001b[0m\n",
       "\n",
       "\u001b[1m[\u001b[0m\u001b[1;36m77195\u001b[0m rows x \u001b[1;36m5\u001b[0m columns\u001b[1m]\u001b[0m"
      ]
     },
     "execution_count": 27,
     "metadata": {},
     "output_type": "execute_result"
    }
   ],
   "source": [
    "df_completo[useful_tex]"
   ]
  },
  {
   "cell_type": "code",
   "execution_count": 28,
   "metadata": {},
   "outputs": [
    {
     "data": {
      "text/html": [
       "<pre style=\"white-space:pre;overflow-x:auto;line-height:normal;font-family:Menlo,'DejaVu Sans Mono',consolas,'Courier New',monospace\"></pre>\n"
      ],
      "text/plain": []
     },
     "metadata": {},
     "output_type": "display_data"
    },
    {
     "data": {
      "text/html": [
       "<div>\n",
       "<style scoped>\n",
       "    .dataframe tbody tr th:only-of-type {\n",
       "        vertical-align: middle;\n",
       "    }\n",
       "\n",
       "    .dataframe tbody tr th {\n",
       "        vertical-align: top;\n",
       "    }\n",
       "\n",
       "    .dataframe thead th {\n",
       "        text-align: right;\n",
       "    }\n",
       "</style>\n",
       "<table border=\"1\" class=\"dataframe\">\n",
       "  <thead>\n",
       "    <tr style=\"text-align: right;\">\n",
       "      <th></th>\n",
       "      <th>dtype</th>\n",
       "      <th>qtd_nulos</th>\n",
       "      <th>qtd_unicos</th>\n",
       "    </tr>\n",
       "  </thead>\n",
       "  <tbody>\n",
       "    <tr>\n",
       "      <th>DDD</th>\n",
       "      <td>object</td>\n",
       "      <td>0</td>\n",
       "      <td>70</td>\n",
       "    </tr>\n",
       "    <tr>\n",
       "      <th>SEGMENTO_INDUSTRIAL</th>\n",
       "      <td>object</td>\n",
       "      <td>0</td>\n",
       "      <td>4</td>\n",
       "    </tr>\n",
       "    <tr>\n",
       "      <th>DOMINIO_EMAIL</th>\n",
       "      <td>object</td>\n",
       "      <td>0</td>\n",
       "      <td>7</td>\n",
       "    </tr>\n",
       "    <tr>\n",
       "      <th>PORTE</th>\n",
       "      <td>object</td>\n",
       "      <td>0</td>\n",
       "      <td>4</td>\n",
       "    </tr>\n",
       "    <tr>\n",
       "      <th>CEP_2_DIG</th>\n",
       "      <td>object</td>\n",
       "      <td>0</td>\n",
       "      <td>90</td>\n",
       "    </tr>\n",
       "  </tbody>\n",
       "</table>\n",
       "</div>"
      ],
      "text/plain": [
       "\n",
       "                      dtype  qtd_nulos  qtd_unicos\n",
       "DDD                  object          \u001b[1;36m0\u001b[0m          \u001b[1;36m70\u001b[0m\n",
       "SEGMENTO_INDUSTRIAL  object          \u001b[1;36m0\u001b[0m           \u001b[1;36m4\u001b[0m\n",
       "DOMINIO_EMAIL        object          \u001b[1;36m0\u001b[0m           \u001b[1;36m7\u001b[0m\n",
       "PORTE                object          \u001b[1;36m0\u001b[0m           \u001b[1;36m4\u001b[0m\n",
       "CEP_2_DIG            object          \u001b[1;36m0\u001b[0m          \u001b[1;36m90\u001b[0m"
      ]
     },
     "metadata": {},
     "output_type": "display_data"
    }
   ],
   "source": [
    "display_info_dataframe(df_completo[useful_tex])"
   ]
  },
  {
   "cell_type": "markdown",
   "metadata": {},
   "source": [
    "# Construção de novas variáveis"
   ]
  },
  {
   "cell_type": "code",
   "execution_count": 29,
   "metadata": {},
   "outputs": [
    {
     "data": {
      "text/html": [
       "<pre style=\"white-space:pre;overflow-x:auto;line-height:normal;font-family:Menlo,'DejaVu Sans Mono',consolas,'Courier New',monospace\"><span style=\"color: #7fbfbf; text-decoration-color: #7fbfbf\">[02/17/25 19:57:47] </span><span style=\"color: #808000; text-decoration-color: #808000\">WARNING </span> <span style=\"color: #800080; text-decoration-color: #800080\">/tmp/ipykernel_47565/</span><span style=\"color: #ff00ff; text-decoration-color: #ff00ff\">1139088209.py</span>:<span style=\"color: #008080; text-decoration-color: #008080; font-weight: bold\">1</span>: FutureWarning:                   <a href=\"file:///usr/lib/python3.10/warnings.py\" target=\"_blank\"><span style=\"color: #7f7f7f; text-decoration-color: #7f7f7f\">warnings.py</span></a><span style=\"color: #7f7f7f; text-decoration-color: #7f7f7f\">:</span><a href=\"file:///usr/lib/python3.10/warnings.py#109\" target=\"_blank\"><span style=\"color: #7f7f7f; text-decoration-color: #7f7f7f\">109</span></a>\n",
       "<span style=\"color: #7fbfbf; text-decoration-color: #7fbfbf\">                    </span>         Series.__getitem__ treating keys as positions is deprecated. In a      <span style=\"color: #7f7f7f; text-decoration-color: #7f7f7f\">               </span>\n",
       "<span style=\"color: #7fbfbf; text-decoration-color: #7fbfbf\">                    </span>         future version, integer keys will always be treated as labels          <span style=\"color: #7f7f7f; text-decoration-color: #7f7f7f\">               </span>\n",
       "<span style=\"color: #7fbfbf; text-decoration-color: #7fbfbf\">                    </span>         <span style=\"font-weight: bold\">(</span>consistent with DataFrame behavior<span style=\"font-weight: bold\">)</span>. To access a value by position,   <span style=\"color: #7f7f7f; text-decoration-color: #7f7f7f\">               </span>\n",
       "<span style=\"color: #7fbfbf; text-decoration-color: #7fbfbf\">                    </span>         use `ser.iloc<span style=\"font-weight: bold\">[</span>pos<span style=\"font-weight: bold\">]</span>`                                                    <span style=\"color: #7f7f7f; text-decoration-color: #7f7f7f\">               </span>\n",
       "<span style=\"color: #7fbfbf; text-decoration-color: #7fbfbf\">                    </span>           df_completo<span style=\"font-weight: bold\">[</span><span style=\"color: #008000; text-decoration-color: #008000\">'RZ_RENDA_FUNC'</span><span style=\"font-weight: bold\">]</span> =                                       <span style=\"color: #7f7f7f; text-decoration-color: #7f7f7f\">               </span>\n",
       "<span style=\"color: #7fbfbf; text-decoration-color: #7fbfbf\">                    </span>         df_completo<span style=\"font-weight: bold\">[[</span><span style=\"color: #008000; text-decoration-color: #008000\">'RENDA_MES_ANTERIOR'</span>,<span style=\"color: #008000; text-decoration-color: #008000\">'NO_FUNCIONARIOS'</span><span style=\"font-weight: bold\">]]</span><span style=\"color: #800080; text-decoration-color: #800080; font-weight: bold\">.apply</span><span style=\"font-weight: bold\">(</span>lambda x:  <span style=\"color: #7f7f7f; text-decoration-color: #7f7f7f\">               </span>\n",
       "<span style=\"color: #7fbfbf; text-decoration-color: #7fbfbf\">                    </span>         x<span style=\"font-weight: bold\">[</span><span style=\"color: #008080; text-decoration-color: #008080; font-weight: bold\">0</span><span style=\"font-weight: bold\">]</span><span style=\"color: #800080; text-decoration-color: #800080\">/</span><span style=\"color: #ff00ff; text-decoration-color: #ff00ff\">x</span><span style=\"font-weight: bold\">[</span><span style=\"color: #008080; text-decoration-color: #008080; font-weight: bold\">1</span><span style=\"font-weight: bold\">]</span> if x<span style=\"font-weight: bold\">[</span><span style=\"color: #008080; text-decoration-color: #008080; font-weight: bold\">1</span><span style=\"font-weight: bold\">]</span>&gt; <span style=\"color: #008080; text-decoration-color: #008080; font-weight: bold\">0</span> else np.nan, <span style=\"color: #808000; text-decoration-color: #808000\">axis</span>=<span style=\"color: #008080; text-decoration-color: #008080; font-weight: bold\">1</span><span style=\"font-weight: bold\">)</span>                              <span style=\"color: #7f7f7f; text-decoration-color: #7f7f7f\">               </span>\n",
       "<span style=\"color: #7fbfbf; text-decoration-color: #7fbfbf\">                    </span>                                                                                <span style=\"color: #7f7f7f; text-decoration-color: #7f7f7f\">               </span>\n",
       "</pre>\n"
      ],
      "text/plain": [
       "\u001b[2;36m[02/17/25 19:57:47]\u001b[0m\u001b[2;36m \u001b[0m\u001b[33mWARNING \u001b[0m \u001b[35m/tmp/ipykernel_47565/\u001b[0m\u001b[95m1139088209.py\u001b[0m:\u001b[1;36m1\u001b[0m: FutureWarning:                   \u001b]8;id=910114;file:///usr/lib/python3.10/warnings.py\u001b\\\u001b[2mwarnings.py\u001b[0m\u001b]8;;\u001b\\\u001b[2m:\u001b[0m\u001b]8;id=147506;file:///usr/lib/python3.10/warnings.py#109\u001b\\\u001b[2m109\u001b[0m\u001b]8;;\u001b\\\n",
       "\u001b[2;36m                    \u001b[0m         Series.__getitem__ treating keys as positions is deprecated. In a      \u001b[2m               \u001b[0m\n",
       "\u001b[2;36m                    \u001b[0m         future version, integer keys will always be treated as labels          \u001b[2m               \u001b[0m\n",
       "\u001b[2;36m                    \u001b[0m         \u001b[1m(\u001b[0mconsistent with DataFrame behavior\u001b[1m)\u001b[0m. To access a value by position,   \u001b[2m               \u001b[0m\n",
       "\u001b[2;36m                    \u001b[0m         use `ser.iloc\u001b[1m[\u001b[0mpos\u001b[1m]\u001b[0m`                                                    \u001b[2m               \u001b[0m\n",
       "\u001b[2;36m                    \u001b[0m           df_completo\u001b[1m[\u001b[0m\u001b[32m'RZ_RENDA_FUNC'\u001b[0m\u001b[1m]\u001b[0m =                                       \u001b[2m               \u001b[0m\n",
       "\u001b[2;36m                    \u001b[0m         df_completo\u001b[1m[\u001b[0m\u001b[1m[\u001b[0m\u001b[32m'RENDA_MES_ANTERIOR'\u001b[0m,\u001b[32m'NO_FUNCIONARIOS'\u001b[0m\u001b[1m]\u001b[0m\u001b[1m]\u001b[0m\u001b[1;35m.apply\u001b[0m\u001b[1m(\u001b[0mlambda x:  \u001b[2m               \u001b[0m\n",
       "\u001b[2;36m                    \u001b[0m         x\u001b[1m[\u001b[0m\u001b[1;36m0\u001b[0m\u001b[1m]\u001b[0m\u001b[35m/\u001b[0m\u001b[95mx\u001b[0m\u001b[1m[\u001b[0m\u001b[1;36m1\u001b[0m\u001b[1m]\u001b[0m if x\u001b[1m[\u001b[0m\u001b[1;36m1\u001b[0m\u001b[1m]\u001b[0m> \u001b[1;36m0\u001b[0m else np.nan, \u001b[33maxis\u001b[0m=\u001b[1;36m1\u001b[0m\u001b[1m)\u001b[0m                              \u001b[2m               \u001b[0m\n",
       "\u001b[2;36m                    \u001b[0m                                                                                \u001b[2m               \u001b[0m\n"
      ]
     },
     "metadata": {},
     "output_type": "display_data"
    }
   ],
   "source": [
    "df_completo['RZ_RENDA_FUNC'] = df_completo[['RENDA_MES_ANTERIOR','NO_FUNCIONARIOS']].apply(lambda x: x[0]/x[1] if x[1]> 0 else np.nan, axis=1)"
   ]
  },
  {
   "cell_type": "code",
   "execution_count": 30,
   "metadata": {},
   "outputs": [
    {
     "data": {
      "text/html": [
       "<pre style=\"white-space:pre;overflow-x:auto;line-height:normal;font-family:Menlo,'DejaVu Sans Mono',consolas,'Courier New',monospace\"><span style=\"color: #7fbfbf; text-decoration-color: #7fbfbf\">[02/17/25 19:57:48] </span><span style=\"color: #808000; text-decoration-color: #808000\">WARNING </span> <span style=\"color: #800080; text-decoration-color: #800080\">/tmp/ipykernel_47565/</span><span style=\"color: #ff00ff; text-decoration-color: #ff00ff\">62042398.py</span>:<span style=\"color: #008080; text-decoration-color: #008080; font-weight: bold\">1</span>: FutureWarning: Series.__getitem__  <a href=\"file:///usr/lib/python3.10/warnings.py\" target=\"_blank\"><span style=\"color: #7f7f7f; text-decoration-color: #7f7f7f\">warnings.py</span></a><span style=\"color: #7f7f7f; text-decoration-color: #7f7f7f\">:</span><a href=\"file:///usr/lib/python3.10/warnings.py#109\" target=\"_blank\"><span style=\"color: #7f7f7f; text-decoration-color: #7f7f7f\">109</span></a>\n",
       "<span style=\"color: #7fbfbf; text-decoration-color: #7fbfbf\">                    </span>         treating keys as positions is deprecated. In a future version, integer <span style=\"color: #7f7f7f; text-decoration-color: #7f7f7f\">               </span>\n",
       "<span style=\"color: #7fbfbf; text-decoration-color: #7fbfbf\">                    </span>         keys will always be treated as labels <span style=\"font-weight: bold\">(</span>consistent with DataFrame       <span style=\"color: #7f7f7f; text-decoration-color: #7f7f7f\">               </span>\n",
       "<span style=\"color: #7fbfbf; text-decoration-color: #7fbfbf\">                    </span>         behavior<span style=\"font-weight: bold\">)</span>. To access a value by position, use `ser.iloc<span style=\"font-weight: bold\">[</span>pos<span style=\"font-weight: bold\">]</span>`          <span style=\"color: #7f7f7f; text-decoration-color: #7f7f7f\">               </span>\n",
       "<span style=\"color: #7fbfbf; text-decoration-color: #7fbfbf\">                    </span>           df_completo<span style=\"font-weight: bold\">[</span><span style=\"color: #008000; text-decoration-color: #008000\">'VL_TAXA'</span><span style=\"font-weight: bold\">]</span> =                                             <span style=\"color: #7f7f7f; text-decoration-color: #7f7f7f\">               </span>\n",
       "<span style=\"color: #7fbfbf; text-decoration-color: #7fbfbf\">                    </span>         df_completo<span style=\"font-weight: bold\">[[</span><span style=\"color: #008000; text-decoration-color: #008000\">'TAXA'</span>,<span style=\"color: #008000; text-decoration-color: #008000\">'VALOR_A_PAGAR'</span><span style=\"font-weight: bold\">]]</span><span style=\"color: #800080; text-decoration-color: #800080; font-weight: bold\">.apply</span><span style=\"font-weight: bold\">(</span>lambda x: <span style=\"font-weight: bold\">(</span>x<span style=\"font-weight: bold\">[</span><span style=\"color: #008080; text-decoration-color: #008080; font-weight: bold\">0</span><span style=\"font-weight: bold\">]</span><span style=\"color: #800080; text-decoration-color: #800080\">/</span><span style=\"color: #ff00ff; text-decoration-color: #ff00ff\">100</span><span style=\"font-weight: bold\">)</span>*x<span style=\"font-weight: bold\">[</span><span style=\"color: #008080; text-decoration-color: #008080; font-weight: bold\">1</span><span style=\"font-weight: bold\">]</span>  <span style=\"color: #7f7f7f; text-decoration-color: #7f7f7f\">               </span>\n",
       "<span style=\"color: #7fbfbf; text-decoration-color: #7fbfbf\">                    </span>         if x<span style=\"font-weight: bold\">[</span><span style=\"color: #008080; text-decoration-color: #008080; font-weight: bold\">1</span><span style=\"font-weight: bold\">]</span>&gt; <span style=\"color: #008080; text-decoration-color: #008080; font-weight: bold\">0</span> else np.nan, <span style=\"color: #808000; text-decoration-color: #808000\">axis</span>=<span style=\"color: #008080; text-decoration-color: #008080; font-weight: bold\">1</span><span style=\"font-weight: bold\">)</span>                                        <span style=\"color: #7f7f7f; text-decoration-color: #7f7f7f\">               </span>\n",
       "<span style=\"color: #7fbfbf; text-decoration-color: #7fbfbf\">                    </span>                                                                                <span style=\"color: #7f7f7f; text-decoration-color: #7f7f7f\">               </span>\n",
       "</pre>\n"
      ],
      "text/plain": [
       "\u001b[2;36m[02/17/25 19:57:48]\u001b[0m\u001b[2;36m \u001b[0m\u001b[33mWARNING \u001b[0m \u001b[35m/tmp/ipykernel_47565/\u001b[0m\u001b[95m62042398.py\u001b[0m:\u001b[1;36m1\u001b[0m: FutureWarning: Series.__getitem__  \u001b]8;id=474303;file:///usr/lib/python3.10/warnings.py\u001b\\\u001b[2mwarnings.py\u001b[0m\u001b]8;;\u001b\\\u001b[2m:\u001b[0m\u001b]8;id=706349;file:///usr/lib/python3.10/warnings.py#109\u001b\\\u001b[2m109\u001b[0m\u001b]8;;\u001b\\\n",
       "\u001b[2;36m                    \u001b[0m         treating keys as positions is deprecated. In a future version, integer \u001b[2m               \u001b[0m\n",
       "\u001b[2;36m                    \u001b[0m         keys will always be treated as labels \u001b[1m(\u001b[0mconsistent with DataFrame       \u001b[2m               \u001b[0m\n",
       "\u001b[2;36m                    \u001b[0m         behavior\u001b[1m)\u001b[0m. To access a value by position, use `ser.iloc\u001b[1m[\u001b[0mpos\u001b[1m]\u001b[0m`          \u001b[2m               \u001b[0m\n",
       "\u001b[2;36m                    \u001b[0m           df_completo\u001b[1m[\u001b[0m\u001b[32m'VL_TAXA'\u001b[0m\u001b[1m]\u001b[0m =                                             \u001b[2m               \u001b[0m\n",
       "\u001b[2;36m                    \u001b[0m         df_completo\u001b[1m[\u001b[0m\u001b[1m[\u001b[0m\u001b[32m'TAXA'\u001b[0m,\u001b[32m'VALOR_A_PAGAR'\u001b[0m\u001b[1m]\u001b[0m\u001b[1m]\u001b[0m\u001b[1;35m.apply\u001b[0m\u001b[1m(\u001b[0mlambda x: \u001b[1m(\u001b[0mx\u001b[1m[\u001b[0m\u001b[1;36m0\u001b[0m\u001b[1m]\u001b[0m\u001b[35m/\u001b[0m\u001b[95m100\u001b[0m\u001b[1m)\u001b[0m*x\u001b[1m[\u001b[0m\u001b[1;36m1\u001b[0m\u001b[1m]\u001b[0m  \u001b[2m               \u001b[0m\n",
       "\u001b[2;36m                    \u001b[0m         if x\u001b[1m[\u001b[0m\u001b[1;36m1\u001b[0m\u001b[1m]\u001b[0m> \u001b[1;36m0\u001b[0m else np.nan, \u001b[33maxis\u001b[0m=\u001b[1;36m1\u001b[0m\u001b[1m)\u001b[0m                                        \u001b[2m               \u001b[0m\n",
       "\u001b[2;36m                    \u001b[0m                                                                                \u001b[2m               \u001b[0m\n"
      ]
     },
     "metadata": {},
     "output_type": "display_data"
    }
   ],
   "source": [
    "df_completo['VL_TAXA'] = df_completo[['TAXA','VALOR_A_PAGAR']].apply(lambda x: (x[0]/100)*x[1] if x[1]> 0 else np.nan, axis=1)"
   ]
  },
  {
   "cell_type": "code",
   "execution_count": null,
   "metadata": {},
   "outputs": [],
   "source": []
  }
 ],
 "metadata": {
  "kernelspec": {
   "display_name": "credit-risk-kernel",
   "language": "python",
   "name": "credit-risk-kernel"
  },
  "language_info": {
   "codemirror_mode": {
    "name": "ipython",
    "version": 3
   },
   "file_extension": ".py",
   "mimetype": "text/x-python",
   "name": "python",
   "nbconvert_exporter": "python",
   "pygments_lexer": "ipython3",
   "version": "3.10.12"
  }
 },
 "nbformat": 4,
 "nbformat_minor": 2
}
