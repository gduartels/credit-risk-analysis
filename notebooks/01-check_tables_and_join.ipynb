{
 "cells": [
  {
   "cell_type": "code",
   "execution_count": 1,
   "metadata": {},
   "outputs": [
    {
     "data": {
      "text/html": [
       "<pre style=\"white-space:pre;overflow-x:auto;line-height:normal;font-family:Menlo,'DejaVu Sans Mono',consolas,'Courier New',monospace\"><span style=\"color: #7fbfbf; text-decoration-color: #7fbfbf\">[02/14/25 20:38:21] </span><span style=\"color: #000080; text-decoration-color: #000080\">INFO    </span> Using                                                                  <a href=\"file:///home/guilherme/Projects/credit-risk-analysis/venv/lib/python3.10/site-packages/kedro/framework/project/__init__.py\" target=\"_blank\"><span style=\"color: #7f7f7f; text-decoration-color: #7f7f7f\">__init__.py</span></a><span style=\"color: #7f7f7f; text-decoration-color: #7f7f7f\">:</span><a href=\"file:///home/guilherme/Projects/credit-risk-analysis/venv/lib/python3.10/site-packages/kedro/framework/project/__init__.py#270\" target=\"_blank\"><span style=\"color: #7f7f7f; text-decoration-color: #7f7f7f\">270</span></a>\n",
       "<span style=\"color: #7fbfbf; text-decoration-color: #7fbfbf\">                    </span>         <span style=\"color: #008000; text-decoration-color: #008000\">'/home/guilherme/Projects/credit-risk-analysis/venv/lib/python3.10/sit</span> <span style=\"color: #7f7f7f; text-decoration-color: #7f7f7f\">               </span>\n",
       "<span style=\"color: #7fbfbf; text-decoration-color: #7fbfbf\">                    </span>         <span style=\"color: #008000; text-decoration-color: #008000\">e-packages/kedro/framework/project/rich_logging.yml'</span> as logging        <span style=\"color: #7f7f7f; text-decoration-color: #7f7f7f\">               </span>\n",
       "<span style=\"color: #7fbfbf; text-decoration-color: #7fbfbf\">                    </span>         configuration.                                                         <span style=\"color: #7f7f7f; text-decoration-color: #7f7f7f\">               </span>\n",
       "</pre>\n"
      ],
      "text/plain": [
       "\u001b[2;36m[02/14/25 20:38:21]\u001b[0m\u001b[2;36m \u001b[0m\u001b[34mINFO    \u001b[0m Using                                                                  \u001b]8;id=359246;file:///home/guilherme/Projects/credit-risk-analysis/venv/lib/python3.10/site-packages/kedro/framework/project/__init__.py\u001b\\\u001b[2m__init__.py\u001b[0m\u001b]8;;\u001b\\\u001b[2m:\u001b[0m\u001b]8;id=602149;file:///home/guilherme/Projects/credit-risk-analysis/venv/lib/python3.10/site-packages/kedro/framework/project/__init__.py#270\u001b\\\u001b[2m270\u001b[0m\u001b]8;;\u001b\\\n",
       "\u001b[2;36m                    \u001b[0m         \u001b[32m'/home/guilherme/Projects/credit-risk-analysis/venv/lib/python3.10/sit\u001b[0m \u001b[2m               \u001b[0m\n",
       "\u001b[2;36m                    \u001b[0m         \u001b[32me-packages/kedro/framework/project/rich_logging.yml'\u001b[0m as logging        \u001b[2m               \u001b[0m\n",
       "\u001b[2;36m                    \u001b[0m         configuration.                                                         \u001b[2m               \u001b[0m\n"
      ]
     },
     "metadata": {},
     "output_type": "display_data"
    },
    {
     "data": {
      "text/html": [
       "<pre style=\"white-space:pre;overflow-x:auto;line-height:normal;font-family:Menlo,'DejaVu Sans Mono',consolas,'Courier New',monospace\"><span style=\"color: #7fbfbf; text-decoration-color: #7fbfbf\">                    </span><span style=\"color: #000080; text-decoration-color: #000080\">INFO    </span> Registered line magic <span style=\"color: #008000; text-decoration-color: #008000\">'%reload_kedro'</span>                                   <a href=\"file:///home/guilherme/Projects/credit-risk-analysis/venv/lib/python3.10/site-packages/kedro/ipython/__init__.py\" target=\"_blank\"><span style=\"color: #7f7f7f; text-decoration-color: #7f7f7f\">__init__.py</span></a><span style=\"color: #7f7f7f; text-decoration-color: #7f7f7f\">:</span><a href=\"file:///home/guilherme/Projects/credit-risk-analysis/venv/lib/python3.10/site-packages/kedro/ipython/__init__.py#63\" target=\"_blank\"><span style=\"color: #7f7f7f; text-decoration-color: #7f7f7f\">63</span></a>\n",
       "</pre>\n"
      ],
      "text/plain": [
       "\u001b[2;36m                   \u001b[0m\u001b[2;36m \u001b[0m\u001b[34mINFO    \u001b[0m Registered line magic \u001b[32m'%reload_kedro'\u001b[0m                                   \u001b]8;id=95181;file:///home/guilherme/Projects/credit-risk-analysis/venv/lib/python3.10/site-packages/kedro/ipython/__init__.py\u001b\\\u001b[2m__init__.py\u001b[0m\u001b]8;;\u001b\\\u001b[2m:\u001b[0m\u001b]8;id=308393;file:///home/guilherme/Projects/credit-risk-analysis/venv/lib/python3.10/site-packages/kedro/ipython/__init__.py#63\u001b\\\u001b[2m63\u001b[0m\u001b]8;;\u001b\\\n"
      ]
     },
     "metadata": {},
     "output_type": "display_data"
    },
    {
     "data": {
      "text/html": [
       "<pre style=\"white-space:pre;overflow-x:auto;line-height:normal;font-family:Menlo,'DejaVu Sans Mono',consolas,'Courier New',monospace\"><span style=\"color: #7fbfbf; text-decoration-color: #7fbfbf\">                    </span><span style=\"color: #000080; text-decoration-color: #000080\">INFO    </span> Registered line magic <span style=\"color: #008000; text-decoration-color: #008000\">'%load_node'</span>                                      <a href=\"file:///home/guilherme/Projects/credit-risk-analysis/venv/lib/python3.10/site-packages/kedro/ipython/__init__.py\" target=\"_blank\"><span style=\"color: #7f7f7f; text-decoration-color: #7f7f7f\">__init__.py</span></a><span style=\"color: #7f7f7f; text-decoration-color: #7f7f7f\">:</span><a href=\"file:///home/guilherme/Projects/credit-risk-analysis/venv/lib/python3.10/site-packages/kedro/ipython/__init__.py#65\" target=\"_blank\"><span style=\"color: #7f7f7f; text-decoration-color: #7f7f7f\">65</span></a>\n",
       "</pre>\n"
      ],
      "text/plain": [
       "\u001b[2;36m                   \u001b[0m\u001b[2;36m \u001b[0m\u001b[34mINFO    \u001b[0m Registered line magic \u001b[32m'%load_node'\u001b[0m                                      \u001b]8;id=929219;file:///home/guilherme/Projects/credit-risk-analysis/venv/lib/python3.10/site-packages/kedro/ipython/__init__.py\u001b\\\u001b[2m__init__.py\u001b[0m\u001b]8;;\u001b\\\u001b[2m:\u001b[0m\u001b]8;id=601727;file:///home/guilherme/Projects/credit-risk-analysis/venv/lib/python3.10/site-packages/kedro/ipython/__init__.py#65\u001b\\\u001b[2m65\u001b[0m\u001b]8;;\u001b\\\n"
      ]
     },
     "metadata": {},
     "output_type": "display_data"
    },
    {
     "data": {
      "text/html": [
       "<pre style=\"white-space:pre;overflow-x:auto;line-height:normal;font-family:Menlo,'DejaVu Sans Mono',consolas,'Courier New',monospace\"><span style=\"color: #7fbfbf; text-decoration-color: #7fbfbf\">                    </span><span style=\"color: #000080; text-decoration-color: #000080\">INFO    </span> Resolved project path as:                                              <a href=\"file:///home/guilherme/Projects/credit-risk-analysis/venv/lib/python3.10/site-packages/kedro/ipython/__init__.py\" target=\"_blank\"><span style=\"color: #7f7f7f; text-decoration-color: #7f7f7f\">__init__.py</span></a><span style=\"color: #7f7f7f; text-decoration-color: #7f7f7f\">:</span><a href=\"file:///home/guilherme/Projects/credit-risk-analysis/venv/lib/python3.10/site-packages/kedro/ipython/__init__.py#180\" target=\"_blank\"><span style=\"color: #7f7f7f; text-decoration-color: #7f7f7f\">180</span></a>\n",
       "<span style=\"color: #7fbfbf; text-decoration-color: #7fbfbf\">                    </span>         <span style=\"color: #800080; text-decoration-color: #800080\">/home/guilherme/Projects/</span><span style=\"color: #ff00ff; text-decoration-color: #ff00ff\">credit-risk-analysis.</span>                         <span style=\"color: #7f7f7f; text-decoration-color: #7f7f7f\">               </span>\n",
       "<span style=\"color: #7fbfbf; text-decoration-color: #7fbfbf\">                    </span>         To set a different path, run <span style=\"color: #008000; text-decoration-color: #008000\">'%reload_kedro &lt;project_root&gt;'</span>            <span style=\"color: #7f7f7f; text-decoration-color: #7f7f7f\">               </span>\n",
       "</pre>\n"
      ],
      "text/plain": [
       "\u001b[2;36m                   \u001b[0m\u001b[2;36m \u001b[0m\u001b[34mINFO    \u001b[0m Resolved project path as:                                              \u001b]8;id=372831;file:///home/guilherme/Projects/credit-risk-analysis/venv/lib/python3.10/site-packages/kedro/ipython/__init__.py\u001b\\\u001b[2m__init__.py\u001b[0m\u001b]8;;\u001b\\\u001b[2m:\u001b[0m\u001b]8;id=444019;file:///home/guilherme/Projects/credit-risk-analysis/venv/lib/python3.10/site-packages/kedro/ipython/__init__.py#180\u001b\\\u001b[2m180\u001b[0m\u001b]8;;\u001b\\\n",
       "\u001b[2;36m                    \u001b[0m         \u001b[35m/home/guilherme/Projects/\u001b[0m\u001b[95mcredit-risk-analysis.\u001b[0m                         \u001b[2m               \u001b[0m\n",
       "\u001b[2;36m                    \u001b[0m         To set a different path, run \u001b[32m'%reload_kedro \u001b[0m\u001b[32m<\u001b[0m\u001b[32mproject_root\u001b[0m\u001b[32m>\u001b[0m\u001b[32m'\u001b[0m            \u001b[2m               \u001b[0m\n"
      ]
     },
     "metadata": {},
     "output_type": "display_data"
    },
    {
     "data": {
      "text/html": [
       "<pre style=\"white-space:pre;overflow-x:auto;line-height:normal;font-family:Menlo,'DejaVu Sans Mono',consolas,'Courier New',monospace\"><span style=\"color: #7fbfbf; text-decoration-color: #7fbfbf\">[02/14/25 20:38:22] </span><span style=\"color: #000080; text-decoration-color: #000080\">INFO    </span> Kedro is sending anonymous usage data with the sole purpose of improving <a href=\"file:///home/guilherme/Projects/credit-risk-analysis/venv/lib/python3.10/site-packages/kedro_telemetry/plugin.py\" target=\"_blank\"><span style=\"color: #7f7f7f; text-decoration-color: #7f7f7f\">plugin.py</span></a><span style=\"color: #7f7f7f; text-decoration-color: #7f7f7f\">:</span><a href=\"file:///home/guilherme/Projects/credit-risk-analysis/venv/lib/python3.10/site-packages/kedro_telemetry/plugin.py#233\" target=\"_blank\"><span style=\"color: #7f7f7f; text-decoration-color: #7f7f7f\">233</span></a>\n",
       "<span style=\"color: #7fbfbf; text-decoration-color: #7fbfbf\">                    </span>         the product. No personal data or IP addresses are stored on our side. If <span style=\"color: #7f7f7f; text-decoration-color: #7f7f7f\">             </span>\n",
       "<span style=\"color: #7fbfbf; text-decoration-color: #7fbfbf\">                    </span>         you want to opt out, set the `KEDRO_DISABLE_TELEMETRY` or `DO_NOT_TRACK` <span style=\"color: #7f7f7f; text-decoration-color: #7f7f7f\">             </span>\n",
       "<span style=\"color: #7fbfbf; text-decoration-color: #7fbfbf\">                    </span>         environment variables, or create a `.telemetry` file in the current      <span style=\"color: #7f7f7f; text-decoration-color: #7f7f7f\">             </span>\n",
       "<span style=\"color: #7fbfbf; text-decoration-color: #7fbfbf\">                    </span>         working directory with the contents `consent: false`. Read more at       <span style=\"color: #7f7f7f; text-decoration-color: #7f7f7f\">             </span>\n",
       "<span style=\"color: #7fbfbf; text-decoration-color: #7fbfbf\">                    </span>         <span style=\"color: #0000ff; text-decoration-color: #0000ff; text-decoration: underline\">https://docs.kedro.org/en/stable/configuration/telemetry.html</span>            <span style=\"color: #7f7f7f; text-decoration-color: #7f7f7f\">             </span>\n",
       "</pre>\n"
      ],
      "text/plain": [
       "\u001b[2;36m[02/14/25 20:38:22]\u001b[0m\u001b[2;36m \u001b[0m\u001b[34mINFO    \u001b[0m Kedro is sending anonymous usage data with the sole purpose of improving \u001b]8;id=343223;file:///home/guilherme/Projects/credit-risk-analysis/venv/lib/python3.10/site-packages/kedro_telemetry/plugin.py\u001b\\\u001b[2mplugin.py\u001b[0m\u001b]8;;\u001b\\\u001b[2m:\u001b[0m\u001b]8;id=295533;file:///home/guilherme/Projects/credit-risk-analysis/venv/lib/python3.10/site-packages/kedro_telemetry/plugin.py#233\u001b\\\u001b[2m233\u001b[0m\u001b]8;;\u001b\\\n",
       "\u001b[2;36m                    \u001b[0m         the product. No personal data or IP addresses are stored on our side. If \u001b[2m             \u001b[0m\n",
       "\u001b[2;36m                    \u001b[0m         you want to opt out, set the `KEDRO_DISABLE_TELEMETRY` or `DO_NOT_TRACK` \u001b[2m             \u001b[0m\n",
       "\u001b[2;36m                    \u001b[0m         environment variables, or create a `.telemetry` file in the current      \u001b[2m             \u001b[0m\n",
       "\u001b[2;36m                    \u001b[0m         working directory with the contents `consent: false`. Read more at       \u001b[2m             \u001b[0m\n",
       "\u001b[2;36m                    \u001b[0m         \u001b[4;94mhttps://docs.kedro.org/en/stable/configuration/telemetry.html\u001b[0m            \u001b[2m             \u001b[0m\n"
      ]
     },
     "metadata": {},
     "output_type": "display_data"
    },
    {
     "data": {
      "text/html": [
       "<pre style=\"white-space:pre;overflow-x:auto;line-height:normal;font-family:Menlo,'DejaVu Sans Mono',consolas,'Courier New',monospace\"><span style=\"color: #7fbfbf; text-decoration-color: #7fbfbf\">[02/14/25 20:38:23] </span><span style=\"color: #000080; text-decoration-color: #000080\">INFO    </span> Kedro project Credit Risk Analysis                                     <a href=\"file:///home/guilherme/Projects/credit-risk-analysis/venv/lib/python3.10/site-packages/kedro/ipython/__init__.py\" target=\"_blank\"><span style=\"color: #7f7f7f; text-decoration-color: #7f7f7f\">__init__.py</span></a><span style=\"color: #7f7f7f; text-decoration-color: #7f7f7f\">:</span><a href=\"file:///home/guilherme/Projects/credit-risk-analysis/venv/lib/python3.10/site-packages/kedro/ipython/__init__.py#146\" target=\"_blank\"><span style=\"color: #7f7f7f; text-decoration-color: #7f7f7f\">146</span></a>\n",
       "</pre>\n"
      ],
      "text/plain": [
       "\u001b[2;36m[02/14/25 20:38:23]\u001b[0m\u001b[2;36m \u001b[0m\u001b[34mINFO    \u001b[0m Kedro project Credit Risk Analysis                                     \u001b]8;id=819844;file:///home/guilherme/Projects/credit-risk-analysis/venv/lib/python3.10/site-packages/kedro/ipython/__init__.py\u001b\\\u001b[2m__init__.py\u001b[0m\u001b]8;;\u001b\\\u001b[2m:\u001b[0m\u001b]8;id=743927;file:///home/guilherme/Projects/credit-risk-analysis/venv/lib/python3.10/site-packages/kedro/ipython/__init__.py#146\u001b\\\u001b[2m146\u001b[0m\u001b]8;;\u001b\\\n"
      ]
     },
     "metadata": {},
     "output_type": "display_data"
    },
    {
     "data": {
      "text/html": [
       "<pre style=\"white-space:pre;overflow-x:auto;line-height:normal;font-family:Menlo,'DejaVu Sans Mono',consolas,'Courier New',monospace\"><span style=\"color: #7fbfbf; text-decoration-color: #7fbfbf\">                    </span><span style=\"color: #000080; text-decoration-color: #000080\">INFO    </span> Defined global variable <span style=\"color: #008000; text-decoration-color: #008000\">'context'</span>, <span style=\"color: #008000; text-decoration-color: #008000\">'session'</span>, <span style=\"color: #008000; text-decoration-color: #008000\">'catalog'</span> and            <a href=\"file:///home/guilherme/Projects/credit-risk-analysis/venv/lib/python3.10/site-packages/kedro/ipython/__init__.py\" target=\"_blank\"><span style=\"color: #7f7f7f; text-decoration-color: #7f7f7f\">__init__.py</span></a><span style=\"color: #7f7f7f; text-decoration-color: #7f7f7f\">:</span><a href=\"file:///home/guilherme/Projects/credit-risk-analysis/venv/lib/python3.10/site-packages/kedro/ipython/__init__.py#147\" target=\"_blank\"><span style=\"color: #7f7f7f; text-decoration-color: #7f7f7f\">147</span></a>\n",
       "<span style=\"color: #7fbfbf; text-decoration-color: #7fbfbf\">                    </span>         <span style=\"color: #008000; text-decoration-color: #008000\">'pipelines'</span>                                                            <span style=\"color: #7f7f7f; text-decoration-color: #7f7f7f\">               </span>\n",
       "</pre>\n"
      ],
      "text/plain": [
       "\u001b[2;36m                   \u001b[0m\u001b[2;36m \u001b[0m\u001b[34mINFO    \u001b[0m Defined global variable \u001b[32m'context'\u001b[0m, \u001b[32m'session'\u001b[0m, \u001b[32m'catalog'\u001b[0m and            \u001b]8;id=49257;file:///home/guilherme/Projects/credit-risk-analysis/venv/lib/python3.10/site-packages/kedro/ipython/__init__.py\u001b\\\u001b[2m__init__.py\u001b[0m\u001b]8;;\u001b\\\u001b[2m:\u001b[0m\u001b]8;id=505429;file:///home/guilherme/Projects/credit-risk-analysis/venv/lib/python3.10/site-packages/kedro/ipython/__init__.py#147\u001b\\\u001b[2m147\u001b[0m\u001b]8;;\u001b\\\n",
       "\u001b[2;36m                    \u001b[0m         \u001b[32m'pipelines'\u001b[0m                                                            \u001b[2m               \u001b[0m\n"
      ]
     },
     "metadata": {},
     "output_type": "display_data"
    },
    {
     "data": {
      "text/html": [
       "<pre style=\"white-space:pre;overflow-x:auto;line-height:normal;font-family:Menlo,'DejaVu Sans Mono',consolas,'Courier New',monospace\"><span style=\"color: #7fbfbf; text-decoration-color: #7fbfbf\">                    </span><span style=\"color: #000080; text-decoration-color: #000080\">INFO    </span> Registered line magic <span style=\"color: #008000; text-decoration-color: #008000\">'run_viz'</span>                                        <a href=\"file:///home/guilherme/Projects/credit-risk-analysis/venv/lib/python3.10/site-packages/kedro/ipython/__init__.py\" target=\"_blank\"><span style=\"color: #7f7f7f; text-decoration-color: #7f7f7f\">__init__.py</span></a><span style=\"color: #7f7f7f; text-decoration-color: #7f7f7f\">:</span><a href=\"file:///home/guilherme/Projects/credit-risk-analysis/venv/lib/python3.10/site-packages/kedro/ipython/__init__.py#153\" target=\"_blank\"><span style=\"color: #7f7f7f; text-decoration-color: #7f7f7f\">153</span></a>\n",
       "</pre>\n"
      ],
      "text/plain": [
       "\u001b[2;36m                   \u001b[0m\u001b[2;36m \u001b[0m\u001b[34mINFO    \u001b[0m Registered line magic \u001b[32m'run_viz'\u001b[0m                                        \u001b]8;id=639490;file:///home/guilherme/Projects/credit-risk-analysis/venv/lib/python3.10/site-packages/kedro/ipython/__init__.py\u001b\\\u001b[2m__init__.py\u001b[0m\u001b]8;;\u001b\\\u001b[2m:\u001b[0m\u001b]8;id=453007;file:///home/guilherme/Projects/credit-risk-analysis/venv/lib/python3.10/site-packages/kedro/ipython/__init__.py#153\u001b\\\u001b[2m153\u001b[0m\u001b]8;;\u001b\\\n"
      ]
     },
     "metadata": {},
     "output_type": "display_data"
    }
   ],
   "source": [
    "%reload_ext kedro.ipython"
   ]
  },
  {
   "cell_type": "markdown",
   "metadata": {},
   "source": [
    "# Importando bibliotecas"
   ]
  },
  {
   "cell_type": "code",
   "execution_count": 2,
   "metadata": {},
   "outputs": [],
   "source": [
    "import pandas as pd\n",
    "\n",
    "pd.set_option('display.max_columns', None)"
   ]
  },
  {
   "cell_type": "markdown",
   "metadata": {},
   "source": [
    "# Funções úteis"
   ]
  },
  {
   "cell_type": "code",
   "execution_count": 3,
   "metadata": {},
   "outputs": [],
   "source": [
    "def verify(df):\n",
    "    print(df.shape)\n",
    "    display(df.head())\n",
    "    display(df.tail())\n",
    "\n",
    "def display_info_dataframe(df):\n",
    "    df_info = pd.concat([df.dtypes, df.isna().sum(), df.nunique()], axis=1)\n",
    "    df_info.columns = ['dtype', 'qtd_nulos', 'qtd_unicos']\n",
    "    display(df_info)"
   ]
  },
  {
   "cell_type": "markdown",
   "metadata": {},
   "source": [
    "# Lendo as bases"
   ]
  },
  {
   "cell_type": "code",
   "execution_count": 4,
   "metadata": {},
   "outputs": [
    {
     "data": {
      "text/html": [
       "<pre style=\"white-space:pre;overflow-x:auto;line-height:normal;font-family:Menlo,'DejaVu Sans Mono',consolas,'Courier New',monospace\"><span style=\"color: #7fbfbf; text-decoration-color: #7fbfbf\">                    </span><span style=\"color: #000080; text-decoration-color: #000080\">INFO    </span> Loading data from <span style=\"color: #ff8700; text-decoration-color: #ff8700\">pagamentos_desenvolvimento</span> <span style=\"font-weight: bold\">(</span>CSVDataset<span style=\"font-weight: bold\">)</span><span style=\"color: #808000; text-decoration-color: #808000\">...</span>       <a href=\"file:///home/guilherme/Projects/credit-risk-analysis/venv/lib/python3.10/site-packages/kedro/io/data_catalog.py\" target=\"_blank\"><span style=\"color: #7f7f7f; text-decoration-color: #7f7f7f\">data_catalog.py</span></a><span style=\"color: #7f7f7f; text-decoration-color: #7f7f7f\">:</span><a href=\"file:///home/guilherme/Projects/credit-risk-analysis/venv/lib/python3.10/site-packages/kedro/io/data_catalog.py#390\" target=\"_blank\"><span style=\"color: #7f7f7f; text-decoration-color: #7f7f7f\">390</span></a>\n",
       "</pre>\n"
      ],
      "text/plain": [
       "\u001b[2;36m                   \u001b[0m\u001b[2;36m \u001b[0m\u001b[34mINFO    \u001b[0m Loading data from \u001b[38;5;208mpagamentos_desenvolvimento\u001b[0m \u001b[1m(\u001b[0mCSVDataset\u001b[1m)\u001b[0m\u001b[33m...\u001b[0m       \u001b]8;id=329592;file:///home/guilherme/Projects/credit-risk-analysis/venv/lib/python3.10/site-packages/kedro/io/data_catalog.py\u001b\\\u001b[2mdata_catalog.py\u001b[0m\u001b]8;;\u001b\\\u001b[2m:\u001b[0m\u001b]8;id=875866;file:///home/guilherme/Projects/credit-risk-analysis/venv/lib/python3.10/site-packages/kedro/io/data_catalog.py#390\u001b\\\u001b[2m390\u001b[0m\u001b]8;;\u001b\\\n"
      ]
     },
     "metadata": {},
     "output_type": "display_data"
    }
   ],
   "source": [
    "base_pagamentos = catalog.load(\"pagamentos_desenvolvimento\")"
   ]
  },
  {
   "cell_type": "code",
   "execution_count": 5,
   "metadata": {},
   "outputs": [
    {
     "data": {
      "text/html": [
       "<pre style=\"white-space:pre;overflow-x:auto;line-height:normal;font-family:Menlo,'DejaVu Sans Mono',consolas,'Courier New',monospace\"><span style=\"color: #7fbfbf; text-decoration-color: #7fbfbf\">                    </span><span style=\"color: #000080; text-decoration-color: #000080\">INFO    </span> Loading data from <span style=\"color: #ff8700; text-decoration-color: #ff8700\">cadastral</span> <span style=\"font-weight: bold\">(</span>CSVDataset<span style=\"font-weight: bold\">)</span><span style=\"color: #808000; text-decoration-color: #808000\">...</span>                        <a href=\"file:///home/guilherme/Projects/credit-risk-analysis/venv/lib/python3.10/site-packages/kedro/io/data_catalog.py\" target=\"_blank\"><span style=\"color: #7f7f7f; text-decoration-color: #7f7f7f\">data_catalog.py</span></a><span style=\"color: #7f7f7f; text-decoration-color: #7f7f7f\">:</span><a href=\"file:///home/guilherme/Projects/credit-risk-analysis/venv/lib/python3.10/site-packages/kedro/io/data_catalog.py#390\" target=\"_blank\"><span style=\"color: #7f7f7f; text-decoration-color: #7f7f7f\">390</span></a>\n",
       "</pre>\n"
      ],
      "text/plain": [
       "\u001b[2;36m                   \u001b[0m\u001b[2;36m \u001b[0m\u001b[34mINFO    \u001b[0m Loading data from \u001b[38;5;208mcadastral\u001b[0m \u001b[1m(\u001b[0mCSVDataset\u001b[1m)\u001b[0m\u001b[33m...\u001b[0m                        \u001b]8;id=373094;file:///home/guilherme/Projects/credit-risk-analysis/venv/lib/python3.10/site-packages/kedro/io/data_catalog.py\u001b\\\u001b[2mdata_catalog.py\u001b[0m\u001b]8;;\u001b\\\u001b[2m:\u001b[0m\u001b]8;id=537385;file:///home/guilherme/Projects/credit-risk-analysis/venv/lib/python3.10/site-packages/kedro/io/data_catalog.py#390\u001b\\\u001b[2m390\u001b[0m\u001b]8;;\u001b\\\n"
      ]
     },
     "metadata": {},
     "output_type": "display_data"
    }
   ],
   "source": [
    "base_cadastral = catalog.load(\"cadastral\")"
   ]
  },
  {
   "cell_type": "code",
   "execution_count": 6,
   "metadata": {},
   "outputs": [
    {
     "data": {
      "text/html": [
       "<pre style=\"white-space:pre;overflow-x:auto;line-height:normal;font-family:Menlo,'DejaVu Sans Mono',consolas,'Courier New',monospace\"><span style=\"color: #7fbfbf; text-decoration-color: #7fbfbf\">                    </span><span style=\"color: #000080; text-decoration-color: #000080\">INFO    </span> Loading data from <span style=\"color: #ff8700; text-decoration-color: #ff8700\">info</span> <span style=\"font-weight: bold\">(</span>CSVDataset<span style=\"font-weight: bold\">)</span><span style=\"color: #808000; text-decoration-color: #808000\">...</span>                             <a href=\"file:///home/guilherme/Projects/credit-risk-analysis/venv/lib/python3.10/site-packages/kedro/io/data_catalog.py\" target=\"_blank\"><span style=\"color: #7f7f7f; text-decoration-color: #7f7f7f\">data_catalog.py</span></a><span style=\"color: #7f7f7f; text-decoration-color: #7f7f7f\">:</span><a href=\"file:///home/guilherme/Projects/credit-risk-analysis/venv/lib/python3.10/site-packages/kedro/io/data_catalog.py#390\" target=\"_blank\"><span style=\"color: #7f7f7f; text-decoration-color: #7f7f7f\">390</span></a>\n",
       "</pre>\n"
      ],
      "text/plain": [
       "\u001b[2;36m                   \u001b[0m\u001b[2;36m \u001b[0m\u001b[34mINFO    \u001b[0m Loading data from \u001b[38;5;208minfo\u001b[0m \u001b[1m(\u001b[0mCSVDataset\u001b[1m)\u001b[0m\u001b[33m...\u001b[0m                             \u001b]8;id=143566;file:///home/guilherme/Projects/credit-risk-analysis/venv/lib/python3.10/site-packages/kedro/io/data_catalog.py\u001b\\\u001b[2mdata_catalog.py\u001b[0m\u001b]8;;\u001b\\\u001b[2m:\u001b[0m\u001b]8;id=103060;file:///home/guilherme/Projects/credit-risk-analysis/venv/lib/python3.10/site-packages/kedro/io/data_catalog.py#390\u001b\\\u001b[2m390\u001b[0m\u001b]8;;\u001b\\\n"
      ]
     },
     "metadata": {},
     "output_type": "display_data"
    }
   ],
   "source": [
    "base_info = catalog.load(\"info\")"
   ]
  },
  {
   "cell_type": "markdown",
   "metadata": {},
   "source": [
    "# Verificações"
   ]
  },
  {
   "cell_type": "markdown",
   "metadata": {},
   "source": [
    "## Base Pagamentos"
   ]
  },
  {
   "cell_type": "code",
   "execution_count": 7,
   "metadata": {},
   "outputs": [
    {
     "name": "stdout",
     "output_type": "stream",
     "text": [
      "(77414, 7)\n"
     ]
    },
    {
     "data": {
      "text/html": [
       "<pre style=\"white-space:pre;overflow-x:auto;line-height:normal;font-family:Menlo,'DejaVu Sans Mono',consolas,'Courier New',monospace\"></pre>\n"
      ],
      "text/plain": []
     },
     "metadata": {},
     "output_type": "display_data"
    },
    {
     "data": {
      "text/html": [
       "<div>\n",
       "<style scoped>\n",
       "    .dataframe tbody tr th:only-of-type {\n",
       "        vertical-align: middle;\n",
       "    }\n",
       "\n",
       "    .dataframe tbody tr th {\n",
       "        vertical-align: top;\n",
       "    }\n",
       "\n",
       "    .dataframe thead th {\n",
       "        text-align: right;\n",
       "    }\n",
       "</style>\n",
       "<table border=\"1\" class=\"dataframe\">\n",
       "  <thead>\n",
       "    <tr style=\"text-align: right;\">\n",
       "      <th></th>\n",
       "      <th>ID_CLIENTE</th>\n",
       "      <th>SAFRA_REF</th>\n",
       "      <th>DATA_EMISSAO_DOCUMENTO</th>\n",
       "      <th>DATA_PAGAMENTO</th>\n",
       "      <th>DATA_VENCIMENTO</th>\n",
       "      <th>VALOR_A_PAGAR</th>\n",
       "      <th>TAXA</th>\n",
       "    </tr>\n",
       "  </thead>\n",
       "  <tbody>\n",
       "    <tr>\n",
       "      <th>0</th>\n",
       "      <td>1661240395903230676</td>\n",
       "      <td>2018-08</td>\n",
       "      <td>2018-08-17</td>\n",
       "      <td>2018-09-06</td>\n",
       "      <td>2018-09-06</td>\n",
       "      <td>35516.41</td>\n",
       "      <td>6.99</td>\n",
       "    </tr>\n",
       "    <tr>\n",
       "      <th>1</th>\n",
       "      <td>1661240395903230676</td>\n",
       "      <td>2018-08</td>\n",
       "      <td>2018-08-19</td>\n",
       "      <td>2018-09-11</td>\n",
       "      <td>2018-09-10</td>\n",
       "      <td>17758.21</td>\n",
       "      <td>6.99</td>\n",
       "    </tr>\n",
       "    <tr>\n",
       "      <th>2</th>\n",
       "      <td>1661240395903230676</td>\n",
       "      <td>2018-08</td>\n",
       "      <td>2018-08-26</td>\n",
       "      <td>2018-09-18</td>\n",
       "      <td>2018-09-17</td>\n",
       "      <td>17431.96</td>\n",
       "      <td>6.99</td>\n",
       "    </tr>\n",
       "    <tr>\n",
       "      <th>3</th>\n",
       "      <td>1661240395903230676</td>\n",
       "      <td>2018-08</td>\n",
       "      <td>2018-08-30</td>\n",
       "      <td>2018-10-11</td>\n",
       "      <td>2018-10-05</td>\n",
       "      <td>1341.00</td>\n",
       "      <td>6.99</td>\n",
       "    </tr>\n",
       "    <tr>\n",
       "      <th>4</th>\n",
       "      <td>1661240395903230676</td>\n",
       "      <td>2018-08</td>\n",
       "      <td>2018-08-31</td>\n",
       "      <td>2018-09-20</td>\n",
       "      <td>2018-09-20</td>\n",
       "      <td>21309.85</td>\n",
       "      <td>6.99</td>\n",
       "    </tr>\n",
       "  </tbody>\n",
       "</table>\n",
       "</div>"
      ],
      "text/plain": [
       "\n",
       "            ID_CLIENTE SAFRA_REF DATA_EMISSAO_DOCUMENTO DATA_PAGAMENTO  \\\n",
       "\u001b[1;36m0\u001b[0m  \u001b[1;36m1661240395903230676\u001b[0m   \u001b[1;36m2018\u001b[0m-\u001b[1;36m08\u001b[0m             \u001b[1;36m2018\u001b[0m-\u001b[1;36m08\u001b[0m-\u001b[1;36m17\u001b[0m     \u001b[1;36m2018\u001b[0m-\u001b[1;36m09\u001b[0m-\u001b[1;36m06\u001b[0m   \n",
       "\u001b[1;36m1\u001b[0m  \u001b[1;36m1661240395903230676\u001b[0m   \u001b[1;36m2018\u001b[0m-\u001b[1;36m08\u001b[0m             \u001b[1;36m2018\u001b[0m-\u001b[1;36m08\u001b[0m-\u001b[1;36m19\u001b[0m     \u001b[1;36m2018\u001b[0m-\u001b[1;36m09\u001b[0m-\u001b[1;36m11\u001b[0m   \n",
       "\u001b[1;36m2\u001b[0m  \u001b[1;36m1661240395903230676\u001b[0m   \u001b[1;36m2018\u001b[0m-\u001b[1;36m08\u001b[0m             \u001b[1;36m2018\u001b[0m-\u001b[1;36m08\u001b[0m-\u001b[1;36m26\u001b[0m     \u001b[1;36m2018\u001b[0m-\u001b[1;36m09\u001b[0m-\u001b[1;36m18\u001b[0m   \n",
       "\u001b[1;36m3\u001b[0m  \u001b[1;36m1661240395903230676\u001b[0m   \u001b[1;36m2018\u001b[0m-\u001b[1;36m08\u001b[0m             \u001b[1;36m2018\u001b[0m-\u001b[1;36m08\u001b[0m-\u001b[1;36m30\u001b[0m     \u001b[1;36m2018\u001b[0m-\u001b[1;36m10\u001b[0m-\u001b[1;36m11\u001b[0m   \n",
       "\u001b[1;36m4\u001b[0m  \u001b[1;36m1661240395903230676\u001b[0m   \u001b[1;36m2018\u001b[0m-\u001b[1;36m08\u001b[0m             \u001b[1;36m2018\u001b[0m-\u001b[1;36m08\u001b[0m-\u001b[1;36m31\u001b[0m     \u001b[1;36m2018\u001b[0m-\u001b[1;36m09\u001b[0m-\u001b[1;36m20\u001b[0m   \n",
       "\n",
       "  DATA_VENCIMENTO  VALOR_A_PAGAR  TAXA  \n",
       "\u001b[1;36m0\u001b[0m      \u001b[1;36m2018\u001b[0m-\u001b[1;36m09\u001b[0m-\u001b[1;36m06\u001b[0m       \u001b[1;36m35516.41\u001b[0m  \u001b[1;36m6.99\u001b[0m  \n",
       "\u001b[1;36m1\u001b[0m      \u001b[1;36m2018\u001b[0m-\u001b[1;36m09\u001b[0m-\u001b[1;36m10\u001b[0m       \u001b[1;36m17758.21\u001b[0m  \u001b[1;36m6.99\u001b[0m  \n",
       "\u001b[1;36m2\u001b[0m      \u001b[1;36m2018\u001b[0m-\u001b[1;36m09\u001b[0m-\u001b[1;36m17\u001b[0m       \u001b[1;36m17431.96\u001b[0m  \u001b[1;36m6.99\u001b[0m  \n",
       "\u001b[1;36m3\u001b[0m      \u001b[1;36m2018\u001b[0m-\u001b[1;36m10\u001b[0m-\u001b[1;36m05\u001b[0m        \u001b[1;36m1341.00\u001b[0m  \u001b[1;36m6.99\u001b[0m  \n",
       "\u001b[1;36m4\u001b[0m      \u001b[1;36m2018\u001b[0m-\u001b[1;36m09\u001b[0m-\u001b[1;36m20\u001b[0m       \u001b[1;36m21309.85\u001b[0m  \u001b[1;36m6.99\u001b[0m  "
      ]
     },
     "metadata": {},
     "output_type": "display_data"
    },
    {
     "data": {
      "text/html": [
       "<pre style=\"white-space:pre;overflow-x:auto;line-height:normal;font-family:Menlo,'DejaVu Sans Mono',consolas,'Courier New',monospace\"></pre>\n"
      ],
      "text/plain": []
     },
     "metadata": {},
     "output_type": "display_data"
    },
    {
     "data": {
      "text/html": [
       "<div>\n",
       "<style scoped>\n",
       "    .dataframe tbody tr th:only-of-type {\n",
       "        vertical-align: middle;\n",
       "    }\n",
       "\n",
       "    .dataframe tbody tr th {\n",
       "        vertical-align: top;\n",
       "    }\n",
       "\n",
       "    .dataframe thead th {\n",
       "        text-align: right;\n",
       "    }\n",
       "</style>\n",
       "<table border=\"1\" class=\"dataframe\">\n",
       "  <thead>\n",
       "    <tr style=\"text-align: right;\">\n",
       "      <th></th>\n",
       "      <th>ID_CLIENTE</th>\n",
       "      <th>SAFRA_REF</th>\n",
       "      <th>DATA_EMISSAO_DOCUMENTO</th>\n",
       "      <th>DATA_PAGAMENTO</th>\n",
       "      <th>DATA_VENCIMENTO</th>\n",
       "      <th>VALOR_A_PAGAR</th>\n",
       "      <th>TAXA</th>\n",
       "    </tr>\n",
       "  </thead>\n",
       "  <tbody>\n",
       "    <tr>\n",
       "      <th>77409</th>\n",
       "      <td>2951563549197799278</td>\n",
       "      <td>2021-06</td>\n",
       "      <td>2021-06-30</td>\n",
       "      <td>2021-07-16</td>\n",
       "      <td>2021-07-16</td>\n",
       "      <td>89980.00</td>\n",
       "      <td>5.99</td>\n",
       "    </tr>\n",
       "    <tr>\n",
       "      <th>77410</th>\n",
       "      <td>5220206408301580591</td>\n",
       "      <td>2021-06</td>\n",
       "      <td>2021-06-30</td>\n",
       "      <td>2021-08-16</td>\n",
       "      <td>2021-08-16</td>\n",
       "      <td>42239.00</td>\n",
       "      <td>5.99</td>\n",
       "    </tr>\n",
       "    <tr>\n",
       "      <th>77411</th>\n",
       "      <td>5860276371789140450</td>\n",
       "      <td>2021-06</td>\n",
       "      <td>2021-06-30</td>\n",
       "      <td>2021-07-16</td>\n",
       "      <td>2021-07-16</td>\n",
       "      <td>20921.50</td>\n",
       "      <td>5.99</td>\n",
       "    </tr>\n",
       "    <tr>\n",
       "      <th>77412</th>\n",
       "      <td>2814790209436551216</td>\n",
       "      <td>2021-06</td>\n",
       "      <td>2021-06-30</td>\n",
       "      <td>2021-07-16</td>\n",
       "      <td>2021-07-16</td>\n",
       "      <td>90231.05</td>\n",
       "      <td>6.99</td>\n",
       "    </tr>\n",
       "    <tr>\n",
       "      <th>77413</th>\n",
       "      <td>8343941262792249232</td>\n",
       "      <td>2021-06</td>\n",
       "      <td>2021-06-30</td>\n",
       "      <td>2021-08-16</td>\n",
       "      <td>2021-08-16</td>\n",
       "      <td>20736.51</td>\n",
       "      <td>4.99</td>\n",
       "    </tr>\n",
       "  </tbody>\n",
       "</table>\n",
       "</div>"
      ],
      "text/plain": [
       "\n",
       "                ID_CLIENTE SAFRA_REF DATA_EMISSAO_DOCUMENTO DATA_PAGAMENTO  \\\n",
       "\u001b[1;36m77409\u001b[0m  \u001b[1;36m2951563549197799278\u001b[0m   \u001b[1;36m2021\u001b[0m-\u001b[1;36m06\u001b[0m             \u001b[1;36m2021\u001b[0m-\u001b[1;36m06\u001b[0m-\u001b[1;36m30\u001b[0m     \u001b[1;36m2021\u001b[0m-\u001b[1;36m07\u001b[0m-\u001b[1;36m16\u001b[0m   \n",
       "\u001b[1;36m77410\u001b[0m  \u001b[1;36m5220206408301580591\u001b[0m   \u001b[1;36m2021\u001b[0m-\u001b[1;36m06\u001b[0m             \u001b[1;36m2021\u001b[0m-\u001b[1;36m06\u001b[0m-\u001b[1;36m30\u001b[0m     \u001b[1;36m2021\u001b[0m-\u001b[1;36m08\u001b[0m-\u001b[1;36m16\u001b[0m   \n",
       "\u001b[1;36m77411\u001b[0m  \u001b[1;36m5860276371789140450\u001b[0m   \u001b[1;36m2021\u001b[0m-\u001b[1;36m06\u001b[0m             \u001b[1;36m2021\u001b[0m-\u001b[1;36m06\u001b[0m-\u001b[1;36m30\u001b[0m     \u001b[1;36m2021\u001b[0m-\u001b[1;36m07\u001b[0m-\u001b[1;36m16\u001b[0m   \n",
       "\u001b[1;36m77412\u001b[0m  \u001b[1;36m2814790209436551216\u001b[0m   \u001b[1;36m2021\u001b[0m-\u001b[1;36m06\u001b[0m             \u001b[1;36m2021\u001b[0m-\u001b[1;36m06\u001b[0m-\u001b[1;36m30\u001b[0m     \u001b[1;36m2021\u001b[0m-\u001b[1;36m07\u001b[0m-\u001b[1;36m16\u001b[0m   \n",
       "\u001b[1;36m77413\u001b[0m  \u001b[1;36m8343941262792249232\u001b[0m   \u001b[1;36m2021\u001b[0m-\u001b[1;36m06\u001b[0m             \u001b[1;36m2021\u001b[0m-\u001b[1;36m06\u001b[0m-\u001b[1;36m30\u001b[0m     \u001b[1;36m2021\u001b[0m-\u001b[1;36m08\u001b[0m-\u001b[1;36m16\u001b[0m   \n",
       "\n",
       "      DATA_VENCIMENTO  VALOR_A_PAGAR  TAXA  \n",
       "\u001b[1;36m77409\u001b[0m      \u001b[1;36m2021\u001b[0m-\u001b[1;36m07\u001b[0m-\u001b[1;36m16\u001b[0m       \u001b[1;36m89980.00\u001b[0m  \u001b[1;36m5.99\u001b[0m  \n",
       "\u001b[1;36m77410\u001b[0m      \u001b[1;36m2021\u001b[0m-\u001b[1;36m08\u001b[0m-\u001b[1;36m16\u001b[0m       \u001b[1;36m42239.00\u001b[0m  \u001b[1;36m5.99\u001b[0m  \n",
       "\u001b[1;36m77411\u001b[0m      \u001b[1;36m2021\u001b[0m-\u001b[1;36m07\u001b[0m-\u001b[1;36m16\u001b[0m       \u001b[1;36m20921.50\u001b[0m  \u001b[1;36m5.99\u001b[0m  \n",
       "\u001b[1;36m77412\u001b[0m      \u001b[1;36m2021\u001b[0m-\u001b[1;36m07\u001b[0m-\u001b[1;36m16\u001b[0m       \u001b[1;36m90231.05\u001b[0m  \u001b[1;36m6.99\u001b[0m  \n",
       "\u001b[1;36m77413\u001b[0m      \u001b[1;36m2021\u001b[0m-\u001b[1;36m08\u001b[0m-\u001b[1;36m16\u001b[0m       \u001b[1;36m20736.51\u001b[0m  \u001b[1;36m4.99\u001b[0m  "
      ]
     },
     "metadata": {},
     "output_type": "display_data"
    }
   ],
   "source": [
    "verify(base_pagamentos)"
   ]
  },
  {
   "cell_type": "code",
   "execution_count": 8,
   "metadata": {},
   "outputs": [
    {
     "data": {
      "text/html": [
       "<pre style=\"white-space:pre;overflow-x:auto;line-height:normal;font-family:Menlo,'DejaVu Sans Mono',consolas,'Courier New',monospace\"></pre>\n"
      ],
      "text/plain": []
     },
     "metadata": {},
     "output_type": "display_data"
    },
    {
     "data": {
      "text/plain": [
       "\u001b[1;35mnp.int64\u001b[0m\u001b[1m(\u001b[0m\u001b[1;36m0\u001b[0m\u001b[1m)\u001b[0m"
      ]
     },
     "execution_count": 8,
     "metadata": {},
     "output_type": "execute_result"
    }
   ],
   "source": [
    "base_pagamentos.duplicated().sum()"
   ]
  },
  {
   "cell_type": "code",
   "execution_count": 9,
   "metadata": {},
   "outputs": [
    {
     "data": {
      "text/html": [
       "<pre style=\"white-space:pre;overflow-x:auto;line-height:normal;font-family:Menlo,'DejaVu Sans Mono',consolas,'Courier New',monospace\"></pre>\n"
      ],
      "text/plain": []
     },
     "metadata": {},
     "output_type": "display_data"
    },
    {
     "data": {
      "text/html": [
       "<div>\n",
       "<style scoped>\n",
       "    .dataframe tbody tr th:only-of-type {\n",
       "        vertical-align: middle;\n",
       "    }\n",
       "\n",
       "    .dataframe tbody tr th {\n",
       "        vertical-align: top;\n",
       "    }\n",
       "\n",
       "    .dataframe thead th {\n",
       "        text-align: right;\n",
       "    }\n",
       "</style>\n",
       "<table border=\"1\" class=\"dataframe\">\n",
       "  <thead>\n",
       "    <tr style=\"text-align: right;\">\n",
       "      <th></th>\n",
       "      <th>dtype</th>\n",
       "      <th>qtd_nulos</th>\n",
       "      <th>qtd_unicos</th>\n",
       "    </tr>\n",
       "  </thead>\n",
       "  <tbody>\n",
       "    <tr>\n",
       "      <th>ID_CLIENTE</th>\n",
       "      <td>int64</td>\n",
       "      <td>0</td>\n",
       "      <td>1248</td>\n",
       "    </tr>\n",
       "    <tr>\n",
       "      <th>SAFRA_REF</th>\n",
       "      <td>object</td>\n",
       "      <td>0</td>\n",
       "      <td>35</td>\n",
       "    </tr>\n",
       "    <tr>\n",
       "      <th>DATA_EMISSAO_DOCUMENTO</th>\n",
       "      <td>object</td>\n",
       "      <td>0</td>\n",
       "      <td>1040</td>\n",
       "    </tr>\n",
       "    <tr>\n",
       "      <th>DATA_PAGAMENTO</th>\n",
       "      <td>object</td>\n",
       "      <td>0</td>\n",
       "      <td>921</td>\n",
       "    </tr>\n",
       "    <tr>\n",
       "      <th>DATA_VENCIMENTO</th>\n",
       "      <td>object</td>\n",
       "      <td>0</td>\n",
       "      <td>955</td>\n",
       "    </tr>\n",
       "    <tr>\n",
       "      <th>VALOR_A_PAGAR</th>\n",
       "      <td>float64</td>\n",
       "      <td>0</td>\n",
       "      <td>68527</td>\n",
       "    </tr>\n",
       "    <tr>\n",
       "      <th>TAXA</th>\n",
       "      <td>float64</td>\n",
       "      <td>0</td>\n",
       "      <td>5</td>\n",
       "    </tr>\n",
       "  </tbody>\n",
       "</table>\n",
       "</div>"
      ],
      "text/plain": [
       "\n",
       "                          dtype  qtd_nulos  qtd_unicos\n",
       "ID_CLIENTE                int64          \u001b[1;36m0\u001b[0m        \u001b[1;36m1248\u001b[0m\n",
       "SAFRA_REF                object          \u001b[1;36m0\u001b[0m          \u001b[1;36m35\u001b[0m\n",
       "DATA_EMISSAO_DOCUMENTO   object          \u001b[1;36m0\u001b[0m        \u001b[1;36m1040\u001b[0m\n",
       "DATA_PAGAMENTO           object          \u001b[1;36m0\u001b[0m         \u001b[1;36m921\u001b[0m\n",
       "DATA_VENCIMENTO          object          \u001b[1;36m0\u001b[0m         \u001b[1;36m955\u001b[0m\n",
       "VALOR_A_PAGAR           float64          \u001b[1;36m0\u001b[0m       \u001b[1;36m68527\u001b[0m\n",
       "TAXA                    float64          \u001b[1;36m0\u001b[0m           \u001b[1;36m5\u001b[0m"
      ]
     },
     "metadata": {},
     "output_type": "display_data"
    }
   ],
   "source": [
    "display_info_dataframe(base_pagamentos)"
   ]
  },
  {
   "cell_type": "code",
   "execution_count": 10,
   "metadata": {},
   "outputs": [],
   "source": [
    "base_pagamentos['DATA_EMISSAO_DOCUMENTO'] = pd.to_datetime(base_pagamentos['DATA_EMISSAO_DOCUMENTO'], format='%Y-%m-%d')\n",
    "base_pagamentos['DATA_PAGAMENTO'] = pd.to_datetime(base_pagamentos['DATA_PAGAMENTO'], format='%Y-%m-%d')\n",
    "base_pagamentos['DATA_VENCIMENTO'] = pd.to_datetime(base_pagamentos['DATA_VENCIMENTO'], format='%Y-%m-%d')"
   ]
  },
  {
   "cell_type": "code",
   "execution_count": 11,
   "metadata": {},
   "outputs": [
    {
     "name": "stdout",
     "output_type": "stream",
     "text": [
      "Primeira data de emissão: 2018-08-17 00:00:00\n",
      "Última data de emissão: 2021-06-30 00:00:00\n"
     ]
    }
   ],
   "source": [
    "print(\"Primeira data de emissão:\", base_pagamentos['DATA_EMISSAO_DOCUMENTO'].min())\n",
    "print(\"Última data de emissão:\", base_pagamentos['DATA_EMISSAO_DOCUMENTO'].max())"
   ]
  },
  {
   "cell_type": "code",
   "execution_count": 12,
   "metadata": {},
   "outputs": [
    {
     "name": "stdout",
     "output_type": "stream",
     "text": [
      "Primeira data de pagamento: 2018-06-19 00:00:00\n",
      "Última data de pagamento: 2021-11-24 00:00:00\n"
     ]
    }
   ],
   "source": [
    "print(\"Primeira data de pagamento:\", base_pagamentos['DATA_PAGAMENTO'].min())\n",
    "print(\"Última data de pagamento:\", base_pagamentos['DATA_PAGAMENTO'].max())"
   ]
  },
  {
   "cell_type": "code",
   "execution_count": 13,
   "metadata": {},
   "outputs": [
    {
     "name": "stdout",
     "output_type": "stream",
     "text": [
      "Primeira data de vencimento: 2017-11-27 00:00:00\n",
      "Última data de vencimento: 2027-03-31 00:00:00\n"
     ]
    }
   ],
   "source": [
    "print(\"Primeira data de vencimento:\", base_pagamentos['DATA_VENCIMENTO'].min())\n",
    "print(\"Última data de vencimento:\", base_pagamentos['DATA_VENCIMENTO'].max())"
   ]
  },
  {
   "cell_type": "code",
   "execution_count": 14,
   "metadata": {},
   "outputs": [
    {
     "data": {
      "text/html": [
       "<pre style=\"white-space:pre;overflow-x:auto;line-height:normal;font-family:Menlo,'DejaVu Sans Mono',consolas,'Courier New',monospace\"></pre>\n"
      ],
      "text/plain": []
     },
     "metadata": {},
     "output_type": "display_data"
    },
    {
     "data": {
      "text/html": [
       "<div>\n",
       "<style scoped>\n",
       "    .dataframe tbody tr th:only-of-type {\n",
       "        vertical-align: middle;\n",
       "    }\n",
       "\n",
       "    .dataframe tbody tr th {\n",
       "        vertical-align: top;\n",
       "    }\n",
       "\n",
       "    .dataframe thead th {\n",
       "        text-align: right;\n",
       "    }\n",
       "</style>\n",
       "<table border=\"1\" class=\"dataframe\">\n",
       "  <thead>\n",
       "    <tr style=\"text-align: right;\">\n",
       "      <th></th>\n",
       "      <th>VALOR_A_PAGAR</th>\n",
       "      <th>TAXA</th>\n",
       "    </tr>\n",
       "  </thead>\n",
       "  <tbody>\n",
       "    <tr>\n",
       "      <th>count</th>\n",
       "      <td>7.741400e+04</td>\n",
       "      <td>77414.000000</td>\n",
       "    </tr>\n",
       "    <tr>\n",
       "      <th>mean</th>\n",
       "      <td>4.656546e+04</td>\n",
       "      <td>6.789623</td>\n",
       "    </tr>\n",
       "    <tr>\n",
       "      <th>std</th>\n",
       "      <td>4.633892e+04</td>\n",
       "      <td>1.798225</td>\n",
       "    </tr>\n",
       "    <tr>\n",
       "      <th>min</th>\n",
       "      <td>1.000000e-01</td>\n",
       "      <td>4.990000</td>\n",
       "    </tr>\n",
       "    <tr>\n",
       "      <th>25%</th>\n",
       "      <td>1.875275e+04</td>\n",
       "      <td>5.990000</td>\n",
       "    </tr>\n",
       "    <tr>\n",
       "      <th>50%</th>\n",
       "      <td>3.475135e+04</td>\n",
       "      <td>5.990000</td>\n",
       "    </tr>\n",
       "    <tr>\n",
       "      <th>75%</th>\n",
       "      <td>6.088421e+04</td>\n",
       "      <td>6.990000</td>\n",
       "    </tr>\n",
       "    <tr>\n",
       "      <th>max</th>\n",
       "      <td>4.400000e+06</td>\n",
       "      <td>11.990000</td>\n",
       "    </tr>\n",
       "  </tbody>\n",
       "</table>\n",
       "</div>"
      ],
      "text/plain": [
       "\n",
       "       VALOR_A_PAGAR          TAXA\n",
       "count   \u001b[1;36m7.741400e+04\u001b[0m  \u001b[1;36m77414.000000\u001b[0m\n",
       "mean    \u001b[1;36m4.656546e+04\u001b[0m      \u001b[1;36m6.789623\u001b[0m\n",
       "std     \u001b[1;36m4.633892e+04\u001b[0m      \u001b[1;36m1.798225\u001b[0m\n",
       "min     \u001b[1;36m1.000000e-01\u001b[0m      \u001b[1;36m4.990000\u001b[0m\n",
       "\u001b[1;36m25\u001b[0m%     \u001b[1;36m1.875275e+04\u001b[0m      \u001b[1;36m5.990000\u001b[0m\n",
       "\u001b[1;36m50\u001b[0m%     \u001b[1;36m3.475135e+04\u001b[0m      \u001b[1;36m5.990000\u001b[0m\n",
       "\u001b[1;36m75\u001b[0m%     \u001b[1;36m6.088421e+04\u001b[0m      \u001b[1;36m6.990000\u001b[0m\n",
       "max     \u001b[1;36m4.400000e+06\u001b[0m     \u001b[1;36m11.990000\u001b[0m"
      ]
     },
     "execution_count": 14,
     "metadata": {},
     "output_type": "execute_result"
    }
   ],
   "source": [
    "base_pagamentos[['VALOR_A_PAGAR', 'TAXA']].describe()"
   ]
  },
  {
   "cell_type": "markdown",
   "metadata": {},
   "source": [
    "## Base Cadastral"
   ]
  },
  {
   "cell_type": "code",
   "execution_count": 15,
   "metadata": {},
   "outputs": [
    {
     "name": "stdout",
     "output_type": "stream",
     "text": [
      "(1315, 8)\n"
     ]
    },
    {
     "data": {
      "text/html": [
       "<pre style=\"white-space:pre;overflow-x:auto;line-height:normal;font-family:Menlo,'DejaVu Sans Mono',consolas,'Courier New',monospace\"></pre>\n"
      ],
      "text/plain": []
     },
     "metadata": {},
     "output_type": "display_data"
    },
    {
     "data": {
      "text/html": [
       "<div>\n",
       "<style scoped>\n",
       "    .dataframe tbody tr th:only-of-type {\n",
       "        vertical-align: middle;\n",
       "    }\n",
       "\n",
       "    .dataframe tbody tr th {\n",
       "        vertical-align: top;\n",
       "    }\n",
       "\n",
       "    .dataframe thead th {\n",
       "        text-align: right;\n",
       "    }\n",
       "</style>\n",
       "<table border=\"1\" class=\"dataframe\">\n",
       "  <thead>\n",
       "    <tr style=\"text-align: right;\">\n",
       "      <th></th>\n",
       "      <th>ID_CLIENTE</th>\n",
       "      <th>DATA_CADASTRO</th>\n",
       "      <th>DDD</th>\n",
       "      <th>FLAG_PF</th>\n",
       "      <th>SEGMENTO_INDUSTRIAL</th>\n",
       "      <th>DOMINIO_EMAIL</th>\n",
       "      <th>PORTE</th>\n",
       "      <th>CEP_2_DIG</th>\n",
       "    </tr>\n",
       "  </thead>\n",
       "  <tbody>\n",
       "    <tr>\n",
       "      <th>0</th>\n",
       "      <td>1661240395903230676</td>\n",
       "      <td>2013-08-22</td>\n",
       "      <td>99</td>\n",
       "      <td>NaN</td>\n",
       "      <td>Serviços</td>\n",
       "      <td>YAHOO</td>\n",
       "      <td>PEQUENO</td>\n",
       "      <td>65</td>\n",
       "    </tr>\n",
       "    <tr>\n",
       "      <th>1</th>\n",
       "      <td>8274986328479596038</td>\n",
       "      <td>2017-01-25</td>\n",
       "      <td>31</td>\n",
       "      <td>NaN</td>\n",
       "      <td>Comércio</td>\n",
       "      <td>YAHOO</td>\n",
       "      <td>MEDIO</td>\n",
       "      <td>77</td>\n",
       "    </tr>\n",
       "    <tr>\n",
       "      <th>2</th>\n",
       "      <td>345447888460137901</td>\n",
       "      <td>2000-08-15</td>\n",
       "      <td>75</td>\n",
       "      <td>NaN</td>\n",
       "      <td>Serviços</td>\n",
       "      <td>HOTMAIL</td>\n",
       "      <td>PEQUENO</td>\n",
       "      <td>48</td>\n",
       "    </tr>\n",
       "    <tr>\n",
       "      <th>3</th>\n",
       "      <td>1003144834589372198</td>\n",
       "      <td>2017-08-06</td>\n",
       "      <td>49</td>\n",
       "      <td>NaN</td>\n",
       "      <td>Serviços</td>\n",
       "      <td>OUTLOOK</td>\n",
       "      <td>PEQUENO</td>\n",
       "      <td>89</td>\n",
       "    </tr>\n",
       "    <tr>\n",
       "      <th>4</th>\n",
       "      <td>324916756972236008</td>\n",
       "      <td>2011-02-14</td>\n",
       "      <td>88</td>\n",
       "      <td>NaN</td>\n",
       "      <td>Serviços</td>\n",
       "      <td>GMAIL</td>\n",
       "      <td>GRANDE</td>\n",
       "      <td>62</td>\n",
       "    </tr>\n",
       "  </tbody>\n",
       "</table>\n",
       "</div>"
      ],
      "text/plain": [
       "\n",
       "            ID_CLIENTE DATA_CADASTRO DDD FLAG_PF SEGMENTO_INDUSTRIAL  \\\n",
       "\u001b[1;36m0\u001b[0m  \u001b[1;36m1661240395903230676\u001b[0m    \u001b[1;36m2013\u001b[0m-\u001b[1;36m08\u001b[0m-\u001b[1;36m22\u001b[0m  \u001b[1;36m99\u001b[0m     NaN            Serviços   \n",
       "\u001b[1;36m1\u001b[0m  \u001b[1;36m8274986328479596038\u001b[0m    \u001b[1;36m2017\u001b[0m-\u001b[1;36m01\u001b[0m-\u001b[1;36m25\u001b[0m  \u001b[1;36m31\u001b[0m     NaN            Comércio   \n",
       "\u001b[1;36m2\u001b[0m   \u001b[1;36m345447888460137901\u001b[0m    \u001b[1;36m2000\u001b[0m-\u001b[1;36m08\u001b[0m-\u001b[1;36m15\u001b[0m  \u001b[1;36m75\u001b[0m     NaN            Serviços   \n",
       "\u001b[1;36m3\u001b[0m  \u001b[1;36m1003144834589372198\u001b[0m    \u001b[1;36m2017\u001b[0m-\u001b[1;36m08\u001b[0m-\u001b[1;36m06\u001b[0m  \u001b[1;36m49\u001b[0m     NaN            Serviços   \n",
       "\u001b[1;36m4\u001b[0m   \u001b[1;36m324916756972236008\u001b[0m    \u001b[1;36m2011\u001b[0m-\u001b[1;36m02\u001b[0m-\u001b[1;36m14\u001b[0m  \u001b[1;36m88\u001b[0m     NaN            Serviços   \n",
       "\n",
       "  DOMINIO_EMAIL    PORTE CEP_2_DIG  \n",
       "\u001b[1;36m0\u001b[0m         YAHOO  PEQUENO        \u001b[1;36m65\u001b[0m  \n",
       "\u001b[1;36m1\u001b[0m         YAHOO    MEDIO        \u001b[1;36m77\u001b[0m  \n",
       "\u001b[1;36m2\u001b[0m       HOTMAIL  PEQUENO        \u001b[1;36m48\u001b[0m  \n",
       "\u001b[1;36m3\u001b[0m       OUTLOOK  PEQUENO        \u001b[1;36m89\u001b[0m  \n",
       "\u001b[1;36m4\u001b[0m         GMAIL   GRANDE        \u001b[1;36m62\u001b[0m  "
      ]
     },
     "metadata": {},
     "output_type": "display_data"
    },
    {
     "data": {
      "text/html": [
       "<pre style=\"white-space:pre;overflow-x:auto;line-height:normal;font-family:Menlo,'DejaVu Sans Mono',consolas,'Courier New',monospace\"></pre>\n"
      ],
      "text/plain": []
     },
     "metadata": {},
     "output_type": "display_data"
    },
    {
     "data": {
      "text/html": [
       "<div>\n",
       "<style scoped>\n",
       "    .dataframe tbody tr th:only-of-type {\n",
       "        vertical-align: middle;\n",
       "    }\n",
       "\n",
       "    .dataframe tbody tr th {\n",
       "        vertical-align: top;\n",
       "    }\n",
       "\n",
       "    .dataframe thead th {\n",
       "        text-align: right;\n",
       "    }\n",
       "</style>\n",
       "<table border=\"1\" class=\"dataframe\">\n",
       "  <thead>\n",
       "    <tr style=\"text-align: right;\">\n",
       "      <th></th>\n",
       "      <th>ID_CLIENTE</th>\n",
       "      <th>DATA_CADASTRO</th>\n",
       "      <th>DDD</th>\n",
       "      <th>FLAG_PF</th>\n",
       "      <th>SEGMENTO_INDUSTRIAL</th>\n",
       "      <th>DOMINIO_EMAIL</th>\n",
       "      <th>PORTE</th>\n",
       "      <th>CEP_2_DIG</th>\n",
       "    </tr>\n",
       "  </thead>\n",
       "  <tbody>\n",
       "    <tr>\n",
       "      <th>1310</th>\n",
       "      <td>3431426889924624821</td>\n",
       "      <td>2020-08-13</td>\n",
       "      <td>92</td>\n",
       "      <td>NaN</td>\n",
       "      <td>Serviços</td>\n",
       "      <td>HOTMAIL</td>\n",
       "      <td>MEDIO</td>\n",
       "      <td>69</td>\n",
       "    </tr>\n",
       "    <tr>\n",
       "      <th>1311</th>\n",
       "      <td>5288503299611498087</td>\n",
       "      <td>2020-11-03</td>\n",
       "      <td>NaN</td>\n",
       "      <td>NaN</td>\n",
       "      <td>Comércio</td>\n",
       "      <td>YAHOO</td>\n",
       "      <td>PEQUENO</td>\n",
       "      <td>13</td>\n",
       "    </tr>\n",
       "    <tr>\n",
       "      <th>1312</th>\n",
       "      <td>957773253650890560</td>\n",
       "      <td>2021-07-05</td>\n",
       "      <td>NaN</td>\n",
       "      <td>NaN</td>\n",
       "      <td>Comércio</td>\n",
       "      <td>GMAIL</td>\n",
       "      <td>MEDIO</td>\n",
       "      <td>20</td>\n",
       "    </tr>\n",
       "    <tr>\n",
       "      <th>1313</th>\n",
       "      <td>6094038865287329652</td>\n",
       "      <td>2021-07-05</td>\n",
       "      <td>NaN</td>\n",
       "      <td>NaN</td>\n",
       "      <td>Serviços</td>\n",
       "      <td>GMAIL</td>\n",
       "      <td>GRANDE</td>\n",
       "      <td>48</td>\n",
       "    </tr>\n",
       "    <tr>\n",
       "      <th>1314</th>\n",
       "      <td>1592581784061157609</td>\n",
       "      <td>2002-05-14</td>\n",
       "      <td>(2</td>\n",
       "      <td>NaN</td>\n",
       "      <td>Comércio</td>\n",
       "      <td>NaN</td>\n",
       "      <td>MEDIO</td>\n",
       "      <td>90</td>\n",
       "    </tr>\n",
       "  </tbody>\n",
       "</table>\n",
       "</div>"
      ],
      "text/plain": [
       "\n",
       "               ID_CLIENTE DATA_CADASTRO  DDD FLAG_PF SEGMENTO_INDUSTRIAL  \\\n",
       "\u001b[1;36m1310\u001b[0m  \u001b[1;36m3431426889924624821\u001b[0m    \u001b[1;36m2020\u001b[0m-\u001b[1;36m08\u001b[0m-\u001b[1;36m13\u001b[0m   \u001b[1;36m92\u001b[0m     NaN            Serviços   \n",
       "\u001b[1;36m1311\u001b[0m  \u001b[1;36m5288503299611498087\u001b[0m    \u001b[1;36m2020\u001b[0m-\u001b[1;36m11\u001b[0m-\u001b[1;36m03\u001b[0m  NaN     NaN            Comércio   \n",
       "\u001b[1;36m1312\u001b[0m   \u001b[1;36m957773253650890560\u001b[0m    \u001b[1;36m2021\u001b[0m-\u001b[1;36m07\u001b[0m-\u001b[1;36m05\u001b[0m  NaN     NaN            Comércio   \n",
       "\u001b[1;36m1313\u001b[0m  \u001b[1;36m6094038865287329652\u001b[0m    \u001b[1;36m2021\u001b[0m-\u001b[1;36m07\u001b[0m-\u001b[1;36m05\u001b[0m  NaN     NaN            Serviços   \n",
       "\u001b[1;36m1314\u001b[0m  \u001b[1;36m1592581784061157609\u001b[0m    \u001b[1;36m2002\u001b[0m-\u001b[1;36m05\u001b[0m-\u001b[1;36m14\u001b[0m   \u001b[1m(\u001b[0m\u001b[1;36m2\u001b[0m     NaN            Comércio   \n",
       "\n",
       "     DOMINIO_EMAIL    PORTE CEP_2_DIG  \n",
       "\u001b[1;36m1310\u001b[0m       HOTMAIL    MEDIO        \u001b[1;36m69\u001b[0m  \n",
       "\u001b[1;36m1311\u001b[0m         YAHOO  PEQUENO        \u001b[1;36m13\u001b[0m  \n",
       "\u001b[1;36m1312\u001b[0m         GMAIL    MEDIO        \u001b[1;36m20\u001b[0m  \n",
       "\u001b[1;36m1313\u001b[0m         GMAIL   GRANDE        \u001b[1;36m48\u001b[0m  \n",
       "\u001b[1;36m1314\u001b[0m           NaN    MEDIO        \u001b[1;36m90\u001b[0m  "
      ]
     },
     "metadata": {},
     "output_type": "display_data"
    }
   ],
   "source": [
    "verify(base_cadastral)"
   ]
  },
  {
   "cell_type": "code",
   "execution_count": 16,
   "metadata": {},
   "outputs": [
    {
     "data": {
      "text/html": [
       "<pre style=\"white-space:pre;overflow-x:auto;line-height:normal;font-family:Menlo,'DejaVu Sans Mono',consolas,'Courier New',monospace\"></pre>\n"
      ],
      "text/plain": []
     },
     "metadata": {},
     "output_type": "display_data"
    },
    {
     "data": {
      "text/plain": [
       "\u001b[1;35mnp.int64\u001b[0m\u001b[1m(\u001b[0m\u001b[1;36m0\u001b[0m\u001b[1m)\u001b[0m"
      ]
     },
     "execution_count": 16,
     "metadata": {},
     "output_type": "execute_result"
    }
   ],
   "source": [
    "base_cadastral.duplicated().sum()"
   ]
  },
  {
   "cell_type": "code",
   "execution_count": 17,
   "metadata": {},
   "outputs": [
    {
     "data": {
      "text/html": [
       "<pre style=\"white-space:pre;overflow-x:auto;line-height:normal;font-family:Menlo,'DejaVu Sans Mono',consolas,'Courier New',monospace\"></pre>\n"
      ],
      "text/plain": []
     },
     "metadata": {},
     "output_type": "display_data"
    },
    {
     "data": {
      "text/html": [
       "<div>\n",
       "<style scoped>\n",
       "    .dataframe tbody tr th:only-of-type {\n",
       "        vertical-align: middle;\n",
       "    }\n",
       "\n",
       "    .dataframe tbody tr th {\n",
       "        vertical-align: top;\n",
       "    }\n",
       "\n",
       "    .dataframe thead th {\n",
       "        text-align: right;\n",
       "    }\n",
       "</style>\n",
       "<table border=\"1\" class=\"dataframe\">\n",
       "  <thead>\n",
       "    <tr style=\"text-align: right;\">\n",
       "      <th></th>\n",
       "      <th>dtype</th>\n",
       "      <th>qtd_nulos</th>\n",
       "      <th>qtd_unicos</th>\n",
       "    </tr>\n",
       "  </thead>\n",
       "  <tbody>\n",
       "    <tr>\n",
       "      <th>ID_CLIENTE</th>\n",
       "      <td>int64</td>\n",
       "      <td>0</td>\n",
       "      <td>1315</td>\n",
       "    </tr>\n",
       "    <tr>\n",
       "      <th>DATA_CADASTRO</th>\n",
       "      <td>object</td>\n",
       "      <td>0</td>\n",
       "      <td>777</td>\n",
       "    </tr>\n",
       "    <tr>\n",
       "      <th>DDD</th>\n",
       "      <td>object</td>\n",
       "      <td>237</td>\n",
       "      <td>79</td>\n",
       "    </tr>\n",
       "    <tr>\n",
       "      <th>FLAG_PF</th>\n",
       "      <td>object</td>\n",
       "      <td>1249</td>\n",
       "      <td>1</td>\n",
       "    </tr>\n",
       "    <tr>\n",
       "      <th>SEGMENTO_INDUSTRIAL</th>\n",
       "      <td>object</td>\n",
       "      <td>83</td>\n",
       "      <td>3</td>\n",
       "    </tr>\n",
       "    <tr>\n",
       "      <th>DOMINIO_EMAIL</th>\n",
       "      <td>object</td>\n",
       "      <td>30</td>\n",
       "      <td>6</td>\n",
       "    </tr>\n",
       "    <tr>\n",
       "      <th>PORTE</th>\n",
       "      <td>object</td>\n",
       "      <td>41</td>\n",
       "      <td>3</td>\n",
       "    </tr>\n",
       "    <tr>\n",
       "      <th>CEP_2_DIG</th>\n",
       "      <td>object</td>\n",
       "      <td>0</td>\n",
       "      <td>90</td>\n",
       "    </tr>\n",
       "  </tbody>\n",
       "</table>\n",
       "</div>"
      ],
      "text/plain": [
       "\n",
       "                      dtype  qtd_nulos  qtd_unicos\n",
       "ID_CLIENTE            int64          \u001b[1;36m0\u001b[0m        \u001b[1;36m1315\u001b[0m\n",
       "DATA_CADASTRO        object          \u001b[1;36m0\u001b[0m         \u001b[1;36m777\u001b[0m\n",
       "DDD                  object        \u001b[1;36m237\u001b[0m          \u001b[1;36m79\u001b[0m\n",
       "FLAG_PF              object       \u001b[1;36m1249\u001b[0m           \u001b[1;36m1\u001b[0m\n",
       "SEGMENTO_INDUSTRIAL  object         \u001b[1;36m83\u001b[0m           \u001b[1;36m3\u001b[0m\n",
       "DOMINIO_EMAIL        object         \u001b[1;36m30\u001b[0m           \u001b[1;36m6\u001b[0m\n",
       "PORTE                object         \u001b[1;36m41\u001b[0m           \u001b[1;36m3\u001b[0m\n",
       "CEP_2_DIG            object          \u001b[1;36m0\u001b[0m          \u001b[1;36m90\u001b[0m"
      ]
     },
     "metadata": {},
     "output_type": "display_data"
    }
   ],
   "source": [
    "display_info_dataframe(base_cadastral)"
   ]
  },
  {
   "cell_type": "code",
   "execution_count": 18,
   "metadata": {},
   "outputs": [
    {
     "data": {
      "text/html": [
       "<pre style=\"white-space:pre;overflow-x:auto;line-height:normal;font-family:Menlo,'DejaVu Sans Mono',consolas,'Courier New',monospace\"></pre>\n"
      ],
      "text/plain": []
     },
     "metadata": {},
     "output_type": "display_data"
    },
    {
     "data": {
      "text/plain": [
       "\u001b[3;92mTrue\u001b[0m"
      ]
     },
     "execution_count": 18,
     "metadata": {},
     "output_type": "execute_result"
    }
   ],
   "source": [
    "base_cadastral.ID_CLIENTE.nunique() == base_cadastral.shape[0]"
   ]
  },
  {
   "cell_type": "markdown",
   "metadata": {},
   "source": [
    "- Cada cliente tem de fato apenas um ID"
   ]
  },
  {
   "cell_type": "code",
   "execution_count": 19,
   "metadata": {},
   "outputs": [
    {
     "data": {
      "text/html": [
       "<pre style=\"white-space:pre;overflow-x:auto;line-height:normal;font-family:Menlo,'DejaVu Sans Mono',consolas,'Courier New',monospace\"></pre>\n"
      ],
      "text/plain": []
     },
     "metadata": {},
     "output_type": "display_data"
    },
    {
     "data": {
      "text/plain": [
       "np.True_"
      ]
     },
     "execution_count": 19,
     "metadata": {},
     "output_type": "execute_result"
    }
   ],
   "source": [
    "base_cadastral.groupby('ID_CLIENTE').DATA_CADASTRO.nunique().max() == 1"
   ]
  },
  {
   "cell_type": "markdown",
   "metadata": {},
   "source": [
    "- Cada cliente tem de fato apenas uma data de cadastro"
   ]
  },
  {
   "cell_type": "code",
   "execution_count": 20,
   "metadata": {},
   "outputs": [
    {
     "name": "stdout",
     "output_type": "stream",
     "text": [
      "Primeira data de cadastro: 2000-08-15 00:00:00\n",
      "Última data de cadastro: 2021-07-18 00:00:00\n"
     ]
    }
   ],
   "source": [
    "print(\"Primeira data de cadastro:\", pd.to_datetime(base_cadastral['DATA_CADASTRO'], format='%Y-%m-%d').min())\n",
    "print(\"Última data de cadastro:\", pd.to_datetime(base_cadastral['DATA_CADASTRO'], format='%Y-%m-%d').max())"
   ]
  },
  {
   "cell_type": "code",
   "execution_count": 21,
   "metadata": {},
   "outputs": [
    {
     "data": {
      "text/html": [
       "<pre style=\"white-space:pre;overflow-x:auto;line-height:normal;font-family:Menlo,'DejaVu Sans Mono',consolas,'Courier New',monospace\"></pre>\n"
      ],
      "text/plain": []
     },
     "metadata": {},
     "output_type": "display_data"
    },
    {
     "data": {
      "text/plain": [
       "\n",
       "\u001b[1;35marray\u001b[0m\u001b[1m(\u001b[0m\u001b[1m[\u001b[0m\u001b[32m'99'\u001b[0m, \u001b[32m'31'\u001b[0m, \u001b[32m'75'\u001b[0m, \u001b[32m'49'\u001b[0m, \u001b[32m'88'\u001b[0m, \u001b[32m'18'\u001b[0m, \u001b[32m'67'\u001b[0m, \u001b[32m'21'\u001b[0m, \u001b[32m'11'\u001b[0m, \u001b[32m'44'\u001b[0m, nan,\n",
       "       \u001b[32m'19'\u001b[0m, \u001b[32m'14'\u001b[0m, \u001b[32m'16'\u001b[0m, \u001b[32m'85'\u001b[0m, \u001b[32m'41'\u001b[0m, \u001b[32m'51'\u001b[0m, \u001b[32m'12'\u001b[0m, \u001b[32m'62'\u001b[0m, \u001b[32m'43'\u001b[0m, \u001b[32m'91'\u001b[0m, \u001b[32m'42'\u001b[0m,\n",
       "       \u001b[32m'61'\u001b[0m, \u001b[32m'33'\u001b[0m, \u001b[32m'48'\u001b[0m, \u001b[32m'71'\u001b[0m, \u001b[32m'65'\u001b[0m, \u001b[32m'38'\u001b[0m, \u001b[32m'24'\u001b[0m, \u001b[32m'\u001b[0m\u001b[32m(\u001b[0m\u001b[32m3'\u001b[0m, \u001b[32m'47'\u001b[0m, \u001b[32m'28'\u001b[0m, \u001b[32m'\u001b[0m\u001b[32m(\u001b[0m\u001b[32m2'\u001b[0m,\n",
       "       \u001b[32m'81'\u001b[0m, \u001b[32m'35'\u001b[0m, \u001b[32m'13'\u001b[0m, \u001b[32m'86'\u001b[0m, \u001b[32m'94'\u001b[0m, \u001b[32m'45'\u001b[0m, \u001b[32m'17'\u001b[0m, \u001b[32m'55'\u001b[0m, \u001b[32m'64'\u001b[0m, \u001b[32m'69'\u001b[0m, \u001b[32m'32'\u001b[0m,\n",
       "       \u001b[32m'\u001b[0m\u001b[32m(\u001b[0m\u001b[32m6'\u001b[0m, \u001b[32m'27'\u001b[0m, \u001b[32m'66'\u001b[0m, \u001b[32m'63'\u001b[0m, \u001b[32m'46'\u001b[0m, \u001b[32m'\u001b[0m\u001b[32m(\u001b[0m\u001b[32m1'\u001b[0m, \u001b[32m'54'\u001b[0m, \u001b[32m'77'\u001b[0m, \u001b[32m'34'\u001b[0m, \u001b[32m'74'\u001b[0m, \u001b[32m'37'\u001b[0m,\n",
       "       \u001b[32m'53'\u001b[0m, \u001b[32m'56'\u001b[0m, \u001b[32m'95'\u001b[0m, \u001b[32m'22'\u001b[0m, \u001b[32m'73'\u001b[0m, \u001b[32m'\u001b[0m\u001b[32m(\u001b[0m\u001b[32m9'\u001b[0m, \u001b[32m'\u001b[0m\u001b[32m(\u001b[0m\u001b[32m4'\u001b[0m, \u001b[32m'52'\u001b[0m, \u001b[32m'87'\u001b[0m, \u001b[32m'98'\u001b[0m, \u001b[32m'\u001b[0m\u001b[32m(\u001b[0m\u001b[32m8'\u001b[0m,\n",
       "       \u001b[32m'92'\u001b[0m, \u001b[32m'82'\u001b[0m, \u001b[32m'79'\u001b[0m, \u001b[32m'93'\u001b[0m, \u001b[32m'83'\u001b[0m, \u001b[32m'00'\u001b[0m, \u001b[32m'\u001b[0m\u001b[32m(\u001b[0m\u001b[32m5'\u001b[0m, \u001b[32m'15'\u001b[0m, \u001b[32m'02'\u001b[0m, \u001b[32m'84'\u001b[0m, \u001b[32m'\u001b[0m\u001b[32m(\u001b[0m\u001b[32m0'\u001b[0m,\n",
       "       \u001b[32m'04'\u001b[0m, \u001b[32m'07'\u001b[0m, \u001b[32m'\u001b[0m\u001b[32m(\u001b[0m\u001b[32m7'\u001b[0m\u001b[1m]\u001b[0m, \u001b[33mdtype\u001b[0m=\u001b[35mobject\u001b[0m\u001b[1m)\u001b[0m"
      ]
     },
     "execution_count": 21,
     "metadata": {},
     "output_type": "execute_result"
    }
   ],
   "source": [
    "base_cadastral['DDD'].unique()"
   ]
  },
  {
   "cell_type": "markdown",
   "metadata": {},
   "source": [
    "- Coluna 'DDD' possui alguns erros de digitação (Ex: '(3)')\n",
    "- Coluna 'DDD' possui alguns DDDs inexistentes (Ex: '56', '52')"
   ]
  },
  {
   "cell_type": "code",
   "execution_count": 22,
   "metadata": {},
   "outputs": [
    {
     "data": {
      "text/html": [
       "<pre style=\"white-space:pre;overflow-x:auto;line-height:normal;font-family:Menlo,'DejaVu Sans Mono',consolas,'Courier New',monospace\"></pre>\n"
      ],
      "text/plain": []
     },
     "metadata": {},
     "output_type": "display_data"
    },
    {
     "data": {
      "text/plain": [
       "\n",
       "FLAG_PF\n",
       "NaN    \u001b[1;36m1249\u001b[0m\n",
       "X        \u001b[1;36m66\u001b[0m\n",
       "Name: count, dtype: int64"
      ]
     },
     "execution_count": 22,
     "metadata": {},
     "output_type": "execute_result"
    }
   ],
   "source": [
    "base_cadastral['FLAG_PF'].value_counts(dropna=False)"
   ]
  },
  {
   "cell_type": "markdown",
   "metadata": {},
   "source": [
    "- Possivelmente os 'X' representam pessoas físicas, enquanto os nulos representam pessoas jurídicas"
   ]
  },
  {
   "cell_type": "code",
   "execution_count": 23,
   "metadata": {},
   "outputs": [
    {
     "data": {
      "text/html": [
       "<pre style=\"white-space:pre;overflow-x:auto;line-height:normal;font-family:Menlo,'DejaVu Sans Mono',consolas,'Courier New',monospace\"></pre>\n"
      ],
      "text/plain": []
     },
     "metadata": {},
     "output_type": "display_data"
    },
    {
     "data": {
      "text/plain": [
       "\n",
       "SEGMENTO_INDUSTRIAL\n",
       "Serviços     \u001b[1;36m503\u001b[0m\n",
       "Comércio     \u001b[1;36m431\u001b[0m\n",
       "Indústria    \u001b[1;36m298\u001b[0m\n",
       "NaN           \u001b[1;36m83\u001b[0m\n",
       "Name: count, dtype: int64"
      ]
     },
     "execution_count": 23,
     "metadata": {},
     "output_type": "execute_result"
    }
   ],
   "source": [
    "base_cadastral['SEGMENTO_INDUSTRIAL'].value_counts(dropna=False)"
   ]
  },
  {
   "cell_type": "code",
   "execution_count": 24,
   "metadata": {},
   "outputs": [
    {
     "data": {
      "text/html": [
       "<pre style=\"white-space:pre;overflow-x:auto;line-height:normal;font-family:Menlo,'DejaVu Sans Mono',consolas,'Courier New',monospace\"></pre>\n"
      ],
      "text/plain": []
     },
     "metadata": {},
     "output_type": "display_data"
    },
    {
     "data": {
      "text/plain": [
       "\n",
       "DOMINIO_EMAIL\n",
       "YAHOO      \u001b[1;36m392\u001b[0m\n",
       "GMAIL      \u001b[1;36m390\u001b[0m\n",
       "HOTMAIL    \u001b[1;36m323\u001b[0m\n",
       "AOL         \u001b[1;36m74\u001b[0m\n",
       "OUTLOOK     \u001b[1;36m72\u001b[0m\n",
       "BOL         \u001b[1;36m34\u001b[0m\n",
       "NaN         \u001b[1;36m30\u001b[0m\n",
       "Name: count, dtype: int64"
      ]
     },
     "execution_count": 24,
     "metadata": {},
     "output_type": "execute_result"
    }
   ],
   "source": [
    "base_cadastral['DOMINIO_EMAIL'].value_counts(dropna=False)"
   ]
  },
  {
   "cell_type": "code",
   "execution_count": 25,
   "metadata": {},
   "outputs": [
    {
     "data": {
      "text/html": [
       "<pre style=\"white-space:pre;overflow-x:auto;line-height:normal;font-family:Menlo,'DejaVu Sans Mono',consolas,'Courier New',monospace\"></pre>\n"
      ],
      "text/plain": []
     },
     "metadata": {},
     "output_type": "display_data"
    },
    {
     "data": {
      "text/plain": [
       "\n",
       "PORTE\n",
       "MEDIO      \u001b[1;36m522\u001b[0m\n",
       "GRANDE     \u001b[1;36m480\u001b[0m\n",
       "PEQUENO    \u001b[1;36m272\u001b[0m\n",
       "NaN         \u001b[1;36m41\u001b[0m\n",
       "Name: count, dtype: int64"
      ]
     },
     "execution_count": 25,
     "metadata": {},
     "output_type": "execute_result"
    }
   ],
   "source": [
    "base_cadastral['PORTE'].value_counts(dropna=False)"
   ]
  },
  {
   "cell_type": "code",
   "execution_count": 26,
   "metadata": {},
   "outputs": [
    {
     "data": {
      "text/html": [
       "<pre style=\"white-space:pre;overflow-x:auto;line-height:normal;font-family:Menlo,'DejaVu Sans Mono',consolas,'Courier New',monospace\"></pre>\n"
      ],
      "text/plain": []
     },
     "metadata": {},
     "output_type": "display_data"
    },
    {
     "data": {
      "text/plain": [
       "\n",
       "\u001b[1;35marray\u001b[0m\u001b[1m(\u001b[0m\u001b[1m[\u001b[0m\u001b[32m'65'\u001b[0m, \u001b[32m'77'\u001b[0m, \u001b[32m'48'\u001b[0m, \u001b[32m'89'\u001b[0m, \u001b[32m'62'\u001b[0m, \u001b[32m'19'\u001b[0m, \u001b[32m'38'\u001b[0m, \u001b[32m'26'\u001b[0m, \u001b[32m'55'\u001b[0m, \u001b[32m'87'\u001b[0m, \u001b[32m'37'\u001b[0m,\n",
       "       \u001b[32m'22'\u001b[0m, \u001b[32m'13'\u001b[0m, \u001b[32m'18'\u001b[0m, \u001b[32m'21'\u001b[0m, \u001b[32m'98'\u001b[0m, \u001b[32m'14'\u001b[0m, \u001b[32m'60'\u001b[0m, \u001b[32m'82'\u001b[0m, \u001b[32m'92'\u001b[0m, \u001b[32m'79'\u001b[0m, \u001b[32m'12'\u001b[0m,\n",
       "       \u001b[32m'27'\u001b[0m, \u001b[32m'76'\u001b[0m, \u001b[32m'67'\u001b[0m, \u001b[32m'72'\u001b[0m, \u001b[32m'68'\u001b[0m, \u001b[32m'11'\u001b[0m, \u001b[32m'84'\u001b[0m, \u001b[32m'70'\u001b[0m, \u001b[32m'83'\u001b[0m, \u001b[32m'88'\u001b[0m, \u001b[32m'75'\u001b[0m,\n",
       "       \u001b[32m'36'\u001b[0m, \u001b[32m'45'\u001b[0m, \u001b[32m'44'\u001b[0m, \u001b[32m'16'\u001b[0m, \u001b[32m'42'\u001b[0m, \u001b[32m'78'\u001b[0m, \u001b[32m'31'\u001b[0m, \u001b[32m'41'\u001b[0m, \u001b[32m'35'\u001b[0m, \u001b[32m'51'\u001b[0m, \u001b[32m'30'\u001b[0m,\n",
       "       \u001b[32m'86'\u001b[0m, \u001b[32m'25'\u001b[0m, \u001b[32m'29'\u001b[0m, \u001b[32m'17'\u001b[0m, \u001b[32m'23'\u001b[0m, \u001b[32m'20'\u001b[0m, \u001b[32m'93'\u001b[0m, \u001b[32m'64'\u001b[0m, \u001b[32m'95'\u001b[0m, \u001b[32m'85'\u001b[0m, \u001b[32m'15'\u001b[0m,\n",
       "       \u001b[32m'99'\u001b[0m, \u001b[32m'80'\u001b[0m, \u001b[32m'24'\u001b[0m, \u001b[32m'61'\u001b[0m, \u001b[32m'90'\u001b[0m, \u001b[32m'50'\u001b[0m, \u001b[32m'96'\u001b[0m, \u001b[32m'97'\u001b[0m, \u001b[32m'57'\u001b[0m, \u001b[32m'46'\u001b[0m, \u001b[32m'47'\u001b[0m,\n",
       "       \u001b[32m'32'\u001b[0m, \u001b[32m'54'\u001b[0m, \u001b[32m'91'\u001b[0m, \u001b[32m'56'\u001b[0m, \u001b[32m'28'\u001b[0m, \u001b[32m'71'\u001b[0m, \u001b[32m'33'\u001b[0m, \u001b[32m'94'\u001b[0m, \u001b[32m'58'\u001b[0m, \u001b[32m'34'\u001b[0m, \u001b[32m'59'\u001b[0m,\n",
       "       \u001b[32m'69'\u001b[0m, \u001b[32m'74'\u001b[0m, \u001b[32m'40'\u001b[0m, \u001b[32m'49'\u001b[0m, \u001b[32m'43'\u001b[0m, \u001b[32m'66'\u001b[0m, \u001b[32m'39'\u001b[0m, \u001b[32m'73'\u001b[0m, \u001b[32m'81'\u001b[0m, \u001b[32m'53'\u001b[0m, \u001b[32m'52'\u001b[0m,\n",
       "       \u001b[32m'63'\u001b[0m, \u001b[32m'na'\u001b[0m\u001b[1m]\u001b[0m, \u001b[33mdtype\u001b[0m=\u001b[35mobject\u001b[0m\u001b[1m)\u001b[0m"
      ]
     },
     "execution_count": 26,
     "metadata": {},
     "output_type": "execute_result"
    }
   ],
   "source": [
    "base_cadastral['CEP_2_DIG'].unique()"
   ]
  },
  {
   "cell_type": "markdown",
   "metadata": {},
   "source": [
    "## Base Info"
   ]
  },
  {
   "cell_type": "code",
   "execution_count": 27,
   "metadata": {},
   "outputs": [
    {
     "name": "stdout",
     "output_type": "stream",
     "text": [
      "(24401, 4)\n"
     ]
    },
    {
     "data": {
      "text/html": [
       "<pre style=\"white-space:pre;overflow-x:auto;line-height:normal;font-family:Menlo,'DejaVu Sans Mono',consolas,'Courier New',monospace\"></pre>\n"
      ],
      "text/plain": []
     },
     "metadata": {},
     "output_type": "display_data"
    },
    {
     "data": {
      "text/html": [
       "<div>\n",
       "<style scoped>\n",
       "    .dataframe tbody tr th:only-of-type {\n",
       "        vertical-align: middle;\n",
       "    }\n",
       "\n",
       "    .dataframe tbody tr th {\n",
       "        vertical-align: top;\n",
       "    }\n",
       "\n",
       "    .dataframe thead th {\n",
       "        text-align: right;\n",
       "    }\n",
       "</style>\n",
       "<table border=\"1\" class=\"dataframe\">\n",
       "  <thead>\n",
       "    <tr style=\"text-align: right;\">\n",
       "      <th></th>\n",
       "      <th>ID_CLIENTE</th>\n",
       "      <th>SAFRA_REF</th>\n",
       "      <th>RENDA_MES_ANTERIOR</th>\n",
       "      <th>NO_FUNCIONARIOS</th>\n",
       "    </tr>\n",
       "  </thead>\n",
       "  <tbody>\n",
       "    <tr>\n",
       "      <th>0</th>\n",
       "      <td>1661240395903230676</td>\n",
       "      <td>2018-09</td>\n",
       "      <td>16913.0</td>\n",
       "      <td>92.0</td>\n",
       "    </tr>\n",
       "    <tr>\n",
       "      <th>1</th>\n",
       "      <td>8274986328479596038</td>\n",
       "      <td>2018-09</td>\n",
       "      <td>106430.0</td>\n",
       "      <td>141.0</td>\n",
       "    </tr>\n",
       "    <tr>\n",
       "      <th>2</th>\n",
       "      <td>345447888460137901</td>\n",
       "      <td>2018-09</td>\n",
       "      <td>707439.0</td>\n",
       "      <td>99.0</td>\n",
       "    </tr>\n",
       "    <tr>\n",
       "      <th>3</th>\n",
       "      <td>1003144834589372198</td>\n",
       "      <td>2018-09</td>\n",
       "      <td>239659.0</td>\n",
       "      <td>96.0</td>\n",
       "    </tr>\n",
       "    <tr>\n",
       "      <th>4</th>\n",
       "      <td>324916756972236008</td>\n",
       "      <td>2018-09</td>\n",
       "      <td>203123.0</td>\n",
       "      <td>103.0</td>\n",
       "    </tr>\n",
       "  </tbody>\n",
       "</table>\n",
       "</div>"
      ],
      "text/plain": [
       "\n",
       "            ID_CLIENTE SAFRA_REF  RENDA_MES_ANTERIOR  NO_FUNCIONARIOS\n",
       "\u001b[1;36m0\u001b[0m  \u001b[1;36m1661240395903230676\u001b[0m   \u001b[1;36m2018\u001b[0m-\u001b[1;36m09\u001b[0m             \u001b[1;36m16913.0\u001b[0m             \u001b[1;36m92.0\u001b[0m\n",
       "\u001b[1;36m1\u001b[0m  \u001b[1;36m8274986328479596038\u001b[0m   \u001b[1;36m2018\u001b[0m-\u001b[1;36m09\u001b[0m            \u001b[1;36m106430.0\u001b[0m            \u001b[1;36m141.0\u001b[0m\n",
       "\u001b[1;36m2\u001b[0m   \u001b[1;36m345447888460137901\u001b[0m   \u001b[1;36m2018\u001b[0m-\u001b[1;36m09\u001b[0m            \u001b[1;36m707439.0\u001b[0m             \u001b[1;36m99.0\u001b[0m\n",
       "\u001b[1;36m3\u001b[0m  \u001b[1;36m1003144834589372198\u001b[0m   \u001b[1;36m2018\u001b[0m-\u001b[1;36m09\u001b[0m            \u001b[1;36m239659.0\u001b[0m             \u001b[1;36m96.0\u001b[0m\n",
       "\u001b[1;36m4\u001b[0m   \u001b[1;36m324916756972236008\u001b[0m   \u001b[1;36m2018\u001b[0m-\u001b[1;36m09\u001b[0m            \u001b[1;36m203123.0\u001b[0m            \u001b[1;36m103.0\u001b[0m"
      ]
     },
     "metadata": {},
     "output_type": "display_data"
    },
    {
     "data": {
      "text/html": [
       "<pre style=\"white-space:pre;overflow-x:auto;line-height:normal;font-family:Menlo,'DejaVu Sans Mono',consolas,'Courier New',monospace\"></pre>\n"
      ],
      "text/plain": []
     },
     "metadata": {},
     "output_type": "display_data"
    },
    {
     "data": {
      "text/html": [
       "<div>\n",
       "<style scoped>\n",
       "    .dataframe tbody tr th:only-of-type {\n",
       "        vertical-align: middle;\n",
       "    }\n",
       "\n",
       "    .dataframe tbody tr th {\n",
       "        vertical-align: top;\n",
       "    }\n",
       "\n",
       "    .dataframe thead th {\n",
       "        text-align: right;\n",
       "    }\n",
       "</style>\n",
       "<table border=\"1\" class=\"dataframe\">\n",
       "  <thead>\n",
       "    <tr style=\"text-align: right;\">\n",
       "      <th></th>\n",
       "      <th>ID_CLIENTE</th>\n",
       "      <th>SAFRA_REF</th>\n",
       "      <th>RENDA_MES_ANTERIOR</th>\n",
       "      <th>NO_FUNCIONARIOS</th>\n",
       "    </tr>\n",
       "  </thead>\n",
       "  <tbody>\n",
       "    <tr>\n",
       "      <th>24396</th>\n",
       "      <td>705648002974742140</td>\n",
       "      <td>2021-12</td>\n",
       "      <td>278663.0</td>\n",
       "      <td>105.0</td>\n",
       "    </tr>\n",
       "    <tr>\n",
       "      <th>24397</th>\n",
       "      <td>4993499380140734678</td>\n",
       "      <td>2021-12</td>\n",
       "      <td>156968.0</td>\n",
       "      <td>140.0</td>\n",
       "    </tr>\n",
       "    <tr>\n",
       "      <th>24398</th>\n",
       "      <td>4614484019183480654</td>\n",
       "      <td>2021-12</td>\n",
       "      <td>292698.0</td>\n",
       "      <td>121.0</td>\n",
       "    </tr>\n",
       "    <tr>\n",
       "      <th>24399</th>\n",
       "      <td>1299146298565441811</td>\n",
       "      <td>2021-12</td>\n",
       "      <td>106180.0</td>\n",
       "      <td>121.0</td>\n",
       "    </tr>\n",
       "    <tr>\n",
       "      <th>24400</th>\n",
       "      <td>4061297388883391410</td>\n",
       "      <td>2021-12</td>\n",
       "      <td>338952.0</td>\n",
       "      <td>127.0</td>\n",
       "    </tr>\n",
       "  </tbody>\n",
       "</table>\n",
       "</div>"
      ],
      "text/plain": [
       "\n",
       "                ID_CLIENTE SAFRA_REF  RENDA_MES_ANTERIOR  NO_FUNCIONARIOS\n",
       "\u001b[1;36m24396\u001b[0m   \u001b[1;36m705648002974742140\u001b[0m   \u001b[1;36m2021\u001b[0m-\u001b[1;36m12\u001b[0m            \u001b[1;36m278663.0\u001b[0m            \u001b[1;36m105.0\u001b[0m\n",
       "\u001b[1;36m24397\u001b[0m  \u001b[1;36m4993499380140734678\u001b[0m   \u001b[1;36m2021\u001b[0m-\u001b[1;36m12\u001b[0m            \u001b[1;36m156968.0\u001b[0m            \u001b[1;36m140.0\u001b[0m\n",
       "\u001b[1;36m24398\u001b[0m  \u001b[1;36m4614484019183480654\u001b[0m   \u001b[1;36m2021\u001b[0m-\u001b[1;36m12\u001b[0m            \u001b[1;36m292698.0\u001b[0m            \u001b[1;36m121.0\u001b[0m\n",
       "\u001b[1;36m24399\u001b[0m  \u001b[1;36m1299146298565441811\u001b[0m   \u001b[1;36m2021\u001b[0m-\u001b[1;36m12\u001b[0m            \u001b[1;36m106180.0\u001b[0m            \u001b[1;36m121.0\u001b[0m\n",
       "\u001b[1;36m24400\u001b[0m  \u001b[1;36m4061297388883391410\u001b[0m   \u001b[1;36m2021\u001b[0m-\u001b[1;36m12\u001b[0m            \u001b[1;36m338952.0\u001b[0m            \u001b[1;36m127.0\u001b[0m"
      ]
     },
     "metadata": {},
     "output_type": "display_data"
    }
   ],
   "source": [
    "verify(base_info)"
   ]
  },
  {
   "cell_type": "code",
   "execution_count": 28,
   "metadata": {},
   "outputs": [
    {
     "data": {
      "text/html": [
       "<pre style=\"white-space:pre;overflow-x:auto;line-height:normal;font-family:Menlo,'DejaVu Sans Mono',consolas,'Courier New',monospace\"></pre>\n"
      ],
      "text/plain": []
     },
     "metadata": {},
     "output_type": "display_data"
    },
    {
     "data": {
      "text/plain": [
       "\u001b[1;35mnp.int64\u001b[0m\u001b[1m(\u001b[0m\u001b[1;36m0\u001b[0m\u001b[1m)\u001b[0m"
      ]
     },
     "execution_count": 28,
     "metadata": {},
     "output_type": "execute_result"
    }
   ],
   "source": [
    "base_info.duplicated().sum()"
   ]
  },
  {
   "cell_type": "code",
   "execution_count": 29,
   "metadata": {},
   "outputs": [
    {
     "data": {
      "text/html": [
       "<pre style=\"white-space:pre;overflow-x:auto;line-height:normal;font-family:Menlo,'DejaVu Sans Mono',consolas,'Courier New',monospace\"></pre>\n"
      ],
      "text/plain": []
     },
     "metadata": {},
     "output_type": "display_data"
    },
    {
     "data": {
      "text/html": [
       "<div>\n",
       "<style scoped>\n",
       "    .dataframe tbody tr th:only-of-type {\n",
       "        vertical-align: middle;\n",
       "    }\n",
       "\n",
       "    .dataframe tbody tr th {\n",
       "        vertical-align: top;\n",
       "    }\n",
       "\n",
       "    .dataframe thead th {\n",
       "        text-align: right;\n",
       "    }\n",
       "</style>\n",
       "<table border=\"1\" class=\"dataframe\">\n",
       "  <thead>\n",
       "    <tr style=\"text-align: right;\">\n",
       "      <th></th>\n",
       "      <th>dtype</th>\n",
       "      <th>qtd_nulos</th>\n",
       "      <th>qtd_unicos</th>\n",
       "    </tr>\n",
       "  </thead>\n",
       "  <tbody>\n",
       "    <tr>\n",
       "      <th>ID_CLIENTE</th>\n",
       "      <td>int64</td>\n",
       "      <td>0</td>\n",
       "      <td>1336</td>\n",
       "    </tr>\n",
       "    <tr>\n",
       "      <th>SAFRA_REF</th>\n",
       "      <td>object</td>\n",
       "      <td>0</td>\n",
       "      <td>40</td>\n",
       "    </tr>\n",
       "    <tr>\n",
       "      <th>RENDA_MES_ANTERIOR</th>\n",
       "      <td>float64</td>\n",
       "      <td>0</td>\n",
       "      <td>23891</td>\n",
       "    </tr>\n",
       "    <tr>\n",
       "      <th>NO_FUNCIONARIOS</th>\n",
       "      <td>float64</td>\n",
       "      <td>0</td>\n",
       "      <td>128</td>\n",
       "    </tr>\n",
       "  </tbody>\n",
       "</table>\n",
       "</div>"
      ],
      "text/plain": [
       "\n",
       "                      dtype  qtd_nulos  qtd_unicos\n",
       "ID_CLIENTE            int64          \u001b[1;36m0\u001b[0m        \u001b[1;36m1336\u001b[0m\n",
       "SAFRA_REF            object          \u001b[1;36m0\u001b[0m          \u001b[1;36m40\u001b[0m\n",
       "RENDA_MES_ANTERIOR  float64          \u001b[1;36m0\u001b[0m       \u001b[1;36m23891\u001b[0m\n",
       "NO_FUNCIONARIOS     float64          \u001b[1;36m0\u001b[0m         \u001b[1;36m128\u001b[0m"
      ]
     },
     "metadata": {},
     "output_type": "display_data"
    }
   ],
   "source": [
    "display_info_dataframe(base_info)"
   ]
  },
  {
   "cell_type": "code",
   "execution_count": 30,
   "metadata": {},
   "outputs": [
    {
     "name": "stdout",
     "output_type": "stream",
     "text": [
      "Primeira data de SAFRA_REF: 2018-09-01 00:00:00\n",
      "Última data de SAFRA_REF: 2021-12-01 00:00:00\n"
     ]
    }
   ],
   "source": [
    "print(\"Primeira data de SAFRA_REF:\", pd.to_datetime(base_info['SAFRA_REF'], format='%Y-%m').min())\n",
    "print(\"Última data de SAFRA_REF:\", pd.to_datetime(base_info['SAFRA_REF'], format='%Y-%m').max())"
   ]
  },
  {
   "cell_type": "code",
   "execution_count": 31,
   "metadata": {},
   "outputs": [
    {
     "data": {
      "text/html": [
       "<pre style=\"white-space:pre;overflow-x:auto;line-height:normal;font-family:Menlo,'DejaVu Sans Mono',consolas,'Courier New',monospace\"></pre>\n"
      ],
      "text/plain": []
     },
     "metadata": {},
     "output_type": "display_data"
    },
    {
     "data": {
      "text/html": [
       "<div>\n",
       "<style scoped>\n",
       "    .dataframe tbody tr th:only-of-type {\n",
       "        vertical-align: middle;\n",
       "    }\n",
       "\n",
       "    .dataframe tbody tr th {\n",
       "        vertical-align: top;\n",
       "    }\n",
       "\n",
       "    .dataframe thead th {\n",
       "        text-align: right;\n",
       "    }\n",
       "</style>\n",
       "<table border=\"1\" class=\"dataframe\">\n",
       "  <thead>\n",
       "    <tr style=\"text-align: right;\">\n",
       "      <th></th>\n",
       "      <th>RENDA_MES_ANTERIOR</th>\n",
       "      <th>NO_FUNCIONARIOS</th>\n",
       "    </tr>\n",
       "  </thead>\n",
       "  <tbody>\n",
       "    <tr>\n",
       "      <th>count</th>\n",
       "      <td>2.440100e+04</td>\n",
       "      <td>24401.000000</td>\n",
       "    </tr>\n",
       "    <tr>\n",
       "      <th>mean</th>\n",
       "      <td>2.885432e+05</td>\n",
       "      <td>117.820540</td>\n",
       "    </tr>\n",
       "    <tr>\n",
       "      <th>std</th>\n",
       "      <td>2.114604e+05</td>\n",
       "      <td>21.439451</td>\n",
       "    </tr>\n",
       "    <tr>\n",
       "      <th>min</th>\n",
       "      <td>1.050000e+02</td>\n",
       "      <td>0.000000</td>\n",
       "    </tr>\n",
       "    <tr>\n",
       "      <th>25%</th>\n",
       "      <td>1.336420e+05</td>\n",
       "      <td>106.000000</td>\n",
       "    </tr>\n",
       "    <tr>\n",
       "      <th>50%</th>\n",
       "      <td>2.410160e+05</td>\n",
       "      <td>118.000000</td>\n",
       "    </tr>\n",
       "    <tr>\n",
       "      <th>75%</th>\n",
       "      <td>3.922190e+05</td>\n",
       "      <td>131.000000</td>\n",
       "    </tr>\n",
       "    <tr>\n",
       "      <th>max</th>\n",
       "      <td>1.682759e+06</td>\n",
       "      <td>198.000000</td>\n",
       "    </tr>\n",
       "  </tbody>\n",
       "</table>\n",
       "</div>"
      ],
      "text/plain": [
       "\n",
       "       RENDA_MES_ANTERIOR  NO_FUNCIONARIOS\n",
       "count        \u001b[1;36m2.440100e+04\u001b[0m     \u001b[1;36m24401.000000\u001b[0m\n",
       "mean         \u001b[1;36m2.885432e+05\u001b[0m       \u001b[1;36m117.820540\u001b[0m\n",
       "std          \u001b[1;36m2.114604e+05\u001b[0m        \u001b[1;36m21.439451\u001b[0m\n",
       "min          \u001b[1;36m1.050000e+02\u001b[0m         \u001b[1;36m0.000000\u001b[0m\n",
       "\u001b[1;36m25\u001b[0m%          \u001b[1;36m1.336420e+05\u001b[0m       \u001b[1;36m106.000000\u001b[0m\n",
       "\u001b[1;36m50\u001b[0m%          \u001b[1;36m2.410160e+05\u001b[0m       \u001b[1;36m118.000000\u001b[0m\n",
       "\u001b[1;36m75\u001b[0m%          \u001b[1;36m3.922190e+05\u001b[0m       \u001b[1;36m131.000000\u001b[0m\n",
       "max          \u001b[1;36m1.682759e+06\u001b[0m       \u001b[1;36m198.000000\u001b[0m"
      ]
     },
     "execution_count": 31,
     "metadata": {},
     "output_type": "execute_result"
    }
   ],
   "source": [
    "base_info[['RENDA_MES_ANTERIOR', 'NO_FUNCIONARIOS']].describe()"
   ]
  },
  {
   "cell_type": "markdown",
   "metadata": {},
   "source": [
    "# Junção das bases"
   ]
  },
  {
   "cell_type": "code",
   "execution_count": 32,
   "metadata": {},
   "outputs": [],
   "source": [
    "df_completo = base_pagamentos.merge(base_cadastral,on=['ID_CLIENTE'],how='left')"
   ]
  },
  {
   "cell_type": "code",
   "execution_count": 33,
   "metadata": {},
   "outputs": [],
   "source": [
    "df_completo = df_completo.merge(base_info,on=['ID_CLIENTE','SAFRA_REF'],how='left')"
   ]
  },
  {
   "cell_type": "code",
   "execution_count": 34,
   "metadata": {},
   "outputs": [
    {
     "name": "stdout",
     "output_type": "stream",
     "text": [
      "(77414, 16)\n"
     ]
    },
    {
     "data": {
      "text/html": [
       "<pre style=\"white-space:pre;overflow-x:auto;line-height:normal;font-family:Menlo,'DejaVu Sans Mono',consolas,'Courier New',monospace\"></pre>\n"
      ],
      "text/plain": []
     },
     "metadata": {},
     "output_type": "display_data"
    },
    {
     "data": {
      "text/html": [
       "<div>\n",
       "<style scoped>\n",
       "    .dataframe tbody tr th:only-of-type {\n",
       "        vertical-align: middle;\n",
       "    }\n",
       "\n",
       "    .dataframe tbody tr th {\n",
       "        vertical-align: top;\n",
       "    }\n",
       "\n",
       "    .dataframe thead th {\n",
       "        text-align: right;\n",
       "    }\n",
       "</style>\n",
       "<table border=\"1\" class=\"dataframe\">\n",
       "  <thead>\n",
       "    <tr style=\"text-align: right;\">\n",
       "      <th></th>\n",
       "      <th>ID_CLIENTE</th>\n",
       "      <th>SAFRA_REF</th>\n",
       "      <th>DATA_EMISSAO_DOCUMENTO</th>\n",
       "      <th>DATA_PAGAMENTO</th>\n",
       "      <th>DATA_VENCIMENTO</th>\n",
       "      <th>VALOR_A_PAGAR</th>\n",
       "      <th>TAXA</th>\n",
       "      <th>DATA_CADASTRO</th>\n",
       "      <th>DDD</th>\n",
       "      <th>FLAG_PF</th>\n",
       "      <th>SEGMENTO_INDUSTRIAL</th>\n",
       "      <th>DOMINIO_EMAIL</th>\n",
       "      <th>PORTE</th>\n",
       "      <th>CEP_2_DIG</th>\n",
       "      <th>RENDA_MES_ANTERIOR</th>\n",
       "      <th>NO_FUNCIONARIOS</th>\n",
       "    </tr>\n",
       "  </thead>\n",
       "  <tbody>\n",
       "    <tr>\n",
       "      <th>0</th>\n",
       "      <td>1661240395903230676</td>\n",
       "      <td>2018-08</td>\n",
       "      <td>2018-08-17</td>\n",
       "      <td>2018-09-06</td>\n",
       "      <td>2018-09-06</td>\n",
       "      <td>35516.41</td>\n",
       "      <td>6.99</td>\n",
       "      <td>2013-08-22</td>\n",
       "      <td>99</td>\n",
       "      <td>NaN</td>\n",
       "      <td>Serviços</td>\n",
       "      <td>YAHOO</td>\n",
       "      <td>PEQUENO</td>\n",
       "      <td>65</td>\n",
       "      <td>NaN</td>\n",
       "      <td>NaN</td>\n",
       "    </tr>\n",
       "    <tr>\n",
       "      <th>1</th>\n",
       "      <td>1661240395903230676</td>\n",
       "      <td>2018-08</td>\n",
       "      <td>2018-08-19</td>\n",
       "      <td>2018-09-11</td>\n",
       "      <td>2018-09-10</td>\n",
       "      <td>17758.21</td>\n",
       "      <td>6.99</td>\n",
       "      <td>2013-08-22</td>\n",
       "      <td>99</td>\n",
       "      <td>NaN</td>\n",
       "      <td>Serviços</td>\n",
       "      <td>YAHOO</td>\n",
       "      <td>PEQUENO</td>\n",
       "      <td>65</td>\n",
       "      <td>NaN</td>\n",
       "      <td>NaN</td>\n",
       "    </tr>\n",
       "    <tr>\n",
       "      <th>2</th>\n",
       "      <td>1661240395903230676</td>\n",
       "      <td>2018-08</td>\n",
       "      <td>2018-08-26</td>\n",
       "      <td>2018-09-18</td>\n",
       "      <td>2018-09-17</td>\n",
       "      <td>17431.96</td>\n",
       "      <td>6.99</td>\n",
       "      <td>2013-08-22</td>\n",
       "      <td>99</td>\n",
       "      <td>NaN</td>\n",
       "      <td>Serviços</td>\n",
       "      <td>YAHOO</td>\n",
       "      <td>PEQUENO</td>\n",
       "      <td>65</td>\n",
       "      <td>NaN</td>\n",
       "      <td>NaN</td>\n",
       "    </tr>\n",
       "    <tr>\n",
       "      <th>3</th>\n",
       "      <td>1661240395903230676</td>\n",
       "      <td>2018-08</td>\n",
       "      <td>2018-08-30</td>\n",
       "      <td>2018-10-11</td>\n",
       "      <td>2018-10-05</td>\n",
       "      <td>1341.00</td>\n",
       "      <td>6.99</td>\n",
       "      <td>2013-08-22</td>\n",
       "      <td>99</td>\n",
       "      <td>NaN</td>\n",
       "      <td>Serviços</td>\n",
       "      <td>YAHOO</td>\n",
       "      <td>PEQUENO</td>\n",
       "      <td>65</td>\n",
       "      <td>NaN</td>\n",
       "      <td>NaN</td>\n",
       "    </tr>\n",
       "    <tr>\n",
       "      <th>4</th>\n",
       "      <td>1661240395903230676</td>\n",
       "      <td>2018-08</td>\n",
       "      <td>2018-08-31</td>\n",
       "      <td>2018-09-20</td>\n",
       "      <td>2018-09-20</td>\n",
       "      <td>21309.85</td>\n",
       "      <td>6.99</td>\n",
       "      <td>2013-08-22</td>\n",
       "      <td>99</td>\n",
       "      <td>NaN</td>\n",
       "      <td>Serviços</td>\n",
       "      <td>YAHOO</td>\n",
       "      <td>PEQUENO</td>\n",
       "      <td>65</td>\n",
       "      <td>NaN</td>\n",
       "      <td>NaN</td>\n",
       "    </tr>\n",
       "  </tbody>\n",
       "</table>\n",
       "</div>"
      ],
      "text/plain": [
       "\n",
       "            ID_CLIENTE SAFRA_REF DATA_EMISSAO_DOCUMENTO DATA_PAGAMENTO  \\\n",
       "\u001b[1;36m0\u001b[0m  \u001b[1;36m1661240395903230676\u001b[0m   \u001b[1;36m2018\u001b[0m-\u001b[1;36m08\u001b[0m             \u001b[1;36m2018\u001b[0m-\u001b[1;36m08\u001b[0m-\u001b[1;36m17\u001b[0m     \u001b[1;36m2018\u001b[0m-\u001b[1;36m09\u001b[0m-\u001b[1;36m06\u001b[0m   \n",
       "\u001b[1;36m1\u001b[0m  \u001b[1;36m1661240395903230676\u001b[0m   \u001b[1;36m2018\u001b[0m-\u001b[1;36m08\u001b[0m             \u001b[1;36m2018\u001b[0m-\u001b[1;36m08\u001b[0m-\u001b[1;36m19\u001b[0m     \u001b[1;36m2018\u001b[0m-\u001b[1;36m09\u001b[0m-\u001b[1;36m11\u001b[0m   \n",
       "\u001b[1;36m2\u001b[0m  \u001b[1;36m1661240395903230676\u001b[0m   \u001b[1;36m2018\u001b[0m-\u001b[1;36m08\u001b[0m             \u001b[1;36m2018\u001b[0m-\u001b[1;36m08\u001b[0m-\u001b[1;36m26\u001b[0m     \u001b[1;36m2018\u001b[0m-\u001b[1;36m09\u001b[0m-\u001b[1;36m18\u001b[0m   \n",
       "\u001b[1;36m3\u001b[0m  \u001b[1;36m1661240395903230676\u001b[0m   \u001b[1;36m2018\u001b[0m-\u001b[1;36m08\u001b[0m             \u001b[1;36m2018\u001b[0m-\u001b[1;36m08\u001b[0m-\u001b[1;36m30\u001b[0m     \u001b[1;36m2018\u001b[0m-\u001b[1;36m10\u001b[0m-\u001b[1;36m11\u001b[0m   \n",
       "\u001b[1;36m4\u001b[0m  \u001b[1;36m1661240395903230676\u001b[0m   \u001b[1;36m2018\u001b[0m-\u001b[1;36m08\u001b[0m             \u001b[1;36m2018\u001b[0m-\u001b[1;36m08\u001b[0m-\u001b[1;36m31\u001b[0m     \u001b[1;36m2018\u001b[0m-\u001b[1;36m09\u001b[0m-\u001b[1;36m20\u001b[0m   \n",
       "\n",
       "  DATA_VENCIMENTO  VALOR_A_PAGAR  TAXA DATA_CADASTRO DDD FLAG_PF  \\\n",
       "\u001b[1;36m0\u001b[0m      \u001b[1;36m2018\u001b[0m-\u001b[1;36m09\u001b[0m-\u001b[1;36m06\u001b[0m       \u001b[1;36m35516.41\u001b[0m  \u001b[1;36m6.99\u001b[0m    \u001b[1;36m2013\u001b[0m-\u001b[1;36m08\u001b[0m-\u001b[1;36m22\u001b[0m  \u001b[1;36m99\u001b[0m     NaN   \n",
       "\u001b[1;36m1\u001b[0m      \u001b[1;36m2018\u001b[0m-\u001b[1;36m09\u001b[0m-\u001b[1;36m10\u001b[0m       \u001b[1;36m17758.21\u001b[0m  \u001b[1;36m6.99\u001b[0m    \u001b[1;36m2013\u001b[0m-\u001b[1;36m08\u001b[0m-\u001b[1;36m22\u001b[0m  \u001b[1;36m99\u001b[0m     NaN   \n",
       "\u001b[1;36m2\u001b[0m      \u001b[1;36m2018\u001b[0m-\u001b[1;36m09\u001b[0m-\u001b[1;36m17\u001b[0m       \u001b[1;36m17431.96\u001b[0m  \u001b[1;36m6.99\u001b[0m    \u001b[1;36m2013\u001b[0m-\u001b[1;36m08\u001b[0m-\u001b[1;36m22\u001b[0m  \u001b[1;36m99\u001b[0m     NaN   \n",
       "\u001b[1;36m3\u001b[0m      \u001b[1;36m2018\u001b[0m-\u001b[1;36m10\u001b[0m-\u001b[1;36m05\u001b[0m        \u001b[1;36m1341.00\u001b[0m  \u001b[1;36m6.99\u001b[0m    \u001b[1;36m2013\u001b[0m-\u001b[1;36m08\u001b[0m-\u001b[1;36m22\u001b[0m  \u001b[1;36m99\u001b[0m     NaN   \n",
       "\u001b[1;36m4\u001b[0m      \u001b[1;36m2018\u001b[0m-\u001b[1;36m09\u001b[0m-\u001b[1;36m20\u001b[0m       \u001b[1;36m21309.85\u001b[0m  \u001b[1;36m6.99\u001b[0m    \u001b[1;36m2013\u001b[0m-\u001b[1;36m08\u001b[0m-\u001b[1;36m22\u001b[0m  \u001b[1;36m99\u001b[0m     NaN   \n",
       "\n",
       "  SEGMENTO_INDUSTRIAL DOMINIO_EMAIL    PORTE CEP_2_DIG  RENDA_MES_ANTERIOR  \\\n",
       "\u001b[1;36m0\u001b[0m            Serviços         YAHOO  PEQUENO        \u001b[1;36m65\u001b[0m                 NaN   \n",
       "\u001b[1;36m1\u001b[0m            Serviços         YAHOO  PEQUENO        \u001b[1;36m65\u001b[0m                 NaN   \n",
       "\u001b[1;36m2\u001b[0m            Serviços         YAHOO  PEQUENO        \u001b[1;36m65\u001b[0m                 NaN   \n",
       "\u001b[1;36m3\u001b[0m            Serviços         YAHOO  PEQUENO        \u001b[1;36m65\u001b[0m                 NaN   \n",
       "\u001b[1;36m4\u001b[0m            Serviços         YAHOO  PEQUENO        \u001b[1;36m65\u001b[0m                 NaN   \n",
       "\n",
       "   NO_FUNCIONARIOS  \n",
       "\u001b[1;36m0\u001b[0m              NaN  \n",
       "\u001b[1;36m1\u001b[0m              NaN  \n",
       "\u001b[1;36m2\u001b[0m              NaN  \n",
       "\u001b[1;36m3\u001b[0m              NaN  \n",
       "\u001b[1;36m4\u001b[0m              NaN  "
      ]
     },
     "metadata": {},
     "output_type": "display_data"
    },
    {
     "data": {
      "text/html": [
       "<pre style=\"white-space:pre;overflow-x:auto;line-height:normal;font-family:Menlo,'DejaVu Sans Mono',consolas,'Courier New',monospace\"></pre>\n"
      ],
      "text/plain": []
     },
     "metadata": {},
     "output_type": "display_data"
    },
    {
     "data": {
      "text/html": [
       "<div>\n",
       "<style scoped>\n",
       "    .dataframe tbody tr th:only-of-type {\n",
       "        vertical-align: middle;\n",
       "    }\n",
       "\n",
       "    .dataframe tbody tr th {\n",
       "        vertical-align: top;\n",
       "    }\n",
       "\n",
       "    .dataframe thead th {\n",
       "        text-align: right;\n",
       "    }\n",
       "</style>\n",
       "<table border=\"1\" class=\"dataframe\">\n",
       "  <thead>\n",
       "    <tr style=\"text-align: right;\">\n",
       "      <th></th>\n",
       "      <th>ID_CLIENTE</th>\n",
       "      <th>SAFRA_REF</th>\n",
       "      <th>DATA_EMISSAO_DOCUMENTO</th>\n",
       "      <th>DATA_PAGAMENTO</th>\n",
       "      <th>DATA_VENCIMENTO</th>\n",
       "      <th>VALOR_A_PAGAR</th>\n",
       "      <th>TAXA</th>\n",
       "      <th>DATA_CADASTRO</th>\n",
       "      <th>DDD</th>\n",
       "      <th>FLAG_PF</th>\n",
       "      <th>SEGMENTO_INDUSTRIAL</th>\n",
       "      <th>DOMINIO_EMAIL</th>\n",
       "      <th>PORTE</th>\n",
       "      <th>CEP_2_DIG</th>\n",
       "      <th>RENDA_MES_ANTERIOR</th>\n",
       "      <th>NO_FUNCIONARIOS</th>\n",
       "    </tr>\n",
       "  </thead>\n",
       "  <tbody>\n",
       "    <tr>\n",
       "      <th>77409</th>\n",
       "      <td>2951563549197799278</td>\n",
       "      <td>2021-06</td>\n",
       "      <td>2021-06-30</td>\n",
       "      <td>2021-07-16</td>\n",
       "      <td>2021-07-16</td>\n",
       "      <td>89980.00</td>\n",
       "      <td>5.99</td>\n",
       "      <td>2000-08-15</td>\n",
       "      <td>11</td>\n",
       "      <td>NaN</td>\n",
       "      <td>Comércio</td>\n",
       "      <td>AOL</td>\n",
       "      <td>PEQUENO</td>\n",
       "      <td>13</td>\n",
       "      <td>280343.0</td>\n",
       "      <td>161.0</td>\n",
       "    </tr>\n",
       "    <tr>\n",
       "      <th>77410</th>\n",
       "      <td>5220206408301580591</td>\n",
       "      <td>2021-06</td>\n",
       "      <td>2021-06-30</td>\n",
       "      <td>2021-08-16</td>\n",
       "      <td>2021-08-16</td>\n",
       "      <td>42239.00</td>\n",
       "      <td>5.99</td>\n",
       "      <td>2021-04-08</td>\n",
       "      <td>19</td>\n",
       "      <td>NaN</td>\n",
       "      <td>Indústria</td>\n",
       "      <td>GMAIL</td>\n",
       "      <td>GRANDE</td>\n",
       "      <td>25</td>\n",
       "      <td>235315.0</td>\n",
       "      <td>87.0</td>\n",
       "    </tr>\n",
       "    <tr>\n",
       "      <th>77411</th>\n",
       "      <td>5860276371789140450</td>\n",
       "      <td>2021-06</td>\n",
       "      <td>2021-06-30</td>\n",
       "      <td>2021-07-16</td>\n",
       "      <td>2021-07-16</td>\n",
       "      <td>20921.50</td>\n",
       "      <td>5.99</td>\n",
       "      <td>2011-02-15</td>\n",
       "      <td>91</td>\n",
       "      <td>NaN</td>\n",
       "      <td>Serviços</td>\n",
       "      <td>HOTMAIL</td>\n",
       "      <td>GRANDE</td>\n",
       "      <td>67</td>\n",
       "      <td>100006.0</td>\n",
       "      <td>126.0</td>\n",
       "    </tr>\n",
       "    <tr>\n",
       "      <th>77412</th>\n",
       "      <td>2814790209436551216</td>\n",
       "      <td>2021-06</td>\n",
       "      <td>2021-06-30</td>\n",
       "      <td>2021-07-16</td>\n",
       "      <td>2021-07-16</td>\n",
       "      <td>90231.05</td>\n",
       "      <td>6.99</td>\n",
       "      <td>2021-05-13</td>\n",
       "      <td>(1</td>\n",
       "      <td>NaN</td>\n",
       "      <td>Serviços</td>\n",
       "      <td>YAHOO</td>\n",
       "      <td>MEDIO</td>\n",
       "      <td>14</td>\n",
       "      <td>NaN</td>\n",
       "      <td>NaN</td>\n",
       "    </tr>\n",
       "    <tr>\n",
       "      <th>77413</th>\n",
       "      <td>8343941262792249232</td>\n",
       "      <td>2021-06</td>\n",
       "      <td>2021-06-30</td>\n",
       "      <td>2021-08-16</td>\n",
       "      <td>2021-08-16</td>\n",
       "      <td>20736.51</td>\n",
       "      <td>4.99</td>\n",
       "      <td>2019-05-28</td>\n",
       "      <td>11</td>\n",
       "      <td>NaN</td>\n",
       "      <td>Indústria</td>\n",
       "      <td>HOTMAIL</td>\n",
       "      <td>GRANDE</td>\n",
       "      <td>31</td>\n",
       "      <td>97599.0</td>\n",
       "      <td>116.0</td>\n",
       "    </tr>\n",
       "  </tbody>\n",
       "</table>\n",
       "</div>"
      ],
      "text/plain": [
       "\n",
       "                ID_CLIENTE SAFRA_REF DATA_EMISSAO_DOCUMENTO DATA_PAGAMENTO  \\\n",
       "\u001b[1;36m77409\u001b[0m  \u001b[1;36m2951563549197799278\u001b[0m   \u001b[1;36m2021\u001b[0m-\u001b[1;36m06\u001b[0m             \u001b[1;36m2021\u001b[0m-\u001b[1;36m06\u001b[0m-\u001b[1;36m30\u001b[0m     \u001b[1;36m2021\u001b[0m-\u001b[1;36m07\u001b[0m-\u001b[1;36m16\u001b[0m   \n",
       "\u001b[1;36m77410\u001b[0m  \u001b[1;36m5220206408301580591\u001b[0m   \u001b[1;36m2021\u001b[0m-\u001b[1;36m06\u001b[0m             \u001b[1;36m2021\u001b[0m-\u001b[1;36m06\u001b[0m-\u001b[1;36m30\u001b[0m     \u001b[1;36m2021\u001b[0m-\u001b[1;36m08\u001b[0m-\u001b[1;36m16\u001b[0m   \n",
       "\u001b[1;36m77411\u001b[0m  \u001b[1;36m5860276371789140450\u001b[0m   \u001b[1;36m2021\u001b[0m-\u001b[1;36m06\u001b[0m             \u001b[1;36m2021\u001b[0m-\u001b[1;36m06\u001b[0m-\u001b[1;36m30\u001b[0m     \u001b[1;36m2021\u001b[0m-\u001b[1;36m07\u001b[0m-\u001b[1;36m16\u001b[0m   \n",
       "\u001b[1;36m77412\u001b[0m  \u001b[1;36m2814790209436551216\u001b[0m   \u001b[1;36m2021\u001b[0m-\u001b[1;36m06\u001b[0m             \u001b[1;36m2021\u001b[0m-\u001b[1;36m06\u001b[0m-\u001b[1;36m30\u001b[0m     \u001b[1;36m2021\u001b[0m-\u001b[1;36m07\u001b[0m-\u001b[1;36m16\u001b[0m   \n",
       "\u001b[1;36m77413\u001b[0m  \u001b[1;36m8343941262792249232\u001b[0m   \u001b[1;36m2021\u001b[0m-\u001b[1;36m06\u001b[0m             \u001b[1;36m2021\u001b[0m-\u001b[1;36m06\u001b[0m-\u001b[1;36m30\u001b[0m     \u001b[1;36m2021\u001b[0m-\u001b[1;36m08\u001b[0m-\u001b[1;36m16\u001b[0m   \n",
       "\n",
       "      DATA_VENCIMENTO  VALOR_A_PAGAR  TAXA DATA_CADASTRO DDD FLAG_PF  \\\n",
       "\u001b[1;36m77409\u001b[0m      \u001b[1;36m2021\u001b[0m-\u001b[1;36m07\u001b[0m-\u001b[1;36m16\u001b[0m       \u001b[1;36m89980.00\u001b[0m  \u001b[1;36m5.99\u001b[0m    \u001b[1;36m2000\u001b[0m-\u001b[1;36m08\u001b[0m-\u001b[1;36m15\u001b[0m  \u001b[1;36m11\u001b[0m     NaN   \n",
       "\u001b[1;36m77410\u001b[0m      \u001b[1;36m2021\u001b[0m-\u001b[1;36m08\u001b[0m-\u001b[1;36m16\u001b[0m       \u001b[1;36m42239.00\u001b[0m  \u001b[1;36m5.99\u001b[0m    \u001b[1;36m2021\u001b[0m-\u001b[1;36m04\u001b[0m-\u001b[1;36m08\u001b[0m  \u001b[1;36m19\u001b[0m     NaN   \n",
       "\u001b[1;36m77411\u001b[0m      \u001b[1;36m2021\u001b[0m-\u001b[1;36m07\u001b[0m-\u001b[1;36m16\u001b[0m       \u001b[1;36m20921.50\u001b[0m  \u001b[1;36m5.99\u001b[0m    \u001b[1;36m2011\u001b[0m-\u001b[1;36m02\u001b[0m-\u001b[1;36m15\u001b[0m  \u001b[1;36m91\u001b[0m     NaN   \n",
       "\u001b[1;36m77412\u001b[0m      \u001b[1;36m2021\u001b[0m-\u001b[1;36m07\u001b[0m-\u001b[1;36m16\u001b[0m       \u001b[1;36m90231.05\u001b[0m  \u001b[1;36m6.99\u001b[0m    \u001b[1;36m2021\u001b[0m-\u001b[1;36m05\u001b[0m-\u001b[1;36m13\u001b[0m  \u001b[1m(\u001b[0m\u001b[1;36m1\u001b[0m     NaN   \n",
       "\u001b[1;36m77413\u001b[0m      \u001b[1;36m2021\u001b[0m-\u001b[1;36m08\u001b[0m-\u001b[1;36m16\u001b[0m       \u001b[1;36m20736.51\u001b[0m  \u001b[1;36m4.99\u001b[0m    \u001b[1;36m2019\u001b[0m-\u001b[1;36m05\u001b[0m-\u001b[1;36m28\u001b[0m  \u001b[1;36m11\u001b[0m     NaN   \n",
       "\n",
       "      SEGMENTO_INDUSTRIAL DOMINIO_EMAIL    PORTE CEP_2_DIG  \\\n",
       "\u001b[1;36m77409\u001b[0m            Comércio           AOL  PEQUENO        \u001b[1;36m13\u001b[0m   \n",
       "\u001b[1;36m77410\u001b[0m           Indústria         GMAIL   GRANDE        \u001b[1;36m25\u001b[0m   \n",
       "\u001b[1;36m77411\u001b[0m            Serviços       HOTMAIL   GRANDE        \u001b[1;36m67\u001b[0m   \n",
       "\u001b[1;36m77412\u001b[0m            Serviços         YAHOO    MEDIO        \u001b[1;36m14\u001b[0m   \n",
       "\u001b[1;36m77413\u001b[0m           Indústria       HOTMAIL   GRANDE        \u001b[1;36m31\u001b[0m   \n",
       "\n",
       "       RENDA_MES_ANTERIOR  NO_FUNCIONARIOS  \n",
       "\u001b[1;36m77409\u001b[0m            \u001b[1;36m280343.0\u001b[0m            \u001b[1;36m161.0\u001b[0m  \n",
       "\u001b[1;36m77410\u001b[0m            \u001b[1;36m235315.0\u001b[0m             \u001b[1;36m87.0\u001b[0m  \n",
       "\u001b[1;36m77411\u001b[0m            \u001b[1;36m100006.0\u001b[0m            \u001b[1;36m126.0\u001b[0m  \n",
       "\u001b[1;36m77412\u001b[0m                 NaN              NaN  \n",
       "\u001b[1;36m77413\u001b[0m             \u001b[1;36m97599.0\u001b[0m            \u001b[1;36m116.0\u001b[0m  "
      ]
     },
     "metadata": {},
     "output_type": "display_data"
    }
   ],
   "source": [
    "verify(df_completo)"
   ]
  },
  {
   "cell_type": "code",
   "execution_count": 35,
   "metadata": {},
   "outputs": [
    {
     "data": {
      "text/html": [
       "<pre style=\"white-space:pre;overflow-x:auto;line-height:normal;font-family:Menlo,'DejaVu Sans Mono',consolas,'Courier New',monospace\"></pre>\n"
      ],
      "text/plain": []
     },
     "metadata": {},
     "output_type": "display_data"
    },
    {
     "data": {
      "text/plain": [
       "\u001b[1;35mnp.int64\u001b[0m\u001b[1m(\u001b[0m\u001b[1;36m0\u001b[0m\u001b[1m)\u001b[0m"
      ]
     },
     "execution_count": 35,
     "metadata": {},
     "output_type": "execute_result"
    }
   ],
   "source": [
    "df_completo.duplicated(subset=['ID_CLIENTE','SAFRA_REF','DATA_EMISSAO_DOCUMENTO','DATA_PAGAMENTO','DATA_VENCIMENTO','VALOR_A_PAGAR','TAXA']).sum()"
   ]
  },
  {
   "cell_type": "code",
   "execution_count": null,
   "metadata": {},
   "outputs": [],
   "source": []
  }
 ],
 "metadata": {
  "kernelspec": {
   "display_name": "credit-risk-kernel",
   "language": "python",
   "name": "credit-risk-kernel"
  },
  "language_info": {
   "codemirror_mode": {
    "name": "ipython",
    "version": 3
   },
   "file_extension": ".py",
   "mimetype": "text/x-python",
   "name": "python",
   "nbconvert_exporter": "python",
   "pygments_lexer": "ipython3",
   "version": "3.10.12"
  }
 },
 "nbformat": 4,
 "nbformat_minor": 2
}
