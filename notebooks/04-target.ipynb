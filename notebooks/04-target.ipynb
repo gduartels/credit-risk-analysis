{
 "cells": [
  {
   "cell_type": "code",
   "execution_count": 1,
   "metadata": {},
   "outputs": [
    {
     "data": {
      "text/html": [
       "<pre style=\"white-space:pre;overflow-x:auto;line-height:normal;font-family:Menlo,'DejaVu Sans Mono',consolas,'Courier New',monospace\"><span style=\"color: #7fbfbf; text-decoration-color: #7fbfbf\">[02/17/25 20:26:48] </span><span style=\"color: #000080; text-decoration-color: #000080\">INFO    </span> Using                                                                  <a href=\"file:///home/guilherme/Projects/credit-risk-analysis/venv/lib/python3.10/site-packages/kedro/framework/project/__init__.py\" target=\"_blank\"><span style=\"color: #7f7f7f; text-decoration-color: #7f7f7f\">__init__.py</span></a><span style=\"color: #7f7f7f; text-decoration-color: #7f7f7f\">:</span><a href=\"file:///home/guilherme/Projects/credit-risk-analysis/venv/lib/python3.10/site-packages/kedro/framework/project/__init__.py#270\" target=\"_blank\"><span style=\"color: #7f7f7f; text-decoration-color: #7f7f7f\">270</span></a>\n",
       "<span style=\"color: #7fbfbf; text-decoration-color: #7fbfbf\">                    </span>         <span style=\"color: #008000; text-decoration-color: #008000\">'/home/guilherme/Projects/credit-risk-analysis/venv/lib/python3.10/sit</span> <span style=\"color: #7f7f7f; text-decoration-color: #7f7f7f\">               </span>\n",
       "<span style=\"color: #7fbfbf; text-decoration-color: #7fbfbf\">                    </span>         <span style=\"color: #008000; text-decoration-color: #008000\">e-packages/kedro/framework/project/rich_logging.yml'</span> as logging        <span style=\"color: #7f7f7f; text-decoration-color: #7f7f7f\">               </span>\n",
       "<span style=\"color: #7fbfbf; text-decoration-color: #7fbfbf\">                    </span>         configuration.                                                         <span style=\"color: #7f7f7f; text-decoration-color: #7f7f7f\">               </span>\n",
       "</pre>\n"
      ],
      "text/plain": [
       "\u001b[2;36m[02/17/25 20:26:48]\u001b[0m\u001b[2;36m \u001b[0m\u001b[34mINFO    \u001b[0m Using                                                                  \u001b]8;id=97660;file:///home/guilherme/Projects/credit-risk-analysis/venv/lib/python3.10/site-packages/kedro/framework/project/__init__.py\u001b\\\u001b[2m__init__.py\u001b[0m\u001b]8;;\u001b\\\u001b[2m:\u001b[0m\u001b]8;id=750216;file:///home/guilherme/Projects/credit-risk-analysis/venv/lib/python3.10/site-packages/kedro/framework/project/__init__.py#270\u001b\\\u001b[2m270\u001b[0m\u001b]8;;\u001b\\\n",
       "\u001b[2;36m                    \u001b[0m         \u001b[32m'/home/guilherme/Projects/credit-risk-analysis/venv/lib/python3.10/sit\u001b[0m \u001b[2m               \u001b[0m\n",
       "\u001b[2;36m                    \u001b[0m         \u001b[32me-packages/kedro/framework/project/rich_logging.yml'\u001b[0m as logging        \u001b[2m               \u001b[0m\n",
       "\u001b[2;36m                    \u001b[0m         configuration.                                                         \u001b[2m               \u001b[0m\n"
      ]
     },
     "metadata": {},
     "output_type": "display_data"
    },
    {
     "data": {
      "text/html": [
       "<pre style=\"white-space:pre;overflow-x:auto;line-height:normal;font-family:Menlo,'DejaVu Sans Mono',consolas,'Courier New',monospace\"><span style=\"color: #7fbfbf; text-decoration-color: #7fbfbf\">                    </span><span style=\"color: #000080; text-decoration-color: #000080\">INFO    </span> Registered line magic <span style=\"color: #008000; text-decoration-color: #008000\">'%reload_kedro'</span>                                   <a href=\"file:///home/guilherme/Projects/credit-risk-analysis/venv/lib/python3.10/site-packages/kedro/ipython/__init__.py\" target=\"_blank\"><span style=\"color: #7f7f7f; text-decoration-color: #7f7f7f\">__init__.py</span></a><span style=\"color: #7f7f7f; text-decoration-color: #7f7f7f\">:</span><a href=\"file:///home/guilherme/Projects/credit-risk-analysis/venv/lib/python3.10/site-packages/kedro/ipython/__init__.py#63\" target=\"_blank\"><span style=\"color: #7f7f7f; text-decoration-color: #7f7f7f\">63</span></a>\n",
       "</pre>\n"
      ],
      "text/plain": [
       "\u001b[2;36m                   \u001b[0m\u001b[2;36m \u001b[0m\u001b[34mINFO    \u001b[0m Registered line magic \u001b[32m'%reload_kedro'\u001b[0m                                   \u001b]8;id=650990;file:///home/guilherme/Projects/credit-risk-analysis/venv/lib/python3.10/site-packages/kedro/ipython/__init__.py\u001b\\\u001b[2m__init__.py\u001b[0m\u001b]8;;\u001b\\\u001b[2m:\u001b[0m\u001b]8;id=654349;file:///home/guilherme/Projects/credit-risk-analysis/venv/lib/python3.10/site-packages/kedro/ipython/__init__.py#63\u001b\\\u001b[2m63\u001b[0m\u001b]8;;\u001b\\\n"
      ]
     },
     "metadata": {},
     "output_type": "display_data"
    },
    {
     "data": {
      "text/html": [
       "<pre style=\"white-space:pre;overflow-x:auto;line-height:normal;font-family:Menlo,'DejaVu Sans Mono',consolas,'Courier New',monospace\"><span style=\"color: #7fbfbf; text-decoration-color: #7fbfbf\">                    </span><span style=\"color: #000080; text-decoration-color: #000080\">INFO    </span> Registered line magic <span style=\"color: #008000; text-decoration-color: #008000\">'%load_node'</span>                                      <a href=\"file:///home/guilherme/Projects/credit-risk-analysis/venv/lib/python3.10/site-packages/kedro/ipython/__init__.py\" target=\"_blank\"><span style=\"color: #7f7f7f; text-decoration-color: #7f7f7f\">__init__.py</span></a><span style=\"color: #7f7f7f; text-decoration-color: #7f7f7f\">:</span><a href=\"file:///home/guilherme/Projects/credit-risk-analysis/venv/lib/python3.10/site-packages/kedro/ipython/__init__.py#65\" target=\"_blank\"><span style=\"color: #7f7f7f; text-decoration-color: #7f7f7f\">65</span></a>\n",
       "</pre>\n"
      ],
      "text/plain": [
       "\u001b[2;36m                   \u001b[0m\u001b[2;36m \u001b[0m\u001b[34mINFO    \u001b[0m Registered line magic \u001b[32m'%load_node'\u001b[0m                                      \u001b]8;id=634092;file:///home/guilherme/Projects/credit-risk-analysis/venv/lib/python3.10/site-packages/kedro/ipython/__init__.py\u001b\\\u001b[2m__init__.py\u001b[0m\u001b]8;;\u001b\\\u001b[2m:\u001b[0m\u001b]8;id=36024;file:///home/guilherme/Projects/credit-risk-analysis/venv/lib/python3.10/site-packages/kedro/ipython/__init__.py#65\u001b\\\u001b[2m65\u001b[0m\u001b]8;;\u001b\\\n"
      ]
     },
     "metadata": {},
     "output_type": "display_data"
    },
    {
     "data": {
      "text/html": [
       "<pre style=\"white-space:pre;overflow-x:auto;line-height:normal;font-family:Menlo,'DejaVu Sans Mono',consolas,'Courier New',monospace\"><span style=\"color: #7fbfbf; text-decoration-color: #7fbfbf\">                    </span><span style=\"color: #000080; text-decoration-color: #000080\">INFO    </span> Resolved project path as:                                              <a href=\"file:///home/guilherme/Projects/credit-risk-analysis/venv/lib/python3.10/site-packages/kedro/ipython/__init__.py\" target=\"_blank\"><span style=\"color: #7f7f7f; text-decoration-color: #7f7f7f\">__init__.py</span></a><span style=\"color: #7f7f7f; text-decoration-color: #7f7f7f\">:</span><a href=\"file:///home/guilherme/Projects/credit-risk-analysis/venv/lib/python3.10/site-packages/kedro/ipython/__init__.py#180\" target=\"_blank\"><span style=\"color: #7f7f7f; text-decoration-color: #7f7f7f\">180</span></a>\n",
       "<span style=\"color: #7fbfbf; text-decoration-color: #7fbfbf\">                    </span>         <span style=\"color: #800080; text-decoration-color: #800080\">/home/guilherme/Projects/</span><span style=\"color: #ff00ff; text-decoration-color: #ff00ff\">credit-risk-analysis.</span>                         <span style=\"color: #7f7f7f; text-decoration-color: #7f7f7f\">               </span>\n",
       "<span style=\"color: #7fbfbf; text-decoration-color: #7fbfbf\">                    </span>         To set a different path, run <span style=\"color: #008000; text-decoration-color: #008000\">'%reload_kedro &lt;project_root&gt;'</span>            <span style=\"color: #7f7f7f; text-decoration-color: #7f7f7f\">               </span>\n",
       "</pre>\n"
      ],
      "text/plain": [
       "\u001b[2;36m                   \u001b[0m\u001b[2;36m \u001b[0m\u001b[34mINFO    \u001b[0m Resolved project path as:                                              \u001b]8;id=913844;file:///home/guilherme/Projects/credit-risk-analysis/venv/lib/python3.10/site-packages/kedro/ipython/__init__.py\u001b\\\u001b[2m__init__.py\u001b[0m\u001b]8;;\u001b\\\u001b[2m:\u001b[0m\u001b]8;id=408340;file:///home/guilherme/Projects/credit-risk-analysis/venv/lib/python3.10/site-packages/kedro/ipython/__init__.py#180\u001b\\\u001b[2m180\u001b[0m\u001b]8;;\u001b\\\n",
       "\u001b[2;36m                    \u001b[0m         \u001b[35m/home/guilherme/Projects/\u001b[0m\u001b[95mcredit-risk-analysis.\u001b[0m                         \u001b[2m               \u001b[0m\n",
       "\u001b[2;36m                    \u001b[0m         To set a different path, run \u001b[32m'%reload_kedro \u001b[0m\u001b[32m<\u001b[0m\u001b[32mproject_root\u001b[0m\u001b[32m>\u001b[0m\u001b[32m'\u001b[0m            \u001b[2m               \u001b[0m\n"
      ]
     },
     "metadata": {},
     "output_type": "display_data"
    },
    {
     "data": {
      "text/html": [
       "<pre style=\"white-space:pre;overflow-x:auto;line-height:normal;font-family:Menlo,'DejaVu Sans Mono',consolas,'Courier New',monospace\"><span style=\"color: #7fbfbf; text-decoration-color: #7fbfbf\">[02/17/25 20:26:49] </span><span style=\"color: #000080; text-decoration-color: #000080\">INFO    </span> Kedro is sending anonymous usage data with the sole purpose of improving <a href=\"file:///home/guilherme/Projects/credit-risk-analysis/venv/lib/python3.10/site-packages/kedro_telemetry/plugin.py\" target=\"_blank\"><span style=\"color: #7f7f7f; text-decoration-color: #7f7f7f\">plugin.py</span></a><span style=\"color: #7f7f7f; text-decoration-color: #7f7f7f\">:</span><a href=\"file:///home/guilherme/Projects/credit-risk-analysis/venv/lib/python3.10/site-packages/kedro_telemetry/plugin.py#233\" target=\"_blank\"><span style=\"color: #7f7f7f; text-decoration-color: #7f7f7f\">233</span></a>\n",
       "<span style=\"color: #7fbfbf; text-decoration-color: #7fbfbf\">                    </span>         the product. No personal data or IP addresses are stored on our side. If <span style=\"color: #7f7f7f; text-decoration-color: #7f7f7f\">             </span>\n",
       "<span style=\"color: #7fbfbf; text-decoration-color: #7fbfbf\">                    </span>         you want to opt out, set the `KEDRO_DISABLE_TELEMETRY` or `DO_NOT_TRACK` <span style=\"color: #7f7f7f; text-decoration-color: #7f7f7f\">             </span>\n",
       "<span style=\"color: #7fbfbf; text-decoration-color: #7fbfbf\">                    </span>         environment variables, or create a `.telemetry` file in the current      <span style=\"color: #7f7f7f; text-decoration-color: #7f7f7f\">             </span>\n",
       "<span style=\"color: #7fbfbf; text-decoration-color: #7fbfbf\">                    </span>         working directory with the contents `consent: false`. Read more at       <span style=\"color: #7f7f7f; text-decoration-color: #7f7f7f\">             </span>\n",
       "<span style=\"color: #7fbfbf; text-decoration-color: #7fbfbf\">                    </span>         <span style=\"color: #0000ff; text-decoration-color: #0000ff; text-decoration: underline\">https://docs.kedro.org/en/stable/configuration/telemetry.html</span>            <span style=\"color: #7f7f7f; text-decoration-color: #7f7f7f\">             </span>\n",
       "</pre>\n"
      ],
      "text/plain": [
       "\u001b[2;36m[02/17/25 20:26:49]\u001b[0m\u001b[2;36m \u001b[0m\u001b[34mINFO    \u001b[0m Kedro is sending anonymous usage data with the sole purpose of improving \u001b]8;id=387576;file:///home/guilherme/Projects/credit-risk-analysis/venv/lib/python3.10/site-packages/kedro_telemetry/plugin.py\u001b\\\u001b[2mplugin.py\u001b[0m\u001b]8;;\u001b\\\u001b[2m:\u001b[0m\u001b]8;id=371877;file:///home/guilherme/Projects/credit-risk-analysis/venv/lib/python3.10/site-packages/kedro_telemetry/plugin.py#233\u001b\\\u001b[2m233\u001b[0m\u001b]8;;\u001b\\\n",
       "\u001b[2;36m                    \u001b[0m         the product. No personal data or IP addresses are stored on our side. If \u001b[2m             \u001b[0m\n",
       "\u001b[2;36m                    \u001b[0m         you want to opt out, set the `KEDRO_DISABLE_TELEMETRY` or `DO_NOT_TRACK` \u001b[2m             \u001b[0m\n",
       "\u001b[2;36m                    \u001b[0m         environment variables, or create a `.telemetry` file in the current      \u001b[2m             \u001b[0m\n",
       "\u001b[2;36m                    \u001b[0m         working directory with the contents `consent: false`. Read more at       \u001b[2m             \u001b[0m\n",
       "\u001b[2;36m                    \u001b[0m         \u001b[4;94mhttps://docs.kedro.org/en/stable/configuration/telemetry.html\u001b[0m            \u001b[2m             \u001b[0m\n"
      ]
     },
     "metadata": {},
     "output_type": "display_data"
    },
    {
     "data": {
      "text/html": [
       "<pre style=\"white-space:pre;overflow-x:auto;line-height:normal;font-family:Menlo,'DejaVu Sans Mono',consolas,'Courier New',monospace\"><span style=\"color: #7fbfbf; text-decoration-color: #7fbfbf\">[02/17/25 20:26:50] </span><span style=\"color: #000080; text-decoration-color: #000080\">INFO    </span> Kedro project Credit Risk Analysis                                     <a href=\"file:///home/guilherme/Projects/credit-risk-analysis/venv/lib/python3.10/site-packages/kedro/ipython/__init__.py\" target=\"_blank\"><span style=\"color: #7f7f7f; text-decoration-color: #7f7f7f\">__init__.py</span></a><span style=\"color: #7f7f7f; text-decoration-color: #7f7f7f\">:</span><a href=\"file:///home/guilherme/Projects/credit-risk-analysis/venv/lib/python3.10/site-packages/kedro/ipython/__init__.py#146\" target=\"_blank\"><span style=\"color: #7f7f7f; text-decoration-color: #7f7f7f\">146</span></a>\n",
       "</pre>\n"
      ],
      "text/plain": [
       "\u001b[2;36m[02/17/25 20:26:50]\u001b[0m\u001b[2;36m \u001b[0m\u001b[34mINFO    \u001b[0m Kedro project Credit Risk Analysis                                     \u001b]8;id=702200;file:///home/guilherme/Projects/credit-risk-analysis/venv/lib/python3.10/site-packages/kedro/ipython/__init__.py\u001b\\\u001b[2m__init__.py\u001b[0m\u001b]8;;\u001b\\\u001b[2m:\u001b[0m\u001b]8;id=290153;file:///home/guilherme/Projects/credit-risk-analysis/venv/lib/python3.10/site-packages/kedro/ipython/__init__.py#146\u001b\\\u001b[2m146\u001b[0m\u001b]8;;\u001b\\\n"
      ]
     },
     "metadata": {},
     "output_type": "display_data"
    },
    {
     "data": {
      "text/html": [
       "<pre style=\"white-space:pre;overflow-x:auto;line-height:normal;font-family:Menlo,'DejaVu Sans Mono',consolas,'Courier New',monospace\"><span style=\"color: #7fbfbf; text-decoration-color: #7fbfbf\">                    </span><span style=\"color: #000080; text-decoration-color: #000080\">INFO    </span> Defined global variable <span style=\"color: #008000; text-decoration-color: #008000\">'context'</span>, <span style=\"color: #008000; text-decoration-color: #008000\">'session'</span>, <span style=\"color: #008000; text-decoration-color: #008000\">'catalog'</span> and            <a href=\"file:///home/guilherme/Projects/credit-risk-analysis/venv/lib/python3.10/site-packages/kedro/ipython/__init__.py\" target=\"_blank\"><span style=\"color: #7f7f7f; text-decoration-color: #7f7f7f\">__init__.py</span></a><span style=\"color: #7f7f7f; text-decoration-color: #7f7f7f\">:</span><a href=\"file:///home/guilherme/Projects/credit-risk-analysis/venv/lib/python3.10/site-packages/kedro/ipython/__init__.py#147\" target=\"_blank\"><span style=\"color: #7f7f7f; text-decoration-color: #7f7f7f\">147</span></a>\n",
       "<span style=\"color: #7fbfbf; text-decoration-color: #7fbfbf\">                    </span>         <span style=\"color: #008000; text-decoration-color: #008000\">'pipelines'</span>                                                            <span style=\"color: #7f7f7f; text-decoration-color: #7f7f7f\">               </span>\n",
       "</pre>\n"
      ],
      "text/plain": [
       "\u001b[2;36m                   \u001b[0m\u001b[2;36m \u001b[0m\u001b[34mINFO    \u001b[0m Defined global variable \u001b[32m'context'\u001b[0m, \u001b[32m'session'\u001b[0m, \u001b[32m'catalog'\u001b[0m and            \u001b]8;id=346038;file:///home/guilherme/Projects/credit-risk-analysis/venv/lib/python3.10/site-packages/kedro/ipython/__init__.py\u001b\\\u001b[2m__init__.py\u001b[0m\u001b]8;;\u001b\\\u001b[2m:\u001b[0m\u001b]8;id=486881;file:///home/guilherme/Projects/credit-risk-analysis/venv/lib/python3.10/site-packages/kedro/ipython/__init__.py#147\u001b\\\u001b[2m147\u001b[0m\u001b]8;;\u001b\\\n",
       "\u001b[2;36m                    \u001b[0m         \u001b[32m'pipelines'\u001b[0m                                                            \u001b[2m               \u001b[0m\n"
      ]
     },
     "metadata": {},
     "output_type": "display_data"
    },
    {
     "data": {
      "text/html": [
       "<pre style=\"white-space:pre;overflow-x:auto;line-height:normal;font-family:Menlo,'DejaVu Sans Mono',consolas,'Courier New',monospace\"><span style=\"color: #7fbfbf; text-decoration-color: #7fbfbf\">                    </span><span style=\"color: #000080; text-decoration-color: #000080\">INFO    </span> Registered line magic <span style=\"color: #008000; text-decoration-color: #008000\">'run_viz'</span>                                        <a href=\"file:///home/guilherme/Projects/credit-risk-analysis/venv/lib/python3.10/site-packages/kedro/ipython/__init__.py\" target=\"_blank\"><span style=\"color: #7f7f7f; text-decoration-color: #7f7f7f\">__init__.py</span></a><span style=\"color: #7f7f7f; text-decoration-color: #7f7f7f\">:</span><a href=\"file:///home/guilherme/Projects/credit-risk-analysis/venv/lib/python3.10/site-packages/kedro/ipython/__init__.py#153\" target=\"_blank\"><span style=\"color: #7f7f7f; text-decoration-color: #7f7f7f\">153</span></a>\n",
       "</pre>\n"
      ],
      "text/plain": [
       "\u001b[2;36m                   \u001b[0m\u001b[2;36m \u001b[0m\u001b[34mINFO    \u001b[0m Registered line magic \u001b[32m'run_viz'\u001b[0m                                        \u001b]8;id=424482;file:///home/guilherme/Projects/credit-risk-analysis/venv/lib/python3.10/site-packages/kedro/ipython/__init__.py\u001b\\\u001b[2m__init__.py\u001b[0m\u001b]8;;\u001b\\\u001b[2m:\u001b[0m\u001b]8;id=818223;file:///home/guilherme/Projects/credit-risk-analysis/venv/lib/python3.10/site-packages/kedro/ipython/__init__.py#153\u001b\\\u001b[2m153\u001b[0m\u001b]8;;\u001b\\\n"
      ]
     },
     "metadata": {},
     "output_type": "display_data"
    }
   ],
   "source": [
    "%reload_ext kedro.ipython"
   ]
  },
  {
   "cell_type": "markdown",
   "metadata": {},
   "source": [
    "# Importando bibliotecas"
   ]
  },
  {
   "cell_type": "code",
   "execution_count": 16,
   "metadata": {},
   "outputs": [],
   "source": [
    "import warnings\n",
    "warnings.filterwarnings('ignore')\n",
    "\n",
    "import pandas as pd\n",
    "import numpy as np\n",
    "import matplotlib.pyplot as plt\n",
    "import seaborn as sns\n",
    "\n",
    "pd.set_option('display.max_columns', None)"
   ]
  },
  {
   "cell_type": "markdown",
   "metadata": {},
   "source": [
    "# Funções úteis"
   ]
  },
  {
   "cell_type": "code",
   "execution_count": 3,
   "metadata": {},
   "outputs": [],
   "source": [
    "def verify(df):\n",
    "    print(df.shape)\n",
    "    display(df.head())\n",
    "    display(df.tail())\n",
    "\n",
    "def display_info_dataframe(df):\n",
    "    df_info = pd.concat([df.dtypes, df.isna().sum(), df.nunique()], axis=1)\n",
    "    df_info.columns = ['dtype', 'qtd_nulos', 'qtd_unicos']\n",
    "    display(df_info)\n",
    "\n",
    "def ks_score(y_true, y_pred):\n",
    "    \"\"\"_summary_\n",
    "\n",
    "    Args:\n",
    "        y_true (_type_): _description_\n",
    "        y_pred (_type_): _description_\n",
    "\n",
    "    Returns:\n",
    "        _type_: _description_\n",
    "    \"\"\"\n",
    "    df2 = pd.DataFrame({\"bad\": y_true, \"score\": y_pred})\n",
    "\n",
    "    df2[\"good\"] = 1 - df2.bad\n",
    "    df2[\"bucket\"] = pd.qcut(df2[\"score\"], 10, duplicates=\"drop\")\n",
    "\n",
    "    grouped = df2.groupby(\"bucket\")\n",
    "    agg1 = (\n",
    "        pd.DataFrame(grouped.min()[\"score\"])\n",
    "        .rename(columns={\"score\": \"min_scr\"})\n",
    "        .copy()\n",
    "    )\n",
    "    agg1[\"max_scr\"] = grouped.max()[\"score\"]\n",
    "    agg1[\"bads\"] = grouped.sum().bad\n",
    "    agg1[\"goods\"] = grouped.sum().good\n",
    "    agg1[\"total\"] = agg1.bads + agg1.goods\n",
    "\n",
    "    agg2 = (agg1.sort_values(by=\"min_scr\")).reset_index(drop=True)\n",
    "    agg2[\"odds\"] = (agg2.goods / agg2.bads).apply(\"{0:.2f}\".format)\n",
    "    agg2[\"bad_rate\"] = (agg2.bads / agg2.total).apply(\"{0:.2%}\".format)\n",
    "    agg2[\"ks\"] = (\n",
    "        np.round(\n",
    "            (\n",
    "                (agg2.bads / df2.bad.sum()).cumsum()\n",
    "                - (agg2.goods / df2.good.sum()).cumsum()  # noqa: W503\n",
    "            ),\n",
    "            4,\n",
    "        )  # noqa: W503\n",
    "        * 100  # noqa: W503\n",
    "    )\n",
    "\n",
    "    flag = lambda x: \"<----\" if x == agg2.ks.max() else \"\"  # noqa: E731\n",
    "    agg2[\"max_ks\"] = agg2.ks.apply(flag)\n",
    "    return max(abs(agg2.ks))"
   ]
  },
  {
   "cell_type": "markdown",
   "metadata": {},
   "source": [
    "# Lendo as bases"
   ]
  },
  {
   "cell_type": "code",
   "execution_count": 4,
   "metadata": {},
   "outputs": [
    {
     "data": {
      "text/html": [
       "<pre style=\"white-space:pre;overflow-x:auto;line-height:normal;font-family:Menlo,'DejaVu Sans Mono',consolas,'Courier New',monospace\"><span style=\"color: #7fbfbf; text-decoration-color: #7fbfbf\">                    </span><span style=\"color: #000080; text-decoration-color: #000080\">INFO    </span> Loading data from <span style=\"color: #ff8700; text-decoration-color: #ff8700\">features_data</span> <span style=\"font-weight: bold\">(</span>ParquetDataset<span style=\"font-weight: bold\">)</span><span style=\"color: #808000; text-decoration-color: #808000\">...</span>                <a href=\"file:///home/guilherme/Projects/credit-risk-analysis/venv/lib/python3.10/site-packages/kedro/io/data_catalog.py\" target=\"_blank\"><span style=\"color: #7f7f7f; text-decoration-color: #7f7f7f\">data_catalog.py</span></a><span style=\"color: #7f7f7f; text-decoration-color: #7f7f7f\">:</span><a href=\"file:///home/guilherme/Projects/credit-risk-analysis/venv/lib/python3.10/site-packages/kedro/io/data_catalog.py#390\" target=\"_blank\"><span style=\"color: #7f7f7f; text-decoration-color: #7f7f7f\">390</span></a>\n",
       "</pre>\n"
      ],
      "text/plain": [
       "\u001b[2;36m                   \u001b[0m\u001b[2;36m \u001b[0m\u001b[34mINFO    \u001b[0m Loading data from \u001b[38;5;208mfeatures_data\u001b[0m \u001b[1m(\u001b[0mParquetDataset\u001b[1m)\u001b[0m\u001b[33m...\u001b[0m                \u001b]8;id=82393;file:///home/guilherme/Projects/credit-risk-analysis/venv/lib/python3.10/site-packages/kedro/io/data_catalog.py\u001b\\\u001b[2mdata_catalog.py\u001b[0m\u001b]8;;\u001b\\\u001b[2m:\u001b[0m\u001b]8;id=160932;file:///home/guilherme/Projects/credit-risk-analysis/venv/lib/python3.10/site-packages/kedro/io/data_catalog.py#390\u001b\\\u001b[2m390\u001b[0m\u001b]8;;\u001b\\\n"
      ]
     },
     "metadata": {},
     "output_type": "display_data"
    }
   ],
   "source": [
    "df_completo = catalog.load(\"features_data\")"
   ]
  },
  {
   "cell_type": "code",
   "execution_count": 5,
   "metadata": {},
   "outputs": [
    {
     "name": "stdout",
     "output_type": "stream",
     "text": [
      "(77195, 18)\n"
     ]
    },
    {
     "data": {
      "text/html": [
       "<pre style=\"white-space:pre;overflow-x:auto;line-height:normal;font-family:Menlo,'DejaVu Sans Mono',consolas,'Courier New',monospace\"></pre>\n"
      ],
      "text/plain": []
     },
     "metadata": {},
     "output_type": "display_data"
    },
    {
     "data": {
      "text/html": [
       "<div>\n",
       "<style scoped>\n",
       "    .dataframe tbody tr th:only-of-type {\n",
       "        vertical-align: middle;\n",
       "    }\n",
       "\n",
       "    .dataframe tbody tr th {\n",
       "        vertical-align: top;\n",
       "    }\n",
       "\n",
       "    .dataframe thead th {\n",
       "        text-align: right;\n",
       "    }\n",
       "</style>\n",
       "<table border=\"1\" class=\"dataframe\">\n",
       "  <thead>\n",
       "    <tr style=\"text-align: right;\">\n",
       "      <th></th>\n",
       "      <th>ID_CLIENTE</th>\n",
       "      <th>SAFRA_REF</th>\n",
       "      <th>DATA_EMISSAO_DOCUMENTO</th>\n",
       "      <th>DATA_PAGAMENTO</th>\n",
       "      <th>DATA_VENCIMENTO</th>\n",
       "      <th>VALOR_A_PAGAR</th>\n",
       "      <th>TAXA</th>\n",
       "      <th>DATA_CADASTRO</th>\n",
       "      <th>DDD</th>\n",
       "      <th>FLAG_PF</th>\n",
       "      <th>SEGMENTO_INDUSTRIAL</th>\n",
       "      <th>DOMINIO_EMAIL</th>\n",
       "      <th>PORTE</th>\n",
       "      <th>CEP_2_DIG</th>\n",
       "      <th>RENDA_MES_ANTERIOR</th>\n",
       "      <th>NO_FUNCIONARIOS</th>\n",
       "      <th>RZ_RENDA_FUNC</th>\n",
       "      <th>VL_TAXA</th>\n",
       "    </tr>\n",
       "  </thead>\n",
       "  <tbody>\n",
       "    <tr>\n",
       "      <th>0</th>\n",
       "      <td>1661240395903230676</td>\n",
       "      <td>2018-08</td>\n",
       "      <td>2018-08-17</td>\n",
       "      <td>2018-09-06</td>\n",
       "      <td>2018-09-06</td>\n",
       "      <td>35516.41</td>\n",
       "      <td>6.99</td>\n",
       "      <td>2013-08-22</td>\n",
       "      <td>99</td>\n",
       "      <td>None</td>\n",
       "      <td>SERVICOS</td>\n",
       "      <td>YAHOO</td>\n",
       "      <td>PEQUENO</td>\n",
       "      <td>65</td>\n",
       "      <td>NaN</td>\n",
       "      <td>NaN</td>\n",
       "      <td>NaN</td>\n",
       "      <td>2482.597059</td>\n",
       "    </tr>\n",
       "    <tr>\n",
       "      <th>1</th>\n",
       "      <td>1661240395903230676</td>\n",
       "      <td>2018-08</td>\n",
       "      <td>2018-08-19</td>\n",
       "      <td>2018-09-11</td>\n",
       "      <td>2018-09-10</td>\n",
       "      <td>17758.21</td>\n",
       "      <td>6.99</td>\n",
       "      <td>2013-08-22</td>\n",
       "      <td>99</td>\n",
       "      <td>None</td>\n",
       "      <td>SERVICOS</td>\n",
       "      <td>YAHOO</td>\n",
       "      <td>PEQUENO</td>\n",
       "      <td>65</td>\n",
       "      <td>NaN</td>\n",
       "      <td>NaN</td>\n",
       "      <td>NaN</td>\n",
       "      <td>1241.298879</td>\n",
       "    </tr>\n",
       "    <tr>\n",
       "      <th>2</th>\n",
       "      <td>1661240395903230676</td>\n",
       "      <td>2018-08</td>\n",
       "      <td>2018-08-26</td>\n",
       "      <td>2018-09-18</td>\n",
       "      <td>2018-09-17</td>\n",
       "      <td>17431.96</td>\n",
       "      <td>6.99</td>\n",
       "      <td>2013-08-22</td>\n",
       "      <td>99</td>\n",
       "      <td>None</td>\n",
       "      <td>SERVICOS</td>\n",
       "      <td>YAHOO</td>\n",
       "      <td>PEQUENO</td>\n",
       "      <td>65</td>\n",
       "      <td>NaN</td>\n",
       "      <td>NaN</td>\n",
       "      <td>NaN</td>\n",
       "      <td>1218.494004</td>\n",
       "    </tr>\n",
       "    <tr>\n",
       "      <th>3</th>\n",
       "      <td>1661240395903230676</td>\n",
       "      <td>2018-08</td>\n",
       "      <td>2018-08-30</td>\n",
       "      <td>2018-10-11</td>\n",
       "      <td>2018-10-05</td>\n",
       "      <td>1341.00</td>\n",
       "      <td>6.99</td>\n",
       "      <td>2013-08-22</td>\n",
       "      <td>99</td>\n",
       "      <td>None</td>\n",
       "      <td>SERVICOS</td>\n",
       "      <td>YAHOO</td>\n",
       "      <td>PEQUENO</td>\n",
       "      <td>65</td>\n",
       "      <td>NaN</td>\n",
       "      <td>NaN</td>\n",
       "      <td>NaN</td>\n",
       "      <td>93.735900</td>\n",
       "    </tr>\n",
       "    <tr>\n",
       "      <th>4</th>\n",
       "      <td>1661240395903230676</td>\n",
       "      <td>2018-08</td>\n",
       "      <td>2018-08-31</td>\n",
       "      <td>2018-09-20</td>\n",
       "      <td>2018-09-20</td>\n",
       "      <td>21309.85</td>\n",
       "      <td>6.99</td>\n",
       "      <td>2013-08-22</td>\n",
       "      <td>99</td>\n",
       "      <td>None</td>\n",
       "      <td>SERVICOS</td>\n",
       "      <td>YAHOO</td>\n",
       "      <td>PEQUENO</td>\n",
       "      <td>65</td>\n",
       "      <td>NaN</td>\n",
       "      <td>NaN</td>\n",
       "      <td>NaN</td>\n",
       "      <td>1489.558515</td>\n",
       "    </tr>\n",
       "  </tbody>\n",
       "</table>\n",
       "</div>"
      ],
      "text/plain": [
       "\n",
       "            ID_CLIENTE SAFRA_REF DATA_EMISSAO_DOCUMENTO DATA_PAGAMENTO  \\\n",
       "\u001b[1;36m0\u001b[0m  \u001b[1;36m1661240395903230676\u001b[0m   \u001b[1;36m2018\u001b[0m-\u001b[1;36m08\u001b[0m             \u001b[1;36m2018\u001b[0m-\u001b[1;36m08\u001b[0m-\u001b[1;36m17\u001b[0m     \u001b[1;36m2018\u001b[0m-\u001b[1;36m09\u001b[0m-\u001b[1;36m06\u001b[0m   \n",
       "\u001b[1;36m1\u001b[0m  \u001b[1;36m1661240395903230676\u001b[0m   \u001b[1;36m2018\u001b[0m-\u001b[1;36m08\u001b[0m             \u001b[1;36m2018\u001b[0m-\u001b[1;36m08\u001b[0m-\u001b[1;36m19\u001b[0m     \u001b[1;36m2018\u001b[0m-\u001b[1;36m09\u001b[0m-\u001b[1;36m11\u001b[0m   \n",
       "\u001b[1;36m2\u001b[0m  \u001b[1;36m1661240395903230676\u001b[0m   \u001b[1;36m2018\u001b[0m-\u001b[1;36m08\u001b[0m             \u001b[1;36m2018\u001b[0m-\u001b[1;36m08\u001b[0m-\u001b[1;36m26\u001b[0m     \u001b[1;36m2018\u001b[0m-\u001b[1;36m09\u001b[0m-\u001b[1;36m18\u001b[0m   \n",
       "\u001b[1;36m3\u001b[0m  \u001b[1;36m1661240395903230676\u001b[0m   \u001b[1;36m2018\u001b[0m-\u001b[1;36m08\u001b[0m             \u001b[1;36m2018\u001b[0m-\u001b[1;36m08\u001b[0m-\u001b[1;36m30\u001b[0m     \u001b[1;36m2018\u001b[0m-\u001b[1;36m10\u001b[0m-\u001b[1;36m11\u001b[0m   \n",
       "\u001b[1;36m4\u001b[0m  \u001b[1;36m1661240395903230676\u001b[0m   \u001b[1;36m2018\u001b[0m-\u001b[1;36m08\u001b[0m             \u001b[1;36m2018\u001b[0m-\u001b[1;36m08\u001b[0m-\u001b[1;36m31\u001b[0m     \u001b[1;36m2018\u001b[0m-\u001b[1;36m09\u001b[0m-\u001b[1;36m20\u001b[0m   \n",
       "\n",
       "  DATA_VENCIMENTO  VALOR_A_PAGAR  TAXA DATA_CADASTRO DDD FLAG_PF  \\\n",
       "\u001b[1;36m0\u001b[0m      \u001b[1;36m2018\u001b[0m-\u001b[1;36m09\u001b[0m-\u001b[1;36m06\u001b[0m       \u001b[1;36m35516.41\u001b[0m  \u001b[1;36m6.99\u001b[0m    \u001b[1;36m2013\u001b[0m-\u001b[1;36m08\u001b[0m-\u001b[1;36m22\u001b[0m  \u001b[1;36m99\u001b[0m    \u001b[3;35mNone\u001b[0m   \n",
       "\u001b[1;36m1\u001b[0m      \u001b[1;36m2018\u001b[0m-\u001b[1;36m09\u001b[0m-\u001b[1;36m10\u001b[0m       \u001b[1;36m17758.21\u001b[0m  \u001b[1;36m6.99\u001b[0m    \u001b[1;36m2013\u001b[0m-\u001b[1;36m08\u001b[0m-\u001b[1;36m22\u001b[0m  \u001b[1;36m99\u001b[0m    \u001b[3;35mNone\u001b[0m   \n",
       "\u001b[1;36m2\u001b[0m      \u001b[1;36m2018\u001b[0m-\u001b[1;36m09\u001b[0m-\u001b[1;36m17\u001b[0m       \u001b[1;36m17431.96\u001b[0m  \u001b[1;36m6.99\u001b[0m    \u001b[1;36m2013\u001b[0m-\u001b[1;36m08\u001b[0m-\u001b[1;36m22\u001b[0m  \u001b[1;36m99\u001b[0m    \u001b[3;35mNone\u001b[0m   \n",
       "\u001b[1;36m3\u001b[0m      \u001b[1;36m2018\u001b[0m-\u001b[1;36m10\u001b[0m-\u001b[1;36m05\u001b[0m        \u001b[1;36m1341.00\u001b[0m  \u001b[1;36m6.99\u001b[0m    \u001b[1;36m2013\u001b[0m-\u001b[1;36m08\u001b[0m-\u001b[1;36m22\u001b[0m  \u001b[1;36m99\u001b[0m    \u001b[3;35mNone\u001b[0m   \n",
       "\u001b[1;36m4\u001b[0m      \u001b[1;36m2018\u001b[0m-\u001b[1;36m09\u001b[0m-\u001b[1;36m20\u001b[0m       \u001b[1;36m21309.85\u001b[0m  \u001b[1;36m6.99\u001b[0m    \u001b[1;36m2013\u001b[0m-\u001b[1;36m08\u001b[0m-\u001b[1;36m22\u001b[0m  \u001b[1;36m99\u001b[0m    \u001b[3;35mNone\u001b[0m   \n",
       "\n",
       "  SEGMENTO_INDUSTRIAL DOMINIO_EMAIL    PORTE CEP_2_DIG  RENDA_MES_ANTERIOR  \\\n",
       "\u001b[1;36m0\u001b[0m            SERVICOS         YAHOO  PEQUENO        \u001b[1;36m65\u001b[0m                 NaN   \n",
       "\u001b[1;36m1\u001b[0m            SERVICOS         YAHOO  PEQUENO        \u001b[1;36m65\u001b[0m                 NaN   \n",
       "\u001b[1;36m2\u001b[0m            SERVICOS         YAHOO  PEQUENO        \u001b[1;36m65\u001b[0m                 NaN   \n",
       "\u001b[1;36m3\u001b[0m            SERVICOS         YAHOO  PEQUENO        \u001b[1;36m65\u001b[0m                 NaN   \n",
       "\u001b[1;36m4\u001b[0m            SERVICOS         YAHOO  PEQUENO        \u001b[1;36m65\u001b[0m                 NaN   \n",
       "\n",
       "   NO_FUNCIONARIOS  RZ_RENDA_FUNC      VL_TAXA  \n",
       "\u001b[1;36m0\u001b[0m              NaN            NaN  \u001b[1;36m2482.597059\u001b[0m  \n",
       "\u001b[1;36m1\u001b[0m              NaN            NaN  \u001b[1;36m1241.298879\u001b[0m  \n",
       "\u001b[1;36m2\u001b[0m              NaN            NaN  \u001b[1;36m1218.494004\u001b[0m  \n",
       "\u001b[1;36m3\u001b[0m              NaN            NaN    \u001b[1;36m93.735900\u001b[0m  \n",
       "\u001b[1;36m4\u001b[0m              NaN            NaN  \u001b[1;36m1489.558515\u001b[0m  "
      ]
     },
     "metadata": {},
     "output_type": "display_data"
    },
    {
     "data": {
      "text/html": [
       "<pre style=\"white-space:pre;overflow-x:auto;line-height:normal;font-family:Menlo,'DejaVu Sans Mono',consolas,'Courier New',monospace\"></pre>\n"
      ],
      "text/plain": []
     },
     "metadata": {},
     "output_type": "display_data"
    },
    {
     "data": {
      "text/html": [
       "<div>\n",
       "<style scoped>\n",
       "    .dataframe tbody tr th:only-of-type {\n",
       "        vertical-align: middle;\n",
       "    }\n",
       "\n",
       "    .dataframe tbody tr th {\n",
       "        vertical-align: top;\n",
       "    }\n",
       "\n",
       "    .dataframe thead th {\n",
       "        text-align: right;\n",
       "    }\n",
       "</style>\n",
       "<table border=\"1\" class=\"dataframe\">\n",
       "  <thead>\n",
       "    <tr style=\"text-align: right;\">\n",
       "      <th></th>\n",
       "      <th>ID_CLIENTE</th>\n",
       "      <th>SAFRA_REF</th>\n",
       "      <th>DATA_EMISSAO_DOCUMENTO</th>\n",
       "      <th>DATA_PAGAMENTO</th>\n",
       "      <th>DATA_VENCIMENTO</th>\n",
       "      <th>VALOR_A_PAGAR</th>\n",
       "      <th>TAXA</th>\n",
       "      <th>DATA_CADASTRO</th>\n",
       "      <th>DDD</th>\n",
       "      <th>FLAG_PF</th>\n",
       "      <th>SEGMENTO_INDUSTRIAL</th>\n",
       "      <th>DOMINIO_EMAIL</th>\n",
       "      <th>PORTE</th>\n",
       "      <th>CEP_2_DIG</th>\n",
       "      <th>RENDA_MES_ANTERIOR</th>\n",
       "      <th>NO_FUNCIONARIOS</th>\n",
       "      <th>RZ_RENDA_FUNC</th>\n",
       "      <th>VL_TAXA</th>\n",
       "    </tr>\n",
       "  </thead>\n",
       "  <tbody>\n",
       "    <tr>\n",
       "      <th>77190</th>\n",
       "      <td>2951563549197799278</td>\n",
       "      <td>2021-06</td>\n",
       "      <td>2021-06-30</td>\n",
       "      <td>2021-07-16</td>\n",
       "      <td>2021-07-16</td>\n",
       "      <td>89980.00</td>\n",
       "      <td>5.99</td>\n",
       "      <td>2000-08-15</td>\n",
       "      <td>11</td>\n",
       "      <td>None</td>\n",
       "      <td>COMERCIO</td>\n",
       "      <td>AOL</td>\n",
       "      <td>PEQUENO</td>\n",
       "      <td>13</td>\n",
       "      <td>280343.0</td>\n",
       "      <td>161.0</td>\n",
       "      <td>1741.260870</td>\n",
       "      <td>5389.802000</td>\n",
       "    </tr>\n",
       "    <tr>\n",
       "      <th>77191</th>\n",
       "      <td>5220206408301580591</td>\n",
       "      <td>2021-06</td>\n",
       "      <td>2021-06-30</td>\n",
       "      <td>2021-08-16</td>\n",
       "      <td>2021-08-16</td>\n",
       "      <td>42239.00</td>\n",
       "      <td>5.99</td>\n",
       "      <td>2021-04-08</td>\n",
       "      <td>19</td>\n",
       "      <td>None</td>\n",
       "      <td>INDUSTRIA</td>\n",
       "      <td>GMAIL</td>\n",
       "      <td>GRANDE</td>\n",
       "      <td>25</td>\n",
       "      <td>235315.0</td>\n",
       "      <td>87.0</td>\n",
       "      <td>2704.770115</td>\n",
       "      <td>2530.116100</td>\n",
       "    </tr>\n",
       "    <tr>\n",
       "      <th>77192</th>\n",
       "      <td>5860276371789140450</td>\n",
       "      <td>2021-06</td>\n",
       "      <td>2021-06-30</td>\n",
       "      <td>2021-07-16</td>\n",
       "      <td>2021-07-16</td>\n",
       "      <td>20921.50</td>\n",
       "      <td>5.99</td>\n",
       "      <td>2011-02-15</td>\n",
       "      <td>91</td>\n",
       "      <td>None</td>\n",
       "      <td>SERVICOS</td>\n",
       "      <td>HOTMAIL</td>\n",
       "      <td>GRANDE</td>\n",
       "      <td>67</td>\n",
       "      <td>100006.0</td>\n",
       "      <td>126.0</td>\n",
       "      <td>793.698413</td>\n",
       "      <td>1253.197850</td>\n",
       "    </tr>\n",
       "    <tr>\n",
       "      <th>77193</th>\n",
       "      <td>2814790209436551216</td>\n",
       "      <td>2021-06</td>\n",
       "      <td>2021-06-30</td>\n",
       "      <td>2021-07-16</td>\n",
       "      <td>2021-07-16</td>\n",
       "      <td>90231.05</td>\n",
       "      <td>6.99</td>\n",
       "      <td>2021-05-13</td>\n",
       "      <td>NA</td>\n",
       "      <td>None</td>\n",
       "      <td>SERVICOS</td>\n",
       "      <td>YAHOO</td>\n",
       "      <td>MEDIO</td>\n",
       "      <td>14</td>\n",
       "      <td>NaN</td>\n",
       "      <td>NaN</td>\n",
       "      <td>NaN</td>\n",
       "      <td>6307.150395</td>\n",
       "    </tr>\n",
       "    <tr>\n",
       "      <th>77194</th>\n",
       "      <td>8343941262792249232</td>\n",
       "      <td>2021-06</td>\n",
       "      <td>2021-06-30</td>\n",
       "      <td>2021-08-16</td>\n",
       "      <td>2021-08-16</td>\n",
       "      <td>20736.51</td>\n",
       "      <td>4.99</td>\n",
       "      <td>2019-05-28</td>\n",
       "      <td>11</td>\n",
       "      <td>None</td>\n",
       "      <td>INDUSTRIA</td>\n",
       "      <td>HOTMAIL</td>\n",
       "      <td>GRANDE</td>\n",
       "      <td>31</td>\n",
       "      <td>97599.0</td>\n",
       "      <td>116.0</td>\n",
       "      <td>841.370690</td>\n",
       "      <td>1034.751849</td>\n",
       "    </tr>\n",
       "  </tbody>\n",
       "</table>\n",
       "</div>"
      ],
      "text/plain": [
       "\n",
       "                ID_CLIENTE SAFRA_REF DATA_EMISSAO_DOCUMENTO DATA_PAGAMENTO  \\\n",
       "\u001b[1;36m77190\u001b[0m  \u001b[1;36m2951563549197799278\u001b[0m   \u001b[1;36m2021\u001b[0m-\u001b[1;36m06\u001b[0m             \u001b[1;36m2021\u001b[0m-\u001b[1;36m06\u001b[0m-\u001b[1;36m30\u001b[0m     \u001b[1;36m2021\u001b[0m-\u001b[1;36m07\u001b[0m-\u001b[1;36m16\u001b[0m   \n",
       "\u001b[1;36m77191\u001b[0m  \u001b[1;36m5220206408301580591\u001b[0m   \u001b[1;36m2021\u001b[0m-\u001b[1;36m06\u001b[0m             \u001b[1;36m2021\u001b[0m-\u001b[1;36m06\u001b[0m-\u001b[1;36m30\u001b[0m     \u001b[1;36m2021\u001b[0m-\u001b[1;36m08\u001b[0m-\u001b[1;36m16\u001b[0m   \n",
       "\u001b[1;36m77192\u001b[0m  \u001b[1;36m5860276371789140450\u001b[0m   \u001b[1;36m2021\u001b[0m-\u001b[1;36m06\u001b[0m             \u001b[1;36m2021\u001b[0m-\u001b[1;36m06\u001b[0m-\u001b[1;36m30\u001b[0m     \u001b[1;36m2021\u001b[0m-\u001b[1;36m07\u001b[0m-\u001b[1;36m16\u001b[0m   \n",
       "\u001b[1;36m77193\u001b[0m  \u001b[1;36m2814790209436551216\u001b[0m   \u001b[1;36m2021\u001b[0m-\u001b[1;36m06\u001b[0m             \u001b[1;36m2021\u001b[0m-\u001b[1;36m06\u001b[0m-\u001b[1;36m30\u001b[0m     \u001b[1;36m2021\u001b[0m-\u001b[1;36m07\u001b[0m-\u001b[1;36m16\u001b[0m   \n",
       "\u001b[1;36m77194\u001b[0m  \u001b[1;36m8343941262792249232\u001b[0m   \u001b[1;36m2021\u001b[0m-\u001b[1;36m06\u001b[0m             \u001b[1;36m2021\u001b[0m-\u001b[1;36m06\u001b[0m-\u001b[1;36m30\u001b[0m     \u001b[1;36m2021\u001b[0m-\u001b[1;36m08\u001b[0m-\u001b[1;36m16\u001b[0m   \n",
       "\n",
       "      DATA_VENCIMENTO  VALOR_A_PAGAR  TAXA DATA_CADASTRO DDD FLAG_PF  \\\n",
       "\u001b[1;36m77190\u001b[0m      \u001b[1;36m2021\u001b[0m-\u001b[1;36m07\u001b[0m-\u001b[1;36m16\u001b[0m       \u001b[1;36m89980.00\u001b[0m  \u001b[1;36m5.99\u001b[0m    \u001b[1;36m2000\u001b[0m-\u001b[1;36m08\u001b[0m-\u001b[1;36m15\u001b[0m  \u001b[1;36m11\u001b[0m    \u001b[3;35mNone\u001b[0m   \n",
       "\u001b[1;36m77191\u001b[0m      \u001b[1;36m2021\u001b[0m-\u001b[1;36m08\u001b[0m-\u001b[1;36m16\u001b[0m       \u001b[1;36m42239.00\u001b[0m  \u001b[1;36m5.99\u001b[0m    \u001b[1;36m2021\u001b[0m-\u001b[1;36m04\u001b[0m-\u001b[1;36m08\u001b[0m  \u001b[1;36m19\u001b[0m    \u001b[3;35mNone\u001b[0m   \n",
       "\u001b[1;36m77192\u001b[0m      \u001b[1;36m2021\u001b[0m-\u001b[1;36m07\u001b[0m-\u001b[1;36m16\u001b[0m       \u001b[1;36m20921.50\u001b[0m  \u001b[1;36m5.99\u001b[0m    \u001b[1;36m2011\u001b[0m-\u001b[1;36m02\u001b[0m-\u001b[1;36m15\u001b[0m  \u001b[1;36m91\u001b[0m    \u001b[3;35mNone\u001b[0m   \n",
       "\u001b[1;36m77193\u001b[0m      \u001b[1;36m2021\u001b[0m-\u001b[1;36m07\u001b[0m-\u001b[1;36m16\u001b[0m       \u001b[1;36m90231.05\u001b[0m  \u001b[1;36m6.99\u001b[0m    \u001b[1;36m2021\u001b[0m-\u001b[1;36m05\u001b[0m-\u001b[1;36m13\u001b[0m  NA    \u001b[3;35mNone\u001b[0m   \n",
       "\u001b[1;36m77194\u001b[0m      \u001b[1;36m2021\u001b[0m-\u001b[1;36m08\u001b[0m-\u001b[1;36m16\u001b[0m       \u001b[1;36m20736.51\u001b[0m  \u001b[1;36m4.99\u001b[0m    \u001b[1;36m2019\u001b[0m-\u001b[1;36m05\u001b[0m-\u001b[1;36m28\u001b[0m  \u001b[1;36m11\u001b[0m    \u001b[3;35mNone\u001b[0m   \n",
       "\n",
       "      SEGMENTO_INDUSTRIAL DOMINIO_EMAIL    PORTE CEP_2_DIG  \\\n",
       "\u001b[1;36m77190\u001b[0m            COMERCIO           AOL  PEQUENO        \u001b[1;36m13\u001b[0m   \n",
       "\u001b[1;36m77191\u001b[0m           INDUSTRIA         GMAIL   GRANDE        \u001b[1;36m25\u001b[0m   \n",
       "\u001b[1;36m77192\u001b[0m            SERVICOS       HOTMAIL   GRANDE        \u001b[1;36m67\u001b[0m   \n",
       "\u001b[1;36m77193\u001b[0m            SERVICOS         YAHOO    MEDIO        \u001b[1;36m14\u001b[0m   \n",
       "\u001b[1;36m77194\u001b[0m           INDUSTRIA       HOTMAIL   GRANDE        \u001b[1;36m31\u001b[0m   \n",
       "\n",
       "       RENDA_MES_ANTERIOR  NO_FUNCIONARIOS  RZ_RENDA_FUNC      VL_TAXA  \n",
       "\u001b[1;36m77190\u001b[0m            \u001b[1;36m280343.0\u001b[0m            \u001b[1;36m161.0\u001b[0m    \u001b[1;36m1741.260870\u001b[0m  \u001b[1;36m5389.802000\u001b[0m  \n",
       "\u001b[1;36m77191\u001b[0m            \u001b[1;36m235315.0\u001b[0m             \u001b[1;36m87.0\u001b[0m    \u001b[1;36m2704.770115\u001b[0m  \u001b[1;36m2530.116100\u001b[0m  \n",
       "\u001b[1;36m77192\u001b[0m            \u001b[1;36m100006.0\u001b[0m            \u001b[1;36m126.0\u001b[0m     \u001b[1;36m793.698413\u001b[0m  \u001b[1;36m1253.197850\u001b[0m  \n",
       "\u001b[1;36m77193\u001b[0m                 NaN              NaN            NaN  \u001b[1;36m6307.150395\u001b[0m  \n",
       "\u001b[1;36m77194\u001b[0m             \u001b[1;36m97599.0\u001b[0m            \u001b[1;36m116.0\u001b[0m     \u001b[1;36m841.370690\u001b[0m  \u001b[1;36m1034.751849\u001b[0m  "
      ]
     },
     "metadata": {},
     "output_type": "display_data"
    }
   ],
   "source": [
    "verify(df_completo)"
   ]
  },
  {
   "cell_type": "code",
   "execution_count": 6,
   "metadata": {},
   "outputs": [
    {
     "data": {
      "text/html": [
       "<pre style=\"white-space:pre;overflow-x:auto;line-height:normal;font-family:Menlo,'DejaVu Sans Mono',consolas,'Courier New',monospace\"></pre>\n"
      ],
      "text/plain": []
     },
     "metadata": {},
     "output_type": "display_data"
    },
    {
     "data": {
      "text/html": [
       "<div>\n",
       "<style scoped>\n",
       "    .dataframe tbody tr th:only-of-type {\n",
       "        vertical-align: middle;\n",
       "    }\n",
       "\n",
       "    .dataframe tbody tr th {\n",
       "        vertical-align: top;\n",
       "    }\n",
       "\n",
       "    .dataframe thead th {\n",
       "        text-align: right;\n",
       "    }\n",
       "</style>\n",
       "<table border=\"1\" class=\"dataframe\">\n",
       "  <thead>\n",
       "    <tr style=\"text-align: right;\">\n",
       "      <th></th>\n",
       "      <th>dtype</th>\n",
       "      <th>qtd_nulos</th>\n",
       "      <th>qtd_unicos</th>\n",
       "    </tr>\n",
       "  </thead>\n",
       "  <tbody>\n",
       "    <tr>\n",
       "      <th>ID_CLIENTE</th>\n",
       "      <td>int64</td>\n",
       "      <td>0</td>\n",
       "      <td>1188</td>\n",
       "    </tr>\n",
       "    <tr>\n",
       "      <th>SAFRA_REF</th>\n",
       "      <td>object</td>\n",
       "      <td>0</td>\n",
       "      <td>35</td>\n",
       "    </tr>\n",
       "    <tr>\n",
       "      <th>DATA_EMISSAO_DOCUMENTO</th>\n",
       "      <td>object</td>\n",
       "      <td>0</td>\n",
       "      <td>1040</td>\n",
       "    </tr>\n",
       "    <tr>\n",
       "      <th>DATA_PAGAMENTO</th>\n",
       "      <td>object</td>\n",
       "      <td>0</td>\n",
       "      <td>920</td>\n",
       "    </tr>\n",
       "    <tr>\n",
       "      <th>DATA_VENCIMENTO</th>\n",
       "      <td>object</td>\n",
       "      <td>0</td>\n",
       "      <td>955</td>\n",
       "    </tr>\n",
       "    <tr>\n",
       "      <th>VALOR_A_PAGAR</th>\n",
       "      <td>float64</td>\n",
       "      <td>0</td>\n",
       "      <td>68334</td>\n",
       "    </tr>\n",
       "    <tr>\n",
       "      <th>TAXA</th>\n",
       "      <td>float64</td>\n",
       "      <td>0</td>\n",
       "      <td>5</td>\n",
       "    </tr>\n",
       "    <tr>\n",
       "      <th>DATA_CADASTRO</th>\n",
       "      <td>object</td>\n",
       "      <td>0</td>\n",
       "      <td>695</td>\n",
       "    </tr>\n",
       "    <tr>\n",
       "      <th>DDD</th>\n",
       "      <td>object</td>\n",
       "      <td>0</td>\n",
       "      <td>70</td>\n",
       "    </tr>\n",
       "    <tr>\n",
       "      <th>FLAG_PF</th>\n",
       "      <td>object</td>\n",
       "      <td>77195</td>\n",
       "      <td>0</td>\n",
       "    </tr>\n",
       "    <tr>\n",
       "      <th>SEGMENTO_INDUSTRIAL</th>\n",
       "      <td>object</td>\n",
       "      <td>0</td>\n",
       "      <td>4</td>\n",
       "    </tr>\n",
       "    <tr>\n",
       "      <th>DOMINIO_EMAIL</th>\n",
       "      <td>object</td>\n",
       "      <td>0</td>\n",
       "      <td>7</td>\n",
       "    </tr>\n",
       "    <tr>\n",
       "      <th>PORTE</th>\n",
       "      <td>object</td>\n",
       "      <td>0</td>\n",
       "      <td>4</td>\n",
       "    </tr>\n",
       "    <tr>\n",
       "      <th>CEP_2_DIG</th>\n",
       "      <td>object</td>\n",
       "      <td>0</td>\n",
       "      <td>90</td>\n",
       "    </tr>\n",
       "    <tr>\n",
       "      <th>RENDA_MES_ANTERIOR</th>\n",
       "      <td>float64</td>\n",
       "      <td>3874</td>\n",
       "      <td>18128</td>\n",
       "    </tr>\n",
       "    <tr>\n",
       "      <th>NO_FUNCIONARIOS</th>\n",
       "      <td>float64</td>\n",
       "      <td>3874</td>\n",
       "      <td>127</td>\n",
       "    </tr>\n",
       "    <tr>\n",
       "      <th>RZ_RENDA_FUNC</th>\n",
       "      <td>float64</td>\n",
       "      <td>3874</td>\n",
       "      <td>18425</td>\n",
       "    </tr>\n",
       "    <tr>\n",
       "      <th>VL_TAXA</th>\n",
       "      <td>float64</td>\n",
       "      <td>0</td>\n",
       "      <td>70210</td>\n",
       "    </tr>\n",
       "  </tbody>\n",
       "</table>\n",
       "</div>"
      ],
      "text/plain": [
       "\n",
       "                          dtype  qtd_nulos  qtd_unicos\n",
       "ID_CLIENTE                int64          \u001b[1;36m0\u001b[0m        \u001b[1;36m1188\u001b[0m\n",
       "SAFRA_REF                object          \u001b[1;36m0\u001b[0m          \u001b[1;36m35\u001b[0m\n",
       "DATA_EMISSAO_DOCUMENTO   object          \u001b[1;36m0\u001b[0m        \u001b[1;36m1040\u001b[0m\n",
       "DATA_PAGAMENTO           object          \u001b[1;36m0\u001b[0m         \u001b[1;36m920\u001b[0m\n",
       "DATA_VENCIMENTO          object          \u001b[1;36m0\u001b[0m         \u001b[1;36m955\u001b[0m\n",
       "VALOR_A_PAGAR           float64          \u001b[1;36m0\u001b[0m       \u001b[1;36m68334\u001b[0m\n",
       "TAXA                    float64          \u001b[1;36m0\u001b[0m           \u001b[1;36m5\u001b[0m\n",
       "DATA_CADASTRO            object          \u001b[1;36m0\u001b[0m         \u001b[1;36m695\u001b[0m\n",
       "DDD                      object          \u001b[1;36m0\u001b[0m          \u001b[1;36m70\u001b[0m\n",
       "FLAG_PF                  object      \u001b[1;36m77195\u001b[0m           \u001b[1;36m0\u001b[0m\n",
       "SEGMENTO_INDUSTRIAL      object          \u001b[1;36m0\u001b[0m           \u001b[1;36m4\u001b[0m\n",
       "DOMINIO_EMAIL            object          \u001b[1;36m0\u001b[0m           \u001b[1;36m7\u001b[0m\n",
       "PORTE                    object          \u001b[1;36m0\u001b[0m           \u001b[1;36m4\u001b[0m\n",
       "CEP_2_DIG                object          \u001b[1;36m0\u001b[0m          \u001b[1;36m90\u001b[0m\n",
       "RENDA_MES_ANTERIOR      float64       \u001b[1;36m3874\u001b[0m       \u001b[1;36m18128\u001b[0m\n",
       "NO_FUNCIONARIOS         float64       \u001b[1;36m3874\u001b[0m         \u001b[1;36m127\u001b[0m\n",
       "RZ_RENDA_FUNC           float64       \u001b[1;36m3874\u001b[0m       \u001b[1;36m18425\u001b[0m\n",
       "VL_TAXA                 float64          \u001b[1;36m0\u001b[0m       \u001b[1;36m70210\u001b[0m"
      ]
     },
     "metadata": {},
     "output_type": "display_data"
    }
   ],
   "source": [
    "display_info_dataframe(df_completo)"
   ]
  },
  {
   "cell_type": "markdown",
   "metadata": {},
   "source": [
    "# Construção do Target"
   ]
  },
  {
   "cell_type": "code",
   "execution_count": 7,
   "metadata": {},
   "outputs": [],
   "source": [
    "df_completo[['DATA_PAGAMENTO','DATA_VENCIMENTO']] = df_completo[['DATA_PAGAMENTO','DATA_VENCIMENTO']].apply(pd.to_datetime)"
   ]
  },
  {
   "cell_type": "code",
   "execution_count": 8,
   "metadata": {},
   "outputs": [],
   "source": [
    "df_completo['ATRASO'] = (df_completo['DATA_PAGAMENTO'] - df_completo['DATA_VENCIMENTO']).dt.days"
   ]
  },
  {
   "cell_type": "code",
   "execution_count": 9,
   "metadata": {},
   "outputs": [],
   "source": [
    "df_completo['FLAG_MAU'] = (df_completo['ATRASO']>=5).astype(int)"
   ]
  },
  {
   "cell_type": "code",
   "execution_count": 10,
   "metadata": {},
   "outputs": [
    {
     "data": {
      "text/html": [
       "<pre style=\"white-space:pre;overflow-x:auto;line-height:normal;font-family:Menlo,'DejaVu Sans Mono',consolas,'Courier New',monospace\"></pre>\n"
      ],
      "text/plain": []
     },
     "metadata": {},
     "output_type": "display_data"
    },
    {
     "data": {
      "text/plain": [
       "\n",
       "FLAG_MAU\n",
       "\u001b[1;36m0\u001b[0m    \u001b[1;36m71803\u001b[0m\n",
       "\u001b[1;36m1\u001b[0m     \u001b[1;36m5392\u001b[0m\n",
       "Name: count, dtype: int64"
      ]
     },
     "execution_count": 10,
     "metadata": {},
     "output_type": "execute_result"
    }
   ],
   "source": [
    "df_completo['FLAG_MAU'].value_counts(dropna=False)"
   ]
  },
  {
   "cell_type": "code",
   "execution_count": 11,
   "metadata": {},
   "outputs": [
    {
     "data": {
      "text/html": [
       "<pre style=\"white-space:pre;overflow-x:auto;line-height:normal;font-family:Menlo,'DejaVu Sans Mono',consolas,'Courier New',monospace\"></pre>\n"
      ],
      "text/plain": []
     },
     "metadata": {},
     "output_type": "display_data"
    },
    {
     "data": {
      "text/plain": [
       "\n",
       "FLAG_MAU\n",
       "\u001b[1;36m0\u001b[0m    \u001b[1;36m0.930151\u001b[0m\n",
       "\u001b[1;36m1\u001b[0m    \u001b[1;36m0.069849\u001b[0m\n",
       "Name: proportion, dtype: float64"
      ]
     },
     "execution_count": 11,
     "metadata": {},
     "output_type": "execute_result"
    }
   ],
   "source": [
    "df_completo['FLAG_MAU'].value_counts(dropna=False, normalize=True)"
   ]
  },
  {
   "cell_type": "markdown",
   "metadata": {},
   "source": [
    "# Análise Bivariada com a target"
   ]
  },
  {
   "cell_type": "code",
   "execution_count": 12,
   "metadata": {},
   "outputs": [],
   "source": [
    "useful_tex = ['SAFRA_REF', 'DDD', 'SEGMENTO_INDUSTRIAL',\n",
    "              'DOMINIO_EMAIL', 'PORTE', 'CEP_2_DIG']\n",
    "\n",
    "useful_num = ['VALOR_A_PAGAR', 'TAXA', 'RENDA_MES_ANTERIOR', \n",
    "              'NO_FUNCIONARIOS', 'RZ_RENDA_FUNC','VL_TAXA']"
   ]
  },
  {
   "cell_type": "code",
   "execution_count": 13,
   "metadata": {},
   "outputs": [
    {
     "data": {
      "text/html": [
       "<pre style=\"white-space:pre;overflow-x:auto;line-height:normal;font-family:Menlo,'DejaVu Sans Mono',consolas,'Courier New',monospace\"></pre>\n"
      ],
      "text/plain": []
     },
     "metadata": {},
     "output_type": "display_data"
    },
    {
     "data": {
      "image/png": "[encoded data removed]",
      "text/plain": [
       "\u001b[1m<\u001b[0m\u001b[1;95mFigure\u001b[0m\u001b[39m size 64\u001b[0m\u001b[1;36m0x480\u001b[0m\u001b[39m with \u001b[0m\u001b[1;36m1\u001b[0m\u001b[39m Axes\u001b[0m\u001b[1m>\u001b[0m"
      ]
     },
     "metadata": {},
     "output_type": "display_data"
    },
    {
     "data": {
      "text/html": [
       "<pre style=\"white-space:pre;overflow-x:auto;line-height:normal;font-family:Menlo,'DejaVu Sans Mono',consolas,'Courier New',monospace\"></pre>\n"
      ],
      "text/plain": []
     },
     "metadata": {},
     "output_type": "display_data"
    },
    {
     "data": {
      "image/png": "[encoded data removed]",
      "text/plain": [
       "\u001b[1m<\u001b[0m\u001b[1;95mFigure\u001b[0m\u001b[39m size 64\u001b[0m\u001b[1;36m0x480\u001b[0m\u001b[39m with \u001b[0m\u001b[1;36m1\u001b[0m\u001b[39m Axes\u001b[0m\u001b[1m>\u001b[0m"
      ]
     },
     "metadata": {},
     "output_type": "display_data"
    },
    {
     "data": {
      "text/html": [
       "<pre style=\"white-space:pre;overflow-x:auto;line-height:normal;font-family:Menlo,'DejaVu Sans Mono',consolas,'Courier New',monospace\"></pre>\n"
      ],
      "text/plain": []
     },
     "metadata": {},
     "output_type": "display_data"
    },
    {
     "data": {
      "image/png": "[encoded data removed]",
      "text/plain": [
       "\u001b[1m<\u001b[0m\u001b[1;95mFigure\u001b[0m\u001b[39m size 64\u001b[0m\u001b[1;36m0x480\u001b[0m\u001b[39m with \u001b[0m\u001b[1;36m1\u001b[0m\u001b[39m Axes\u001b[0m\u001b[1m>\u001b[0m"
      ]
     },
     "metadata": {},
     "output_type": "display_data"
    },
    {
     "data": {
      "text/html": [
       "<pre style=\"white-space:pre;overflow-x:auto;line-height:normal;font-family:Menlo,'DejaVu Sans Mono',consolas,'Courier New',monospace\"></pre>\n"
      ],
      "text/plain": []
     },
     "metadata": {},
     "output_type": "display_data"
    },
    {
     "data": {
      "image/png": "[encoded data removed]",
      "text/plain": [
       "\u001b[1m<\u001b[0m\u001b[1;95mFigure\u001b[0m\u001b[39m size 64\u001b[0m\u001b[1;36m0x480\u001b[0m\u001b[39m with \u001b[0m\u001b[1;36m1\u001b[0m\u001b[39m Axes\u001b[0m\u001b[1m>\u001b[0m"
      ]
     },
     "metadata": {},
     "output_type": "display_data"
    }
   ],
   "source": [
    "for col in useful_tex:\n",
    "  if df_completo[col].nunique()<50:\n",
    "    df_completo.groupby(col,dropna=False)['FLAG_MAU'].mean().sort_index().plot.bar()\n",
    "    plt.show()"
   ]
  },
  {
   "cell_type": "code",
   "execution_count": 14,
   "metadata": {},
   "outputs": [
    {
     "data": {
      "text/html": [
       "<pre style=\"white-space:pre;overflow-x:auto;line-height:normal;font-family:Menlo,'DejaVu Sans Mono',consolas,'Courier New',monospace\"></pre>\n"
      ],
      "text/plain": []
     },
     "metadata": {},
     "output_type": "display_data"
    },
    {
     "data": {
      "text/plain": [
       "\u001b[1m<\u001b[0m\u001b[1;95mAxes:\u001b[0m\u001b[39m \u001b[0m\u001b[1m>\u001b[0m"
      ]
     },
     "execution_count": 14,
     "metadata": {},
     "output_type": "execute_result"
    },
    {
     "data": {
      "text/html": [
       "<pre style=\"white-space:pre;overflow-x:auto;line-height:normal;font-family:Menlo,'DejaVu Sans Mono',consolas,'Courier New',monospace\"></pre>\n"
      ],
      "text/plain": []
     },
     "metadata": {},
     "output_type": "display_data"
    },
    {
     "data": {
      "image/png": "[encoded data removed]",
      "text/plain": [
       "\u001b[1m<\u001b[0m\u001b[1;95mFigure\u001b[0m\u001b[39m size 64\u001b[0m\u001b[1;36m0x480\u001b[0m\u001b[39m with \u001b[0m\u001b[1;36m2\u001b[0m\u001b[39m Axes\u001b[0m\u001b[1m>\u001b[0m"
      ]
     },
     "metadata": {},
     "output_type": "display_data"
    }
   ],
   "source": [
    "sns.heatmap(df_completo[useful_num + ['FLAG_MAU']].corr(),cmap='Blues',annot=True)"
   ]
  },
  {
   "cell_type": "code",
   "execution_count": 17,
   "metadata": {},
   "outputs": [
    {
     "name": "stdout",
     "output_type": "stream",
     "text": [
      "VALOR_A_PAGAR: KS = 35.75\n",
      "TAXA: KS = 3.56\n",
      "RENDA_MES_ANTERIOR: KS = 13.819999999999999\n",
      "NO_FUNCIONARIOS: KS = 4.590000000000001\n",
      "RZ_RENDA_FUNC: KS = 13.65\n",
      "VL_TAXA: KS = 34.37\n"
     ]
    }
   ],
   "source": [
    "target='FLAG_MAU'\n",
    "for col in useful_num:\n",
    "    print(col+':','KS = ' + str(ks_score(y_true=df_completo[target], y_pred=df_completo[col])))"
   ]
  },
  {
   "cell_type": "code",
   "execution_count": null,
   "metadata": {},
   "outputs": [],
   "source": []
  }
 ],
 "metadata": {
  "kernelspec": {
   "display_name": "credit-risk-kernel",
   "language": "python",
   "name": "credit-risk-kernel"
  },
  "language_info": {
   "codemirror_mode": {
    "name": "ipython",
    "version": 3
   },
   "file_extension": ".py",
   "mimetype": "text/x-python",
   "name": "python",
   "nbconvert_exporter": "python",
   "pygments_lexer": "ipython3",
   "version": "3.10.12"
  }
 },
 "nbformat": 4,
 "nbformat_minor": 2
}
